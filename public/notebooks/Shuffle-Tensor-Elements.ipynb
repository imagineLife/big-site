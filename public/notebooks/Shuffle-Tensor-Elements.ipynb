{
 "cells": [
  {
   "cell_type": "markdown",
   "id": "1d81503f-c250-4a12-a79b-0d63e8aabd6a",
   "metadata": {},
   "source": [
    "# Shuffle Tensor Elements"
   ]
  },
  {
   "cell_type": "code",
   "execution_count": 34,
   "id": "f5d47874-172f-4944-9652-16eab7cce773",
   "metadata": {},
   "outputs": [],
   "source": [
    "import tensorflow as tf"
   ]
  },
  {
   "cell_type": "code",
   "execution_count": 35,
   "id": "31386915-dc3a-4bea-a0b1-a2f2552d4969",
   "metadata": {},
   "outputs": [
    {
     "data": {
      "text/plain": [
       "<tf.Tensor: shape=(3, 2), dtype=int32, numpy=\n",
       "array([[10, 13],\n",
       "       [21, 31],\n",
       "       [ 1,  9]], dtype=int32)>"
      ]
     },
     "execution_count": 35,
     "metadata": {},
     "output_type": "execute_result"
    }
   ],
   "source": [
    "startingArr = [\n",
    "    [10,13],\n",
    "    [21,31],\n",
    "    [1,9]\n",
    "]\n",
    "\n",
    "myTensor = tf.constant(startingArr)\n",
    "myTensor"
   ]
  },
  {
   "cell_type": "code",
   "execution_count": 36,
   "id": "26fbebf6-3049-47cb-81aa-3748b1271179",
   "metadata": {},
   "outputs": [
    {
     "data": {
      "text/plain": [
       "<tf.Tensor: shape=(3, 2), dtype=int32, numpy=\n",
       "array([[ 1,  9],\n",
       "       [21, 31],\n",
       "       [10, 13]], dtype=int32)>"
      ]
     },
     "execution_count": 36,
     "metadata": {},
     "output_type": "execute_result"
    }
   ],
   "source": [
    "tf.random.shuffle(myTensor)"
   ]
  },
  {
   "cell_type": "markdown",
   "id": "f51ea441-6ce2-4e78-ace4-2bb96755e77a",
   "metadata": {},
   "source": [
    "## Shuffle With Seed\n",
    "When a global seed is set, random will \"always do the same thing\", sort of \"removing\" 1 level of randomization.  \n",
    "Every time this notebook, or python process instance is run, the \"random\" outputs will remain constant.\n"
   ]
  },
  {
   "cell_type": "code",
   "execution_count": 37,
   "id": "f9f1701f-e38e-4a5a-a152-d65150ed1c9b",
   "metadata": {},
   "outputs": [
    {
     "data": {
      "text/plain": [
       "<tf.Tensor: shape=(3, 2), dtype=int32, numpy=\n",
       "array([[10, 13],\n",
       "       [21, 31],\n",
       "       [ 1,  9]], dtype=int32)>"
      ]
     },
     "execution_count": 37,
     "metadata": {},
     "output_type": "execute_result"
    }
   ],
   "source": [
    "tf.random.set_seed(12)\n",
    "secondTensor = tf.constant(startingArr)\n",
    "secondTensor"
   ]
  },
  {
   "cell_type": "code",
   "execution_count": 38,
   "id": "9ddae7a8-dccd-4abb-9fec-7b742c411b68",
   "metadata": {},
   "outputs": [
    {
     "data": {
      "text/plain": [
       "<tf.Tensor: shape=(3, 2), dtype=int32, numpy=\n",
       "array([[21, 31],\n",
       "       [10, 13],\n",
       "       [ 1,  9]], dtype=int32)>"
      ]
     },
     "execution_count": 38,
     "metadata": {},
     "output_type": "execute_result"
    }
   ],
   "source": [
    "tf.random.shuffle(secondTensor)"
   ]
  },
  {
   "cell_type": "code",
   "execution_count": 39,
   "id": "f6515d6c-693f-4e69-b146-bf352a056603",
   "metadata": {},
   "outputs": [
    {
     "data": {
      "text/plain": [
       "<tf.Tensor: shape=(3, 2), dtype=int32, numpy=\n",
       "array([[ 1,  9],\n",
       "       [21, 31],\n",
       "       [10, 13]], dtype=int32)>"
      ]
     },
     "execution_count": 39,
     "metadata": {},
     "output_type": "execute_result"
    }
   ],
   "source": [
    "tf.random.shuffle(secondTensor)"
   ]
  },
  {
   "cell_type": "markdown",
   "id": "64c0eb3c-cab7-4191-8510-0474bb10cad0",
   "metadata": {},
   "source": [
    "### Shuffle With Global and local seed\n",
    "A local seed, set in the `tf.random.shuffle` call as a parameter, will be combined with the global seed.  \n",
    "This local seed will \"tell\" tensorflow to create a \"new\" random order based on the local seed.  "
   ]
  },
  {
   "cell_type": "code",
   "execution_count": 40,
   "id": "185e353f-afbf-4371-9a70-9d03d67a1246",
   "metadata": {},
   "outputs": [
    {
     "data": {
      "text/plain": [
       "<tf.Tensor: shape=(3, 2), dtype=int32, numpy=\n",
       "array([[10, 13],\n",
       "       [21, 31],\n",
       "       [ 1,  9]], dtype=int32)>"
      ]
     },
     "execution_count": 40,
     "metadata": {},
     "output_type": "execute_result"
    }
   ],
   "source": [
    "thirdTensor = tf.constant(startingArr)\n",
    "thirdTensor"
   ]
  },
  {
   "cell_type": "code",
   "execution_count": 41,
   "id": "e5a78134-d443-49f2-9e54-1f7c65e99379",
   "metadata": {},
   "outputs": [
    {
     "data": {
      "text/plain": [
       "<tf.Tensor: shape=(3, 2), dtype=int32, numpy=\n",
       "array([[ 1,  9],\n",
       "       [21, 31],\n",
       "       [10, 13]], dtype=int32)>"
      ]
     },
     "execution_count": 41,
     "metadata": {},
     "output_type": "execute_result"
    }
   ],
   "source": [
    "tf.random.shuffle(thirdTensor, seed=12)"
   ]
  },
  {
   "cell_type": "code",
   "execution_count": 42,
   "id": "2829b6ac-5ba4-49d2-9666-c0aa8319fa65",
   "metadata": {},
   "outputs": [
    {
     "data": {
      "text/plain": [
       "<tf.Tensor: shape=(3, 2), dtype=int32, numpy=\n",
       "array([[21, 31],\n",
       "       [10, 13],\n",
       "       [ 1,  9]], dtype=int32)>"
      ]
     },
     "execution_count": 42,
     "metadata": {},
     "output_type": "execute_result"
    }
   ],
   "source": [
    "tf.random.shuffle(thirdTensor, seed=13)"
   ]
  },
  {
   "cell_type": "markdown",
   "id": "84c55df3-d630-4705-a48d-0ee69e3a2f2d",
   "metadata": {},
   "source": [
    "## Docs\n",
    "- [tf.random.shuffle](https://www.tensorflow.org/api_docs/python/tf/random/shuffle): randomly shuffles a tensor along its first dimension\n",
    "- [tf.random.set_seed](https://www.tensorflow.org/api_docs/python/tf/random/set_seed): sets a global seed value\n",
    "  "
   ]
  },
  {
   "cell_type": "code",
   "execution_count": null,
   "id": "a79cd762-5b4c-4794-a79a-def47e84b750",
   "metadata": {},
   "outputs": [],
   "source": []
  }
 ],
 "metadata": {
  "kernelspec": {
   "display_name": "Python 3 (ipykernel)",
   "language": "python",
   "name": "python3"
  },
  "language_info": {
   "codemirror_mode": {
    "name": "ipython",
    "version": 3
   },
   "file_extension": ".py",
   "mimetype": "text/x-python",
   "name": "python",
   "nbconvert_exporter": "python",
   "pygments_lexer": "ipython3",
   "version": "3.11.6"
  }
 },
 "nbformat": 4,
 "nbformat_minor": 5
}
