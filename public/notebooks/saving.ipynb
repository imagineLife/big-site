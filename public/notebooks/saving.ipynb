{
 "cells": [
  {
   "cell_type": "markdown",
   "id": "af98843b-3238-488c-ada8-d3590dd46818",
   "metadata": {},
   "source": [
    "# Saving A Model\n",
    "Here, a model will get created, some data will be visualized and the model will be saved!\n",
    "\n",
    "## Imports"
   ]
  },
  {
   "cell_type": "code",
   "execution_count": 1,
   "id": "901f4337-894c-4e73-8046-c7c0d1cd7a5e",
   "metadata": {},
   "outputs": [],
   "source": [
    "import numpy as np\n",
    "import tensorflow as tf\n",
    "import matplotlib.pyplot as plt\n",
    "import pandas as pd"
   ]
  },
  {
   "cell_type": "markdown",
   "id": "1f429893-62c8-49a4-ae31-0487822194f1",
   "metadata": {},
   "source": [
    "## Mock Some Data"
   ]
  },
  {
   "cell_type": "code",
   "execution_count": 2,
   "id": "38fa93ca-6102-48e2-9ff1-85b6f9e7b30a",
   "metadata": {},
   "outputs": [],
   "source": [
    "X = np.arange(-100, 100, 4)\n",
    "y = np.arange(-90,110,4)"
   ]
  },
  {
   "cell_type": "markdown",
   "id": "374cd099-0e58-4d96-a264-83cd387f6707",
   "metadata": {},
   "source": [
    "## Split Data into Train + Test"
   ]
  },
  {
   "cell_type": "code",
   "execution_count": 3,
   "id": "1f0c3078-d159-4b28-99c2-37964d2f8510",
   "metadata": {},
   "outputs": [],
   "source": [
    "# Split data into train and test sets\n",
    "X_train = X[:40] # first 40 examples (80% of data)\n",
    "y_train = y[:40]\n",
    "\n",
    "X_test = X[40:] # last 10 examples (20% of data)\n",
    "y_test = y[40:]"
   ]
  },
  {
   "cell_type": "markdown",
   "id": "9d672efa-97d5-4bd0-aa76-46a4521c004b",
   "metadata": {},
   "source": [
    "## Build The Model"
   ]
  },
  {
   "cell_type": "code",
   "execution_count": 7,
   "id": "72e7d0fe-67e1-4111-9b54-5849ed7f03f2",
   "metadata": {},
   "outputs": [
    {
     "data": {
      "text/plain": [
       "<keras.src.callbacks.History at 0x7f385617d0>"
      ]
     },
     "execution_count": 7,
     "metadata": {},
     "output_type": "execute_result"
    }
   ],
   "source": [
    "# layer\n",
    "l1 = tf.keras.layers.Dense(1)\n",
    "fittedXTrained = tf.expand_dims(X_train, axis=-1)\n",
    "epochCount = 100\n",
    "\n",
    "# BUILD\n",
    "m2 = tf.keras.Sequential()\n",
    "m2.add(l1)\n",
    "m2.add(l1)\n",
    "\n",
    "# COMPILE\n",
    "m2.compile(loss=tf.keras.losses.mae,\n",
    "                optimizer=tf.keras.optimizers.SGD(),\n",
    "                metrics=['mae'])\n",
    "\n",
    "# FIT\n",
    "m2.fit(fittedXTrained, y_train, epochs=epochCount, verbose=0) # set verbose to 0 for less output"
   ]
  },
  {
   "cell_type": "markdown",
   "id": "75077869-d50d-452e-903f-6ef2d749d75c",
   "metadata": {},
   "source": [
    "## Save The Model"
   ]
  },
  {
   "cell_type": "code",
   "execution_count": 8,
   "id": "b75532bf-766c-4947-88ea-bb9f19c9ac40",
   "metadata": {},
   "outputs": [
    {
     "name": "stdout",
     "output_type": "stream",
     "text": [
      "INFO:tensorflow:Assets written to: best_experiment_SavedModel_format/assets\n"
     ]
    },
    {
     "name": "stderr",
     "output_type": "stream",
     "text": [
      "INFO:tensorflow:Assets written to: best_experiment_SavedModel_format/assets\n"
     ]
    }
   ],
   "source": [
    "# DOCS\n",
    "# https://www.tensorflow.org/tutorials/keras/save_and_load\n",
    "\n",
    "# 1. SavedModel format\n",
    "# GOOD FOR TENSORFLOW-ENVIRONMENT\n",
    "m2.save(\"best_experiment_SavedModel_format\")"
   ]
  },
  {
   "cell_type": "code",
   "execution_count": 9,
   "id": "880cced2-cdda-4772-843c-71915578f726",
   "metadata": {},
   "outputs": [
    {
     "name": "stderr",
     "output_type": "stream",
     "text": [
      "/opt/conda/lib/python3.11/site-packages/keras/src/engine/training.py:3079: UserWarning: You are saving your model as an HDF5 file via `model.save()`. This file format is considered legacy. We recommend using instead the native Keras format, e.g. `model.save('my_model.keras')`.\n",
      "  saving_api.save_model(\n"
     ]
    }
   ],
   "source": [
    "# 2. LEGACY: HDF5 format, prints a UserWarning\n",
    "# m2.save('best_experiment_HDF5_format.h5')"
   ]
  },
  {
   "cell_type": "code",
   "execution_count": null,
   "id": "10ba2826-e02c-4e6e-a767-8564148d396d",
   "metadata": {},
   "outputs": [],
   "source": [
    "# 3: docs-recommended\n",
    "tf.keras.model.save()"
   ]
  }
 ],
 "metadata": {
  "kernelspec": {
   "display_name": "Python 3 (ipykernel)",
   "language": "python",
   "name": "python3"
  },
  "language_info": {
   "codemirror_mode": {
    "name": "ipython",
    "version": 3
   },
   "file_extension": ".py",
   "mimetype": "text/x-python",
   "name": "python",
   "nbconvert_exporter": "python",
   "pygments_lexer": "ipython3",
   "version": "3.11.6"
  }
 },
 "nbformat": 4,
 "nbformat_minor": 5
}
