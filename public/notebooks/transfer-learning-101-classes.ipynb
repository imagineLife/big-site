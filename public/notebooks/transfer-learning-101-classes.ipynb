{
 "cells": [
  {
   "cell_type": "markdown",
   "id": "b6da8901-77c5-40eb-b4d1-e0819b1cc627",
   "metadata": {},
   "source": [
    "# Transfer-Learning: 101 Classes\n",
    "There is a paper called [\"Food-101 - Mining Discriminative Components with Random Forest\"](https://data.vision.ee.ethz.ch/cvl/datasets_extra/food-101/static/bossard_eccv14_food-101.pdf), whcih describes image-classification with 1010 classes of food.  \n",
    "That paper and that idea is the launching pad of this notebook.  \n",
    "\n",
    "That paper dsicusses how the average accuracy in the model developed there is `50.76%`.  \n",
    "This notebook is going to try to surpass that accuracy score.  \n",
    "\n",
    "[Here's another notebook](https://github.com/mrdbourke/tensorflow-deep-learning/blob/main/extras/image_data_modification.ipynb) to check out about dealing with the images from the food101 dataset.\n",
    "\n",
    "\n",
    "## Notebook goals\n",
    "Build a model that surpasses the accuracy score found in the paper above:\n",
    "- use the food101 dataset (can be found [here](https://www.kaggle.com/datasets/dansbecker/food-101))\n",
    "- Experiment with building \"feature-extraction\" transfer-learning models\n",
    "- Fine-Tune a feature-extraction model\n",
    "- Evaluate The performance of the model\n",
    "- Save the trained model"
   ]
  },
  {
   "cell_type": "markdown",
   "id": "bf1a3680-80e6-495e-9877-4ecc8a2bb68a",
   "metadata": {},
   "source": [
    "## Prep\n",
    "### Imports"
   ]
  },
  {
   "cell_type": "code",
   "execution_count": 31,
   "id": "e5a18328-8437-46e9-befd-99e0e4818f67",
   "metadata": {},
   "outputs": [
    {
     "name": "stdout",
     "output_type": "stream",
     "text": [
      "Downloading data from https://www.cs.toronto.edu/~kriz/cifar-100-python.tar.gz\n",
      "169001437/169001437 [==============================] - 70s 0us/step\n",
      "Epoch 1/5\n",
      "782/782 [==============================] - 243s 284ms/step - loss: 4.6066 - accuracy: 0.0848\n",
      "Epoch 2/5\n",
      "782/782 [==============================] - 206s 264ms/step - loss: 4.3174 - accuracy: 0.1010\n",
      "Epoch 3/5\n",
      "782/782 [==============================] - 205s 262ms/step - loss: 3.7268 - accuracy: 0.1642\n",
      "Epoch 4/5\n",
      "782/782 [==============================] - 203s 260ms/step - loss: 3.4103 - accuracy: 0.2140\n",
      "Epoch 5/5\n",
      "782/782 [==============================] - 205s 262ms/step - loss: 3.3513 - accuracy: 0.2261\n"
     ]
    },
    {
     "data": {
      "text/plain": [
       "<keras.src.callbacks.History at 0x3e56c9f90>"
      ]
     },
     "execution_count": 31,
     "metadata": {},
     "output_type": "execute_result"
    }
   ],
   "source": [
    "import tensorflow as tf\n",
    "\n",
    "cifar = tf.keras.datasets.cifar100\n",
    "(x_train, y_train), (x_test, y_test) = cifar.load_data()\n",
    "model = tf.keras.applications.ResNet50(\n",
    "    include_top=True,\n",
    "    weights=None,\n",
    "    input_shape=(32, 32, 3),\n",
    "    classes=100,)\n",
    "\n",
    "loss_fn = tf.keras.losses.SparseCategoricalCrossentropy(from_logits=False)\n",
    "model.compile(optimizer=\"adam\", loss=loss_fn, metrics=[\"accuracy\"])\n",
    "model.fit(x_train, y_train, epochs=5, batch_size=64)"
   ]
  },
  {
   "cell_type": "code",
   "execution_count": 30,
   "id": "751491d8-f6fc-4dae-b334-7385c73e4a6c",
   "metadata": {},
   "outputs": [
    {
     "data": {
      "text/plain": [
       "[PhysicalDevice(name='/physical_device:CPU:0', device_type='CPU'),\n",
       " PhysicalDevice(name='/physical_device:GPU:0', device_type='GPU')]"
      ]
     },
     "execution_count": 30,
     "metadata": {},
     "output_type": "execute_result"
    }
   ],
   "source": [
    "import tensorflow as tf\n",
    "from tensorflow.keras import layers\n",
    "from tensorflow.keras.models import Sequential\n",
    "\n",
    "tf.config.get_visible_devices()"
   ]
  },
  {
   "cell_type": "code",
   "execution_count": 32,
   "id": "89abc7c5-5332-4f42-b4bf-64bbf4677162",
   "metadata": {},
   "outputs": [
    {
     "data": {
      "text/plain": [
       "680"
      ]
     },
     "execution_count": 32,
     "metadata": {},
     "output_type": "execute_result"
    }
   ],
   "source": [
    "import gc\n",
    "gc.collect()"
   ]
  },
  {
   "cell_type": "markdown",
   "id": "a22300f0-7a38-45cd-9e28-0d9f2586b613",
   "metadata": {},
   "source": [
    "### Helpers\n",
    "Get some helper functions"
   ]
  },
  {
   "cell_type": "code",
   "execution_count": 33,
   "id": "9ac024de-331b-4940-804d-8b6d94805572",
   "metadata": {},
   "outputs": [],
   "source": [
    "# !wget https://raw.githubusercontent.com/mrdbourke/tensorflow-deep-learning/main/extras/helper_functions.py\n",
    "\n",
    "from helper_functions import create_tensorboard_callback, plot_loss_curves, unzip_data, compare_historys, walk_through_dir"
   ]
  },
  {
   "cell_type": "markdown",
   "id": "55d1807b-a069-41ef-9834-33934aed2454",
   "metadata": {},
   "source": [
    "### Get The Data\n",
    "Getting `10%` of the data to start experimenting with modeling:"
   ]
  },
  {
   "cell_type": "code",
   "execution_count": 3,
   "id": "184f4a18-ff78-421c-a96d-2f04b6e1b7fe",
   "metadata": {},
   "outputs": [],
   "source": [
    "# Download data from Google Storage (already preformatted)\n",
    "# !wget https://storage.googleapis.com/ztm_tf_course/food_vision/101_food_classes_10_percent.zip "
   ]
  },
  {
   "cell_type": "code",
   "execution_count": 4,
   "id": "2b314140-b8ee-46fb-9eda-0ed19a19473c",
   "metadata": {},
   "outputs": [],
   "source": [
    "# unzip_data(\"101_food_classes_10_percent.zip\")"
   ]
  },
  {
   "cell_type": "code",
   "execution_count": 5,
   "id": "2f302845-d0b3-4313-9f5d-436096493918",
   "metadata": {},
   "outputs": [],
   "source": [
    "# to get a brief \"inspection\" of the data\n",
    "# walk_through_dir(\"101_food_classes_10_percent\")"
   ]
  },
  {
   "cell_type": "markdown",
   "id": "ba1f62a4-7959-428e-b328-69dabd91d5bd",
   "metadata": {},
   "source": [
    "### Build Train & Test Vars"
   ]
  },
  {
   "cell_type": "code",
   "execution_count": 34,
   "id": "8e349d2a-ad09-467f-8d08-a303917cd897",
   "metadata": {},
   "outputs": [
    {
     "name": "stdout",
     "output_type": "stream",
     "text": [
      "TRAIN: 101_food_classes_10_percent/train/ \n",
      " TEST: 101_food_classes_10_percent/test/\n"
     ]
    }
   ],
   "source": [
    "imagesDirPath = \"101_food_classes_10_percent/\"\n",
    "trainDirPath = imagesDirPath + 'train/'\n",
    "testDirPath = imagesDirPath + 'test/'\n",
    "print(f'TRAIN: {trainDirPath} \\n TEST: {testDirPath}')"
   ]
  },
  {
   "cell_type": "markdown",
   "id": "39dc29f6-c58a-4b7e-a73d-0076487c0033",
   "metadata": {},
   "source": [
    "### Convert Images & Labels Into tensorflow datasets"
   ]
  },
  {
   "cell_type": "code",
   "execution_count": 27,
   "id": "01ebab7b-7ea8-40a9-9fa0-0c42307d07f5",
   "metadata": {},
   "outputs": [
    {
     "name": "stdout",
     "output_type": "stream",
     "text": [
      "Found 7575 files belonging to 101 classes.\n",
      "Found 25250 files belonging to 101 classes.\n"
     ]
    }
   ],
   "source": [
    "OUTPUT_IMG_SIZE = (224,224)\n",
    "\n",
    "trainingData10P = tf.keras.preprocessing.image_dataset_from_directory(trainDirPath,\n",
    "                                                                                label_mode=\"categorical\",\n",
    "                                                                                image_size=OUTPUT_IMG_SIZE)\n",
    "                                                                                \n",
    "testingData10p = tf.keras.preprocessing.image_dataset_from_directory(testDirPath,\n",
    "                                                                label_mode=\"categorical\",\n",
    "                                                                image_size=OUTPUT_IMG_SIZE,\n",
    "                                                                shuffle=False) # don't shuffle test data for prediction analysis"
   ]
  },
  {
   "cell_type": "markdown",
   "id": "5fccc221-0727-4c01-a0a3-7a816e5f7380",
   "metadata": {},
   "source": [
    "### Build A Checkpoint Callback"
   ]
  },
  {
   "cell_type": "code",
   "execution_count": 28,
   "id": "ad8bd07c-8c02-4a13-89f5-0cb2e574684a",
   "metadata": {},
   "outputs": [],
   "source": [
    "# Create checkpoint callback to save model for later use\n",
    "checkpoint_path = \"101_classes_10_percent_data_model_checkpoint\"\n",
    "checkpoint_callback = tf.keras.callbacks.ModelCheckpoint(checkpoint_path,\n",
    "                                                         save_weights_only=True, # save only the model weights\n",
    "                                                         monitor=\"val_accuracy\", # save the model weights which score the best validation accuracy\n",
    "                                                         save_best_only=True) # only keep the best model weights on file (delete the rest)"
   ]
  },
  {
   "cell_type": "markdown",
   "id": "83934ced-8762-44b0-a3e8-5b6f0dbf59e1",
   "metadata": {},
   "source": [
    "### Build Data-Augmenter"
   ]
  },
  {
   "cell_type": "code",
   "execution_count": 29,
   "id": "4ed0872a-9d22-4f4e-b8e5-a1e9ab170182",
   "metadata": {},
   "outputs": [],
   "source": [
    "dataAugLayer = Sequential([\n",
    "  layers.RandomFlip(\"horizontal\"),\n",
    "  layers.RandomRotation(0.2),\n",
    "  layers.RandomZoom(0.2),\n",
    "  layers.RandomHeight(0.2),\n",
    "  layers.RandomWidth(0.2),\n",
    "  # preprocessing.Rescaling(1./255) # keep for ResNet50V2, remove for EfficientNetB0\n",
    "], name =\"data_augmentation\")"
   ]
  },
  {
   "cell_type": "markdown",
   "id": "fa053d2a-88ef-402b-98d6-3eb43ff9e203",
   "metadata": {},
   "source": [
    "## Model I\n",
    "### Base Model: EfficientNetB0"
   ]
  },
  {
   "cell_type": "code",
   "execution_count": 10,
   "id": "d7f85ceb-b1db-439f-9900-1f43d8aaecb1",
   "metadata": {},
   "outputs": [],
   "source": [
    "base_model = tf.keras.applications.efficientnet.EfficientNetB0(include_top=False)\n",
    "base_model.trainable = False"
   ]
  },
  {
   "cell_type": "code",
   "execution_count": 11,
   "id": "e17d5545-33a3-4641-9a79-70a2d17de563",
   "metadata": {},
   "outputs": [
    {
     "data": {
      "text/plain": [
       "101"
      ]
     },
     "execution_count": 11,
     "metadata": {},
     "output_type": "execute_result"
    }
   ],
   "source": [
    "howManyClasses = len(testingData10p.class_names)\n",
    "howManyClasses"
   ]
  },
  {
   "cell_type": "markdown",
   "id": "eedd8201-935c-42ac-90bc-93644574a44f",
   "metadata": {},
   "source": [
    "### Build"
   ]
  },
  {
   "cell_type": "code",
   "execution_count": 12,
   "id": "cc06fd51-3f9c-4776-9c2d-95bbbf5c6e34",
   "metadata": {},
   "outputs": [],
   "source": [
    "m0Inputs = layers.Input(shape=(224, 224, 3), name=\"input_layer\") # shape of input image\n",
    "m0Applied = dataAugLayer(m0Inputs) # augment images (only happens during training)\n",
    "m0Applied = base_model(m0Applied, training=False) # put the base model in inference mode so we can use it to extract features without updating the weights\n",
    "m0Applied = layers.GlobalAveragePooling2D(name=\"global_average_pooling\")(m0Applied) # pool the outputs of the base model\n",
    "m0Outputs = layers.Dense(howManyClasses, activation=\"softmax\", name=\"output_layer\")(m0Applied) # same number of outputs as classes\n",
    "m0 = tf.keras.Model(m0Inputs, m0Outputs)"
   ]
  },
  {
   "cell_type": "code",
   "execution_count": 13,
   "id": "c5515aee-60da-4935-a7cf-1b7a1ef9b6b9",
   "metadata": {
    "scrolled": true
   },
   "outputs": [
    {
     "name": "stdout",
     "output_type": "stream",
     "text": [
      "Model: \"model\"\n",
      "_________________________________________________________________\n",
      " Layer (type)                Output Shape              Param #   \n",
      "=================================================================\n",
      " input_layer (InputLayer)    [(None, 224, 224, 3)]     0         \n",
      "                                                                 \n",
      " data_augmentation (Sequent  (None, None, None, 3)     0         \n",
      " ial)                                                            \n",
      "                                                                 \n",
      " efficientnetb0 (Functional  (None, None, None, 1280   4049571   \n",
      " )                           )                                   \n",
      "                                                                 \n",
      " global_average_pooling (Gl  (None, 1280)              0         \n",
      " obalAveragePooling2D)                                           \n",
      "                                                                 \n",
      " output_layer (Dense)        (None, 101)               129381    \n",
      "                                                                 \n",
      "=================================================================\n",
      "Total params: 4178952 (15.94 MB)\n",
      "Trainable params: 129381 (505.39 KB)\n",
      "Non-trainable params: 4049571 (15.45 MB)\n",
      "_________________________________________________________________\n"
     ]
    }
   ],
   "source": [
    "m0.summary()"
   ]
  },
  {
   "cell_type": "markdown",
   "id": "b3575b40-97ec-43a0-82e4-3cb29b93be4c",
   "metadata": {},
   "source": [
    "### Compile & Fit"
   ]
  },
  {
   "cell_type": "code",
   "execution_count": 14,
   "id": "721343ed-29c1-4532-a422-85cb18de4e2a",
   "metadata": {},
   "outputs": [],
   "source": [
    "m0.compile(loss=\"categorical_crossentropy\",\n",
    "              optimizer=tf.keras.optimizers.Adam(), # use Adam with default settings\n",
    "              metrics=[\"accuracy\"])"
   ]
  },
  {
   "cell_type": "code",
   "execution_count": 15,
   "id": "dd23518b-b582-417e-bfe1-dd91fa5b8dda",
   "metadata": {},
   "outputs": [
    {
     "data": {
      "text/plain": [
       "118"
      ]
     },
     "execution_count": 15,
     "metadata": {},
     "output_type": "execute_result"
    }
   ],
   "source": [
    "howManyValidationSteps = int(0.15 * len(testingData10p))\n",
    "howManyValidationSteps"
   ]
  },
  {
   "cell_type": "code",
   "execution_count": 16,
   "id": "0a7a3af2-d545-4d25-bf07-ea012eb81c8a",
   "metadata": {},
   "outputs": [
    {
     "name": "stdout",
     "output_type": "stream",
     "text": [
      "Epoch 1/5\n",
      "237/237 [==============================] - 430s 2s/step - loss: 3.3797 - accuracy: 0.2776 - val_loss: 2.4227 - val_accuracy: 0.4841\n",
      "Epoch 2/5\n",
      "237/237 [==============================] - 322s 1s/step - loss: 2.1932 - accuracy: 0.4983 - val_loss: 1.9924 - val_accuracy: 0.5328\n",
      "Epoch 3/5\n",
      "237/237 [==============================] - 237s 999ms/step - loss: 1.8072 - accuracy: 0.5691 - val_loss: 1.8526 - val_accuracy: 0.5432\n",
      "Epoch 4/5\n",
      "237/237 [==============================] - 221s 932ms/step - loss: 1.6033 - accuracy: 0.6116 - val_loss: 1.7359 - val_accuracy: 0.5622\n",
      "Epoch 5/5\n",
      "237/237 [==============================] - 221s 928ms/step - loss: 1.4426 - accuracy: 0.6418 - val_loss: 1.7101 - val_accuracy: 0.5556\n"
     ]
    }
   ],
   "source": [
    "m0History = m0.fit(trainingData10P,\n",
    "                                           epochs=5, # fit for 5 epochs to keep experiments quick\n",
    "                                           validation_data=testingData10p,\n",
    "                                           validation_steps=int(0.15 * len(testingData10p)), # evaluate on smaller portion of test data\n",
    "                                           callbacks=[checkpoint_callback])"
   ]
  },
  {
   "cell_type": "markdown",
   "id": "ab348804-8095-4e0a-97d8-93a2c3de60af",
   "metadata": {},
   "source": [
    "### Analysis"
   ]
  },
  {
   "cell_type": "code",
   "execution_count": 17,
   "id": "f77736d3-0f10-4795-a865-76728f276860",
   "metadata": {},
   "outputs": [
    {
     "data": {
      "image/png": "[encoded data removed]",
      "text/plain": [
       "<Figure size 640x480 with 1 Axes>"
      ]
     },
     "metadata": {},
     "output_type": "display_data"
    },
    {
     "data": {
      "image/png": "[encoded data removed]",
      "text/plain": [
       "<Figure size 640x480 with 1 Axes>"
      ]
     },
     "metadata": {},
     "output_type": "display_data"
    }
   ],
   "source": [
    "plot_loss_curves(m0History)"
   ]
  },
  {
   "cell_type": "markdown",
   "id": "e55864a9-6b3f-42f7-9e2b-8b2c2894a1dd",
   "metadata": {},
   "source": [
    "- the loss curves indicate there might be som \"overfitting\"\n",
    "  - when the loss decreases in the TRAINING data but does not decrease in the VALIDATION data, the model is getting \"better\" at the training data and not getting better at the validation data"
   ]
  },
  {
   "cell_type": "markdown",
   "id": "71d85244-75d2-45de-af62-eabcf8cb95c2",
   "metadata": {},
   "source": [
    "## Model II: Fine-Tuning Model I"
   ]
  },
  {
   "cell_type": "markdown",
   "id": "56f0b5a7-cae9-42ab-b2e6-6ce221c095f1",
   "metadata": {},
   "source": [
    "### Un-Freeze Layers"
   ]
  },
  {
   "cell_type": "code",
   "execution_count": 32,
   "id": "c5e9759f-c747-4bf6-85e6-d9490382b67c",
   "metadata": {},
   "outputs": [],
   "source": [
    "base_model.trainable = True"
   ]
  },
  {
   "cell_type": "code",
   "execution_count": 33,
   "id": "bbde30a6-c1e9-4aa0-9731-9a2d56aabb52",
   "metadata": {},
   "outputs": [],
   "source": [
    "# RE-Freeze all-but-5 layers\n",
    "for layer in base_model.layers[:-5]:\n",
    "  layer.trainable = False"
   ]
  },
  {
   "cell_type": "markdown",
   "id": "3132a1c8-c0a7-49e2-9450-eac2b88dcc6f",
   "metadata": {},
   "source": [
    "### Re-Compile"
   ]
  },
  {
   "cell_type": "code",
   "execution_count": 34,
   "id": "27424a5a-4240-4cac-993e-649945ace64d",
   "metadata": {},
   "outputs": [],
   "source": [
    "m0.compile(loss='categorical_crossentropy',\n",
    "              optimizer=tf.keras.optimizers.Adam(1e-4), # 10x lower learning rate than default\n",
    "              metrics=['accuracy'])"
   ]
  },
  {
   "cell_type": "code",
   "execution_count": 35,
   "id": "dca16139-2b28-47dd-8346-4e8a1ea4799d",
   "metadata": {},
   "outputs": [
    {
     "name": "stdout",
     "output_type": "stream",
     "text": [
      "layer idx 0: input_layer is trainable\n",
      "layer idx 1: data_augmentation is trainable\n",
      "layer idx 2: efficientnetb0 is trainable\n",
      "layer idx 3: global_average_pooling is trainable\n",
      "layer idx 4: output_layer is trainable\n"
     ]
    }
   ],
   "source": [
    "for idx, layer in enumerate(m0.layers):\n",
    "    if(layer.trainable == True):\n",
    "        print(f'layer idx {idx}: {layer.name} is trainable')"
   ]
  },
  {
   "cell_type": "code",
   "execution_count": null,
   "id": "4d03864d-6792-47ff-b919-11b216fed343",
   "metadata": {},
   "outputs": [],
   "source": [
    "for idx, layer in enumerate(base_model.layers):\n",
    "    if(layer.trainable == True):\n",
    "        print(f'layer idx {idx}: {layer.name} is trainable')"
   ]
  },
  {
   "cell_type": "markdown",
   "id": "ac6b3370-a910-400f-b8ed-89093facad37",
   "metadata": {},
   "source": [
    "### Fine-Tune & Fit "
   ]
  },
  {
   "cell_type": "code",
   "execution_count": 40,
   "id": "d3aa8832-462d-47a4-8c7d-e72026e58bb2",
   "metadata": {},
   "outputs": [
    {
     "name": "stdout",
     "output_type": "stream",
     "text": [
      "Epoch 5/10\n",
      "237/237 [==============================] - 250s 1s/step - loss: 1.2083 - accuracy: 0.6846 - val_loss: 1.6503 - val_accuracy: 0.5683\n",
      "Epoch 6/10\n",
      "237/237 [==============================] - 209s 882ms/step - loss: 1.0835 - accuracy: 0.7114 - val_loss: 1.6716 - val_accuracy: 0.5628\n",
      "Epoch 7/10\n",
      "237/237 [==============================] - 206s 870ms/step - loss: 1.0085 - accuracy: 0.7299 - val_loss: 1.6843 - val_accuracy: 0.5540\n",
      "Epoch 8/10\n",
      "237/237 [==============================] - 193s 815ms/step - loss: 0.9498 - accuracy: 0.7377 - val_loss: 1.6570 - val_accuracy: 0.5651\n",
      "Epoch 9/10\n",
      "237/237 [==============================] - 213s 900ms/step - loss: 0.8768 - accuracy: 0.7649 - val_loss: 1.6934 - val_accuracy: 0.5572\n",
      "Epoch 10/10\n",
      "237/237 [==============================] - 216s 912ms/step - loss: 0.8345 - accuracy: 0.7787 - val_loss: 1.7104 - val_accuracy: 0.5546\n"
     ]
    }
   ],
   "source": [
    "fineTinedEpochCount = 10\n",
    "m0FineTunedHistory = m0.fit(trainingData10P,\n",
    "                                                     epochs=fineTinedEpochCount,\n",
    "                                                     validation_data=testingData10p,\n",
    "                                                     validation_steps=int(0.15 * len(testingData10p)), # validate on 15% of the test data\n",
    "                                                     initial_epoch=m0History.epoch[-1]) # start from previous last epoch"
   ]
  },
  {
   "cell_type": "markdown",
   "id": "890ef853-307f-4e31-a9cd-fc7d2f70fe0e",
   "metadata": {},
   "source": [
    "### Analysis"
   ]
  },
  {
   "cell_type": "code",
   "execution_count": 41,
   "id": "133d3ee8-dee7-456c-a812-9d32ce8b6d25",
   "metadata": {
    "scrolled": true
   },
   "outputs": [
    {
     "data": {
      "image/png": "[encoded data removed]",
      "text/plain": [
       "<Figure size 800x800 with 2 Axes>"
      ]
     },
     "metadata": {},
     "output_type": "display_data"
    }
   ],
   "source": [
    "compare_historys(original_history=m0History,\n",
    "                 new_history=m0FineTunedHistory,\n",
    "                 initial_epochs=5)"
   ]
  },
  {
   "cell_type": "code",
   "execution_count": 46,
   "id": "6e07afae-a0b6-4683-b80c-442af06c7b46",
   "metadata": {},
   "outputs": [
    {
     "name": "stdout",
     "output_type": "stream",
     "text": [
      "790/790 [==============================] - 680s 861ms/step - loss: 1.4948 - accuracy: 0.6040\n"
     ]
    }
   ],
   "source": [
    "m0Loss, m0Accuracy = m0.evaluate(testingData10p)"
   ]
  },
  {
   "cell_type": "code",
   "execution_count": 47,
   "id": "c5961def-71c0-40a8-8a3f-37c49954df72",
   "metadata": {},
   "outputs": [
    {
     "data": {
      "text/plain": [
       "(1.4947682619094849, 0.603960394859314)"
      ]
     },
     "execution_count": 47,
     "metadata": {},
     "output_type": "execute_result"
    }
   ],
   "source": [
    "m0Loss, m0Accuracy"
   ]
  },
  {
   "cell_type": "markdown",
   "id": "3d903161-b9ad-4e30-b560-4fb8fdee604f",
   "metadata": {},
   "source": [
    "## Saving The Model"
   ]
  },
  {
   "cell_type": "code",
   "execution_count": 42,
   "id": "81ef4120-0847-4415-8bff-838847b05a81",
   "metadata": {},
   "outputs": [
    {
     "name": "stdout",
     "output_type": "stream",
     "text": [
      "INFO:tensorflow:Assets written to: food101-10p-transfer-EfficientNetB0/assets\n"
     ]
    },
    {
     "name": "stderr",
     "output_type": "stream",
     "text": [
      "INFO:tensorflow:Assets written to: food101-10p-transfer-EfficientNetB0/assets\n"
     ]
    }
   ],
   "source": [
    "m0.save('food101-10p-transfer-EfficientNetB0')"
   ]
  },
  {
   "cell_type": "markdown",
   "id": "7a7b85c8-b15f-46d6-bb88-1bdc51bd7a1d",
   "metadata": {},
   "source": [
    "### Load The Model"
   ]
  },
  {
   "cell_type": "code",
   "execution_count": 44,
   "id": "a3d93e4c-478f-420a-a085-58c762e72004",
   "metadata": {
    "scrolled": true
   },
   "outputs": [],
   "source": [
    "loadedModel = tf.keras.models.load_model('food101-10p-transfer-EfficientNetB0')"
   ]
  },
  {
   "cell_type": "code",
   "execution_count": 45,
   "id": "45ed73f1-aac6-4100-9fe2-f7dec543ba5d",
   "metadata": {},
   "outputs": [
    {
     "name": "stdout",
     "output_type": "stream",
     "text": [
      "790/790 [==============================] - 859s 1s/step - loss: 1.4948 - accuracy: 0.6040\n"
     ]
    },
    {
     "data": {
      "text/plain": [
       "(1.4947682619094849, 0.603960394859314)"
      ]
     },
     "execution_count": 45,
     "metadata": {},
     "output_type": "execute_result"
    }
   ],
   "source": [
    "# Check to see if loaded model is a trained model\n",
    "loaded_loss, loaded_accuracy = loadedModel.evaluate(testingData10p)\n",
    "loaded_loss, loaded_accuracy"
   ]
  },
  {
   "cell_type": "markdown",
   "id": "86e1bef4-98f6-4db5-863b-52dac8610a8e",
   "metadata": {},
   "source": [
    "### Make Predictions\n",
    "Here, pass the testing dataset to the model to make predictions on each testing image"
   ]
  },
  {
   "cell_type": "code",
   "execution_count": 48,
   "id": "31043137-8817-4529-8ffc-f15ba9365b31",
   "metadata": {},
   "outputs": [
    {
     "name": "stdout",
     "output_type": "stream",
     "text": [
      "790/790 [==============================] - 786s 992ms/step\n"
     ]
    }
   ],
   "source": [
    "m0PredictionProbabilities = m0.predict(testingData10p, verbose=1)"
   ]
  },
  {
   "cell_type": "code",
   "execution_count": 49,
   "id": "10703a2c-891f-41cb-aad4-117e708b20ce",
   "metadata": {},
   "outputs": [
    {
     "data": {
      "text/plain": [
       "25250"
      ]
     },
     "execution_count": 49,
     "metadata": {},
     "output_type": "execute_result"
    }
   ],
   "source": [
    "len(m0PredictionProbabilities)"
   ]
  },
  {
   "cell_type": "code",
   "execution_count": 51,
   "id": "b6ce5170-14f1-48c0-b0f1-e5e845f846dc",
   "metadata": {},
   "outputs": [
    {
     "data": {
      "text/plain": [
       "(25250, 101)"
      ]
     },
     "execution_count": 51,
     "metadata": {},
     "output_type": "execute_result"
    }
   ],
   "source": [
    "# should be (numberOfImages, numberOfClasses)\n",
    "m0PredictionProbabilities.shape"
   ]
  },
  {
   "cell_type": "code",
   "execution_count": 52,
   "id": "ff296406-6b69-4493-ab0b-78d2c0763218",
   "metadata": {},
   "outputs": [
    {
     "name": "stdout",
     "output_type": "stream",
     "text": [
      "Number of prediction probabilities for sample 0: 101\n",
      "What prediction probability sample 0 looks like:\n",
      " [1.38797715e-01 1.56522481e-04 1.84852049e-01 2.51532555e-07\n",
      " 6.30765408e-06 2.08739220e-06 3.40351107e-05 9.20998900e-06\n",
      " 2.68313698e-02 1.46380131e-04 1.55132750e-06 1.47509627e-05\n",
      " 3.95400508e-04 5.50755203e-07 1.71097368e-02 1.84540008e-03\n",
      " 2.63588008e-05 2.13402603e-03 3.35166999e-03 2.35583975e-05\n",
      " 6.41028280e-04 1.90715873e-05 3.34971584e-04 1.72030297e-04\n",
      " 8.83393164e-04 3.70974117e-03 6.73105242e-04 1.84026387e-04\n",
      " 1.11462243e-01 1.73394848e-03 7.70868974e-06 9.65540588e-04\n",
      " 2.93610385e-04 2.27731130e-06 4.36247699e-03 1.79853862e-06\n",
      " 1.66264756e-04 1.98309636e-03 1.17606565e-01 1.27134816e-04\n",
      " 4.67437756e-04 2.41094809e-02 2.62722198e-04 2.31625236e-05\n",
      " 8.80344087e-05 1.56951319e-05 8.25790281e-04 1.41687458e-04\n",
      " 4.67074324e-06 4.34673764e-02 1.68295403e-04 1.05964165e-04\n",
      " 5.41644245e-02 2.79162861e-02 2.64742357e-05 1.02083925e-02\n",
      " 2.01777387e-02 3.16690025e-03 5.36395330e-03 4.63428332e-05\n",
      " 4.56082091e-07 1.40712468e-03 4.23399769e-02 2.82775890e-03\n",
      " 2.02227762e-04 2.91306587e-05 1.75146961e-05 5.79633843e-03\n",
      " 1.89898896e-03 8.54144921e-04 4.08526503e-05 4.91330547e-06\n",
      " 3.48478323e-03 4.46958366e-05 3.38023092e-04 7.71895884e-06\n",
      " 2.33915882e-04 1.14198346e-02 7.48199003e-04 3.76834243e-04\n",
      " 3.78287700e-03 5.96210230e-05 2.11575953e-03 2.04140870e-05\n",
      " 4.66663187e-04 7.14999363e-02 7.03493925e-03 1.90538354e-03\n",
      " 1.54046884e-05 3.97118478e-04 2.45857359e-06 3.64591579e-05\n",
      " 5.16747590e-04 3.69525544e-04 1.38974792e-04 1.86048041e-03\n",
      " 2.74440902e-03 2.63058406e-04 2.68939129e-05 6.07356615e-03\n",
      " 1.67761482e-02]\n",
      "The class with the highest predicted probability by the model for sample 0: 2\n"
     ]
    }
   ],
   "source": [
    "# We get one prediction probability per class\n",
    "print(f\"Number of prediction probabilities for sample 0: {len(m0PredictionProbabilities[0])}\")\n",
    "print(f\"What prediction probability sample 0 looks like:\\n {m0PredictionProbabilities[0]}\")\n",
    "print(f\"The class with the highest predicted probability by the model for sample 0: {m0PredictionProbabilities[0].argmax()}\")"
   ]
  },
  {
   "cell_type": "code",
   "execution_count": 54,
   "id": "34f1d13b-f08b-4531-925e-bc8227a5930b",
   "metadata": {},
   "outputs": [
    {
     "data": {
      "text/plain": [
       "array([ 2,  0,  0, 38,  8, 78, 29,  0,  2,  0])"
      ]
     },
     "execution_count": 54,
     "metadata": {},
     "output_type": "execute_result"
    }
   ],
   "source": [
    "# Get JUST THE CLASS NUMBER (0-100) of each label of each prediction\n",
    "pred_classes = m0PredictionProbabilities.argmax(axis=1)\n",
    "\n",
    "# How do they look?\n",
    "pred_classes[:10]"
   ]
  },
  {
   "cell_type": "markdown",
   "id": "7ac1fe2d-d1cb-4314-8264-c15b64a4024f",
   "metadata": {},
   "source": [
    "### Get Labels From test data"
   ]
  },
  {
   "cell_type": "code",
   "execution_count": 55,
   "id": "2f7c9d30-f700-446e-9dde-bf3424006559",
   "metadata": {},
   "outputs": [
    {
     "data": {
      "text/plain": [
       "[0, 0, 0, 0, 0, 0, 0, 0, 0, 0]"
      ]
     },
     "execution_count": 55,
     "metadata": {},
     "output_type": "execute_result"
    }
   ],
   "source": [
    "testDataLabels = []\n",
    "for images, labels in testingData10p.unbatch(): # unbatch the test data and get images and labels\n",
    "  testDataLabels.append(labels.numpy().argmax()) # append the index which has the largest value (labels are one-hot)\n",
    "testDataLabels[:10] # check what they look like (unshuffled)"
   ]
  },
  {
   "cell_type": "code",
   "execution_count": 56,
   "id": "b4c2da18-ec0d-44ee-8806-2f13536531ea",
   "metadata": {},
   "outputs": [
    {
     "data": {
      "text/plain": [
       "25250"
      ]
     },
     "execution_count": 56,
     "metadata": {},
     "output_type": "execute_result"
    }
   ],
   "source": [
    "len(testDataLabels)"
   ]
  }
 ],
 "metadata": {
  "kernelspec": {
   "display_name": "Python 3 (ipykernel)",
   "language": "python",
   "name": "python3"
  },
  "language_info": {
   "codemirror_mode": {
    "name": "ipython",
    "version": 3
   },
   "file_extension": ".py",
   "mimetype": "text/x-python",
   "name": "python",
   "nbconvert_exporter": "python",
   "pygments_lexer": "ipython3",
   "version": "3.10.14"
  }
 },
 "nbformat": 4,
 "nbformat_minor": 5
}
