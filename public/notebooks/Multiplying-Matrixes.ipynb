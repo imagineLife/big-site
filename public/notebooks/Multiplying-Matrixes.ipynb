{
 "cells": [
  {
   "cell_type": "markdown",
   "id": "86ad4452-171c-4a03-ad34-2b92c8514584",
   "metadata": {},
   "source": [
    "# Matrix Multiplication\n",
    "Multiplying 2 matrixes.  \n",
    "Given 2 matrixes:\n",
    "```python\n",
    "ma = [\n",
    "    [1,2,3],\n",
    "    [4,5,6]\n",
    "]\n",
    "\n",
    "mb = [\n",
    "    [7,8],\n",
    "    [9,10],\n",
    "    [11,12]\n",
    "]\n",
    "```\n",
    "These get multiplied to create a new matrix:\n",
    "```python\n",
    "# top row of first matrix multiplication results\n",
    "58 = (1*7 + 2*9 + 3*11)\n",
    "64 = (1*8 + 2*10 + 3*12)\n",
    "\n",
    "# bottom row of first matrix multiplication results\n",
    "139 = (4*7 + 5*9 + 6*11)\n",
    "154 = (4*8 + 5*10 + 6*12)\n",
    "\n",
    "# resulting matrix\n",
    "[\n",
    "    [58,64],\n",
    "    [139, 154]\n",
    "]\n",
    "```\n",
    "\n",
    "## RULES\n",
    "- the \"inner\" dimensions must match between the two matrixes\n",
    "  -  a 3x2 can multiply with a 2x4 (3x2, 2x3, the \"inners\" are 2)\n",
    "  -  a 2x4 can multiply by a 4x3   (2x4, 4x3, the \"inners\" are 4)\n",
    "  -  a 3x2 CANNOT multiply by 3x3"
   ]
  },
  {
   "cell_type": "code",
   "execution_count": 43,
   "id": "d0596572-75b0-4182-8043-ed40a2e2a5ca",
   "metadata": {},
   "outputs": [],
   "source": [
    "import tensorflow as tf"
   ]
  },
  {
   "cell_type": "markdown",
   "id": "52d19413-f78c-44f6-a55f-be420b58c7ee",
   "metadata": {},
   "source": [
    "## With Tensorflow"
   ]
  },
  {
   "cell_type": "code",
   "execution_count": 44,
   "id": "4131397f-6a04-49dd-b5da-92bb3e7d2aee",
   "metadata": {},
   "outputs": [
    {
     "data": {
      "text/plain": [
       "<tf.Tensor: shape=(2, 3), dtype=int32, numpy=\n",
       "array([[1, 2, 3],\n",
       "       [4, 5, 6]], dtype=int32)>"
      ]
     },
     "execution_count": 44,
     "metadata": {},
     "output_type": "execute_result"
    }
   ],
   "source": [
    "ma = [\n",
    "    [1,2,3],\n",
    "    [4,5,6]\n",
    "]\n",
    "\n",
    "mb = [\n",
    "    [7,8],\n",
    "    [9,10],\n",
    "    [11,12]\n",
    "]\n",
    "\n",
    "t1 = tf.constant(ma)\n",
    "t1"
   ]
  },
  {
   "cell_type": "code",
   "execution_count": 45,
   "id": "cedd8c88-e046-4e83-b379-84077e945d05",
   "metadata": {},
   "outputs": [
    {
     "data": {
      "text/plain": [
       "<tf.Tensor: shape=(3, 2), dtype=int32, numpy=\n",
       "array([[ 7,  8],\n",
       "       [ 9, 10],\n",
       "       [11, 12]], dtype=int32)>"
      ]
     },
     "execution_count": 45,
     "metadata": {},
     "output_type": "execute_result"
    }
   ],
   "source": [
    "t2 = tf.constant(mb)\n",
    "t2"
   ]
  },
  {
   "cell_type": "code",
   "execution_count": 46,
   "id": "903ff4b4-aa52-4e21-9934-04e66c05ceb0",
   "metadata": {},
   "outputs": [
    {
     "data": {
      "text/plain": [
       "<tf.Tensor: shape=(2, 2), dtype=int32, numpy=\n",
       "array([[ 58,  64],\n",
       "       [139, 154]], dtype=int32)>"
      ]
     },
     "execution_count": 46,
     "metadata": {},
     "output_type": "execute_result"
    }
   ],
   "source": [
    "tf.matmul(ma,mb)"
   ]
  },
  {
   "cell_type": "markdown",
   "id": "8fcb5601-cc52-4bb5-976d-4ee1ab5bebe2",
   "metadata": {},
   "source": [
    "## Reshaping tensor shapes in order to multiply"
   ]
  },
  {
   "cell_type": "code",
   "execution_count": 47,
   "id": "807bdc6d-2fb5-4a9e-8969-c471591f9d11",
   "metadata": {},
   "outputs": [
    {
     "data": {
      "text/plain": [
       "(<tf.Tensor: shape=(4, 3), dtype=int32, numpy=\n",
       " array([[1, 2, 3],\n",
       "        [2, 3, 4],\n",
       "        [3, 4, 5],\n",
       "        [4, 5, 6]], dtype=int32)>,\n",
       " <tf.Tensor: shape=(6, 2), dtype=int32, numpy=\n",
       " array([[2, 3],\n",
       "        [3, 4],\n",
       "        [4, 5],\n",
       "        [5, 6],\n",
       "        [6, 7],\n",
       "        [7, 8]], dtype=int32)>)"
      ]
     },
     "execution_count": 47,
     "metadata": {},
     "output_type": "execute_result"
    }
   ],
   "source": [
    "maA = [\n",
    "    [1,2,3],\n",
    "    [2,3,4],\n",
    "    [3,4,5],\n",
    "    [4,5,6]\n",
    "]\n",
    "\n",
    "maB = [\n",
    "    [2,3],\n",
    "    [3,4],\n",
    "    [4,5],\n",
    "    [5,6],\n",
    "    [6,7],\n",
    "    [7,8]\n",
    "]\n",
    "tensorA = tf.constant(maA)\n",
    "tensorB = tf.constant(maB)\n",
    "tensorA, tensorB"
   ]
  },
  {
   "cell_type": "code",
   "execution_count": 48,
   "id": "a8fded02-6b6b-4214-8348-6d67917169cc",
   "metadata": {},
   "outputs": [
    {
     "ename": "InvalidArgumentError",
     "evalue": "{{function_node __wrapped__MatMul_device_/job:localhost/replica:0/task:0/device:CPU:0}} Matrix size-incompatible: In[0]: [4,3], In[1]: [6,2] [Op:MatMul] name: ",
     "output_type": "error",
     "traceback": [
      "\u001b[0;31m---------------------------------------------------------------------------\u001b[0m",
      "\u001b[0;31mInvalidArgumentError\u001b[0m                      Traceback (most recent call last)",
      "Cell \u001b[0;32mIn[48], line 2\u001b[0m\n\u001b[1;32m      1\u001b[0m \u001b[38;5;66;03m# will throw an error:\u001b[39;00m\n\u001b[0;32m----> 2\u001b[0m \u001b[43mtf\u001b[49m\u001b[38;5;241;43m.\u001b[39;49m\u001b[43mmatmul\u001b[49m\u001b[43m(\u001b[49m\u001b[43mtensorA\u001b[49m\u001b[43m,\u001b[49m\u001b[43m \u001b[49m\u001b[43mtensorB\u001b[49m\u001b[43m)\u001b[49m\n",
      "File \u001b[0;32m/opt/conda/lib/python3.11/site-packages/tensorflow/python/util/traceback_utils.py:153\u001b[0m, in \u001b[0;36mfilter_traceback.<locals>.error_handler\u001b[0;34m(*args, **kwargs)\u001b[0m\n\u001b[1;32m    151\u001b[0m \u001b[38;5;28;01mexcept\u001b[39;00m \u001b[38;5;167;01mException\u001b[39;00m \u001b[38;5;28;01mas\u001b[39;00m e:\n\u001b[1;32m    152\u001b[0m   filtered_tb \u001b[38;5;241m=\u001b[39m _process_traceback_frames(e\u001b[38;5;241m.\u001b[39m__traceback__)\n\u001b[0;32m--> 153\u001b[0m   \u001b[38;5;28;01mraise\u001b[39;00m e\u001b[38;5;241m.\u001b[39mwith_traceback(filtered_tb) \u001b[38;5;28;01mfrom\u001b[39;00m \u001b[38;5;28;01mNone\u001b[39;00m\n\u001b[1;32m    154\u001b[0m \u001b[38;5;28;01mfinally\u001b[39;00m:\n\u001b[1;32m    155\u001b[0m   \u001b[38;5;28;01mdel\u001b[39;00m filtered_tb\n",
      "File \u001b[0;32m/opt/conda/lib/python3.11/site-packages/tensorflow/python/framework/ops.py:5888\u001b[0m, in \u001b[0;36mraise_from_not_ok_status\u001b[0;34m(e, name)\u001b[0m\n\u001b[1;32m   5886\u001b[0m \u001b[38;5;28;01mdef\u001b[39;00m \u001b[38;5;21mraise_from_not_ok_status\u001b[39m(e, name) \u001b[38;5;241m-\u001b[39m\u001b[38;5;241m>\u001b[39m NoReturn:\n\u001b[1;32m   5887\u001b[0m   e\u001b[38;5;241m.\u001b[39mmessage \u001b[38;5;241m+\u001b[39m\u001b[38;5;241m=\u001b[39m (\u001b[38;5;124m\"\u001b[39m\u001b[38;5;124m name: \u001b[39m\u001b[38;5;124m\"\u001b[39m \u001b[38;5;241m+\u001b[39m \u001b[38;5;28mstr\u001b[39m(name \u001b[38;5;28;01mif\u001b[39;00m name \u001b[38;5;129;01mis\u001b[39;00m \u001b[38;5;129;01mnot\u001b[39;00m \u001b[38;5;28;01mNone\u001b[39;00m \u001b[38;5;28;01melse\u001b[39;00m \u001b[38;5;124m\"\u001b[39m\u001b[38;5;124m\"\u001b[39m))\n\u001b[0;32m-> 5888\u001b[0m   \u001b[38;5;28;01mraise\u001b[39;00m core\u001b[38;5;241m.\u001b[39m_status_to_exception(e) \u001b[38;5;28;01mfrom\u001b[39;00m \u001b[38;5;28;01mNone\u001b[39;00m\n",
      "\u001b[0;31mInvalidArgumentError\u001b[0m: {{function_node __wrapped__MatMul_device_/job:localhost/replica:0/task:0/device:CPU:0}} Matrix size-incompatible: In[0]: [4,3], In[1]: [6,2] [Op:MatMul] name: "
     ]
    }
   ],
   "source": [
    "# will throw an error:\n",
    "tf.matmul(tensorA, tensorB)"
   ]
  },
  {
   "cell_type": "code",
   "execution_count": null,
   "id": "7322555f-674c-4ff0-b91c-e20e86b567a1",
   "metadata": {},
   "outputs": [],
   "source": [
    "tensorA.shape, tensorB.shape"
   ]
  },
  {
   "cell_type": "code",
   "execution_count": null,
   "id": "cb768d34-a468-4267-8fbd-2a387e0f559d",
   "metadata": {},
   "outputs": [],
   "source": [
    "reshapedB = tf.reshape(tensorB, shape=(3,4))\n",
    "reshapedB"
   ]
  },
  {
   "cell_type": "code",
   "execution_count": null,
   "id": "46b03128-251f-42ed-9a3e-a652dac9e83c",
   "metadata": {},
   "outputs": [],
   "source": [
    "# NOW it should multiply\n",
    "tf.matmul(tensorA, reshapedB)"
   ]
  },
  {
   "cell_type": "markdown",
   "id": "10217175-bfb1-4d06-9a50-69622686cd31",
   "metadata": {},
   "source": [
    "## Transposing Tensors"
   ]
  },
  {
   "cell_type": "code",
   "execution_count": null,
   "id": "00529718-6398-432b-8043-3fc98f197887",
   "metadata": {},
   "outputs": [],
   "source": [
    "tensorB, reshapedB"
   ]
  },
  {
   "cell_type": "code",
   "execution_count": null,
   "id": "995980d7-7b16-4427-95f2-b361e11cc9cf",
   "metadata": {},
   "outputs": [],
   "source": [
    "transposedB = tf.transpose(tensorB)\n",
    "transposedB"
   ]
  },
  {
   "cell_type": "markdown",
   "id": "a7edcbc8-590e-470b-8345-7b27e47771cc",
   "metadata": {},
   "source": [
    "## The Dot Product\n",
    "Matrix multiplication is also known as `the dot product`.  \n",
    "[tf.tensordot](https://www.tensorflow.org/api_docs/python/tf/tensordot) can be used to multiply tensors as well..."
   ]
  },
  {
   "cell_type": "code",
   "execution_count": null,
   "id": "3a767d66-33db-4a46-b04a-53d7433cfd7a",
   "metadata": {},
   "outputs": [],
   "source": [
    "smallA = [\n",
    "    [1,2],\n",
    "    [3,4],\n",
    "    [5,6]\n",
    "]\n",
    "\n",
    "smallB = [\n",
    "    [7,8],\n",
    "    [9,10],\n",
    "    [11,12]\n",
    "]\n",
    "\n",
    "smallATensor = tf.constant(smallA)\n",
    "smallBTensor = tf.constant(smallB)\n",
    "smallATensor, smallBTensor"
   ]
  },
  {
   "cell_type": "code",
   "execution_count": null,
   "id": "e97c29da-7147-4eda-a6c1-a69e59d5b874",
   "metadata": {},
   "outputs": [],
   "source": [
    "# \n",
    "# Transpose smallA\n",
    "# \n",
    "transposedSmallA = tf.transpose(smallATensor)\n",
    "\n",
    "# \n",
    "# Transpose smallB\n",
    "# \n",
    "transposedSmallB = tf.transpose(smallBTensor)\n",
    "\n",
    "\n",
    "# \n",
    "# Reshape smallA\n",
    "# \n",
    "reshapedSmallA = tf.reshape(smallATensor, shape=(2,3))\n",
    "\n",
    "# \n",
    "# Reshape smallB\n",
    "# \n",
    "reshapedSmallB = tf.reshape(smallBTensor, shape=(2,3))\n",
    "\n",
    "print('----INSPECTING RESULTS----')\n",
    "print('of tf.transpose && tf.reshape')\n",
    "print('----- -----')\n",
    "print(f'smallA: {smallA}')\n",
    "print(f'transposedSmallA: {transposedSmallA}')\n",
    "print(f'reshapedSmallA: {reshapedSmallA}')"
   ]
  },
  {
   "cell_type": "code",
   "execution_count": null,
   "id": "171b4e74-39c0-4240-b14d-a7b18fad16df",
   "metadata": {},
   "outputs": [],
   "source": [
    "# \n",
    "# Multiply Matrixes: tensordot & transposed\n",
    "# \n",
    "tf.tensordot(transposedSmallA, smallBTensor, axes=1)"
   ]
  },
  {
   "cell_type": "code",
   "execution_count": null,
   "id": "e3671854-10fe-4df8-9e79-8dad364d7234",
   "metadata": {},
   "outputs": [],
   "source": [
    "# \n",
    "# Multiply Matrixes: matmul & reshaped\n",
    "# \n",
    "tf.matmul(smallATensor, reshapedSmallB)"
   ]
  },
  {
   "cell_type": "code",
   "execution_count": null,
   "id": "ba9f55d4-0967-4253-94f6-ecec6b3a636f",
   "metadata": {},
   "outputs": [],
   "source": []
  }
 ],
 "metadata": {
  "kernelspec": {
   "display_name": "Python 3 (ipykernel)",
   "language": "python",
   "name": "python3"
  },
  "language_info": {
   "codemirror_mode": {
    "name": "ipython",
    "version": 3
   },
   "file_extension": ".py",
   "mimetype": "text/x-python",
   "name": "python",
   "nbconvert_exporter": "python",
   "pygments_lexer": "ipython3",
   "version": "3.11.6"
  }
 },
 "nbformat": 4,
 "nbformat_minor": 5
}
