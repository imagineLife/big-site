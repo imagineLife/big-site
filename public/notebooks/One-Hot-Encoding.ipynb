{
 "cells": [
  {
   "cell_type": "markdown",
   "id": "d2c3226c-6fcb-43a2-afb9-a8944781a45d",
   "metadata": {},
   "source": [
    "# One-Hot-Encoding\n",
    "\n",
    "## About\n",
    "One-Hot Encoding takes many different tags/labels/categories and \"reduces\" them into Zeros-and-Ones.  \n",
    "Take for example a list of colors, `['red','green','blue']`:  \n",
    "\n",
    "|red|blue|green|\n",
    "|:--|:--|:--|\n",
    "|1|0|0|\n",
    "|0|1|0|\n",
    "|0|0|1|\n",
    "\n",
    "Red could look like 100.  \n",
    "Blue could look like 010.  \n",
    "Green could look like 001.  \n",
    "\n"
   ]
  },
  {
   "cell_type": "code",
   "execution_count": 11,
   "id": "a04259d5-e131-47a7-8c7a-efba1fc32d36",
   "metadata": {},
   "outputs": [
    {
     "name": "stdout",
     "output_type": "stream",
     "text": [
      "colors: ['red', 'green', 'blue']\n",
      "oneHotReadyColors: [0, 1, 2]\n"
     ]
    }
   ],
   "source": [
    "import tensorflow as tf\n",
    "## Using Tensorflow\n",
    "colors = ['red','green','blue']\n",
    "\n",
    "def toListOfNums(input_list):\n",
    "    unique_elements_count = len(set(input_list))\n",
    "    return list(range(unique_elements_count))\n",
    "\n",
    "oneHotReadyColors = toListOfNums(colors)\n",
    "print(f'colors: {colors}')\n",
    "print(f'oneHotReadyColors: {oneHotReadyColors}')"
   ]
  },
  {
   "cell_type": "code",
   "execution_count": 12,
   "id": "dfb02726-fa60-42e0-973f-e555a920b9e7",
   "metadata": {},
   "outputs": [
    {
     "data": {
      "text/plain": [
       "<tf.Tensor: shape=(3, 3), dtype=float32, numpy=\n",
       "array([[1., 0., 0.],\n",
       "       [0., 1., 0.],\n",
       "       [0., 0., 1.]], dtype=float32)>"
      ]
     },
     "execution_count": 12,
     "metadata": {},
     "output_type": "execute_result"
    }
   ],
   "source": [
    "oheColors = tf.one_hot(oneHotReadyColors, depth=len(colors))\n",
    "oheColors"
   ]
  },
  {
   "cell_type": "code",
   "execution_count": null,
   "id": "ea029f59-5d3c-40a3-9026-93e5ce34c52f",
   "metadata": {},
   "outputs": [],
   "source": []
  }
 ],
 "metadata": {
  "kernelspec": {
   "display_name": "Python 3 (ipykernel)",
   "language": "python",
   "name": "python3"
  },
  "language_info": {
   "codemirror_mode": {
    "name": "ipython",
    "version": 3
   },
   "file_extension": ".py",
   "mimetype": "text/x-python",
   "name": "python",
   "nbconvert_exporter": "python",
   "pygments_lexer": "ipython3",
   "version": "3.11.6"
  }
 },
 "nbformat": 4,
 "nbformat_minor": 5
}
