{
 "cells": [
  {
   "cell_type": "markdown",
   "id": "3a056424-a343-42ee-aac6-160aa79e8abe",
   "metadata": {},
   "source": [
    "# Modeling And Wrangling\n",
    "Here, python libraries will be used to do some data wrangling prior to building a model:\n",
    "- **Download Data from the internet**: with pandas `read_csv` we can pass a url that returns a csv\n",
    "- **preview downloaded data** with the pandas `head()` method\n",
    "- **Normalize Data Values** with sklearn `MinMaxScaler` and `OneHotEncoder`\n",
    "- **Split data into training & testing** with sklearn `train_test_split`\n",
    "\n",
    "In this example, some data about medical insurance will be downloaded, wrangled, and used to build a machine-learning model that can predict insurance costs based on `age`, `sex`, `bmi`, `children`, `smoking_status` and `residential_region`"
   ]
  },
  {
   "cell_type": "code",
   "execution_count": 1,
   "id": "45a8bc4f-4551-40e6-af42-d8692a740671",
   "metadata": {},
   "outputs": [],
   "source": [
    "import tensorflow as tf\n",
    "import pandas as pd\n",
    "import numpy as np\n",
    "import matplotlib.pyplot as plt\n",
    "from sklearn.compose import make_column_transformer\n",
    "from sklearn.preprocessing import MinMaxScaler, OneHotEncoder\n",
    "from sklearn.model_selection import train_test_split"
   ]
  },
  {
   "cell_type": "markdown",
   "id": "d7e9a735-5ad6-46af-b09f-fe407e1a014d",
   "metadata": {},
   "source": [
    "## Download Some Data"
   ]
  },
  {
   "cell_type": "code",
   "execution_count": 2,
   "id": "c623aa66-55db-4775-b63a-c1b1eba38d91",
   "metadata": {},
   "outputs": [
    {
     "data": {
      "text/html": [
       "<div>\n",
       "<style scoped>\n",
       "    .dataframe tbody tr th:only-of-type {\n",
       "        vertical-align: middle;\n",
       "    }\n",
       "\n",
       "    .dataframe tbody tr th {\n",
       "        vertical-align: top;\n",
       "    }\n",
       "\n",
       "    .dataframe thead th {\n",
       "        text-align: right;\n",
       "    }\n",
       "</style>\n",
       "<table border=\"1\" class=\"dataframe\">\n",
       "  <thead>\n",
       "    <tr style=\"text-align: right;\">\n",
       "      <th></th>\n",
       "      <th>age</th>\n",
       "      <th>sex</th>\n",
       "      <th>bmi</th>\n",
       "      <th>children</th>\n",
       "      <th>smoker</th>\n",
       "      <th>region</th>\n",
       "      <th>charges</th>\n",
       "    </tr>\n",
       "  </thead>\n",
       "  <tbody>\n",
       "    <tr>\n",
       "      <th>0</th>\n",
       "      <td>19</td>\n",
       "      <td>female</td>\n",
       "      <td>27.900</td>\n",
       "      <td>0</td>\n",
       "      <td>yes</td>\n",
       "      <td>southwest</td>\n",
       "      <td>16884.92400</td>\n",
       "    </tr>\n",
       "    <tr>\n",
       "      <th>1</th>\n",
       "      <td>18</td>\n",
       "      <td>male</td>\n",
       "      <td>33.770</td>\n",
       "      <td>1</td>\n",
       "      <td>no</td>\n",
       "      <td>southeast</td>\n",
       "      <td>1725.55230</td>\n",
       "    </tr>\n",
       "    <tr>\n",
       "      <th>2</th>\n",
       "      <td>28</td>\n",
       "      <td>male</td>\n",
       "      <td>33.000</td>\n",
       "      <td>3</td>\n",
       "      <td>no</td>\n",
       "      <td>southeast</td>\n",
       "      <td>4449.46200</td>\n",
       "    </tr>\n",
       "    <tr>\n",
       "      <th>3</th>\n",
       "      <td>33</td>\n",
       "      <td>male</td>\n",
       "      <td>22.705</td>\n",
       "      <td>0</td>\n",
       "      <td>no</td>\n",
       "      <td>northwest</td>\n",
       "      <td>21984.47061</td>\n",
       "    </tr>\n",
       "    <tr>\n",
       "      <th>4</th>\n",
       "      <td>32</td>\n",
       "      <td>male</td>\n",
       "      <td>28.880</td>\n",
       "      <td>0</td>\n",
       "      <td>no</td>\n",
       "      <td>northwest</td>\n",
       "      <td>3866.85520</td>\n",
       "    </tr>\n",
       "  </tbody>\n",
       "</table>\n",
       "</div>"
      ],
      "text/plain": [
       "   age     sex     bmi  children smoker     region      charges\n",
       "0   19  female  27.900         0    yes  southwest  16884.92400\n",
       "1   18    male  33.770         1     no  southeast   1725.55230\n",
       "2   28    male  33.000         3     no  southeast   4449.46200\n",
       "3   33    male  22.705         0     no  northwest  21984.47061\n",
       "4   32    male  28.880         0     no  northwest   3866.85520"
      ]
     },
     "execution_count": 2,
     "metadata": {},
     "output_type": "execute_result"
    }
   ],
   "source": [
    "dataUrl = \"https://raw.githubusercontent.com/stedy/Machine-Learning-with-R-datasets/master/insurance.csv\"\n",
    "dataFromWeb = pd.read_csv(dataUrl)\n",
    "dataFromWeb.head()"
   ]
  },
  {
   "cell_type": "markdown",
   "id": "cabb23da-7067-4070-abd2-51e7031118ae",
   "metadata": {},
   "source": [
    "## Create Number-Only Data with One-Hot-Encoding"
   ]
  },
  {
   "cell_type": "code",
   "execution_count": 3,
   "id": "dc6dc2ce-44b4-4c26-84a6-87f8d20eaef7",
   "metadata": {},
   "outputs": [
    {
     "data": {
      "text/html": [
       "<div>\n",
       "<style scoped>\n",
       "    .dataframe tbody tr th:only-of-type {\n",
       "        vertical-align: middle;\n",
       "    }\n",
       "\n",
       "    .dataframe tbody tr th {\n",
       "        vertical-align: top;\n",
       "    }\n",
       "\n",
       "    .dataframe thead th {\n",
       "        text-align: right;\n",
       "    }\n",
       "</style>\n",
       "<table border=\"1\" class=\"dataframe\">\n",
       "  <thead>\n",
       "    <tr style=\"text-align: right;\">\n",
       "      <th></th>\n",
       "      <th>age</th>\n",
       "      <th>bmi</th>\n",
       "      <th>children</th>\n",
       "      <th>charges</th>\n",
       "      <th>sex_female</th>\n",
       "      <th>sex_male</th>\n",
       "      <th>smoker_no</th>\n",
       "      <th>smoker_yes</th>\n",
       "      <th>region_northeast</th>\n",
       "      <th>region_northwest</th>\n",
       "      <th>region_southeast</th>\n",
       "      <th>region_southwest</th>\n",
       "    </tr>\n",
       "  </thead>\n",
       "  <tbody>\n",
       "    <tr>\n",
       "      <th>0</th>\n",
       "      <td>19</td>\n",
       "      <td>27.900</td>\n",
       "      <td>0</td>\n",
       "      <td>16884.92400</td>\n",
       "      <td>True</td>\n",
       "      <td>False</td>\n",
       "      <td>False</td>\n",
       "      <td>True</td>\n",
       "      <td>False</td>\n",
       "      <td>False</td>\n",
       "      <td>False</td>\n",
       "      <td>True</td>\n",
       "    </tr>\n",
       "    <tr>\n",
       "      <th>1</th>\n",
       "      <td>18</td>\n",
       "      <td>33.770</td>\n",
       "      <td>1</td>\n",
       "      <td>1725.55230</td>\n",
       "      <td>False</td>\n",
       "      <td>True</td>\n",
       "      <td>True</td>\n",
       "      <td>False</td>\n",
       "      <td>False</td>\n",
       "      <td>False</td>\n",
       "      <td>True</td>\n",
       "      <td>False</td>\n",
       "    </tr>\n",
       "    <tr>\n",
       "      <th>2</th>\n",
       "      <td>28</td>\n",
       "      <td>33.000</td>\n",
       "      <td>3</td>\n",
       "      <td>4449.46200</td>\n",
       "      <td>False</td>\n",
       "      <td>True</td>\n",
       "      <td>True</td>\n",
       "      <td>False</td>\n",
       "      <td>False</td>\n",
       "      <td>False</td>\n",
       "      <td>True</td>\n",
       "      <td>False</td>\n",
       "    </tr>\n",
       "    <tr>\n",
       "      <th>3</th>\n",
       "      <td>33</td>\n",
       "      <td>22.705</td>\n",
       "      <td>0</td>\n",
       "      <td>21984.47061</td>\n",
       "      <td>False</td>\n",
       "      <td>True</td>\n",
       "      <td>True</td>\n",
       "      <td>False</td>\n",
       "      <td>False</td>\n",
       "      <td>True</td>\n",
       "      <td>False</td>\n",
       "      <td>False</td>\n",
       "    </tr>\n",
       "    <tr>\n",
       "      <th>4</th>\n",
       "      <td>32</td>\n",
       "      <td>28.880</td>\n",
       "      <td>0</td>\n",
       "      <td>3866.85520</td>\n",
       "      <td>False</td>\n",
       "      <td>True</td>\n",
       "      <td>True</td>\n",
       "      <td>False</td>\n",
       "      <td>False</td>\n",
       "      <td>True</td>\n",
       "      <td>False</td>\n",
       "      <td>False</td>\n",
       "    </tr>\n",
       "  </tbody>\n",
       "</table>\n",
       "</div>"
      ],
      "text/plain": [
       "   age     bmi  children      charges  sex_female  sex_male  smoker_no  \\\n",
       "0   19  27.900         0  16884.92400        True     False      False   \n",
       "1   18  33.770         1   1725.55230       False      True       True   \n",
       "2   28  33.000         3   4449.46200       False      True       True   \n",
       "3   33  22.705         0  21984.47061       False      True       True   \n",
       "4   32  28.880         0   3866.85520       False      True       True   \n",
       "\n",
       "   smoker_yes  region_northeast  region_northwest  region_southeast  \\\n",
       "0        True             False             False             False   \n",
       "1       False             False             False              True   \n",
       "2       False             False             False              True   \n",
       "3       False             False              True             False   \n",
       "4       False             False              True             False   \n",
       "\n",
       "   region_southwest  \n",
       "0              True  \n",
       "1             False  \n",
       "2             False  \n",
       "3             False  \n",
       "4             False  "
      ]
     },
     "execution_count": 3,
     "metadata": {},
     "output_type": "execute_result"
    }
   ],
   "source": [
    "oheEncodedData = pd.get_dummies(dataFromWeb)\n",
    "oheEncodedData.head()"
   ]
  },
  {
   "cell_type": "markdown",
   "id": "4a6cf34a-e48d-4879-b576-b9dd65b5f76b",
   "metadata": {},
   "source": [
    "## Split Data: Features & Labels\n",
    "The `charges` column represent the dependent variable here: the `labels`.  \n",
    "All the others represent independent variables, the `features`.  "
   ]
  },
  {
   "cell_type": "code",
   "execution_count": 4,
   "id": "74344036-ef64-4078-b29d-b31ebf237163",
   "metadata": {},
   "outputs": [
    {
     "data": {
      "text/html": [
       "<div>\n",
       "<style scoped>\n",
       "    .dataframe tbody tr th:only-of-type {\n",
       "        vertical-align: middle;\n",
       "    }\n",
       "\n",
       "    .dataframe tbody tr th {\n",
       "        vertical-align: top;\n",
       "    }\n",
       "\n",
       "    .dataframe thead th {\n",
       "        text-align: right;\n",
       "    }\n",
       "</style>\n",
       "<table border=\"1\" class=\"dataframe\">\n",
       "  <thead>\n",
       "    <tr style=\"text-align: right;\">\n",
       "      <th></th>\n",
       "      <th>age</th>\n",
       "      <th>bmi</th>\n",
       "      <th>children</th>\n",
       "      <th>sex_female</th>\n",
       "      <th>sex_male</th>\n",
       "      <th>smoker_no</th>\n",
       "      <th>smoker_yes</th>\n",
       "      <th>region_northeast</th>\n",
       "      <th>region_northwest</th>\n",
       "      <th>region_southeast</th>\n",
       "      <th>region_southwest</th>\n",
       "    </tr>\n",
       "  </thead>\n",
       "  <tbody>\n",
       "    <tr>\n",
       "      <th>0</th>\n",
       "      <td>19</td>\n",
       "      <td>27.900</td>\n",
       "      <td>0</td>\n",
       "      <td>True</td>\n",
       "      <td>False</td>\n",
       "      <td>False</td>\n",
       "      <td>True</td>\n",
       "      <td>False</td>\n",
       "      <td>False</td>\n",
       "      <td>False</td>\n",
       "      <td>True</td>\n",
       "    </tr>\n",
       "    <tr>\n",
       "      <th>1</th>\n",
       "      <td>18</td>\n",
       "      <td>33.770</td>\n",
       "      <td>1</td>\n",
       "      <td>False</td>\n",
       "      <td>True</td>\n",
       "      <td>True</td>\n",
       "      <td>False</td>\n",
       "      <td>False</td>\n",
       "      <td>False</td>\n",
       "      <td>True</td>\n",
       "      <td>False</td>\n",
       "    </tr>\n",
       "    <tr>\n",
       "      <th>2</th>\n",
       "      <td>28</td>\n",
       "      <td>33.000</td>\n",
       "      <td>3</td>\n",
       "      <td>False</td>\n",
       "      <td>True</td>\n",
       "      <td>True</td>\n",
       "      <td>False</td>\n",
       "      <td>False</td>\n",
       "      <td>False</td>\n",
       "      <td>True</td>\n",
       "      <td>False</td>\n",
       "    </tr>\n",
       "    <tr>\n",
       "      <th>3</th>\n",
       "      <td>33</td>\n",
       "      <td>22.705</td>\n",
       "      <td>0</td>\n",
       "      <td>False</td>\n",
       "      <td>True</td>\n",
       "      <td>True</td>\n",
       "      <td>False</td>\n",
       "      <td>False</td>\n",
       "      <td>True</td>\n",
       "      <td>False</td>\n",
       "      <td>False</td>\n",
       "    </tr>\n",
       "    <tr>\n",
       "      <th>4</th>\n",
       "      <td>32</td>\n",
       "      <td>28.880</td>\n",
       "      <td>0</td>\n",
       "      <td>False</td>\n",
       "      <td>True</td>\n",
       "      <td>True</td>\n",
       "      <td>False</td>\n",
       "      <td>False</td>\n",
       "      <td>True</td>\n",
       "      <td>False</td>\n",
       "      <td>False</td>\n",
       "    </tr>\n",
       "  </tbody>\n",
       "</table>\n",
       "</div>"
      ],
      "text/plain": [
       "   age     bmi  children  sex_female  sex_male  smoker_no  smoker_yes  \\\n",
       "0   19  27.900         0        True     False      False        True   \n",
       "1   18  33.770         1       False      True       True       False   \n",
       "2   28  33.000         3       False      True       True       False   \n",
       "3   33  22.705         0       False      True       True       False   \n",
       "4   32  28.880         0       False      True       True       False   \n",
       "\n",
       "   region_northeast  region_northwest  region_southeast  region_southwest  \n",
       "0             False             False             False              True  \n",
       "1             False             False              True             False  \n",
       "2             False             False              True             False  \n",
       "3             False              True             False             False  \n",
       "4             False              True             False             False  "
      ]
     },
     "execution_count": 4,
     "metadata": {},
     "output_type": "execute_result"
    }
   ],
   "source": [
    "labelField = 'charges'\n",
    "featureData = oheEncodedData.drop(labelField, axis=1)\n",
    "labelData = oheEncodedData[labelField]\n",
    "featureData.head()"
   ]
  },
  {
   "cell_type": "markdown",
   "id": "e27cb9d0-8bbc-4b51-a554-410aa349b360",
   "metadata": {},
   "source": [
    "## Split Data: Train & test"
   ]
  },
  {
   "cell_type": "code",
   "execution_count": 5,
   "id": "696ee60a-29fb-47a1-81e3-ef00b73c321e",
   "metadata": {},
   "outputs": [],
   "source": [
    "testDataPercentage = .2 # how much of our data should we use for \"testing\"\n",
    "randomVal = 42\n",
    "feature_training_data, feature_testing_data, label_training_data, label_testing_data = train_test_split(featureData, \n",
    "                                                    labelData, \n",
    "                                                    test_size=testDataPercentage, \n",
    "                                                    random_state=randomVal) # set random state for reproducible splits"
   ]
  },
  {
   "cell_type": "code",
   "execution_count": 6,
   "id": "bd43b7a1-2493-4c1c-8e7c-4a160cfee378",
   "metadata": {},
   "outputs": [
    {
     "data": {
      "text/html": [
       "<div>\n",
       "<style scoped>\n",
       "    .dataframe tbody tr th:only-of-type {\n",
       "        vertical-align: middle;\n",
       "    }\n",
       "\n",
       "    .dataframe tbody tr th {\n",
       "        vertical-align: top;\n",
       "    }\n",
       "\n",
       "    .dataframe thead th {\n",
       "        text-align: right;\n",
       "    }\n",
       "</style>\n",
       "<table border=\"1\" class=\"dataframe\">\n",
       "  <thead>\n",
       "    <tr style=\"text-align: right;\">\n",
       "      <th></th>\n",
       "      <th>age</th>\n",
       "      <th>bmi</th>\n",
       "      <th>children</th>\n",
       "      <th>sex_female</th>\n",
       "      <th>sex_male</th>\n",
       "      <th>smoker_no</th>\n",
       "      <th>smoker_yes</th>\n",
       "      <th>region_northeast</th>\n",
       "      <th>region_northwest</th>\n",
       "      <th>region_southeast</th>\n",
       "      <th>region_southwest</th>\n",
       "    </tr>\n",
       "  </thead>\n",
       "  <tbody>\n",
       "    <tr>\n",
       "      <th>560</th>\n",
       "      <td>46</td>\n",
       "      <td>19.95</td>\n",
       "      <td>2</td>\n",
       "      <td>True</td>\n",
       "      <td>False</td>\n",
       "      <td>True</td>\n",
       "      <td>False</td>\n",
       "      <td>False</td>\n",
       "      <td>True</td>\n",
       "      <td>False</td>\n",
       "      <td>False</td>\n",
       "    </tr>\n",
       "    <tr>\n",
       "      <th>1285</th>\n",
       "      <td>47</td>\n",
       "      <td>24.32</td>\n",
       "      <td>0</td>\n",
       "      <td>True</td>\n",
       "      <td>False</td>\n",
       "      <td>True</td>\n",
       "      <td>False</td>\n",
       "      <td>True</td>\n",
       "      <td>False</td>\n",
       "      <td>False</td>\n",
       "      <td>False</td>\n",
       "    </tr>\n",
       "    <tr>\n",
       "      <th>1142</th>\n",
       "      <td>52</td>\n",
       "      <td>24.86</td>\n",
       "      <td>0</td>\n",
       "      <td>True</td>\n",
       "      <td>False</td>\n",
       "      <td>True</td>\n",
       "      <td>False</td>\n",
       "      <td>False</td>\n",
       "      <td>False</td>\n",
       "      <td>True</td>\n",
       "      <td>False</td>\n",
       "    </tr>\n",
       "    <tr>\n",
       "      <th>969</th>\n",
       "      <td>39</td>\n",
       "      <td>34.32</td>\n",
       "      <td>5</td>\n",
       "      <td>True</td>\n",
       "      <td>False</td>\n",
       "      <td>True</td>\n",
       "      <td>False</td>\n",
       "      <td>False</td>\n",
       "      <td>False</td>\n",
       "      <td>True</td>\n",
       "      <td>False</td>\n",
       "    </tr>\n",
       "    <tr>\n",
       "      <th>486</th>\n",
       "      <td>54</td>\n",
       "      <td>21.47</td>\n",
       "      <td>3</td>\n",
       "      <td>True</td>\n",
       "      <td>False</td>\n",
       "      <td>True</td>\n",
       "      <td>False</td>\n",
       "      <td>False</td>\n",
       "      <td>True</td>\n",
       "      <td>False</td>\n",
       "      <td>False</td>\n",
       "    </tr>\n",
       "  </tbody>\n",
       "</table>\n",
       "</div>"
      ],
      "text/plain": [
       "      age    bmi  children  sex_female  sex_male  smoker_no  smoker_yes  \\\n",
       "560    46  19.95         2        True     False       True       False   \n",
       "1285   47  24.32         0        True     False       True       False   \n",
       "1142   52  24.86         0        True     False       True       False   \n",
       "969    39  34.32         5        True     False       True       False   \n",
       "486    54  21.47         3        True     False       True       False   \n",
       "\n",
       "      region_northeast  region_northwest  region_southeast  region_southwest  \n",
       "560              False              True             False             False  \n",
       "1285              True             False             False             False  \n",
       "1142             False             False              True             False  \n",
       "969              False             False              True             False  \n",
       "486              False              True             False             False  "
      ]
     },
     "execution_count": 6,
     "metadata": {},
     "output_type": "execute_result"
    }
   ],
   "source": [
    "feature_training_data.head()"
   ]
  },
  {
   "cell_type": "code",
   "execution_count": 7,
   "id": "8f5fdec2-98a3-440e-91d8-af95a419665f",
   "metadata": {},
   "outputs": [
    {
     "data": {
      "text/plain": [
       "560      9193.83850\n",
       "1285     8534.67180\n",
       "1142    27117.99378\n",
       "969      8596.82780\n",
       "486     12475.35130\n",
       "Name: charges, dtype: float64"
      ]
     },
     "execution_count": 7,
     "metadata": {},
     "output_type": "execute_result"
    }
   ],
   "source": [
    "label_training_data.head()"
   ]
  },
  {
   "cell_type": "markdown",
   "id": "129b3b70-74bc-4122-94de-9ba906e1a7a0",
   "metadata": {},
   "source": [
    "## Create A Model"
   ]
  },
  {
   "cell_type": "code",
   "execution_count": 8,
   "id": "9abd4d1b-497b-41a6-8b37-04abd43de803",
   "metadata": {},
   "outputs": [
    {
     "name": "stdout",
     "output_type": "stream",
     "text": [
      "Epoch 1/100\n",
      "34/34 [==============================] - 1s 5ms/step - loss: 12929.0977 - mae: 12929.0977\n",
      "Epoch 2/100\n",
      "34/34 [==============================] - 0s 5ms/step - loss: 12084.2998 - mae: 12084.2998\n",
      "Epoch 3/100\n",
      "34/34 [==============================] - 0s 4ms/step - loss: 11257.6836 - mae: 11257.6836\n",
      "Epoch 4/100\n",
      "34/34 [==============================] - 0s 5ms/step - loss: 10501.6211 - mae: 10501.6211\n",
      "Epoch 5/100\n",
      "34/34 [==============================] - 0s 4ms/step - loss: 9854.5127 - mae: 9854.5127\n",
      "Epoch 6/100\n",
      "34/34 [==============================] - 0s 4ms/step - loss: 9307.1348 - mae: 9307.1348\n",
      "Epoch 7/100\n",
      "34/34 [==============================] - 0s 4ms/step - loss: 8834.4043 - mae: 8834.4043\n",
      "Epoch 8/100\n",
      "34/34 [==============================] - 0s 4ms/step - loss: 8449.6650 - mae: 8449.6650\n",
      "Epoch 9/100\n",
      "34/34 [==============================] - 0s 4ms/step - loss: 8144.5552 - mae: 8144.5552\n",
      "Epoch 10/100\n",
      "34/34 [==============================] - 0s 4ms/step - loss: 7902.4521 - mae: 7902.4521\n",
      "Epoch 11/100\n",
      "34/34 [==============================] - 0s 4ms/step - loss: 7714.7314 - mae: 7714.7314\n",
      "Epoch 12/100\n",
      "34/34 [==============================] - 0s 4ms/step - loss: 7582.1240 - mae: 7582.1240\n",
      "Epoch 13/100\n",
      "34/34 [==============================] - 0s 4ms/step - loss: 7493.8091 - mae: 7493.8091\n",
      "Epoch 14/100\n",
      "34/34 [==============================] - 0s 4ms/step - loss: 7433.5542 - mae: 7433.5542\n",
      "Epoch 15/100\n",
      "34/34 [==============================] - 0s 4ms/step - loss: 7393.4766 - mae: 7393.4766\n",
      "Epoch 16/100\n",
      "34/34 [==============================] - 0s 5ms/step - loss: 7362.8184 - mae: 7362.8184\n",
      "Epoch 17/100\n",
      "34/34 [==============================] - 0s 4ms/step - loss: 7341.7515 - mae: 7341.7515\n",
      "Epoch 18/100\n",
      "34/34 [==============================] - 0s 5ms/step - loss: 7326.7085 - mae: 7326.7085\n",
      "Epoch 19/100\n",
      "34/34 [==============================] - 0s 4ms/step - loss: 7314.8198 - mae: 7314.8198\n",
      "Epoch 20/100\n",
      "34/34 [==============================] - 0s 5ms/step - loss: 7305.0923 - mae: 7305.0923\n",
      "Epoch 21/100\n",
      "34/34 [==============================] - 0s 5ms/step - loss: 7296.5908 - mae: 7296.5908\n",
      "Epoch 22/100\n",
      "34/34 [==============================] - 0s 6ms/step - loss: 7290.1104 - mae: 7290.1104\n",
      "Epoch 23/100\n",
      "34/34 [==============================] - 0s 5ms/step - loss: 7285.4897 - mae: 7285.4897\n",
      "Epoch 24/100\n",
      "34/34 [==============================] - 0s 5ms/step - loss: 7281.0742 - mae: 7281.0742\n",
      "Epoch 25/100\n",
      "34/34 [==============================] - 0s 6ms/step - loss: 7276.6904 - mae: 7276.6904\n",
      "Epoch 26/100\n",
      "34/34 [==============================] - 0s 5ms/step - loss: 7272.5249 - mae: 7272.5249\n",
      "Epoch 27/100\n",
      "34/34 [==============================] - 0s 4ms/step - loss: 7268.4888 - mae: 7268.4888\n",
      "Epoch 28/100\n",
      "34/34 [==============================] - 0s 4ms/step - loss: 7264.3525 - mae: 7264.3525\n",
      "Epoch 29/100\n",
      "34/34 [==============================] - 0s 4ms/step - loss: 7260.4541 - mae: 7260.4541\n",
      "Epoch 30/100\n",
      "34/34 [==============================] - 0s 4ms/step - loss: 7256.5405 - mae: 7256.5405\n",
      "Epoch 31/100\n",
      "34/34 [==============================] - 0s 5ms/step - loss: 7252.4370 - mae: 7252.4370\n",
      "Epoch 32/100\n",
      "34/34 [==============================] - 0s 5ms/step - loss: 7248.7378 - mae: 7248.7378\n",
      "Epoch 33/100\n",
      "34/34 [==============================] - 0s 4ms/step - loss: 7244.6558 - mae: 7244.6558\n",
      "Epoch 34/100\n",
      "34/34 [==============================] - 0s 5ms/step - loss: 7240.7632 - mae: 7240.7632\n",
      "Epoch 35/100\n",
      "34/34 [==============================] - 0s 4ms/step - loss: 7237.0293 - mae: 7237.0293\n",
      "Epoch 36/100\n",
      "34/34 [==============================] - 0s 4ms/step - loss: 7233.1123 - mae: 7233.1123\n",
      "Epoch 37/100\n",
      "34/34 [==============================] - 0s 4ms/step - loss: 7229.2168 - mae: 7229.2168\n",
      "Epoch 38/100\n",
      "34/34 [==============================] - 0s 4ms/step - loss: 7225.4897 - mae: 7225.4897\n",
      "Epoch 39/100\n",
      "34/34 [==============================] - 0s 4ms/step - loss: 7221.4600 - mae: 7221.4600\n",
      "Epoch 40/100\n",
      "34/34 [==============================] - 0s 4ms/step - loss: 7217.6426 - mae: 7217.6426\n",
      "Epoch 41/100\n",
      "34/34 [==============================] - 0s 4ms/step - loss: 7213.9087 - mae: 7213.9087\n",
      "Epoch 42/100\n",
      "34/34 [==============================] - 0s 4ms/step - loss: 7210.1353 - mae: 7210.1353\n",
      "Epoch 43/100\n",
      "34/34 [==============================] - 0s 4ms/step - loss: 7206.1602 - mae: 7206.1602\n",
      "Epoch 44/100\n",
      "34/34 [==============================] - 0s 4ms/step - loss: 7202.5337 - mae: 7202.5337\n",
      "Epoch 45/100\n",
      "34/34 [==============================] - 0s 4ms/step - loss: 7198.9209 - mae: 7198.9209\n",
      "Epoch 46/100\n",
      "34/34 [==============================] - 0s 4ms/step - loss: 7195.1436 - mae: 7195.1436\n",
      "Epoch 47/100\n",
      "34/34 [==============================] - 0s 4ms/step - loss: 7191.5684 - mae: 7191.5684\n",
      "Epoch 48/100\n",
      "34/34 [==============================] - 0s 4ms/step - loss: 7187.6177 - mae: 7187.6177\n",
      "Epoch 49/100\n",
      "34/34 [==============================] - 0s 4ms/step - loss: 7184.2520 - mae: 7184.2520\n",
      "Epoch 50/100\n",
      "34/34 [==============================] - 0s 4ms/step - loss: 7180.5498 - mae: 7180.5498\n",
      "Epoch 51/100\n",
      "34/34 [==============================] - 0s 4ms/step - loss: 7176.8579 - mae: 7176.8579\n",
      "Epoch 52/100\n",
      "34/34 [==============================] - 0s 4ms/step - loss: 7173.0317 - mae: 7173.0317\n",
      "Epoch 53/100\n",
      "34/34 [==============================] - 0s 4ms/step - loss: 7169.5488 - mae: 7169.5488\n",
      "Epoch 54/100\n",
      "34/34 [==============================] - 0s 4ms/step - loss: 7165.8984 - mae: 7165.8984\n",
      "Epoch 55/100\n",
      "34/34 [==============================] - 0s 4ms/step - loss: 7162.1387 - mae: 7162.1387\n",
      "Epoch 56/100\n",
      "34/34 [==============================] - 0s 5ms/step - loss: 7158.6626 - mae: 7158.6626\n",
      "Epoch 57/100\n",
      "34/34 [==============================] - 0s 5ms/step - loss: 7155.1860 - mae: 7155.1860\n",
      "Epoch 58/100\n",
      "34/34 [==============================] - 0s 5ms/step - loss: 7151.6074 - mae: 7151.6074\n",
      "Epoch 59/100\n",
      "34/34 [==============================] - 0s 5ms/step - loss: 7148.1851 - mae: 7148.1851\n",
      "Epoch 60/100\n",
      "34/34 [==============================] - 0s 6ms/step - loss: 7144.7017 - mae: 7144.7017\n",
      "Epoch 61/100\n",
      "34/34 [==============================] - 0s 5ms/step - loss: 7141.2495 - mae: 7141.2495\n",
      "Epoch 62/100\n",
      "34/34 [==============================] - 0s 4ms/step - loss: 7137.6250 - mae: 7137.6250\n",
      "Epoch 63/100\n",
      "34/34 [==============================] - 0s 4ms/step - loss: 7134.3550 - mae: 7134.3550\n",
      "Epoch 64/100\n",
      "34/34 [==============================] - 0s 5ms/step - loss: 7131.1562 - mae: 7131.1562\n",
      "Epoch 65/100\n",
      "34/34 [==============================] - 0s 5ms/step - loss: 7127.7969 - mae: 7127.7969\n",
      "Epoch 66/100\n",
      "34/34 [==============================] - 0s 4ms/step - loss: 7124.3398 - mae: 7124.3398\n",
      "Epoch 67/100\n",
      "34/34 [==============================] - 0s 5ms/step - loss: 7121.2031 - mae: 7121.2031\n",
      "Epoch 68/100\n",
      "34/34 [==============================] - 0s 4ms/step - loss: 7117.9922 - mae: 7117.9922\n",
      "Epoch 69/100\n",
      "34/34 [==============================] - 0s 4ms/step - loss: 7114.6816 - mae: 7114.6816\n",
      "Epoch 70/100\n",
      "34/34 [==============================] - 0s 5ms/step - loss: 7111.5186 - mae: 7111.5186\n",
      "Epoch 71/100\n",
      "34/34 [==============================] - 0s 5ms/step - loss: 7108.1860 - mae: 7108.1860\n",
      "Epoch 72/100\n",
      "34/34 [==============================] - 0s 5ms/step - loss: 7105.2412 - mae: 7105.2412\n",
      "Epoch 73/100\n",
      "34/34 [==============================] - 0s 5ms/step - loss: 7101.9375 - mae: 7101.9375\n",
      "Epoch 74/100\n",
      "34/34 [==============================] - 0s 5ms/step - loss: 7098.5718 - mae: 7098.5718\n",
      "Epoch 75/100\n",
      "34/34 [==============================] - 0s 4ms/step - loss: 7095.4531 - mae: 7095.4531\n",
      "Epoch 76/100\n",
      "34/34 [==============================] - 0s 4ms/step - loss: 7092.1846 - mae: 7092.1846\n",
      "Epoch 77/100\n",
      "34/34 [==============================] - 0s 4ms/step - loss: 7089.0986 - mae: 7089.0986\n",
      "Epoch 78/100\n",
      "34/34 [==============================] - 0s 4ms/step - loss: 7086.0303 - mae: 7086.0303\n",
      "Epoch 79/100\n",
      "34/34 [==============================] - 0s 4ms/step - loss: 7083.0830 - mae: 7083.0830\n",
      "Epoch 80/100\n",
      "34/34 [==============================] - 0s 4ms/step - loss: 7079.7832 - mae: 7079.7832\n",
      "Epoch 81/100\n",
      "34/34 [==============================] - 0s 4ms/step - loss: 7076.8062 - mae: 7076.8062\n",
      "Epoch 82/100\n",
      "34/34 [==============================] - 0s 4ms/step - loss: 7074.0054 - mae: 7074.0054\n",
      "Epoch 83/100\n",
      "34/34 [==============================] - 0s 4ms/step - loss: 7071.2134 - mae: 7071.2134\n",
      "Epoch 84/100\n",
      "34/34 [==============================] - 0s 4ms/step - loss: 7067.8643 - mae: 7067.8643\n",
      "Epoch 85/100\n",
      "34/34 [==============================] - 0s 4ms/step - loss: 7065.1138 - mae: 7065.1138\n",
      "Epoch 86/100\n",
      "34/34 [==============================] - 0s 4ms/step - loss: 7062.0625 - mae: 7062.0625\n",
      "Epoch 87/100\n",
      "34/34 [==============================] - 0s 5ms/step - loss: 7059.3682 - mae: 7059.3682\n",
      "Epoch 88/100\n",
      "34/34 [==============================] - 0s 5ms/step - loss: 7056.2017 - mae: 7056.2017\n",
      "Epoch 89/100\n",
      "34/34 [==============================] - 0s 4ms/step - loss: 7053.3081 - mae: 7053.3081\n",
      "Epoch 90/100\n",
      "34/34 [==============================] - 0s 4ms/step - loss: 7050.1855 - mae: 7050.1855\n",
      "Epoch 91/100\n",
      "34/34 [==============================] - 0s 5ms/step - loss: 7047.3662 - mae: 7047.3662\n",
      "Epoch 92/100\n",
      "34/34 [==============================] - 0s 6ms/step - loss: 7044.6016 - mae: 7044.6016\n",
      "Epoch 93/100\n",
      "34/34 [==============================] - 0s 6ms/step - loss: 7041.6235 - mae: 7041.6235\n",
      "Epoch 94/100\n",
      "34/34 [==============================] - 0s 6ms/step - loss: 7038.6577 - mae: 7038.6577\n",
      "Epoch 95/100\n",
      "34/34 [==============================] - 0s 6ms/step - loss: 7035.6338 - mae: 7035.6338\n",
      "Epoch 96/100\n",
      "34/34 [==============================] - 0s 5ms/step - loss: 7032.9272 - mae: 7032.9272\n",
      "Epoch 97/100\n",
      "34/34 [==============================] - 0s 4ms/step - loss: 7030.1157 - mae: 7030.1157\n",
      "Epoch 98/100\n",
      "34/34 [==============================] - 0s 4ms/step - loss: 7027.0903 - mae: 7027.0903\n",
      "Epoch 99/100\n",
      "34/34 [==============================] - 0s 4ms/step - loss: 7024.1489 - mae: 7024.1489\n",
      "Epoch 100/100\n",
      "34/34 [==============================] - 0s 4ms/step - loss: 7021.0322 - mae: 7021.0322\n"
     ]
    }
   ],
   "source": [
    "epochCount = 100\n",
    "# Set random seed\n",
    "tf.random.set_seed(randomVal)\n",
    "\n",
    "# layers\n",
    "denseLayer = tf.keras.layers.Dense(1)\n",
    "# Create a new model (same as model_2)\n",
    "insurance_model = tf.keras.Sequential()\n",
    "insurance_model.add(denseLayer)\n",
    "insurance_model.add(denseLayer)\n",
    "\n",
    "# Compile the model\n",
    "insurance_model.compile(loss=tf.keras.losses.mae,\n",
    "                        optimizer=tf.keras.optimizers.SGD(),\n",
    "                        metrics=['mae'])\n",
    "\n",
    "# adjust data type to prevent error \n",
    "feature_training_data=feature_training_data.astype(np.float32)\n",
    "label_training_data=label_training_data.astype(np.float32)\n",
    "feature_testing_data=feature_testing_data.astype(np.float32)\n",
    "label_testing_data=label_testing_data.astype(np.float32)\n",
    "\n",
    "\n",
    "# Fit the model\n",
    "# save output to a variable\n",
    "modelHistory = insurance_model.fit(feature_training_data, label_training_data, epochs=epochCount)"
   ]
  },
  {
   "cell_type": "markdown",
   "id": "9b085959-98ce-40b9-98fa-1d6470c2ceca",
   "metadata": {},
   "source": [
    "## Review Model Results"
   ]
  },
  {
   "cell_type": "code",
   "execution_count": 9,
   "id": "94c465b3-5e34-4abb-80de-9bc3bb783633",
   "metadata": {},
   "outputs": [
    {
     "name": "stdout",
     "output_type": "stream",
     "text": [
      "9/9 [==============================] - 0s 5ms/step - loss: 7002.0923 - mae: 7002.0923\n"
     ]
    },
    {
     "data": {
      "text/plain": [
       "[7002.09228515625, 7002.09228515625]"
      ]
     },
     "execution_count": 9,
     "metadata": {},
     "output_type": "execute_result"
    }
   ],
   "source": [
    "# Check the results of the insurance model\n",
    "insurance_model.evaluate(feature_testing_data, label_testing_data)"
   ]
  },
  {
   "cell_type": "code",
   "execution_count": 10,
   "id": "c2c43f55-4b14-47f1-819f-133f5d31244c",
   "metadata": {},
   "outputs": [
    {
     "name": "stdout",
     "output_type": "stream",
     "text": [
      "Training Label Median: 9575.4423828125\n",
      "Training Label Mean: 13346.08984375\n",
      "model MAE: 7002.09228515625\n"
     ]
    }
   ],
   "source": [
    "print(f'Training Label Median: {label_training_data.median()}')\n",
    "print(f'Training Label Mean: {label_training_data.mean()}')\n",
    "print(f'model MAE: {insurance_model.get_metrics_result()[\"mae\"].numpy()}')"
   ]
  },
  {
   "cell_type": "markdown",
   "id": "20c6378f-8f85-4282-a2ad-65738edbf929",
   "metadata": {},
   "source": [
    "Because the MAE (mean absolute error) is so \"large\", the model is not great.   "
   ]
  },
  {
   "cell_type": "markdown",
   "id": "589f8fc9-7950-47cf-a677-654d9a3c3fa3",
   "metadata": {},
   "source": [
    "### Visualize & Analyze The Loss Curve"
   ]
  },
  {
   "cell_type": "code",
   "execution_count": 11,
   "id": "661100c0-5afd-463d-81f1-022ebdba44aa",
   "metadata": {},
   "outputs": [
    {
     "data": {
      "text/plain": [
       "Text(0.5, 0, 'epochs')"
      ]
     },
     "execution_count": 11,
     "metadata": {},
     "output_type": "execute_result"
    },
    {
     "data": {
      "image/png": "[encoded data removed]",
      "text/plain": [
       "<Figure size 640x480 with 1 Axes>"
      ]
     },
     "metadata": {},
     "output_type": "display_data"
    }
   ],
   "source": [
    "pd.DataFrame(modelHistory.history).plot()\n",
    "plt.ylabel('loss')\n",
    "plt.xlabel('epochs')"
   ]
  },
  {
   "cell_type": "markdown",
   "id": "c3789caa-ead1-41f7-942c-749ddf215140",
   "metadata": {},
   "source": [
    "The loss score took a large drop toward the beginning of the epochs.  \n",
    "The loss curve \"slowed down\", and seems to be still dropping toward the end.  \n"
   ]
  },
  {
   "cell_type": "markdown",
   "id": "a6d905f5-74f1-47b5-ade2-e691f1c05102",
   "metadata": {},
   "source": [
    "## Experiment I\n",
    "- different layers\n",
    "- different optimizer fn\n",
    "\n",
    "### Build A New Model Version"
   ]
  },
  {
   "cell_type": "code",
   "execution_count": 12,
   "id": "aba4656d-1e1f-4006-89f8-04bef214d78a",
   "metadata": {},
   "outputs": [],
   "source": [
    "insurance_model_2 = tf.keras.Sequential()\n",
    "modell2EpochCount = 100\n",
    "# different & more layers\n",
    "l1 = tf.keras.layers.Dense(100)\n",
    "l2 = tf.keras.layers.Dense(10)\n",
    "l3 = tf.keras.layers.Dense(1)\n",
    "\n",
    "insurance_model_2.add(l1)\n",
    "insurance_model_2.add(l2)\n",
    "insurance_model_2.add(l3)\n",
    "\n",
    "# Compile the model\n",
    "insurance_model_2.compile(loss=tf.keras.losses.mae,\n",
    "                          optimizer=tf.keras.optimizers.Adam(), # Adam works but SGD doesn't \n",
    "                          metrics=['mae'])\n",
    "\n",
    "# Fit the model and save the history (we can plot this)\n",
    "model_2_history = insurance_model_2.fit(feature_training_data, label_training_data, epochs=modell2EpochCount, verbose=0)"
   ]
  },
  {
   "cell_type": "markdown",
   "id": "96eae5a0-70b8-4666-bd0a-8787dc17cbdd",
   "metadata": {},
   "source": [
    "### Evaluate the model"
   ]
  },
  {
   "cell_type": "code",
   "execution_count": 13,
   "id": "349caf88-d990-49e5-8baa-9fedaa528d73",
   "metadata": {},
   "outputs": [
    {
     "name": "stdout",
     "output_type": "stream",
     "text": [
      "9/9 [==============================] - 0s 5ms/step - loss: 4758.9893 - mae: 4758.9893\n"
     ]
    },
    {
     "data": {
      "text/plain": [
       "[4758.9892578125, 4758.9892578125]"
      ]
     },
     "execution_count": 13,
     "metadata": {},
     "output_type": "execute_result"
    }
   ],
   "source": [
    "insurance_model_2.evaluate(feature_testing_data, label_testing_data)"
   ]
  },
  {
   "cell_type": "markdown",
   "id": "df94be61-89f7-41d4-89d8-4771be09df2a",
   "metadata": {},
   "source": [
    "### Review Model Results"
   ]
  },
  {
   "cell_type": "code",
   "execution_count": 14,
   "id": "ca3f0a84-1448-4960-a862-7f5ba8a7db5d",
   "metadata": {},
   "outputs": [
    {
     "name": "stdout",
     "output_type": "stream",
     "text": [
      "Training Label Median: 9575.4423828125\n",
      "Training Label Mean: 13346.08984375\n",
      "model_2 MAE: 4758.9892578125\n"
     ]
    }
   ],
   "source": [
    "print(f'Training Label Median: {label_training_data.median()}')\n",
    "print(f'Training Label Mean: {label_training_data.mean()}')\n",
    "print(f'model_2 MAE: {insurance_model_2.get_metrics_result()[\"mae\"].numpy()}')"
   ]
  },
  {
   "cell_type": "markdown",
   "id": "d7569f6c-9aba-48c3-9881-a315148b02d8",
   "metadata": {},
   "source": [
    "### Visualise Model Loss"
   ]
  },
  {
   "cell_type": "code",
   "execution_count": 15,
   "id": "19f250ed-3e75-45ff-99ca-b52bfbc86aa5",
   "metadata": {},
   "outputs": [
    {
     "data": {
      "text/plain": [
       "Text(0.5, 0, 'epochs')"
      ]
     },
     "execution_count": 15,
     "metadata": {},
     "output_type": "execute_result"
    },
    {
     "data": {
      "image/png": "[encoded data removed]",
      "text/plain": [
       "<Figure size 640x480 with 1 Axes>"
      ]
     },
     "metadata": {},
     "output_type": "display_data"
    }
   ],
   "source": [
    "pd.DataFrame(model_2_history.history).plot()\n",
    "plt.ylabel('loss')\n",
    "plt.xlabel('epochs')"
   ]
  },
  {
   "cell_type": "markdown",
   "id": "72f77046-4cc6-4c0b-9e31-3724fc94c4ff",
   "metadata": {},
   "source": [
    "## Experiment II"
   ]
  },
  {
   "cell_type": "code",
   "execution_count": 16,
   "id": "62418b73-3caf-4eaf-9cc9-d35db6303b54",
   "metadata": {},
   "outputs": [],
   "source": [
    "insurance_model_3 = tf.keras.Sequential()\n",
    "model3EpochCount = 200\n",
    "\n",
    "insurance_model_3.add(l1)\n",
    "insurance_model_3.add(l2)\n",
    "insurance_model_3.add(l3)\n",
    "\n",
    "# Compile the model\n",
    "insurance_model_3.compile(loss=tf.keras.losses.mae,\n",
    "                          optimizer=tf.keras.optimizers.Adam(), # Adam works but SGD doesn't \n",
    "                          metrics=['mae'])\n",
    "\n",
    "# Fit the model and save the history (we can plot this)\n",
    "model_3_history = insurance_model_3.fit(feature_training_data, label_training_data, epochs=model3EpochCount, verbose=0)"
   ]
  },
  {
   "cell_type": "code",
   "execution_count": 17,
   "id": "44b17e19-c059-4e66-a37e-cd91d1d3c932",
   "metadata": {},
   "outputs": [
    {
     "name": "stdout",
     "output_type": "stream",
     "text": [
      "9/9 [==============================] - 0s 5ms/step - loss: 3230.5137 - mae: 3230.5137\n",
      "Training Label Median: 9575.4423828125\n",
      "Training Label Mean: 13346.08984375\n",
      "model_3 MAE: 3515.3447265625\n"
     ]
    }
   ],
   "source": [
    "insurance_model_2.evaluate(feature_testing_data, label_testing_data)\n",
    "print(f'Training Label Median: {label_training_data.median()}')\n",
    "print(f'Training Label Mean: {label_training_data.mean()}')\n",
    "print(f'model_3 MAE: {insurance_model_3.get_metrics_result()[\"mae\"].numpy()}')"
   ]
  },
  {
   "cell_type": "code",
   "execution_count": 18,
   "id": "96ca46e4-893e-46e5-b1f6-dbf6c7ba17b5",
   "metadata": {},
   "outputs": [
    {
     "data": {
      "text/plain": [
       "Text(0.5, 0, 'epochs')"
      ]
     },
     "execution_count": 18,
     "metadata": {},
     "output_type": "execute_result"
    },
    {
     "data": {
      "image/png": "[encoded data removed]",
      "text/plain": [
       "<Figure size 640x480 with 1 Axes>"
      ]
     },
     "metadata": {},
     "output_type": "display_data"
    }
   ],
   "source": [
    "pd.DataFrame(model_3_history.history).plot()\n",
    "plt.ylabel('loss')\n",
    "plt.xlabel('epochs')"
   ]
  },
  {
   "cell_type": "code",
   "execution_count": null,
   "id": "4ea1bf54-6b06-43f8-8af1-bd934a0826f1",
   "metadata": {},
   "outputs": [],
   "source": []
  }
 ],
 "metadata": {
  "kernelspec": {
   "display_name": "Python 3 (ipykernel)",
   "language": "python",
   "name": "python3"
  },
  "language_info": {
   "codemirror_mode": {
    "name": "ipython",
    "version": 3
   },
   "file_extension": ".py",
   "mimetype": "text/x-python",
   "name": "python",
   "nbconvert_exporter": "python",
   "pygments_lexer": "ipython3",
   "version": "3.11.6"
  }
 },
 "nbformat": 4,
 "nbformat_minor": 5
}
