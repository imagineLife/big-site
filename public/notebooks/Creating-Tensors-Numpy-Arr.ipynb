{
 "cells": [
  {
   "cell_type": "markdown",
   "id": "ea8e474f-adab-4b3d-8bae-6724e4164b66",
   "metadata": {},
   "source": [
    "# Creating Tensors From Numpy Arrays"
   ]
  },
  {
   "cell_type": "code",
   "execution_count": 1,
   "id": "93010a11-a984-4590-a62f-1c3f954792ab",
   "metadata": {},
   "outputs": [],
   "source": [
    "import tensorflow as tf\n",
    "import numpy as np"
   ]
  },
  {
   "cell_type": "code",
   "execution_count": 2,
   "id": "de1edb11-1626-48ab-8c1e-6ffd85e79cf1",
   "metadata": {},
   "outputs": [
    {
     "data": {
      "text/plain": [
       "array([ 1,  2,  3,  4,  5,  6,  7,  8,  9, 10, 11, 12, 13, 14, 15, 16, 17,\n",
       "       18, 19, 20, 21, 22, 23, 24], dtype=int32)"
      ]
     },
     "execution_count": 2,
     "metadata": {},
     "output_type": "execute_result"
    }
   ],
   "source": [
    "npArrOne = np.arange(1,25, dtype=np.int32)\n",
    "npArrOne"
   ]
  },
  {
   "cell_type": "code",
   "execution_count": 3,
   "id": "7ab60756-f965-48e7-8b35-86f216336f53",
   "metadata": {},
   "outputs": [
    {
     "data": {
      "text/plain": [
       "<tf.Tensor: shape=(24,), dtype=int32, numpy=\n",
       "array([ 1,  2,  3,  4,  5,  6,  7,  8,  9, 10, 11, 12, 13, 14, 15, 16, 17,\n",
       "       18, 19, 20, 21, 22, 23, 24], dtype=int32)>"
      ]
     },
     "execution_count": 3,
     "metadata": {},
     "output_type": "execute_result"
    }
   ],
   "source": [
    "tensorFromNpArr = tf.constant(npArrOne)\n",
    "tensorFromNpArr"
   ]
  },
  {
   "cell_type": "markdown",
   "id": "b701fe93-1f26-418c-8b71-571abddad3ff",
   "metadata": {},
   "source": [
    "## Converting Between the Two"
   ]
  },
  {
   "cell_type": "code",
   "execution_count": 14,
   "id": "0b5e246e-2ec7-44c4-a389-749d1b2195d9",
   "metadata": {},
   "outputs": [
    {
     "data": {
      "text/plain": [
       "(array([ 1,  2,  3,  4,  5,  6,  7,  8,  9, 10, 11, 12, 13, 14, 15, 16, 17,\n",
       "        18, 19, 20, 21, 22, 23, 24], dtype=int32),\n",
       " numpy.ndarray)"
      ]
     },
     "execution_count": 14,
     "metadata": {},
     "output_type": "execute_result"
    }
   ],
   "source": [
    "backToNPArr = np.array(tensorFromNpArr)\n",
    "backToNPArr, type(backToNPArr)"
   ]
  },
  {
   "cell_type": "markdown",
   "id": "f04d3fd7-da96-4a95-8b8d-136d70997803",
   "metadata": {},
   "source": [
    "## Changing The Shape\n",
    "Tensor shapes can be changed &/or set during tesnsor creation.  \n",
    "In order to do this, the multiplied dimensions must equal the number of elements in the tensor:  \n",
    "- EXAMPLES: a tensor, above, with 24 elements, can be shaped (2,3,4) or (12,2) or (6,2,1,2)"
   ]
  },
  {
   "cell_type": "code",
   "execution_count": 7,
   "id": "ded7a09e-d750-49d4-9930-69591f1fb9d7",
   "metadata": {},
   "outputs": [
    {
     "data": {
      "text/plain": [
       "<tf.Tensor: shape=(2, 3, 4), dtype=int32, numpy=\n",
       "array([[[ 1,  2,  3,  4],\n",
       "        [ 5,  6,  7,  8],\n",
       "        [ 9, 10, 11, 12]],\n",
       "\n",
       "       [[13, 14, 15, 16],\n",
       "        [17, 18, 19, 20],\n",
       "        [21, 22, 23, 24]]], dtype=int32)>"
      ]
     },
     "execution_count": 7,
     "metadata": {},
     "output_type": "execute_result"
    }
   ],
   "source": [
    "changedShape = tf.constant(npArrOne, shape=(2,3,4))\n",
    "changedShape"
   ]
  },
  {
   "cell_type": "code",
   "execution_count": 9,
   "id": "252e428b-371f-4ea5-a5de-1fecf5eef629",
   "metadata": {},
   "outputs": [
    {
     "data": {
      "text/plain": [
       "<tf.Tensor: shape=(6, 2, 2), dtype=int32, numpy=\n",
       "array([[[ 1,  2],\n",
       "        [ 3,  4]],\n",
       "\n",
       "       [[ 5,  6],\n",
       "        [ 7,  8]],\n",
       "\n",
       "       [[ 9, 10],\n",
       "        [11, 12]],\n",
       "\n",
       "       [[13, 14],\n",
       "        [15, 16]],\n",
       "\n",
       "       [[17, 18],\n",
       "        [19, 20]],\n",
       "\n",
       "       [[21, 22],\n",
       "        [23, 24]]], dtype=int32)>"
      ]
     },
     "execution_count": 9,
     "metadata": {},
     "output_type": "execute_result"
    }
   ],
   "source": [
    "changedShapeTwo = tf.constant(npArrOne, shape=(6,2,2))\n",
    "changedShapeTwo"
   ]
  }
 ],
 "metadata": {
  "kernelspec": {
   "display_name": "Python 3 (ipykernel)",
   "language": "python",
   "name": "python3"
  },
  "language_info": {
   "codemirror_mode": {
    "name": "ipython",
    "version": 3
   },
   "file_extension": ".py",
   "mimetype": "text/x-python",
   "name": "python",
   "nbconvert_exporter": "python",
   "pygments_lexer": "ipython3",
   "version": "3.11.6"
  }
 },
 "nbformat": 4,
 "nbformat_minor": 5
}
