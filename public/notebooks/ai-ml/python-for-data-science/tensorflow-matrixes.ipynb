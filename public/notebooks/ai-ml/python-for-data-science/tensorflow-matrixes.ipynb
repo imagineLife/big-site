{
 "cells": [
  {
   "cell_type": "markdown",
   "metadata": {
    "id": "ielzxn52r2CB"
   },
   "source": [
    "# Tensorflow: Working With Matries\n",
    "\n",
    "## Goals\n",
    "An Overview of working with matrixes, tensorflow, and numpy.\n",
    "\n",
    "## Imports"
   ]
  },
  {
   "cell_type": "code",
   "execution_count": 71,
   "metadata": {},
   "outputs": [
    {
     "name": "stdout",
     "output_type": "stream",
     "text": [
      "tensorlfow version: 2.12.0\n",
      "The history saving thread hit an unexpected error (OperationalError('attempt to write a readonly database')).History will not be written to the database.\n"
     ]
    }
   ],
   "source": [
    "import datetime\n",
    "import numpy as np\n",
    "import tensorflow as tf\n",
    "print(f'tensorlfow version: {tf.__version__}') # find the version number (should be 2.x+)"
   ]
  },
  {
   "cell_type": "markdown",
   "metadata": {
    "id": "8M-0dhjtzHoZ"
   },
   "source": [
    "# Working With Matrixes\n",
    "## Matrix mutliplication\n",
    "> 🔑 **Note:** '`@`' in Python is the symbol for matrix multiplication.\n",
    "\n",
    "One of the most common operations in machine learning algorithms is [matrix multiplication](https://www.mathsisfun.com/algebra/matrix-multiplying.html).\n",
    "\n",
    "TensorFlow implements this matrix multiplication functionality in the [`tf.matmul()`](https://www.tensorflow.org/api_docs/python/tf/linalg/matmul) method.\n",
    "\n",
    "### Matrix Multiplication Rules\n",
    "The inner dimensions of the two matrixes must match:\n",
    "- [ ] `(3, 5) @ (3, 5)` _NOPE!_\n",
    "- [x] `(5, 3) @ (3, 5)` \n",
    "- [x] `(3, 5) @ (5, 3)`\n",
    "2. The resulting matrix has the shape of the outer dimensions:\n",
    " * `(5, 3) @ (3, 5)` -> `(5, 5)`\n",
    " * `(3, 5) @ (5, 3)` -> `(3, 3)`"
   ]
  },
  {
   "cell_type": "code",
   "execution_count": 72,
   "metadata": {
    "colab": {
     "base_uri": "https://localhost:8080/"
    },
    "id": "pbpwVJrAsPpA",
    "outputId": "58f18b51-6fd4-4af1-e74b-ee8f06611a7c"
   },
   "outputs": [
    {
     "name": "stdout",
     "output_type": "stream",
     "text": [
      "TENSOR--------\n",
      "tf.Tensor(\n",
      "[[[ 1  2  3]\n",
      "  [ 4  5  6]]\n",
      "\n",
      " [[ 7  8  9]\n",
      "  [10 11 12]]\n",
      "\n",
      " [[13 14 15]\n",
      "  [16 17 18]]], shape=(3, 2, 3), dtype=int32)\n",
      "----tensor MULTIPLIED----\n"
     ]
    },
    {
     "data": {
      "text/plain": [
       "<tf.Tensor: shape=(2, 2), dtype=int32, numpy=\n",
       "array([[121,  98],\n",
       "       [ 42,  37]], dtype=int32)>"
      ]
     },
     "execution_count": 72,
     "metadata": {},
     "output_type": "execute_result"
    }
   ],
   "source": [
    "simpleTensor = tf.constant([[10, 7], [3, 4]])\n",
    "\n",
    "# Matrix multiplication in TensorFlow\n",
    "tensor = tf.constant([[[1, 2, 3],\n",
    "                       [4, 5, 6]],\n",
    "                      [[7, 8, 9],\n",
    "                       [10, 11, 12]],\n",
    "                      [[13, 14, 15],\n",
    "                       [16, 17, 18]]])\n",
    "\n",
    "print('TENSOR--------')\n",
    "print(tensor)\n",
    "print('----tensor MULTIPLIED----')\n",
    "tf.matmul(simpleTensor, simpleTensor)"
   ]
  },
  {
   "cell_type": "code",
   "execution_count": 73,
   "metadata": {
    "colab": {
     "base_uri": "https://localhost:8080/"
    },
    "id": "9vpDnpb10G7U",
    "outputId": "02039aad-06e1-4589-fe91-f65870716ba7"
   },
   "outputs": [
    {
     "data": {
      "text/plain": [
       "<tf.Tensor: shape=(2, 2), dtype=int32, numpy=\n",
       "array([[121,  98],\n",
       "       [ 42,  37]], dtype=int32)>"
      ]
     },
     "execution_count": 73,
     "metadata": {},
     "output_type": "execute_result"
    }
   ],
   "source": [
    "# Matrix multiplication with Python operator '@'\n",
    "simpleTensor @ simpleTensor"
   ]
  },
  {
   "cell_type": "markdown",
   "metadata": {
    "id": "TAV3S5YV0cDQ"
   },
   "source": [
    "### Multiplying with mismatched shapes"
   ]
  },
  {
   "cell_type": "code",
   "execution_count": 74,
   "metadata": {
    "colab": {
     "base_uri": "https://localhost:8080/"
    },
    "id": "UXSE6q1o0amm",
    "outputId": "2f106764-d526-44a6-e1e9-255aa3c4a83e"
   },
   "outputs": [
    {
     "data": {
      "text/plain": [
       "(<tf.Tensor: shape=(3, 2), dtype=int32, numpy=\n",
       " array([[1, 2],\n",
       "        [3, 4],\n",
       "        [5, 6]], dtype=int32)>,\n",
       " <tf.Tensor: shape=(3, 2), dtype=int32, numpy=\n",
       " array([[ 7,  8],\n",
       "        [ 9, 10],\n",
       "        [11, 12]], dtype=int32)>)"
      ]
     },
     "execution_count": 74,
     "metadata": {},
     "output_type": "execute_result"
    }
   ],
   "source": [
    "# Create (3, 2) tensor\n",
    "X = tf.constant([[1, 2],\n",
    "                 [3, 4],\n",
    "                 [5, 6]])\n",
    "\n",
    "# Create another (3, 2) tensor\n",
    "Y = tf.constant([[7, 8],\n",
    "                 [9, 10],\n",
    "                 [11, 12]])\n",
    "X, Y"
   ]
  },
  {
   "cell_type": "code",
   "execution_count": 75,
   "metadata": {
    "colab": {
     "base_uri": "https://localhost:8080/",
     "height": 336
    },
    "id": "3J4DGQa309Hc",
    "outputId": "a3ee6031-1c27-4089-8db2-db0867160008"
   },
   "outputs": [],
   "source": [
    "# \n",
    "# Will ERROR\n",
    "# \n",
    "# X @ Y\n",
    "\n",
    "\n",
    "# will return\n",
    "# InvalidArgumentError: {{function_node __wrapped__MatMul_device_/job:localhost/replica:0/task:0/device:CPU:0}} Matrix size-incompatible: In[0]: [3,2], In[1]: [3,2] [Op:MatMul]"
   ]
  },
  {
   "cell_type": "markdown",
   "metadata": {
    "id": "v27FQ59v1N-H"
   },
   "source": [
    "Trying to matrix multiply two tensors with the shape `(3, 2)` errors because the inner dimensions don't match.\n",
    "\n",
    "We need to either:\n",
    "* Reshape X to `(2, 3)` so it's `(2, 3) @ (3, 2)`.\n",
    "* Reshape Y to `(3, 2)` so it's `(3, 2) @ (2, 3)`.\n",
    "\n",
    "\n",
    "## Reshaping Matrixes\n",
    "Reshaping can be done with either:\n",
    "* [`tf.reshape()`](https://www.tensorflow.org/api_docs/python/tf/reshape) - reshape a tensor into a defined shape\n",
    "* [`tf.transpose()`](https://www.tensorflow.org/api_docs/python/tf/transpose) - changes the dimensions of a given tensor\n",
    "\n",
    "### Reshape"
   ]
  },
  {
   "cell_type": "code",
   "execution_count": 76,
   "metadata": {
    "colab": {
     "base_uri": "https://localhost:8080/"
    },
    "id": "ZwvVl-k_2W9u",
    "outputId": "86025237-4258-4582-8a62-d36f29f281fc"
   },
   "outputs": [
    {
     "name": "stdout",
     "output_type": "stream",
     "text": [
      "-----Y----\n",
      "tf.Tensor(\n",
      "[[ 7  8]\n",
      " [ 9 10]\n",
      " [11 12]], shape=(3, 2), dtype=int32)\n",
      "-----Y reshaped----\n"
     ]
    },
    {
     "data": {
      "text/plain": [
       "<tf.Tensor: shape=(2, 3), dtype=int32, numpy=\n",
       "array([[ 7,  8,  9],\n",
       "       [10, 11, 12]], dtype=int32)>"
      ]
     },
     "execution_count": 76,
     "metadata": {},
     "output_type": "execute_result"
    }
   ],
   "source": [
    "# Example of reshape (3, 2) -> (2, 3)\n",
    "print('-----Y----')\n",
    "print(Y)\n",
    "print('-----Y reshaped----')\n",
    "tf.reshape(Y, shape=(2, 3))"
   ]
  },
  {
   "cell_type": "code",
   "execution_count": 77,
   "metadata": {
    "colab": {
     "base_uri": "https://localhost:8080/"
    },
    "id": "1jBKPQVn1Nep",
    "outputId": "83040cf0-d09f-4e61-f9d5-bc5556492fdb"
   },
   "outputs": [
    {
     "data": {
      "text/plain": [
       "<tf.Tensor: shape=(3, 3), dtype=int32, numpy=\n",
       "array([[ 27,  30,  33],\n",
       "       [ 61,  68,  75],\n",
       "       [ 95, 106, 117]], dtype=int32)>"
      ]
     },
     "execution_count": 77,
     "metadata": {},
     "output_type": "execute_result"
    }
   ],
   "source": [
    "# \n",
    "# NOW multiplying X & Y works\n",
    "# \n",
    "X @ tf.reshape(Y, shape=(2, 3))"
   ]
  },
  {
   "cell_type": "markdown",
   "metadata": {},
   "source": [
    "### Transpose"
   ]
  },
  {
   "cell_type": "code",
   "execution_count": 78,
   "metadata": {
    "colab": {
     "base_uri": "https://localhost:8080/"
    },
    "id": "qA2rCnik2OnQ",
    "outputId": "f26d252c-8fed-445b-e0a3-b51de62ec7b0"
   },
   "outputs": [
    {
     "data": {
      "text/plain": [
       "<tf.Tensor: shape=(2, 3), dtype=int32, numpy=\n",
       "array([[1, 3, 5],\n",
       "       [2, 4, 6]], dtype=int32)>"
      ]
     },
     "execution_count": 78,
     "metadata": {},
     "output_type": "execute_result"
    }
   ],
   "source": [
    "# Example of transpose (3, 2) -> (2, 3)\n",
    "tf.transpose(X)"
   ]
  },
  {
   "cell_type": "code",
   "execution_count": 79,
   "metadata": {
    "colab": {
     "base_uri": "https://localhost:8080/"
    },
    "id": "zR8YdMfh3G0S",
    "outputId": "468e80ff-8708-4ff9-93bd-9bc614004039"
   },
   "outputs": [
    {
     "data": {
      "text/plain": [
       "<tf.Tensor: shape=(2, 2), dtype=int32, numpy=\n",
       "array([[ 89,  98],\n",
       "       [116, 128]], dtype=int32)>"
      ]
     },
     "execution_count": 79,
     "metadata": {},
     "output_type": "execute_result"
    }
   ],
   "source": [
    "# \n",
    "# NOW multiplying X & Y will work\n",
    "# \n",
    "tf.matmul(tf.transpose(X), Y)"
   ]
  },
  {
   "cell_type": "markdown",
   "metadata": {},
   "source": [
    "### with matmul arguments"
   ]
  },
  {
   "cell_type": "code",
   "execution_count": 80,
   "metadata": {
    "colab": {
     "base_uri": "https://localhost:8080/"
    },
    "id": "SL45P1cC5tnJ",
    "outputId": "2ffe20dd-3a85-4dc9-98e3-01bd973df267"
   },
   "outputs": [
    {
     "data": {
      "text/plain": [
       "<tf.Tensor: shape=(2, 2), dtype=int32, numpy=\n",
       "array([[ 89,  98],\n",
       "       [116, 128]], dtype=int32)>"
      ]
     },
     "execution_count": 80,
     "metadata": {},
     "output_type": "execute_result"
    }
   ],
   "source": [
    "tf.matmul(a=X, b=Y, transpose_a=True, transpose_b=False)"
   ]
  },
  {
   "cell_type": "markdown",
   "metadata": {
    "id": "AqE518TJ3GXG"
   },
   "source": [
    "Notice the difference in the resulting shapes when tranposing `X` or reshaping `Y`.\n",
    "Machine-Learning Engineers & those working in neural-networks may spend a bunch of time reshaping data (in the form of tensors) to prepare it to be used with various operations (such as feeding it to a model).\n",
    "\n",
    "### The dot product\n",
    "\n",
    "Multiplying matrices by eachother is also referred to as the dot product.\n",
    "\n",
    "### tensordot\n",
    "You can perform the `tf.matmul()` operation using [`tf.tensordot()`](https://www.tensorflow.org/api_docs/python/tf/tensordot). "
   ]
  },
  {
   "cell_type": "code",
   "execution_count": 81,
   "metadata": {
    "colab": {
     "base_uri": "https://localhost:8080/"
    },
    "id": "qfSJHDpe2Oe9",
    "outputId": "b128a9eb-0e98-4379-b9d2-e0d29edd86f9"
   },
   "outputs": [
    {
     "data": {
      "text/plain": [
       "<tf.Tensor: shape=(2, 2), dtype=int32, numpy=\n",
       "array([[ 89,  98],\n",
       "       [116, 128]], dtype=int32)>"
      ]
     },
     "execution_count": 81,
     "metadata": {},
     "output_type": "execute_result"
    }
   ],
   "source": [
    "# Perform the dot product on X and Y (requires X to be transposed)\n",
    "tf.tensordot(tf.transpose(X), Y, axes=1)"
   ]
  },
  {
   "cell_type": "markdown",
   "metadata": {
    "id": "waJcSOGf_Fg7"
   },
   "source": [
    "### Comparing reshape & transpose\n",
    "These two get different results."
   ]
  },
  {
   "cell_type": "code",
   "execution_count": 82,
   "metadata": {
    "colab": {
     "base_uri": "https://localhost:8080/"
    },
    "id": "AAzB-F4l6Dc0",
    "outputId": "9f656c4e-cd07-4496-9036-3d399ede9006"
   },
   "outputs": [
    {
     "data": {
      "text/plain": [
       "<tf.Tensor: shape=(3, 3), dtype=int32, numpy=\n",
       "array([[ 23,  29,  35],\n",
       "       [ 53,  67,  81],\n",
       "       [ 83, 105, 127]], dtype=int32)>"
      ]
     },
     "execution_count": 82,
     "metadata": {},
     "output_type": "execute_result"
    }
   ],
   "source": [
    "# \n",
    "# transposing Y\n",
    "# \n",
    "# Perform matrix multiplication between X and Y (transposed)\n",
    "tf.matmul(X, tf.transpose(Y))"
   ]
  },
  {
   "cell_type": "code",
   "execution_count": 83,
   "metadata": {
    "colab": {
     "base_uri": "https://localhost:8080/"
    },
    "id": "s-kQH7qh69PV",
    "outputId": "02a9e262-7405-4454-87e0-c86bc9d352be"
   },
   "outputs": [
    {
     "data": {
      "text/plain": [
       "<tf.Tensor: shape=(3, 3), dtype=int32, numpy=\n",
       "array([[ 27,  30,  33],\n",
       "       [ 61,  68,  75],\n",
       "       [ 95, 106, 117]], dtype=int32)>"
      ]
     },
     "execution_count": 83,
     "metadata": {},
     "output_type": "execute_result"
    }
   ],
   "source": [
    "# \n",
    "# reshaping Y \n",
    "# \n",
    "tf.matmul(X, tf.reshape(Y, (2, 3)))"
   ]
  },
  {
   "cell_type": "code",
   "execution_count": 84,
   "metadata": {
    "colab": {
     "base_uri": "https://localhost:8080/"
    },
    "id": "P_RLV373ATAb",
    "outputId": "bf406bb5-12f6-4912-88d4-d594870925b8"
   },
   "outputs": [
    {
     "name": "stdout",
     "output_type": "stream",
     "text": [
      "Y.shape: (3, 2)\n",
      "Y.reshape: (2, 3)\n",
      "Y.transpose: (2, 3)\n"
     ]
    }
   ],
   "source": [
    "# Inspecting shapes of Y comparing reshaing methods\n",
    "\n",
    "print(f'Y.shape: {Y.shape}')\n",
    "print(f'Y.reshape: {tf.reshape(Y, (2, 3)).shape}')\n",
    "print(f'Y.transpose: {tf.transpose(Y).shape}')"
   ]
  },
  {
   "cell_type": "code",
   "execution_count": 85,
   "metadata": {
    "colab": {
     "base_uri": "https://localhost:8080/"
    },
    "id": "B5_aYjqeA_w_",
    "outputId": "3467c583-4afa-48ee-d2a6-9ef9bb2e5020"
   },
   "outputs": [
    {
     "name": "stdout",
     "output_type": "stream",
     "text": [
      "Y:\n",
      "tf.Tensor(\n",
      "[[ 7  8]\n",
      " [ 9 10]\n",
      " [11 12]], shape=(3, 2), dtype=int32) \n",
      "\n",
      "Y reshaped to (2, 3):\n",
      "tf.Tensor(\n",
      "[[ 7  8  9]\n",
      " [10 11 12]], shape=(2, 3), dtype=int32) \n",
      "\n",
      "Y transposed:\n",
      "tf.Tensor(\n",
      "[[ 7  9 11]\n",
      " [ 8 10 12]], shape=(2, 3), dtype=int32)\n"
     ]
    }
   ],
   "source": [
    "# Check values of Y, reshape Y and tranposed Y\n",
    "print(\"Y:\")\n",
    "print(Y, \"\\n\") # \"\\n\" for newline\n",
    "\n",
    "print(\"Y reshaped to (2, 3):\")\n",
    "print(tf.reshape(Y, (2, 3)), \"\\n\")\n",
    "\n",
    "print(\"Y transposed:\")\n",
    "print(tf.transpose(Y))"
   ]
  },
  {
   "cell_type": "markdown",
   "metadata": {
    "id": "g9g3l45LFO7K"
   },
   "source": [
    "The different results could be explained:\n",
    "* [`tf.reshape()`](https://www.tensorflow.org/api_docs/python/tf/reshape) - change the shape of the given tensor (first) and then insert values in order they appear (in our case, 7, 8, 9, 10, 11, 12).\n",
    "* [`tf.transpose()`](https://www.tensorflow.org/api_docs/python/tf/transpose) - swap the order of the axes, by default the last axis becomes the first, however the order can be changed using the [`perm` parameter](https://www.tensorflow.org/api_docs/python/tf/transpose)."
   ]
  },
  {
   "cell_type": "markdown",
   "metadata": {
    "id": "fzjcZ4FHCOb5"
   },
   "source": [
    "So which should you use?\n",
    "\n",
    "Not Sure...\n",
    "\n",
    "#### references, and examples\n",
    "* If we transposed `Y`, it would be represented as $\\mathbf{Y}^\\mathsf{T}$ (note the capital T for tranpose).\n",
    "* Get an illustrative view of matrix multiplication [by Math is Fun](https://www.mathsisfun.com/algebra/matrix-multiplying.html).\n",
    "* Try a hands-on demo of matrix multiplcation: http://matrixmultiplication.xyz/ (shown below).\n",
    "\n",
    "![visual demo of matrix multiplication](https://raw.githubusercontent.com/mrdbourke/tensorflow-deep-learning/main/images/00-matrix-multiply-crop.gif)"
   ]
  },
  {
   "cell_type": "markdown",
   "metadata": {
    "id": "1F3L1BDuQVJz"
   },
   "source": [
    "### Getting the absolute value\n",
    "Here, using [`tf.abs()`](https://www.tensorflow.org/api_docs/python/tf/math/abs)."
   ]
  },
  {
   "cell_type": "code",
   "execution_count": 86,
   "metadata": {
    "colab": {
     "base_uri": "https://localhost:8080/"
    },
    "id": "plNBFi51QOvW",
    "outputId": "b82f87c5-ada1-43b5-b998-5d6fa8e90931"
   },
   "outputs": [
    {
     "name": "stdout",
     "output_type": "stream",
     "text": [
      "tf.Tensor([ -7 -10], shape=(2,), dtype=int32)\n",
      "abs values: [ 7 10]\n"
     ]
    }
   ],
   "source": [
    "# Create tensor with negative values\n",
    "D = tf.constant([-7, -10])\n",
    "print(D)\n",
    "# Get the absolute values\n",
    "print(f'abs values: {tf.abs(D)}')"
   ]
  },
  {
   "cell_type": "markdown",
   "metadata": {
    "id": "G4cnALehQ2CE"
   },
   "source": [
    "### Stats: min, max, mean, sum (aggregation)\n",
    "To do so, aggregation methods typically have the syntax `reduce()_[action]`, such as:\n",
    "* [`tf.reduce_min()`](https://www.tensorflow.org/api_docs/python/tf/math/reduce_min) - find the minimum value in a tensor.\n",
    "* [`tf.reduce_max()`](https://www.tensorflow.org/api_docs/python/tf/math/reduce_max) - find the maximum value in a tensor (helpful for when you want to find the highest prediction probability).\n",
    "* [`tf.reduce_mean()`](https://www.tensorflow.org/api_docs/python/tf/math/reduce_mean) - find the mean of all elements in a tensor.\n",
    "* [`tf.reduce_sum()`](https://www.tensorflow.org/api_docs/python/tf/math/reduce_sum) - find the sum of all elements in a tensor.\n",
    "\n",
    "Also available are the standard deviation ([`tf.reduce_std()`](https://www.tensorflow.org/api_docs/python/tf/math/reduce_std)) and variance ([`tf.reduce_variance()`](https://www.tensorflow.org/api_docs/python/tf/math/reduce_variance)).\n",
    "\n",
    "**Note:** typically, each of these is under the `math` module, e.g. `tf.math.reduce_min()` but you can use the alias `tf.reduce_min()`."
   ]
  },
  {
   "cell_type": "code",
   "execution_count": 87,
   "metadata": {
    "colab": {
     "base_uri": "https://localhost:8080/"
    },
    "id": "slwMVgT-Rac0",
    "outputId": "482cd514-c1af-4101-84d7-ddd4c07c4ba7"
   },
   "outputs": [
    {
     "name": "stdout",
     "output_type": "stream",
     "text": [
      "tf.Tensor(\n",
      "[67 61 40 20 98  0 76 38 23 54 73 75 77 38 89  3  4 42 49 76 82  6 32  1\n",
      " 31  0 29 15 93 98 50 18 53 13 51 60 54 57 56  1 92 72 91  6 86 63 10 65\n",
      " 16 40], shape=(50,), dtype=int64)\n",
      "--------\n",
      "MIN: 0\n",
      "MAX: 98\n",
      "MEAN: 46\n",
      "SUM: 2344\n"
     ]
    }
   ],
   "source": [
    "# Create a tensor with 50 random values between 0 and 100\n",
    "E = tf.constant(np.random.randint(low=0, high=100, size=50))\n",
    "print(E)\n",
    "\n",
    "print('--------')\n",
    "# minimum\n",
    "print(f'MIN: {tf.reduce_min(E)}')\n",
    "\n",
    "# maximum\n",
    "print(f'MAX: {tf.reduce_max(E)}')\n",
    "\n",
    "# mean\n",
    "print(f'MEAN: {tf.reduce_mean(E)}')\n",
    "\n",
    "print(f'SUM: {tf.reduce_sum(E)}')"
   ]
  },
  {
   "cell_type": "markdown",
   "metadata": {
    "id": "zXGyiVPiRqgO"
   },
   "source": [
    "\n",
    "\n",
    "### Finding the positional maximum and minimum\n",
    "* [`tf.argmax()`](https://www.tensorflow.org/api_docs/python/tf/math/argmax) - find the position of the maximum element in a given tensor.\n",
    "* [`tf.argmin()`](https://www.tensorflow.org/api_docs/python/tf/math/argmin) - find the position of the minimum element in a given tensor."
   ]
  },
  {
   "cell_type": "code",
   "execution_count": 88,
   "metadata": {
    "colab": {
     "base_uri": "https://localhost:8080/"
    },
    "id": "PspO0Vjp3Nm6",
    "outputId": "e64798b1-ac90-40fc-c820-7b2fcd158b41"
   },
   "outputs": [
    {
     "data": {
      "text/plain": [
       "<tf.Tensor: shape=(50,), dtype=float64, numpy=\n",
       "array([0.36093207, 0.10366052, 0.15027288, 0.45924361, 0.50528467,\n",
       "       0.76370077, 0.8763022 , 0.47184988, 0.00366867, 0.11415668,\n",
       "       0.93080914, 0.07551295, 0.06457022, 0.71277592, 0.80367897,\n",
       "       0.17191018, 0.2799615 , 0.25305706, 0.69857444, 0.76043815,\n",
       "       0.23106375, 0.77264264, 0.60445771, 0.62934127, 0.21972642,\n",
       "       0.09398097, 0.52897258, 0.08095592, 0.34843743, 0.89833881,\n",
       "       0.01440641, 0.52955682, 0.01922664, 0.39039613, 0.57762191,\n",
       "       0.84800918, 0.35243873, 0.78801068, 0.88486316, 0.64931281,\n",
       "       0.94677764, 0.5485244 , 0.36491433, 0.9145402 , 0.03277379,\n",
       "       0.55837612, 0.87561091, 0.19186637, 0.56370985, 0.0802614 ])>"
      ]
     },
     "execution_count": 88,
     "metadata": {},
     "output_type": "execute_result"
    }
   ],
   "source": [
    "# Create a tensor with 50 values between 0 and 1\n",
    "F = tf.constant(np.random.random(50))\n",
    "F"
   ]
  },
  {
   "cell_type": "code",
   "execution_count": 89,
   "metadata": {
    "colab": {
     "base_uri": "https://localhost:8080/"
    },
    "id": "ADbAMm9N3Zlb",
    "outputId": "0b16b507-e863-453e-c7e2-75bb44684bd5"
   },
   "outputs": [
    {
     "data": {
      "text/plain": [
       "<tf.Tensor: shape=(), dtype=int64, numpy=40>"
      ]
     },
     "execution_count": 89,
     "metadata": {},
     "output_type": "execute_result"
    }
   ],
   "source": [
    "# Find the maximum element position of F\n",
    "tf.argmax(F)"
   ]
  },
  {
   "cell_type": "code",
   "execution_count": 90,
   "metadata": {
    "colab": {
     "base_uri": "https://localhost:8080/"
    },
    "id": "aQrv1nVE3ckx",
    "outputId": "6e52173e-8f33-4a8a-aff7-ad968f163e92"
   },
   "outputs": [
    {
     "data": {
      "text/plain": [
       "<tf.Tensor: shape=(), dtype=int64, numpy=8>"
      ]
     },
     "execution_count": 90,
     "metadata": {},
     "output_type": "execute_result"
    }
   ],
   "source": [
    "# Find the minimum element position of F\n",
    "tf.argmin(F)"
   ]
  },
  {
   "cell_type": "code",
   "execution_count": 91,
   "metadata": {
    "colab": {
     "base_uri": "https://localhost:8080/"
    },
    "id": "yFHzARFwLmIf",
    "outputId": "e67cf2cc-93f9-44f6-810c-647814d5ba4f"
   },
   "outputs": [
    {
     "name": "stdout",
     "output_type": "stream",
     "text": [
      "The maximum value of F is 0.9467776376641881 at position: 40\n",
      "Using tf.argmax() to index F, the maximum value of F is: 0.9467776376641881\n",
      "Are the two max values the same? True\n"
     ]
    }
   ],
   "source": [
    "# Find the maximum element position of F\n",
    "print(f\"The maximum value of F is {tf.reduce_max(F).numpy()} at position: {tf.argmax(F).numpy()}\") \n",
    "print(f\"Using tf.argmax() to index F, the maximum value of F is: {F[tf.argmax(F)].numpy()}\")\n",
    "print(f\"Are the two max values the same? {F[tf.argmax(F)].numpy() == tf.reduce_max(F).numpy()}\")"
   ]
  },
  {
   "cell_type": "markdown",
   "metadata": {
    "id": "46cKe32W65Ox"
   },
   "source": [
    "## One-hot encoding\n",
    "[`tf.one_hot()`](https://www.tensorflow.org/api_docs/python/tf/one_hot)"
   ]
  },
  {
   "cell_type": "code",
   "execution_count": 92,
   "metadata": {
    "colab": {
     "base_uri": "https://localhost:8080/"
    },
    "id": "FlRkMjL-646U",
    "outputId": "57e586aa-c3b6-45af-a068-464b84ad4ca2"
   },
   "outputs": [
    {
     "name": "stdout",
     "output_type": "stream",
     "text": [
      "tf.Tensor(\n",
      "[[1. 0. 0. 0.]\n",
      " [0. 1. 0. 0.]\n",
      " [0. 0. 1. 0.]\n",
      " [0. 0. 0. 1.]], shape=(4, 4), dtype=float32)\n",
      "tf.Tensor(\n",
      "[[1. 0.]\n",
      " [0. 1.]\n",
      " [0. 0.]\n",
      " [0. 0.]], shape=(4, 2), dtype=float32)\n"
     ]
    }
   ],
   "source": [
    "# Create a list of indices\n",
    "some_list = [0, 1, 2, 3]\n",
    "\n",
    "# One hot encode them\n",
    "print(tf.one_hot(some_list, depth=len(some_list)))\n",
    "print(tf.one_hot(some_list, depth=len(some_list) - 2))"
   ]
  },
  {
   "cell_type": "code",
   "execution_count": 93,
   "metadata": {
    "colab": {
     "base_uri": "https://localhost:8080/"
    },
    "id": "FZluadm88EcN",
    "outputId": "5f98ee43-cf54-4c96-b466-b85e39d715ff"
   },
   "outputs": [
    {
     "data": {
      "text/plain": [
       "<tf.Tensor: shape=(4, 4), dtype=string, numpy=\n",
       "array([[b'ON', b'-', b'-', b'-'],\n",
       "       [b'-', b'ON', b'-', b'-'],\n",
       "       [b'-', b'-', b'ON', b'-'],\n",
       "       [b'-', b'-', b'-', b'ON']], dtype=object)>"
      ]
     },
     "execution_count": 93,
     "metadata": {},
     "output_type": "execute_result"
    }
   ],
   "source": [
    "# Specify a custom one-hot values for on and off encoding\n",
    "on=\"ON\"\n",
    "off=\"-\"\n",
    "tf.one_hot(some_list, depth=4, on_value=on, off_value=off)"
   ]
  },
  {
   "cell_type": "markdown",
   "metadata": {
    "id": "-E-I1jFC84Qi"
   },
   "source": [
    "## Squaring, log, square root\n",
    "* [`tf.square()`](https://www.tensorflow.org/api_docs/python/tf/math/square) - get the square of every value in a tensor. \n",
    "* [`tf.sqrt()`](https://www.tensorflow.org/api_docs/python/tf/math/sqrt) - get the squareroot of every value in a tensor (**note:** the elements need to be floats or this will error).\n",
    "* [`tf.math.log()`](https://www.tensorflow.org/api_docs/python/tf/math/log) - get the natural log of every value in a tensor (elements need to floats)."
   ]
  },
  {
   "cell_type": "code",
   "execution_count": 94,
   "metadata": {
    "colab": {
     "base_uri": "https://localhost:8080/"
    },
    "id": "KTOvziCBLqhZ",
    "outputId": "10fa84ab-98d0-4bbe-f751-4f94a103e4f0"
   },
   "outputs": [
    {
     "name": "stdout",
     "output_type": "stream",
     "text": [
      "tf.Tensor([1 2 3 4 5 6 7 8 9], shape=(9,), dtype=int64)\n"
     ]
    },
    {
     "data": {
      "text/plain": [
       "<tf.Tensor: shape=(9,), dtype=int64, numpy=array([1, 2, 3, 4, 5, 6, 7, 8, 9])>"
      ]
     },
     "execution_count": 94,
     "metadata": {},
     "output_type": "execute_result"
    }
   ],
   "source": [
    "# Create a new tensor\n",
    "H = tf.constant(np.arange(1, 10))\n",
    "print(H)\n",
    "H"
   ]
  },
  {
   "cell_type": "code",
   "execution_count": 95,
   "metadata": {
    "colab": {
     "base_uri": "https://localhost:8080/"
    },
    "id": "qvPS3xbk9JBK",
    "outputId": "7432fd66-28a6-4ed6-b7dc-fdc198171cec"
   },
   "outputs": [
    {
     "data": {
      "text/plain": [
       "<tf.Tensor: shape=(9,), dtype=int64, numpy=array([ 1,  4,  9, 16, 25, 36, 49, 64, 81])>"
      ]
     },
     "execution_count": 95,
     "metadata": {},
     "output_type": "execute_result"
    }
   ],
   "source": [
    "# \n",
    "# Square\n",
    "# \n",
    "tf.square(H)\n",
    "\n",
    "# \n",
    "# sqrt \n",
    "# \n",
    "# shows error\n",
    "# tf.sqrt(H)\n",
    "# InvalidArgumentError: Value for attr 'T' of int64 is not in the list of allowed values: bfloat16, half, float, double, complex64, complex128\n",
    "# \t; NodeDef: {{node Sqrt}}; Op<name=Sqrt; signature=x:T -> y:T; attr=T:type,allowed=[DT_BFLOAT16, DT_HALF, DT_FLOAT, DT_DOUBLE, DT_COMPLEX64, DT_COMPLEX128]> [Op:Sqrt]"
   ]
  },
  {
   "cell_type": "code",
   "execution_count": 96,
   "metadata": {
    "colab": {
     "base_uri": "https://localhost:8080/"
    },
    "id": "zlxRWy6Q-NHK",
    "outputId": "f2bc38ee-7af8-4c25-d556-0b464bd871d1"
   },
   "outputs": [
    {
     "data": {
      "text/plain": [
       "<tf.Tensor: shape=(9,), dtype=float32, numpy=array([1., 2., 3., 4., 5., 6., 7., 8., 9.], dtype=float32)>"
      ]
     },
     "execution_count": 96,
     "metadata": {},
     "output_type": "execute_result"
    }
   ],
   "source": [
    "# Change H to float32\n",
    "H = tf.cast(H, dtype=tf.float32)\n",
    "H"
   ]
  },
  {
   "cell_type": "code",
   "execution_count": 97,
   "metadata": {
    "colab": {
     "base_uri": "https://localhost:8080/"
    },
    "id": "S73eO0p--TtN",
    "outputId": "e9204262-c9a3-45bc-ba8e-3436dee76464"
   },
   "outputs": [
    {
     "data": {
      "text/plain": [
       "<tf.Tensor: shape=(9,), dtype=float32, numpy=\n",
       "array([1.       , 1.4142135, 1.7320508, 2.       , 2.236068 , 2.4494898,\n",
       "       2.6457512, 2.828427 , 3.       ], dtype=float32)>"
      ]
     },
     "execution_count": 97,
     "metadata": {},
     "output_type": "execute_result"
    }
   ],
   "source": [
    "# Find the square root\n",
    "tf.sqrt(H)"
   ]
  },
  {
   "cell_type": "code",
   "execution_count": 98,
   "metadata": {
    "colab": {
     "base_uri": "https://localhost:8080/"
    },
    "id": "RyCo55vz9u4f",
    "outputId": "a37f7d0a-9f71-43b7-84c3-20a60664bd22"
   },
   "outputs": [
    {
     "data": {
      "text/plain": [
       "<tf.Tensor: shape=(9,), dtype=float32, numpy=\n",
       "array([0.       , 0.6931472, 1.0986123, 1.3862944, 1.609438 , 1.7917595,\n",
       "       1.9459102, 2.0794415, 2.1972246], dtype=float32)>"
      ]
     },
     "execution_count": 98,
     "metadata": {},
     "output_type": "execute_result"
    }
   ],
   "source": [
    "# \n",
    "# log (input also needs to be float)\n",
    "# \n",
    "tf.math.log(H)"
   ]
  },
  {
   "cell_type": "markdown",
   "metadata": {
    "id": "urq3bx3l_Y4K"
   },
   "source": [
    "## Manipulating `tf.Variable` tensors\n",
    "Change tensors in-place with\n",
    "* [`.assign()`](https://www.tensorflow.org/api_docs/python/tf/Variable#assign) - assign a different value to a particular index of a variable tensor\n",
    "* [`.add_assign()`](https://www.tensorflow.org/api_docs/python/tf/Variable#assign_add) - add to an existing value and reassign it at a particular index of a variable tensor\n"
   ]
  },
  {
   "cell_type": "code",
   "execution_count": 99,
   "metadata": {
    "colab": {
     "base_uri": "https://localhost:8080/"
    },
    "id": "tV7_uzdR_F4c",
    "outputId": "86c9ccb5-d32f-48a6-d55a-b34053aabc9f"
   },
   "outputs": [
    {
     "name": "stdout",
     "output_type": "stream",
     "text": [
      "I:\n",
      "<tf.Variable 'Variable:0' shape=(5,) dtype=int64, numpy=array([0, 1, 2, 3, 4])>\n",
      "I.assing...\n",
      "<tf.Variable 'UnreadVariable' shape=(5,) dtype=int64, numpy=array([ 0,  1,  2,  3, 50])>\n",
      "I again\n",
      "<tf.Variable 'Variable:0' shape=(5,) dtype=int64, numpy=array([ 0,  1,  2,  3, 50])>\n",
      "I.assign_add\n"
     ]
    },
    {
     "data": {
      "text/plain": [
       "<tf.Variable 'UnreadVariable' shape=(5,) dtype=int64, numpy=array([10, 11, 12, 13, 60])>"
      ]
     },
     "execution_count": 99,
     "metadata": {},
     "output_type": "execute_result"
    }
   ],
   "source": [
    "# Create a variable tensor\n",
    "I = tf.Variable(np.arange(0, 5))\n",
    "print('I:')\n",
    "print(I)\n",
    "\n",
    "# \n",
    "# Assign the final value a new value of 50\n",
    "# \n",
    "print('I.assing...')\n",
    "print(I.assign([0, 1, 2, 3, 50]))\n",
    "\n",
    "# NOTE: no copy made, the \"original\" gets the update\n",
    "print('I again')\n",
    "print(I)\n",
    "\n",
    "# \n",
    "# \n",
    "#\n",
    "# Add 10 to every element in I\n",
    "print('I.assign_add')\n",
    "I.assign_add([10, 10, 10, 10, 10])"
   ]
  },
  {
   "cell_type": "markdown",
   "metadata": {
    "id": "2L2IyQhl-Z73"
   },
   "source": [
    "## Tensors and NumPy\n",
    "Tensors can also be converted to NumPy arrays using:\n",
    "\n",
    "* `np.array()` - pass a tensor to convert to an ndarray (NumPy's main datatype)\n",
    "* `tensor.numpy()` - call on a tensor to convert to an ndarray\n",
    "\n",
    "Doing this can be helpful: it makes tensors iterable & makes NumPy's methods available"
   ]
  },
  {
   "cell_type": "code",
   "execution_count": 100,
   "metadata": {
    "colab": {
     "base_uri": "https://localhost:8080/"
    },
    "id": "HLHrij0vBywD",
    "outputId": "3fc123c9-c32c-4aac-e61e-900c75fc2a04"
   },
   "outputs": [
    {
     "name": "stdout",
     "output_type": "stream",
     "text": [
      "J: [ 3.  7. 10.]\n",
      "type of J: <class 'tensorflow.python.framework.ops.EagerTensor'>\n",
      "J.numpy: [ 3.  7. 10.]\n",
      "new type of J: <class 'numpy.ndarray'>\n"
     ]
    }
   ],
   "source": [
    "# Create a tensor from a NumPy array\n",
    "J = tf.constant(np.array([3., 7., 10.]))\n",
    "print(f'J: {J}')\n",
    "print(f'type of J: {type(J)}')\n",
    "print(f'J.numpy: {J.numpy()}')\n",
    "print(f'new type of J: {type(J.numpy())}')"
   ]
  },
  {
   "cell_type": "code",
   "execution_count": 101,
   "metadata": {
    "colab": {
     "base_uri": "https://localhost:8080/"
    },
    "id": "HrQoUeyPCXU9",
    "outputId": "3b7ae5e1-5fe5-4332-f6c1-09be8f3435f2"
   },
   "outputs": [
    {
     "data": {
      "text/plain": [
       "(tf.float64, tf.float32)"
      ]
     },
     "execution_count": 101,
     "metadata": {},
     "output_type": "execute_result"
    }
   ],
   "source": [
    "# Create a tensor from NumPy and from an array\n",
    "numpy_J = tf.constant(np.array([3., 7., 10.])) # will be float64 (due to NumPy)\n",
    "tensor_J = tf.constant([3., 7., 10.]) # will be float32 (due to being TensorFlow default)\n",
    "numpy_J.dtype, tensor_J.dtype"
   ]
  },
  {
   "cell_type": "markdown",
   "metadata": {
    "id": "_ytLPBWF1wxt"
   },
   "source": [
    "## Using `@tf.function`\n",
    "\n",
    "Python functions might have the decorator [`@tf.function`](https://www.tensorflow.org/api_docs/python/tf/function). For reference, [RealPython's guide on decorators](https://realpython.com/primer-on-python-decorators/). Decorators modify a function in one way or another.\n",
    "\n",
    "In the `@tf.function` decorator case, it turns a Python function into a callable TensorFlow graph. Which is a fancy way of saying, if you've written your own Python function, and you decorate it with `@tf.function`, when you export your code (to potentially run on another device), TensorFlow will attempt to convert it into a fast(er) version of itself (by making it part of a computation graph).\n",
    "\n",
    "For more on this, read the [Better performnace with tf.function](https://www.tensorflow.org/guide/function) guide."
   ]
  },
  {
   "cell_type": "code",
   "execution_count": 102,
   "metadata": {
    "colab": {
     "base_uri": "https://localhost:8080/"
    },
    "id": "URzFiwPoFDI7",
    "outputId": "65125afb-ff03-47fa-cd8e-033c0aba5eff"
   },
   "outputs": [
    {
     "name": "stdout",
     "output_type": "stream",
     "text": [
      "x: [0 1 2 3 4 5 6 7 8 9]\n",
      "y: [10 11 12 13 14 15 16 17 18 19]\n",
      "tf.Tensor([ 10  12  16  22  30  40  52  66  82 100], shape=(10,), dtype=int64)\n"
     ]
    }
   ],
   "source": [
    "# Create a simple function\n",
    "def timesTwoPlusY(x, y):\n",
    "    return x ** 2 + y\n",
    "\n",
    "x = tf.constant(np.arange(0, 10))\n",
    "print(f'x: {x}')\n",
    "y = tf.constant(np.arange(10, 20))\n",
    "print(f'y: {y}')\n",
    "print(timesTwoPlusY(x, y))"
   ]
  },
  {
   "cell_type": "code",
   "execution_count": 103,
   "metadata": {
    "colab": {
     "base_uri": "https://localhost:8080/"
    },
    "id": "EHGbvlkXF7Gs",
    "outputId": "1428bb59-5ec5-4bc5-8c72-fb97a7d8a85e"
   },
   "outputs": [
    {
     "name": "stderr",
     "output_type": "stream",
     "text": [
      "2025-02-15 21:18:58.698370: I tensorflow/core/grappler/optimizers/custom_graph_optimizer_registry.cc:114] Plugin optimizer for device_type GPU is enabled.\n"
     ]
    },
    {
     "data": {
      "text/plain": [
       "<tf.Tensor: shape=(10,), dtype=int64, numpy=array([ 10,  12,  16,  22,  30,  40,  52,  66,  82, 100])>"
      ]
     },
     "execution_count": 103,
     "metadata": {},
     "output_type": "execute_result"
    }
   ],
   "source": [
    "# Create the same function and decorate it with tf.function\n",
    "@tf.function\n",
    "def tf_function(x, y):\n",
    "  return x ** 2 + y\n",
    "\n",
    "tf_function(x, y)"
   ]
  },
  {
   "cell_type": "markdown",
   "metadata": {
    "id": "y8AQmchkxKDn"
   },
   "source": [
    "## Checking access to GPUs\n",
    " [`tf.config.list_physical_devices()`](https://www.tensorflow.org/guide/gpu)."
   ]
  },
  {
   "cell_type": "code",
   "execution_count": 104,
   "metadata": {
    "colab": {
     "base_uri": "https://localhost:8080/"
    },
    "id": "3rFNSeODxi3L",
    "outputId": "87f0a071-24c9-492c-e8f9-0be30cc488b9"
   },
   "outputs": [
    {
     "name": "stdout",
     "output_type": "stream",
     "text": [
      "[PhysicalDevice(name='/physical_device:GPU:0', device_type='GPU')]\n"
     ]
    }
   ],
   "source": [
    "print(tf.config.list_physical_devices('GPU'))"
   ]
  },
  {
   "cell_type": "markdown",
   "metadata": {
    "id": "8165PtH8xyq5"
   },
   "source": [
    "If the above outputs an empty array (or nothing), it means you don't have access to a GPU (or at least TensorFlow can't find it).\n",
    "\n",
    "If you're running in Google Colab, you can access a GPU by going to *Runtime -> Change Runtime Type -> Select GPU*."
   ]
  },
  {
   "cell_type": "markdown",
   "metadata": {},
   "source": [
    "## Matrix Practice\n",
    "1. Create a vector, scalar, matrix and tensor with (any) values using tf.constant()\n",
    "2. Find the shape, rank and size of the tensors from 1\n",
    "3. Create two tensors containing random values between 0 and 1 with shape [5, 300]\n",
    "4. Multiply the two tensors from 3 using matrix multiplication\n",
    "5. Multiply the two tensors from 3 using dot product\n",
    "6. Create a tensor with random values between 0 and 1 with shape [224, 224, 3]\n",
    "7. Find the min and max values of the tensor from 6\n",
    "8. Created a tensor with random values of shape [1, 224, 224, 3] then squeeze it to change the shape to [224, 224, 3]\n",
    "9. Create a tensor with shape [10] using any values, then find the matrix item index which has the maximum value\n",
    "10. One-hot encode the tensor in 9"
   ]
  },
  {
   "cell_type": "code",
   "execution_count": 105,
   "metadata": {},
   "outputs": [],
   "source": [
    "# 1\n",
    "vectorTest = tf.constant([2, 3])\n",
    "matrixTest = matrix = tf.constant([[2, 3],[4, 5]])\n",
    "scalarTest = tf.constant(2)"
   ]
  },
  {
   "cell_type": "code",
   "execution_count": 106,
   "metadata": {},
   "outputs": [
    {
     "name": "stdout",
     "output_type": "stream",
     "text": [
      "#2\n",
      "vector props:\n",
      "shape: (2,)\n",
      "rank: 1\n",
      "size: 2\n",
      "\n",
      "matrix props:\n",
      "shape: (2, 2)\n",
      "rank: 2\n",
      "size: 4\n"
     ]
    }
   ],
   "source": [
    "# 2\n",
    "print('#2')\n",
    "print('vector props:')\n",
    "print(f'shape: {vectorTest.shape}')\n",
    "print(f'rank: {tf.rank(vectorTest)}')\n",
    "print(f'size: {tf.size(vectorTest)}')\n",
    "\n",
    "print('')\n",
    "print('matrix props:')\n",
    "print(f'shape: {matrix.shape}')\n",
    "print(f'rank: {tf.rank(matrix)}')\n",
    "print(f'size: {tf.size(matrix)}')"
   ]
  },
  {
   "cell_type": "code",
   "execution_count": 107,
   "metadata": {},
   "outputs": [
    {
     "name": "stdout",
     "output_type": "stream",
     "text": [
      "\n",
      "#3: 2 random tensors\n",
      "tf.Tensor(\n",
      "[[0.31179297 0.8263413  0.6849456  ... 0.56451845 0.44649565 0.41026497]\n",
      " [0.60833323 0.50973356 0.31043375 ... 0.50437474 0.6110033  0.7943536 ]\n",
      " [0.20573044 0.5442884  0.10470831 ... 0.18146193 0.26921892 0.71201587]\n",
      " [0.31422472 0.15571809 0.59350574 ... 0.21489167 0.96785796 0.13088453]\n",
      " [0.00473952 0.06306279 0.91214204 ... 0.7092078  0.93488145 0.7450988 ]], shape=(5, 300), dtype=float32)\n",
      "tf.Tensor(\n",
      "[[0.31179297 0.8263413  0.6849456  ... 0.56451845 0.44649565 0.41026497]\n",
      " [0.60833323 0.50973356 0.31043375 ... 0.50437474 0.6110033  0.7943536 ]\n",
      " [0.20573044 0.5442884  0.10470831 ... 0.18146193 0.26921892 0.71201587]\n",
      " [0.31422472 0.15571809 0.59350574 ... 0.21489167 0.96785796 0.13088453]\n",
      " [0.00473952 0.06306279 0.91214204 ... 0.7092078  0.93488145 0.7450988 ]], shape=(5, 300), dtype=float32)\n"
     ]
    }
   ],
   "source": [
    "\n",
    "#3\n",
    "print('')\n",
    "print('#3: 2 random tensors')\n",
    "random_1 = tf.random.Generator.from_seed(42) # set the seed for reproducibility\n",
    "randomTestOne = tf.random.uniform(shape=[5,300], minval=0, maxval=1)\n",
    "randomTestTwo = tf.random.uniform(shape=[5,300], minval=0, maxval=1)\n",
    "print(randomTestOne)\n",
    "print(randomTestTwo)"
   ]
  },
  {
   "cell_type": "code",
   "execution_count": 108,
   "metadata": {
    "scrolled": true
   },
   "outputs": [
    {
     "name": "stdout",
     "output_type": "stream",
     "text": [
      "\n",
      "#4: matmul the 2 random tensors with matmul\n",
      "tf.Tensor(\n",
      "[[ 98.34755   80.0121    76.37611   70.609406  74.27988 ]\n",
      " [ 80.0121   107.65361   74.474396  72.36779   79.742485]\n",
      " [ 76.37611   74.474396  99.23935   71.1331    72.19905 ]\n",
      " [ 70.609406  72.36779   71.1331    89.66724   69.214325]\n",
      " [ 74.27988   79.742485  72.19905   69.214325  99.42442 ]], shape=(5, 5), dtype=float32)\n"
     ]
    }
   ],
   "source": [
    "\n",
    "print('')\n",
    "print('#4: matmul the 2 random tensors with matmul')\n",
    "print(tf.matmul(randomTestOne, tf.transpose(randomTestTwo)))"
   ]
  },
  {
   "cell_type": "code",
   "execution_count": 109,
   "metadata": {},
   "outputs": [
    {
     "name": "stdout",
     "output_type": "stream",
     "text": [
      "\n",
      "#5: multiply using dotproduct\n",
      "tf.Tensor(\n",
      "[[0.6083688  0.7289413  0.6147674  ... 0.5910586  0.87485015 0.80229133]\n",
      " [0.7289413  1.2671431  0.9311706  ... 0.9005364  1.0366086  1.1988387 ]\n",
      " [0.6147674  0.9311706  1.7607356  ... 1.3366777  1.9508647  1.359474  ]\n",
      " ...\n",
      " [0.5910586  0.9005364  1.3366777  ... 1.1551576  1.4800924  1.3180138 ]\n",
      " [0.87485015 1.0366086  1.9508647  ... 1.4800924  2.4559145  1.683479  ]\n",
      " [0.80229133 1.1988387  1.359474   ... 1.3180138  1.683479   1.8785846 ]], shape=(300, 300), dtype=float32)\n"
     ]
    }
   ],
   "source": [
    "\n",
    "print('')\n",
    "print('#5: multiply using dotproduct')\n",
    "print(tf.tensordot(tf.transpose(randomTestOne), randomTestTwo, axes=1))"
   ]
  },
  {
   "cell_type": "code",
   "execution_count": 110,
   "metadata": {},
   "outputs": [
    {
     "name": "stdout",
     "output_type": "stream",
     "text": [
      "\n",
      "#6: random tensor with shape\n",
      "tf.Tensor(\n",
      "[[[0.31179297 0.8263413  0.6849456 ]\n",
      "  [0.0067091  0.78749514 0.3906511 ]\n",
      "  [0.29263055 0.99216926 0.95810425]\n",
      "  ...\n",
      "  [0.43970728 0.976676   0.8946736 ]\n",
      "  [0.9747398  0.7011992  0.73613393]\n",
      "  [0.4360633  0.7536833  0.01353109]]\n",
      "\n",
      " [[0.2823602  0.0927937  0.2424469 ]\n",
      "  [0.92214036 0.1318667  0.18895125]\n",
      "  [0.13469017 0.29916108 0.22880554]\n",
      "  ...\n",
      "  [0.10263181 0.3771491  0.7380618 ]\n",
      "  [0.6484846  0.69211054 0.67284966]\n",
      "  [0.43589175 0.48166    0.14082742]]\n",
      "\n",
      " [[0.41235518 0.45162737 0.6804353 ]\n",
      "  [0.04887676 0.6775023  0.29143417]\n",
      "  [0.3466624  0.17450547 0.38451958]\n",
      "  ...\n",
      "  [0.8667455  0.16113937 0.67500424]\n",
      "  [0.8560462  0.48929954 0.97561824]\n",
      "  [0.5725883  0.8036673  0.3923154 ]]\n",
      "\n",
      " ...\n",
      "\n",
      " [[0.68855166 0.3706571  0.03126299]\n",
      "  [0.61133444 0.21750414 0.9080095 ]\n",
      "  [0.20064199 0.31340492 0.85072494]\n",
      "  ...\n",
      "  [0.8053781  0.54289234 0.08450699]\n",
      "  [0.6037886  0.0091573  0.14664805]\n",
      "  [0.36727667 0.66913784 0.9003469 ]]\n",
      "\n",
      " [[0.4256966  0.88771296 0.6295724 ]\n",
      "  [0.99141705 0.49446368 0.28761828]\n",
      "  [0.18791914 0.23971832 0.9050621 ]\n",
      "  ...\n",
      "  [0.871716   0.18161333 0.5948199 ]\n",
      "  [0.41212344 0.57436764 0.69658744]\n",
      "  [0.64828384 0.0412488  0.70286477]]\n",
      "\n",
      " [[0.48708987 0.24799585 0.5379176 ]\n",
      "  [0.21690464 0.206483   0.40172505]\n",
      "  [0.8851794  0.11487484 0.05643916]\n",
      "  ...\n",
      "  [0.97581923 0.1263851  0.1536969 ]\n",
      "  [0.47106755 0.2772559  0.00255883]\n",
      "  [0.16718328 0.01739931 0.56322515]]], shape=(224, 224, 3), dtype=float32)\n"
     ]
    }
   ],
   "source": [
    "print('')\n",
    "print('#6: random tensor with shape')\n",
    "testSix = tf.random.uniform(shape=[224, 224, 3], minval=0, maxval=1)\n",
    "print(testSix)"
   ]
  },
  {
   "cell_type": "code",
   "execution_count": 111,
   "metadata": {},
   "outputs": [
    {
     "name": "stdout",
     "output_type": "stream",
     "text": [
      "\n",
      "#7: min & max of that tensor\n",
      "min: 4.0531158447265625e-06\n",
      "max: 0.9999873638153076\n"
     ]
    }
   ],
   "source": [
    "print('')\n",
    "print('#7: min & max of that tensor')\n",
    "print(f'min: {tf.reduce_min(testSix)}')\n",
    "print(f'max: {tf.reduce_max(testSix)}')"
   ]
  },
  {
   "cell_type": "code",
   "execution_count": 112,
   "metadata": {},
   "outputs": [
    {
     "name": "stdout",
     "output_type": "stream",
     "text": [
      "\n",
      "#8: random tensor & squeeze\n",
      "testEight shape:(1, 224, 224, 3)\n",
      "testEight SQUEEZED:(224, 224, 3)\n"
     ]
    }
   ],
   "source": [
    "print('')\n",
    "print('#8: random tensor & squeeze')\n",
    "testEight = tf.random.uniform(shape=[1, 224, 224, 3])\n",
    "print(f'testEight shape:{testEight.shape}')\n",
    "print(f'testEight SQUEEZED:{tf.squeeze(testEight).shape}')"
   ]
  },
  {
   "cell_type": "code",
   "execution_count": 113,
   "metadata": {},
   "outputs": [
    {
     "name": "stdout",
     "output_type": "stream",
     "text": [
      "#9: create with shape and custom vals\n",
      "tf.Tensor([ 1  2 10  4  5  6  7  8  9  3], shape=(10,), dtype=int32)\n",
      "Index of the largest number: 2\n"
     ]
    }
   ],
   "source": [
    "print('#9: create with shape and custom vals')\n",
    "my_values = [1, 2, 10, 4, 5, 6, 7, 8, 9, 3]\n",
    "testNine = tf.constant(my_values, shape=[10])\n",
    "print(testNine)\n",
    "\n",
    "#find the matrix item index which has the maximum value\n",
    "max_index = tf.argmax(testNine).numpy()\n",
    "print(f\"Index of the largest number: {max_index}\")"
   ]
  },
  {
   "cell_type": "code",
   "execution_count": 114,
   "metadata": {},
   "outputs": [
    {
     "name": "stdout",
     "output_type": "stream",
     "text": [
      "#10: one-hot-encode #9\n",
      "tf.Tensor(\n",
      "[[0. 1. 0. 0. 0. 0. 0. 0. 0. 0.]\n",
      " [0. 0. 1. 0. 0. 0. 0. 0. 0. 0.]\n",
      " [0. 0. 0. 0. 0. 0. 0. 0. 0. 0.]\n",
      " [0. 0. 0. 0. 1. 0. 0. 0. 0. 0.]\n",
      " [0. 0. 0. 0. 0. 1. 0. 0. 0. 0.]\n",
      " [0. 0. 0. 0. 0. 0. 1. 0. 0. 0.]\n",
      " [0. 0. 0. 0. 0. 0. 0. 1. 0. 0.]\n",
      " [0. 0. 0. 0. 0. 0. 0. 0. 1. 0.]\n",
      " [0. 0. 0. 0. 0. 0. 0. 0. 0. 1.]\n",
      " [0. 0. 0. 1. 0. 0. 0. 0. 0. 0.]], shape=(10, 10), dtype=float32)\n"
     ]
    }
   ],
   "source": [
    "print('#10: one-hot-encode #9')\n",
    "print(tf.one_hot(testNine, depth=len(testNine)))"
   ]
  },
  {
   "cell_type": "code",
   "execution_count": null,
   "metadata": {},
   "outputs": [],
   "source": []
  }
 ],
 "metadata": {
  "accelerator": "GPU",
  "colab": {
   "authorship_tag": "ABX9TyPtjTIh2BnxrHodM1T0I1I2",
   "collapsed_sections": [
    "fzjcZ4FHCOb5"
   ],
   "include_colab_link": true,
   "provenance": []
  },
  "gpuClass": "premium",
  "kernelspec": {
   "display_name": "Python 3 (ipykernel)",
   "language": "python",
   "name": "python3"
  },
  "language_info": {
   "codemirror_mode": {
    "name": "ipython",
    "version": 3
   },
   "file_extension": ".py",
   "mimetype": "text/x-python",
   "name": "python",
   "nbconvert_exporter": "python",
   "pygments_lexer": "ipython3",
   "version": "3.8.1"
  }
 },
 "nbformat": 4,
 "nbformat_minor": 4
}
