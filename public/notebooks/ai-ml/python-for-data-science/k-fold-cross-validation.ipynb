{
 "cells": [
  {
   "cell_type": "markdown",
   "metadata": {},
   "source": [
    "# K-Fold Cross Validation\n",
    "This is a way to address over-fitting a model to the training data.  \n",
    "- split data into `K` random groups\n",
    "- reserve 1 set as testing data\n",
    "- train over-and-over on the `K-1` segments\n",
    "- take the AVERAGE of the K r-squared scored as the predictability score\n",
    "\n",
    "scikitlearn has a few modules included that make this simple in implementation.  \n",
    "\n",
    "## Dependencies"
   ]
  },
  {
   "cell_type": "code",
   "execution_count": 1,
   "metadata": {},
   "outputs": [],
   "source": [
    "import numpy as np\n",
    "from sklearn.model_selection import cross_val_score, train_test_split\n",
    "from sklearn import datasets\n",
    "from sklearn import svm"
   ]
  },
  {
   "cell_type": "markdown",
   "metadata": {},
   "source": [
    "## Load Some Data"
   ]
  },
  {
   "cell_type": "code",
   "execution_count": 2,
   "metadata": {},
   "outputs": [],
   "source": [
    "irisData = datasets.load_iris()"
   ]
  },
  {
   "cell_type": "markdown",
   "metadata": {},
   "source": [
    "## Split Data into Train & Test Data\n",
    "A single train/test split is made easy with the train_test_split function in the cross_validation library:"
   ]
  },
  {
   "cell_type": "code",
   "execution_count": 3,
   "metadata": {},
   "outputs": [],
   "source": [
    "# Split the iris data into train/test data sets with 40% reserved for testing\n",
    "# DOCS: \n",
    "# https://scikit-learn.org/stable/modules/generated/sklearn.model_selection.train_test_split.html\n",
    "trainingData = irisData.data\n",
    "expectedResults = irisData.target\n",
    "percentageOfTestingData = .4\n",
    "X_train, X_test, y_train, y_test = train_test_split(trainingData, expectedResults, test_size=percentageOfTestingData, random_state=0)"
   ]
  },
  {
   "cell_type": "markdown",
   "metadata": {},
   "source": [
    "## Build A Model From Training Data"
   ]
  },
  {
   "cell_type": "code",
   "execution_count": 4,
   "metadata": {},
   "outputs": [],
   "source": [
    "# Build an SVC model for predicting irisData classifications using training data\n",
    "# SVC DOCS\n",
    "# https://scikit-learn.org/stable/modules/generated/sklearn.svm.SVC.html\n",
    "\n",
    "svcKernel = 'linear'\n",
    "svcLinearModel = svm.SVC(kernel=svcKernel, C=1).fit(X_train, y_train)"
   ]
  },
  {
   "cell_type": "markdown",
   "metadata": {},
   "source": [
    "## Measure the Model's Performance"
   ]
  },
  {
   "cell_type": "code",
   "execution_count": 11,
   "metadata": {},
   "outputs": [
    {
     "name": "stdout",
     "output_type": "stream",
     "text": [
      "linearModelScore: 0.9\n"
     ]
    }
   ],
   "source": [
    "# Now measure its performance with the test data\n",
    "linearModelScore = svcLinearModel.score(X_test, y_test)\n",
    "print(f'linearModelScore: {linearModelScore}')"
   ]
  },
  {
   "cell_type": "markdown",
   "metadata": {},
   "source": [
    "## Start K-Fold Cross Validation\n",
    "[An Article](https://machinelearningmastery.com/k-fold-cross-validation/)"
   ]
  },
  {
   "cell_type": "code",
   "execution_count": 6,
   "metadata": {},
   "outputs": [],
   "source": [
    "# set a \"K\" value, the number of samples to use from the dataset\n",
    "k = 5;"
   ]
  },
  {
   "cell_type": "code",
   "execution_count": 12,
   "metadata": {},
   "outputs": [
    {
     "name": "stdout",
     "output_type": "stream",
     "text": [
      "cross-validation score:\n",
      "[0.96666667 1.         0.96666667 0.96666667 1.        ]\n",
      "mean of scores: 0.9800000000000001\n"
     ]
    }
   ],
   "source": [
    "# We give cross_val_score a model, the entire data set and its \"real\" values, and the number of folds:\n",
    "# https://scikit-learn.org/stable/modules/generated/sklearn.model_selection.cross_val_score.html\n",
    "cvs = cross_val_score(svcLinearModel, irisData.data, irisData.target, cv=k)\n",
    "\n",
    "# Print the accuracy for each fold:\n",
    "print(\"svcLinearModel cross-validation score:\")\n",
    "print(scores)\n",
    "\n",
    "# And the mean accuracy of all 5 folds:\n",
    "print(\"mean of scores:\",scores.mean())"
   ]
  },
  {
   "cell_type": "markdown",
   "metadata": {},
   "source": [
    "## Use K-Fold With Different Variables\n",
    "Our model is pretty great.  \n",
    "Here, using a `poly` kernel value"
   ]
  },
  {
   "cell_type": "code",
   "execution_count": 17,
   "metadata": {},
   "outputs": [
    {
     "name": "stdout",
     "output_type": "stream",
     "text": [
      "svcPolyModel scores\n",
      "[0.96666667 1.         0.96666667 0.96666667 1.        ]\n",
      "0.9800000000000001\n"
     ]
    }
   ],
   "source": [
    "polyKernel = 'poly'\n",
    "svcPolyModel = svm.SVC(kernel=polyKernel, C=1)\n",
    "scores = cross_val_score(svcPolyModel, irisData.data, irisData.target, cv=k)\n",
    "print('svcPolyModel scores')\n",
    "print(scores)\n",
    "print(scores.mean())"
   ]
  },
  {
   "cell_type": "markdown",
   "metadata": {},
   "source": [
    "\n",
    "The more complex polynomial kernel produced lower accuracy than a simple linear kernel. The polynomial kernel is overfitting. But we couldn't have told that with a single train/test split:"
   ]
  },
  {
   "cell_type": "code",
   "execution_count": 18,
   "metadata": {},
   "outputs": [
    {
     "data": {
      "text/plain": [
       "0.9"
      ]
     },
     "execution_count": 18,
     "metadata": {},
     "output_type": "execute_result"
    }
   ],
   "source": [
    "# Build an SVC model for predicting iris classifications using training data\n",
    "svcModel = svm.SVC(kernel=polyKernel, C=1).fit(X_train, y_train)\n",
    "\n",
    "# Now measure its performance with the test data\n",
    "svcModel.score(X_test, y_test)   "
   ]
  },
  {
   "cell_type": "markdown",
   "metadata": {},
   "source": [
    "## Comparing Polynomial Degress"
   ]
  },
  {
   "cell_type": "code",
   "execution_count": 19,
   "metadata": {},
   "outputs": [
    {
     "name": "stdout",
     "output_type": "stream",
     "text": [
      "svcModelTwoScore: 0.95\n",
      "svcModelFourScore: 0.9166666666666666\n"
     ]
    }
   ],
   "source": [
    "svcModelTwo = svm.SVC(kernel=polyKernel, degree=2, C=1).fit(X_train, y_train)\n",
    "svcModelFour = svm.SVC(kernel=polyKernel, degree=4, C=1).fit(X_train, y_train)\n",
    "\n",
    "# Now measure its performance with the test data\n",
    "print(f'svcModelTwoScore: {svcModelTwo.score(X_test, y_test)}')\n",
    "print(f'svcModelFourScore: {svcModelFour.score(X_test, y_test)}')"
   ]
  }
 ],
 "metadata": {
  "kernelspec": {
   "display_name": "Python 3 (ipykernel)",
   "language": "python",
   "name": "python3"
  },
  "language_info": {
   "codemirror_mode": {
    "name": "ipython",
    "version": 3
   },
   "file_extension": ".py",
   "mimetype": "text/x-python",
   "name": "python",
   "nbconvert_exporter": "python",
   "pygments_lexer": "ipython3",
   "version": "3.8.1"
  }
 },
 "nbformat": 4,
 "nbformat_minor": 4
}
