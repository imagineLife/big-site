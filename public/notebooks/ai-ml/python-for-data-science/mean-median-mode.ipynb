{
 "cells": [
  {
   "cell_type": "markdown",
   "metadata": {},
   "source": [
    "# Mean, Median, and Mode with NumPy"
   ]
  },
  {
   "cell_type": "code",
   "execution_count": 11,
   "metadata": {},
   "outputs": [],
   "source": [
    "import numpy as np\n",
    "from scipy import stats\n",
    "%matplotlib inline\n",
    "import matplotlib.pyplot as plt"
   ]
  },
  {
   "cell_type": "markdown",
   "metadata": {},
   "source": [
    "## Mean & Median\n",
    "Mean is the average.\n",
    "Median is the middle."
   ]
  },
  {
   "cell_type": "markdown",
   "metadata": {},
   "source": [
    "### Generate Fake Data\n",
    "some data \n",
    "- centered around 27,000\n",
    "- with a normal distribution and standard deviation of 15,000\n",
    "- with 10,000 data points"
   ]
  },
  {
   "cell_type": "code",
   "execution_count": 12,
   "metadata": {},
   "outputs": [],
   "source": [
    "dataCenter = 27000\n",
    "normalDistribution = 15000\n",
    "numberOfPoints = 10000\n",
    "\n",
    "incomeData = np.random.normal(dataCenter, normalDistribution, numberOfPoints)"
   ]
  },
  {
   "cell_type": "markdown",
   "metadata": {},
   "source": [
    "### Calculate Mean"
   ]
  },
  {
   "cell_type": "code",
   "execution_count": 13,
   "metadata": {},
   "outputs": [
    {
     "data": {
      "text/plain": [
       "26825.809929744333"
      ]
     },
     "execution_count": 13,
     "metadata": {},
     "output_type": "execute_result"
    }
   ],
   "source": [
    "np.mean(incomeData)"
   ]
  },
  {
   "cell_type": "markdown",
   "metadata": {},
   "source": [
    "### Visualize\n",
    "We can segment the income data into 50 buckets, and plot it as a histogram"
   ]
  },
  {
   "cell_type": "code",
   "execution_count": 14,
   "metadata": {},
   "outputs": [
    {
     "data": {
      "image/png": "[encoded data removed]",
      "text/plain": [
       "<Figure size 640x480 with 1 Axes>"
      ]
     },
     "metadata": {},
     "output_type": "display_data"
    }
   ],
   "source": [
    "bucketCount = 50\n",
    "plt.hist(incomeData, bucketCount)\n",
    "plt.show()"
   ]
  },
  {
   "cell_type": "markdown",
   "metadata": {},
   "source": [
    "### Calculate Median"
   ]
  },
  {
   "cell_type": "code",
   "execution_count": 15,
   "metadata": {},
   "outputs": [
    {
     "data": {
      "text/plain": [
       "26784.49799065586"
      ]
     },
     "execution_count": 15,
     "metadata": {},
     "output_type": "execute_result"
    }
   ],
   "source": [
    "np.median(incomeData)"
   ]
  },
  {
   "cell_type": "markdown",
   "metadata": {},
   "source": [
    "### See Impact of an outlier"
   ]
  },
  {
   "cell_type": "code",
   "execution_count": 16,
   "metadata": {},
   "outputs": [],
   "source": [
    "massiveIncome = 1_000_000_000 # 1 billion\n",
    "incomeData = np.append(incomeData, [massiveIncome])"
   ]
  },
  {
   "cell_type": "markdown",
   "metadata": {},
   "source": [
    "The median won't change much, but the mean does:"
   ]
  },
  {
   "cell_type": "code",
   "execution_count": 17,
   "metadata": {},
   "outputs": [
    {
     "data": {
      "text/plain": [
       "26784.538863280966"
      ]
     },
     "execution_count": 17,
     "metadata": {},
     "output_type": "execute_result"
    }
   ],
   "source": [
    "np.median(incomeData)"
   ]
  },
  {
   "cell_type": "code",
   "execution_count": 18,
   "metadata": {},
   "outputs": [
    {
     "data": {
      "text/plain": [
       "126813.12861688265"
      ]
     },
     "execution_count": 18,
     "metadata": {},
     "output_type": "execute_result"
    }
   ],
   "source": [
    "np.mean(incomeData)"
   ]
  },
  {
   "cell_type": "markdown",
   "metadata": {
    "jp-MarkdownHeadingCollapsed": true
   },
   "source": [
    "### Impacts\n",
    "- **median** doesnt meaningfully change\n",
    "- **mean** changes significantly"
   ]
  },
  {
   "cell_type": "markdown",
   "metadata": {},
   "source": [
    "### Calculate Mode"
   ]
  },
  {
   "cell_type": "code",
   "execution_count": 19,
   "metadata": {},
   "outputs": [
    {
     "data": {
      "text/plain": [
       "array([82, 71, 18, 37, 48, 80, 32, 54, 20, 28, 38, 74, 30, 87, 82, 63, 53,\n",
       "       28, 66, 75, 25, 48, 68, 48, 32, 79, 56, 57, 47, 50, 89, 47, 45, 71,\n",
       "       47, 38, 84, 44, 61, 78, 35, 42, 18, 78, 85, 82, 64, 43, 57, 31, 53,\n",
       "       37, 26, 89, 60, 75, 29, 81, 63, 37, 71, 89, 71, 20, 83, 20, 88, 70,\n",
       "       28, 49, 51, 80, 89, 56, 84, 63, 87, 84, 78, 89, 77, 82, 61, 30, 69,\n",
       "       78, 74, 21, 55, 66, 70, 43, 88, 64, 27, 68, 68, 87, 20, 20, 52, 60,\n",
       "       58, 22, 24, 26, 27, 36, 25, 88, 78, 84, 80, 73, 70, 31, 20, 85, 39,\n",
       "       23, 36, 33, 50, 34, 27, 69, 19, 24, 69, 44, 59, 40, 25, 88, 21, 86,\n",
       "       44, 59, 63, 78, 74, 38, 76, 41, 57, 86, 33, 57, 26, 79, 68, 46, 71,\n",
       "       87, 40, 81, 79, 67, 66, 74, 76, 61, 39, 54, 27, 58, 41, 76, 53, 33,\n",
       "       50, 71, 49, 39, 87, 85, 84, 79, 40, 45, 72, 89, 37, 70, 61, 30, 60,\n",
       "       63, 38, 69, 52, 40, 81, 22, 59, 66, 74, 47, 68, 85, 41, 28, 49, 44,\n",
       "       60, 62, 78, 53, 88, 89, 74, 80, 22, 79, 33, 18, 69, 69, 64, 48, 74,\n",
       "       77, 52, 70, 80, 29, 77, 74, 37, 40, 71, 89, 58, 44, 40, 73, 30, 65,\n",
       "       37, 55, 82, 44, 28, 62, 71, 36, 83, 49, 69, 37, 47, 61, 60, 80, 23,\n",
       "       67, 83, 80, 63, 65, 45, 25, 37, 76, 34, 79, 21, 48, 86, 32, 63, 27,\n",
       "       86, 67, 57, 42, 68, 57, 39, 49, 82, 47, 40, 47, 32, 28, 68, 89, 48,\n",
       "       71, 47, 46, 19, 24, 75, 78, 65, 25, 82, 30, 67, 71, 30, 54, 66, 60,\n",
       "       77, 35, 72, 69, 37, 58, 79, 33, 53, 70, 60, 23, 35, 61, 71, 81, 53,\n",
       "       48, 52, 37, 86, 59, 35, 33, 58, 35, 84, 49, 87, 66, 76, 88, 89, 34,\n",
       "       68, 25, 47, 42, 79, 18, 65, 88, 20, 32, 58, 21, 20, 85, 36, 71, 47,\n",
       "       69, 27, 86, 60, 74, 21, 38, 78, 47, 19, 79, 71, 50, 35, 36, 79, 86,\n",
       "       58, 51, 56, 49, 30, 23, 81, 59, 49, 41, 22, 87, 64, 62, 59, 34, 35,\n",
       "       40, 35, 47, 32, 73, 63, 26, 53, 25, 34, 40, 65, 50, 35, 37, 62, 33,\n",
       "       54, 71, 47, 85, 75, 28, 75, 63, 20, 30, 41, 23, 85, 61, 54, 83, 43,\n",
       "       83, 33, 76, 58, 41, 64, 60, 27, 64, 61, 47, 19, 53, 24, 48, 88, 49,\n",
       "       37, 75, 24, 76, 60, 25, 78, 85, 28, 37, 87, 50, 45, 41, 26, 58, 22,\n",
       "       60, 38, 25, 67, 41, 74, 46, 76, 65, 73, 30, 88, 26, 46, 31, 87, 62,\n",
       "       37, 66, 59, 55, 21, 46, 56, 60, 45, 78, 22, 72, 52, 52, 83, 74, 67,\n",
       "       77, 60, 72, 85, 21, 79, 67])"
      ]
     },
     "execution_count": 19,
     "metadata": {},
     "output_type": "execute_result"
    }
   ],
   "source": [
    "minAge = 18\n",
    "maxAge = 90\n",
    "howManyDataPoints = 500\n",
    "ageData = np.random.randint(minAge, high=maxAge, size=howManyDataPoints)\n",
    "ageData"
   ]
  },
  {
   "cell_type": "code",
   "execution_count": 20,
   "metadata": {},
   "outputs": [
    {
     "data": {
      "text/plain": [
       "ModeResult(mode=array([37]), count=array([14]))"
      ]
     },
     "execution_count": 20,
     "metadata": {},
     "output_type": "execute_result"
    }
   ],
   "source": [
    "stats.mode(ageData, keepdims=True)"
   ]
  }
 ],
 "metadata": {
  "kernelspec": {
   "display_name": "Python 3 (ipykernel)",
   "language": "python",
   "name": "python3"
  },
  "language_info": {
   "codemirror_mode": {
    "name": "ipython",
    "version": 3
   },
   "file_extension": ".py",
   "mimetype": "text/x-python",
   "name": "python",
   "nbconvert_exporter": "python",
   "pygments_lexer": "ipython3",
   "version": "3.8.1"
  }
 },
 "nbformat": 4,
 "nbformat_minor": 4
}
