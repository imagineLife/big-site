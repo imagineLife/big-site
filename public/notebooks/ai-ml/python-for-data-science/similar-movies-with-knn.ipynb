{
 "cells": [
  {
   "cell_type": "markdown",
   "metadata": {},
   "source": [
    "# KNN (K-Nearest-Neighbors)\n",
    "KNN is a simple concept: \n",
    "- define some **\"distance metric\" between the items in your dataset**\n",
    "- find the **\"K\"** closest items, \"nearest neighbors\", to a point-of-interest\n",
    "- use those items to predict some property of a test item, by having them somehow \"vote\" on the \"test\" item\n",
    "\n",
    "As an example, let's look at some movie data: \n",
    "- try to guess the **rating of a movie** by looking at the 10 movies that are closest to it in terms of **genres** and **popularity**\n",
    "\n",
    "## Scipy Spacial at the core\n",
    "`spatial.distance.cosine(arr1,arr2)` is the function being used here to [compare the \"distance\" between two flat arrays](https://docs.scipy.org/doc/scipy/reference/generated/scipy.spatial.distance.cosine.html). This `cosine` function is used in the `ComputeDistance` function below.     \n",
    "In the case of this example, the two flat arrays are `0`s and `1`s that represent somewhat of a \"one-hot-encoding\" of each of two movie's genres, where `1` represents the presence of a genre.  "
   ]
  },
  {
   "cell_type": "markdown",
   "metadata": {},
   "source": [
    "## Dependencies"
   ]
  },
  {
   "cell_type": "code",
   "execution_count": 1,
   "metadata": {},
   "outputs": [],
   "source": [
    "import pandas as pd\n",
    "import numpy as np\n",
    "from scipy import spatial\n",
    "import operator"
   ]
  },
  {
   "cell_type": "markdown",
   "metadata": {},
   "source": [
    "## Load + Preview the Data"
   ]
  },
  {
   "cell_type": "code",
   "execution_count": 2,
   "metadata": {},
   "outputs": [
    {
     "data": {
      "text/html": [
       "<div>\n",
       "<style scoped>\n",
       "    .dataframe tbody tr th:only-of-type {\n",
       "        vertical-align: middle;\n",
       "    }\n",
       "\n",
       "    .dataframe tbody tr th {\n",
       "        vertical-align: top;\n",
       "    }\n",
       "\n",
       "    .dataframe thead th {\n",
       "        text-align: right;\n",
       "    }\n",
       "</style>\n",
       "<table border=\"1\" class=\"dataframe\">\n",
       "  <thead>\n",
       "    <tr style=\"text-align: right;\">\n",
       "      <th></th>\n",
       "      <th>user_id</th>\n",
       "      <th>movie_id</th>\n",
       "      <th>rating</th>\n",
       "    </tr>\n",
       "  </thead>\n",
       "  <tbody>\n",
       "    <tr>\n",
       "      <th>0</th>\n",
       "      <td>0</td>\n",
       "      <td>50</td>\n",
       "      <td>5</td>\n",
       "    </tr>\n",
       "    <tr>\n",
       "      <th>1</th>\n",
       "      <td>0</td>\n",
       "      <td>172</td>\n",
       "      <td>5</td>\n",
       "    </tr>\n",
       "    <tr>\n",
       "      <th>2</th>\n",
       "      <td>0</td>\n",
       "      <td>133</td>\n",
       "      <td>1</td>\n",
       "    </tr>\n",
       "    <tr>\n",
       "      <th>3</th>\n",
       "      <td>196</td>\n",
       "      <td>242</td>\n",
       "      <td>3</td>\n",
       "    </tr>\n",
       "    <tr>\n",
       "      <th>4</th>\n",
       "      <td>186</td>\n",
       "      <td>302</td>\n",
       "      <td>3</td>\n",
       "    </tr>\n",
       "  </tbody>\n",
       "</table>\n",
       "</div>"
      ],
      "text/plain": [
       "   user_id  movie_id  rating\n",
       "0        0        50       5\n",
       "1        0       172       5\n",
       "2        0       133       1\n",
       "3      196       242       3\n",
       "4      186       302       3"
      ]
     },
     "execution_count": 2,
     "metadata": {},
     "output_type": "execute_result"
    }
   ],
   "source": [
    "ratingsCols = ['user_id', 'movie_id', 'rating']\n",
    "ratingsDataFilePath = 'ml-100k/u.data'\n",
    "ratingsData = pd.read_csv(ratingsDataFilePath, sep='\\t', names=ratingsCols, usecols=range(3))\n",
    "ratingsData.head()"
   ]
  },
  {
   "cell_type": "markdown",
   "metadata": {},
   "source": [
    "## Group + Aggregate\n",
    "- group everything by movie ID\n",
    "- compute the **total number of ratings** (each movie's popularity) \n",
    "- compute the the **average rating for every movie**"
   ]
  },
  {
   "cell_type": "code",
   "execution_count": 3,
   "metadata": {},
   "outputs": [
    {
     "data": {
      "text/html": [
       "<div>\n",
       "<style scoped>\n",
       "    .dataframe tbody tr th:only-of-type {\n",
       "        vertical-align: middle;\n",
       "    }\n",
       "\n",
       "    .dataframe tbody tr th {\n",
       "        vertical-align: top;\n",
       "    }\n",
       "\n",
       "    .dataframe thead tr th {\n",
       "        text-align: left;\n",
       "    }\n",
       "\n",
       "    .dataframe thead tr:last-of-type th {\n",
       "        text-align: right;\n",
       "    }\n",
       "</style>\n",
       "<table border=\"1\" class=\"dataframe\">\n",
       "  <thead>\n",
       "    <tr>\n",
       "      <th></th>\n",
       "      <th colspan=\"2\" halign=\"left\">rating</th>\n",
       "    </tr>\n",
       "    <tr>\n",
       "      <th></th>\n",
       "      <th>size</th>\n",
       "      <th>mean</th>\n",
       "    </tr>\n",
       "    <tr>\n",
       "      <th>movie_id</th>\n",
       "      <th></th>\n",
       "      <th></th>\n",
       "    </tr>\n",
       "  </thead>\n",
       "  <tbody>\n",
       "    <tr>\n",
       "      <th>1</th>\n",
       "      <td>452</td>\n",
       "      <td>3.878319</td>\n",
       "    </tr>\n",
       "    <tr>\n",
       "      <th>2</th>\n",
       "      <td>131</td>\n",
       "      <td>3.206107</td>\n",
       "    </tr>\n",
       "    <tr>\n",
       "      <th>3</th>\n",
       "      <td>90</td>\n",
       "      <td>3.033333</td>\n",
       "    </tr>\n",
       "    <tr>\n",
       "      <th>4</th>\n",
       "      <td>209</td>\n",
       "      <td>3.550239</td>\n",
       "    </tr>\n",
       "    <tr>\n",
       "      <th>5</th>\n",
       "      <td>86</td>\n",
       "      <td>3.302326</td>\n",
       "    </tr>\n",
       "  </tbody>\n",
       "</table>\n",
       "</div>"
      ],
      "text/plain": [
       "         rating          \n",
       "           size      mean\n",
       "movie_id                 \n",
       "1           452  3.878319\n",
       "2           131  3.206107\n",
       "3            90  3.033333\n",
       "4           209  3.550239\n",
       "5            86  3.302326"
      ]
     },
     "execution_count": 3,
     "metadata": {},
     "output_type": "execute_result"
    }
   ],
   "source": [
    "movieProperties = ratingsData.groupby('movie_id').agg({'rating': [np.size, 'mean']})\n",
    "movieProperties.head()"
   ]
  },
  {
   "cell_type": "markdown",
   "metadata": {},
   "source": [
    "## Normalize Ratings: LAMBDA\n",
    "The raw number of ratings isn't very useful for computing distances between movies, so we'll create a new DataFrame that contains the normalized number of ratings:\n",
    "- a value of 0 = nobody rated it\n",
    "- a value of 1 = **the most popular movie**"
   ]
  },
  {
   "cell_type": "code",
   "execution_count": 4,
   "metadata": {},
   "outputs": [
    {
     "name": "stdout",
     "output_type": "stream",
     "text": [
      "\n",
      "----------------------------\n",
      "movieNumRatings\n",
      "----------------------------\n",
      "\n",
      "          size\n",
      "movie_id      \n",
      "1          452\n",
      "2          131\n",
      "3           90\n",
      "4          209\n",
      "5           86\n",
      "...        ...\n",
      "1678         1\n",
      "1679         1\n",
      "1680         1\n",
      "1681         1\n",
      "1682         1\n",
      "\n",
      "[1682 rows x 1 columns]\n",
      "\n",
      "----------------------------\n",
      "movieNormalizedNumRatings\n",
      "----------------------------\n",
      "\n"
     ]
    },
    {
     "data": {
      "text/html": [
       "<div>\n",
       "<style scoped>\n",
       "    .dataframe tbody tr th:only-of-type {\n",
       "        vertical-align: middle;\n",
       "    }\n",
       "\n",
       "    .dataframe tbody tr th {\n",
       "        vertical-align: top;\n",
       "    }\n",
       "\n",
       "    .dataframe thead th {\n",
       "        text-align: right;\n",
       "    }\n",
       "</style>\n",
       "<table border=\"1\" class=\"dataframe\">\n",
       "  <thead>\n",
       "    <tr style=\"text-align: right;\">\n",
       "      <th></th>\n",
       "      <th>size</th>\n",
       "    </tr>\n",
       "    <tr>\n",
       "      <th>movie_id</th>\n",
       "      <th></th>\n",
       "    </tr>\n",
       "  </thead>\n",
       "  <tbody>\n",
       "    <tr>\n",
       "      <th>1</th>\n",
       "      <td>0.773585</td>\n",
       "    </tr>\n",
       "    <tr>\n",
       "      <th>2</th>\n",
       "      <td>0.222985</td>\n",
       "    </tr>\n",
       "    <tr>\n",
       "      <th>3</th>\n",
       "      <td>0.152659</td>\n",
       "    </tr>\n",
       "    <tr>\n",
       "      <th>4</th>\n",
       "      <td>0.356775</td>\n",
       "    </tr>\n",
       "    <tr>\n",
       "      <th>5</th>\n",
       "      <td>0.145798</td>\n",
       "    </tr>\n",
       "  </tbody>\n",
       "</table>\n",
       "</div>"
      ],
      "text/plain": [
       "              size\n",
       "movie_id          \n",
       "1         0.773585\n",
       "2         0.222985\n",
       "3         0.152659\n",
       "4         0.356775\n",
       "5         0.145798"
      ]
     },
     "execution_count": 4,
     "metadata": {},
     "output_type": "execute_result"
    }
   ],
   "source": [
    "movieNumRatings = pd.DataFrame(movieProperties['rating']['size'])\n",
    "movieNumRatings.head()\n",
    "print(\"\"\"\n",
    "----------------------------\n",
    "movieNumRatings\n",
    "----------------------------\n",
    "\"\"\")\n",
    "print(movieNumRatings)\n",
    "\n",
    "# normalize the number-of-ratings, the number of people who rated, between 0-1\n",
    "def normalizeByX(x):\n",
    "    return (x - np.min(x)) / (np.max(x) - np.min(x))\n",
    "\n",
    "# labmda-version\n",
    "movieNormalizedNumRatings = movieNumRatings.apply(lambda x: (x - np.min(x)) / (np.max(x) - np.min(x)))\n",
    "\n",
    "# movieNormalizedNumRatings = movieNumRatings.apply(normalizeByX)\n",
    "print(\"\"\"\n",
    "----------------------------\n",
    "movieNormalizedNumRatings\n",
    "----------------------------\n",
    "\"\"\")\n",
    "movieNormalizedNumRatings.head()"
   ]
  },
  {
   "cell_type": "markdown",
   "metadata": {},
   "source": [
    "## Re-Organize & Include Genres: LOOP\n",
    "- the `u.item` file has 19 fields:\n",
    "  - each corresponding to a specific genre\n",
    "  - a value of '0' means it is not in that genre, and '1' means it is in that genre\n",
    "  - A movie may have more than one genre associated with it\n",
    "\n",
    "Next, create a Python dictionary called `movieDict`, where each entry will contain:\n",
    "- the movie name\n",
    "- a list of genre values\n",
    "- the normalized popularity score\n",
    "- the average rating for each movie"
   ]
  },
  {
   "cell_type": "code",
   "execution_count": 5,
   "metadata": {},
   "outputs": [],
   "source": [
    "movieDict = {}\n",
    "with open(r'ml-100k/u.item', encoding=\"ISO-8859-1\") as f:\n",
    "    for line in f:\n",
    "        fieldsList = line.rstrip('\\n').split('|')\n",
    "        movieID = int(fieldsList[0])\n",
    "        name = fieldsList[1]\n",
    "        genres = fieldsList[5:25]\n",
    "        genres = map(int, genres)\n",
    "        listOfGenres = np.array(list(genres))\n",
    "        movieDict[movieID] = (name, listOfGenres, movieNormalizedNumRatings.loc[movieID].get('size'), movieProperties.loc[movieID].rating.get('mean'))"
   ]
  },
  {
   "cell_type": "markdown",
   "metadata": {},
   "source": [
    "For example, here's the record we end up with for movie ID 1, \"Toy Story\":"
   ]
  },
  {
   "cell_type": "code",
   "execution_count": 6,
   "metadata": {},
   "outputs": [
    {
     "name": "stdout",
     "output_type": "stream",
     "text": [
      "('Toy Story (1995)', array([0, 0, 0, 1, 1, 1, 0, 0, 0, 0, 0, 0, 0, 0, 0, 0, 0, 0, 0]), 0.7735849056603774, 3.8783185840707963)\n"
     ]
    }
   ],
   "source": [
    "print(movieDict[1])"
   ]
  },
  {
   "cell_type": "markdown",
   "metadata": {},
   "source": [
    "## Compute Rating \"distance\" Between Two movies: FN\n",
    "Here, a function that computes the \"distance\" between two movies based on how similar their genres are, and how similar their popularity is"
   ]
  },
  {
   "cell_type": "code",
   "execution_count": 7,
   "metadata": {},
   "outputs": [
    {
     "name": "stdout",
     "output_type": "stream",
     "text": [
      "the distance between GoldenEye (1995) and Get Shorty (1995) is 0.8004574042309892\n",
      "('GoldenEye (1995)', array([0, 1, 1, 0, 0, 0, 0, 0, 0, 0, 0, 0, 0, 0, 0, 0, 1, 0, 0]), 0.22298456260720412, 3.2061068702290076)\n",
      "('Get Shorty (1995)', array([0, 1, 0, 0, 0, 1, 0, 0, 1, 0, 0, 0, 0, 0, 0, 0, 0, 0, 0]), 0.3567753001715266, 3.550239234449761)\n"
     ]
    }
   ],
   "source": [
    "# takes 2 movie IDs\n",
    "def ComputeDistance(a, b):\n",
    "    genresA = a[1]\n",
    "    genresB = b[1]\n",
    "    \n",
    "    # meat & potatoes here\n",
    "    genreDistance = spatial.distance.cosine(genresA, genresB)\n",
    "\n",
    "    # popularity = rating\n",
    "    popularityA = a[2]\n",
    "    popularityB = b[2]\n",
    "    \n",
    "    popularityDistance = abs(popularityA - popularityB)\n",
    "    return genreDistance + popularityDistance\n",
    "\n",
    "# TESTING here with 2 movies:\n",
    "print(f'the distance between {movieDict[2][0]} and {movieDict[4][0]} is {ComputeDistance(movieDict[2], movieDict[4])}')\n",
    "print(movieDict[2])\n",
    "print(movieDict[4])"
   ]
  },
  {
   "cell_type": "markdown",
   "metadata": {},
   "source": [
    "**NOTE:** the higher the distance, the less similar the movies are. Get Shorty & GoldenEye aren't that similar."
   ]
  },
  {
   "cell_type": "markdown",
   "metadata": {},
   "source": [
    "## Get \"nearest\" neighbors: KNN + FN\n",
    "Now, we just need a little code to compute the distance between some given test movie (Toy Story, in this example) and all of the movies in our data set. When the sort those by distance, and print out the K nearest neighbors:"
   ]
  },
  {
   "cell_type": "code",
   "execution_count": 13,
   "metadata": {},
   "outputs": [
    {
     "name": "stdout",
     "output_type": "stream",
     "text": [
      "getting 10 KNN for Toy Story (1995)\n",
      "\n",
      "---\n",
      "K10 results:\n",
      "---\n",
      "\n",
      "Liar Liar (1997):\n",
      "\t\u001b[1m3.156701030927835\u001b[0m\n",
      "Aladdin (1992):\n",
      "\t\u001b[1m3.8127853881278537\u001b[0m\n",
      "Willy Wonka and the Chocolate Factory (1971):\n",
      "\t\u001b[1m3.6319018404907975\u001b[0m\n",
      "Monty Python and the Holy Grail (1974):\n",
      "\t\u001b[1m4.0664556962025316\u001b[0m\n",
      "Full Monty, The (1997):\n",
      "\t\u001b[1m3.926984126984127\u001b[0m\n",
      "George of the Jungle (1997):\n",
      "\t\u001b[1m2.685185185185185\u001b[0m\n",
      "Beavis and Butt-head Do America (1996):\n",
      "\t\u001b[1m2.7884615384615383\u001b[0m\n",
      "Birdcage, The (1996):\n",
      "\t\u001b[1m3.4436860068259385\u001b[0m\n",
      "Home Alone (1990):\n",
      "\t\u001b[1m3.0875912408759123\u001b[0m\n",
      "Aladdin and the King of Thieves (1996):\n",
      "\t\u001b[1m2.8461538461538463\u001b[0m\n"
     ]
    }
   ],
   "source": [
    "MOVIE_INDEX_TO_FIND = 1;\n",
    "KTen = 10\n",
    "avgRating = 0\n",
    "\n",
    "def getNeighbors(movieID, kCount):\n",
    "    print(f'getting {kCount} KNN for {movieDict[movieID][0]}')\n",
    "    # store KNN distances between current movie & other movies\n",
    "    distances = []\n",
    "    for movie in movieDict:\n",
    "        if (movie != movieID):\n",
    "            dist = ComputeDistance(movieDict[movieID], movieDict[movie])\n",
    "            distances.append((movie, dist))\n",
    "    distances.sort(key=operator.itemgetter(1))\n",
    "    neighbors = []\n",
    "    for x in range(kCount):\n",
    "        neighbors.append(distances[x][0])\n",
    "    return neighbors\n",
    "    \n",
    "neighborsK10 = getNeighbors(MOVIE_INDEX_TO_FIND, KTen)\n",
    "print(\"\"\"\n",
    "---\n",
    "K10 results:\n",
    "---\n",
    "\"\"\")\n",
    "for neighbor in neighborsK10:\n",
    "    thisMovie = movieDict[neighbor]\n",
    "    avgRating += thisMovie[3]\n",
    "    movieTitle = thisMovie[0]\n",
    "    movieRating = thisMovie[3]\n",
    "    print (movieTitle + \":\\n\\t\\033[1m\" + str(movieRating) + \"\\033[0m\")\n",
    "    \n",
    "avgRating /= KTen"
   ]
  },
  {
   "cell_type": "markdown",
   "metadata": {},
   "source": [
    "While we were at it, we computed the average rating of the 10 nearest neighbors to Toy Story:"
   ]
  },
  {
   "cell_type": "code",
   "execution_count": 9,
   "metadata": {},
   "outputs": [
    {
     "data": {
      "text/plain": [
       "3.3445905900235564"
      ]
     },
     "execution_count": 9,
     "metadata": {},
     "output_type": "execute_result"
    }
   ],
   "source": [
    "avgRating"
   ]
  },
  {
   "cell_type": "markdown",
   "metadata": {},
   "source": [
    "How does this compare to Toy Story's actual average rating?"
   ]
  },
  {
   "cell_type": "code",
   "execution_count": 10,
   "metadata": {},
   "outputs": [
    {
     "data": {
      "text/plain": [
       "('Toy Story (1995)',\n",
       " array([0, 0, 0, 1, 1, 1, 0, 0, 0, 0, 0, 0, 0, 0, 0, 0, 0, 0, 0]),\n",
       " 0.7735849056603774,\n",
       " 3.8783185840707963)"
      ]
     },
     "execution_count": 10,
     "metadata": {},
     "output_type": "execute_result"
    }
   ],
   "source": [
    "movieDict[1]"
   ]
  },
  {
   "cell_type": "markdown",
   "metadata": {},
   "source": [
    "## Notes"
   ]
  },
  {
   "cell_type": "markdown",
   "metadata": {},
   "source": [
    "- **Arbitrary \"K\"**: K being `10` is arbitrary. Changing K ?may? impact the output\n",
    "- **Arbitrary distance metric** the `cosine` method is just one way to calculate a \"distance\""
   ]
  }
 ],
 "metadata": {
  "kernelspec": {
   "display_name": "Python 3 (ipykernel)",
   "language": "python",
   "name": "python3"
  },
  "language_info": {
   "codemirror_mode": {
    "name": "ipython",
    "version": 3
   },
   "file_extension": ".py",
   "mimetype": "text/x-python",
   "name": "python",
   "nbconvert_exporter": "python",
   "pygments_lexer": "ipython3",
   "version": "3.8.1"
  }
 },
 "nbformat": 4,
 "nbformat_minor": 4
}
