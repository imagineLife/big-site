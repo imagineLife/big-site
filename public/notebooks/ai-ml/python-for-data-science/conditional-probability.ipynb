{
 "cells": [
  {
   "cell_type": "markdown",
   "metadata": {},
   "source": [
    "# Conditional Probability\n",
    "## Likelyhood of a Variable (A) given another variable (B)\n",
    "This is based on [Bayes' theorem](https://en.wikipedia.org/wiki/Bayes%27_theorem)\n",
    "- **P(A,B)**: probability of a & b both happening\n",
    "- **P(B|A)**: probability of b given a\n",
    "The probability of B given A can be thought of as...\n",
    "1. The Probability of A & B Both happening (as a numerator)\n",
    "2. The probability of A (as a denominator)\n",
    "3. numerator / denominator\n",
    "  - P(B|A) = P(A,B) / P(A)\n",
    "\n",
    "An example:\n",
    "- people go food shopping, and we are curious about (b) vegetables and (a) frozen-dinners\n",
    "- 60% of people buy both\n",
    "- 80% of people buy frozen dinners\n",
    "\n",
    "**The Question: What is the probability of people who buy frozen dinners AND buy vegetables?**\n",
    "- numerator = .6 (60%)\n",
    "- denominator = .8 (80%)\n",
    "- .6 / .8 = .75\n",
    "\n",
    "**The Answer: 75% of those who buy frozen dinners buy vegetables**"
   ]
  },
  {
   "cell_type": "markdown",
   "metadata": {},
   "source": [
    "# Conditional Probability with Python"
   ]
  },
  {
   "cell_type": "markdown",
   "metadata": {},
   "source": [
    "Figure out the likelyhood that people in age-ranges buying something."
   ]
  },
  {
   "cell_type": "markdown",
   "metadata": {},
   "source": [
    "## peoplePerAgeGroup \n",
    "contains the total number of people in each age group.  "
   ]
  },
  {
   "cell_type": "code",
   "execution_count": 1,
   "metadata": {},
   "outputs": [
    {
     "name": "stdout",
     "output_type": "stream",
     "text": [
      "{20: 0, 30: 0, 40: 0, 50: 0, 60: 0, 70: 0}\n"
     ]
    }
   ],
   "source": [
    "peoplePerAgeGroup = {20:0, 30:0, 40:0, 50:0, 60:0, 70:0}\n",
    "print(peoplePerAgeGroup)"
   ]
  },
  {
   "cell_type": "markdown",
   "metadata": {},
   "source": [
    "## purchases \n",
    "contains the total number of things purchased by people in each age group.  "
   ]
  },
  {
   "cell_type": "code",
   "execution_count": 2,
   "metadata": {},
   "outputs": [
    {
     "name": "stdout",
     "output_type": "stream",
     "text": [
      "{20: 0, 30: 0, 40: 0, 50: 0, 60: 0, 70: 0}\n"
     ]
    }
   ],
   "source": [
    "purchases = {20:0, 30:0, 40:0, 50:0, 60:0, 70:0}\n",
    "print(purchases)"
   ]
  },
  {
   "cell_type": "markdown",
   "metadata": {},
   "source": [
    "## totalPurchases\n",
    "The grand total of purchases is in totalPurchases, and we know the total number of people is 100,000."
   ]
  },
  {
   "cell_type": "code",
   "execution_count": 3,
   "metadata": {},
   "outputs": [
    {
     "name": "stdout",
     "output_type": "stream",
     "text": [
      "0\n"
     ]
    }
   ],
   "source": [
    "totalPurchases = 0\n",
    "print(totalPurchases)"
   ]
  },
  {
   "cell_type": "markdown",
   "metadata": {},
   "source": [
    "## FakeData Generation\n",
    "Below is some code to create some fake data on how much stuff people purchase given their age range.\n",
    "\n",
    "It generates 100,000 random \"people\" and randomly assigns them as being in their 20's, 30's, 40's, 50's, 60's, or 70's.\n",
    "\n",
    "It then assigns a lower probability for young people to buy stuff."
   ]
  },
  {
   "cell_type": "code",
   "execution_count": 4,
   "metadata": {},
   "outputs": [],
   "source": [
    "from numpy import random\n",
    "random.seed(0)\n",
    "totals = {20:0, 30:0, 40:0, 50:0, 60:0, 70:0}\n",
    "for _ in range(100000):\n",
    "    ageDecade = random.choice([20, 30, 40, 50, 60, 70])\n",
    "\n",
    "    # HERE, there's a correlation between ageDecade and purchase-probablility\n",
    "    # Older is MORE LIKELY to buy\n",
    "    purchaseProbability = float(ageDecade) / 100.0\n",
    "    totals[ageDecade] += 1\n",
    "    if (random.random() < purchaseProbability):\n",
    "        totalPurchases += 1\n",
    "        purchases[ageDecade] += 1"
   ]
  },
  {
   "cell_type": "code",
   "execution_count": 5,
   "metadata": {},
   "outputs": [
    {
     "name": "stdout",
     "output_type": "stream",
     "text": [
      "{20: 16576, 30: 16619, 40: 16632, 50: 16805, 60: 16664, 70: 16704}\n"
     ]
    }
   ],
   "source": [
    "print(totals)"
   ]
  },
  {
   "cell_type": "code",
   "execution_count": 6,
   "metadata": {},
   "outputs": [
    {
     "name": "stdout",
     "output_type": "stream",
     "text": [
      "{20: 3392, 30: 4974, 40: 6670, 50: 8319, 60: 9944, 70: 11713}\n"
     ]
    }
   ],
   "source": [
    "print(purchases)"
   ]
  },
  {
   "cell_type": "code",
   "execution_count": 7,
   "metadata": {},
   "outputs": [
    {
     "name": "stdout",
     "output_type": "stream",
     "text": [
      "45012\n"
     ]
    }
   ],
   "source": [
    "print(totalPurchases)"
   ]
  },
  {
   "cell_type": "markdown",
   "metadata": {},
   "source": [
    "## Conditional Probability\n",
    "Let's play with conditional probability.\n",
    "E will represent making a Purchase.  \n",
    "F will represent a specific age-range.  \n",
    "\n",
    "### Prob. Purchasing in their 30s\n",
    "First let's compute P(E|F), where E is \"purchase\" and F is \"you're in your 30's\". The probability of someone in their 30's buying something is just the percentage of how many 30-year-olds bought something:"
   ]
  },
  {
   "cell_type": "code",
   "execution_count": 8,
   "metadata": {},
   "outputs": [
    {
     "name": "stdout",
     "output_type": "stream",
     "text": [
      "numberOfPeopleWhoPurchasedThirties: 4974\n",
      "numberOfPeopleThirties: 16619\n",
      "P(purchase | 30s): 0.29929598652145134\n"
     ]
    }
   ],
   "source": [
    "numberOfPeopleWhoPurchasedThirties = purchases[30]\n",
    "numberOfPeopleThirties = totals[30]\n",
    "print(\"numberOfPeopleWhoPurchasedThirties:\",numberOfPeopleWhoPurchasedThirties)\n",
    "print(\"numberOfPeopleThirties:\",numberOfPeopleThirties)\n",
    "\n",
    "probEeGivenF = float(numberOfPeopleWhoPurchasedThirties) / float(numberOfPeopleThirties)\n",
    "print('P(purchase | 30s): ' + str(probEeGivenF))"
   ]
  },
  {
   "cell_type": "markdown",
   "metadata": {},
   "source": [
    "### Prob. of being in 30s\n",
    "P(F) is just the probability of being 30 in this data set"
   ]
  },
  {
   "cell_type": "code",
   "execution_count": 9,
   "metadata": {},
   "outputs": [
    {
     "name": "stdout",
     "output_type": "stream",
     "text": [
      "P(30's): 0.16619\n"
     ]
    }
   ],
   "source": [
    "PF = float(totals[30]) / 100000.0\n",
    "print(\"P(30's): \" +  str(PF))"
   ]
  },
  {
   "cell_type": "markdown",
   "metadata": {},
   "source": [
    "### Prob of Buying something\n",
    "And P(E) is the overall probability of buying something, regardless of your age:"
   ]
  },
  {
   "cell_type": "code",
   "execution_count": 10,
   "metadata": {},
   "outputs": [
    {
     "name": "stdout",
     "output_type": "stream",
     "text": [
      "P(Purchase):0.45012\n"
     ]
    }
   ],
   "source": [
    "PE = float(totalPurchases) / 100000.0\n",
    "print(\"P(Purchase):\" + str(PE))"
   ]
  },
  {
   "cell_type": "markdown",
   "metadata": {},
   "source": [
    "If E and F were independent, then we would expect P(E | F) to be about the same as P(E). But they're not; P(E) is 0.45, and P(E|F) is 0.3. So, that tells us that E and F are dependent (which we know they are in this example.)"
   ]
  },
  {
   "cell_type": "markdown",
   "metadata": {},
   "source": [
    "P(E,F) is different from P(E|F). P(E,F) would be the probability of both being in your 30's and buying something, out of the total population - not just the population of people in their 30's:"
   ]
  },
  {
   "cell_type": "code",
   "execution_count": 11,
   "metadata": {
    "scrolled": true
   },
   "outputs": [
    {
     "name": "stdout",
     "output_type": "stream",
     "text": [
      "P(30's, Purchase)0.04974\n"
     ]
    }
   ],
   "source": [
    "print(\"P(30's, Purchase)\" + str(float(purchases[30]) / 100000.0))"
   ]
  },
  {
   "cell_type": "markdown",
   "metadata": {},
   "source": [
    "Let's also compute the product of P(E) and P(F), P(E)P(F):"
   ]
  },
  {
   "cell_type": "code",
   "execution_count": 12,
   "metadata": {},
   "outputs": [
    {
     "name": "stdout",
     "output_type": "stream",
     "text": [
      "P(30's)P(Purchase)0.07480544280000001\n"
     ]
    }
   ],
   "source": [
    "print(\"P(30's)P(Purchase)\" + str(PE * PF))"
   ]
  },
  {
   "cell_type": "markdown",
   "metadata": {},
   "source": [
    "Something you may learn in stats is that P(E,F) = P(E)P(F), but this assumes E and F are independent. We've found here that P(E,F) is about 0.05, while P(E)P(F) is about 0.075. So when E and F are dependent - and we have a conditional probability going on - we can't just say that P(E,F) = P(E)P(F).\n",
    "\n",
    "We can also check that P(E|F) = P(E,F)/P(F), which is the relationship we showed in the slides - and sure enough, it is:"
   ]
  },
  {
   "cell_type": "code",
   "execution_count": 13,
   "metadata": {},
   "outputs": [
    {
     "name": "stdout",
     "output_type": "stream",
     "text": [
      "0.29929598652145134\n"
     ]
    }
   ],
   "source": [
    "print((purchases[30] / 100000.0) / PF)"
   ]
  },
  {
   "cell_type": "markdown",
   "metadata": {},
   "source": [
    "## Another Example: Purchases & Ages"
   ]
  },
  {
   "cell_type": "markdown",
   "metadata": {},
   "source": [
    "### Create Purchase + Age Independence Mock data"
   ]
  },
  {
   "cell_type": "code",
   "execution_count": 17,
   "metadata": {},
   "outputs": [
    {
     "name": "stdout",
     "output_type": "stream",
     "text": [
      "localTotals: {20: 16911, 30: 16396, 40: 16780, 50: 16511, 60: 16875, 70: 16527}\n",
      "localTotalPurchases: 75030\n",
      "localPurchases: {20: 12675, 30: 12282, 40: 12634, 50: 12376, 60: 12615, 70: 12448}\n"
     ]
    }
   ],
   "source": [
    "# update the loop & store the data\n",
    "localTotalPurchases = 0;\n",
    "localTotals = {20:0, 30:0, 40:0, 50:0, 60:0, 70:0}\n",
    "localPurchases = {20:0, 30:0, 40:0, 50:0, 60:0, 70:0}\n",
    "totalPeople = 100000\n",
    "\n",
    "for _ in range(totalPeople):\n",
    "    ageDecade = random.choice([20, 30, 40, 50, 60, 70])\n",
    "    purchaseProbability = .75\n",
    "    localTotals[ageDecade] += 1\n",
    "    if (random.random() < purchaseProbability):\n",
    "        localTotalPurchases += 1\n",
    "        localPurchases[ageDecade] += 1\n",
    "\n",
    "# show results\n",
    "print(\"localTotals:\",localTotals)\n",
    "print(\"localTotalPurchases:\",localTotalPurchases)\n",
    "print(\"localPurchases:\",localPurchases)"
   ]
  },
  {
   "cell_type": "markdown",
   "metadata": {},
   "source": [
    "### Calculate Probability\n",
    "Confirm that P(E|F) is about the same as P(E), showing that the conditional probability of purchase for a given age is not any different than the a-priori probability of purchase regardless of age."
   ]
  },
  {
   "cell_type": "code",
   "execution_count": 19,
   "metadata": {},
   "outputs": [
    {
     "name": "stdout",
     "output_type": "stream",
     "text": [
      "0.7503\n"
     ]
    }
   ],
   "source": [
    "thisPE = float(localTotalPurchases) / totalPeople\n",
    "print(thisPE)"
   ]
  },
  {
   "cell_type": "code",
   "execution_count": 20,
   "metadata": {},
   "outputs": [
    {
     "name": "stdout",
     "output_type": "stream",
     "text": [
      "P(20's, Purchase)0.12675\n",
      "P(30's, Purchase)0.12282\n",
      "P(40's, Purchase)0.12634\n",
      "P(50's, Purchase)0.12376\n",
      "P(60's, Purchase)0.12615\n"
     ]
    }
   ],
   "source": [
    "ageArr = [20,30,40,50,60]\n",
    "for decade in ageArr:\n",
    "    print(\"P(\"+str(decade)+\"'s, Purchase)\" + str(float(localPurchases[decade]) / 100000.0))"
   ]
  }
 ],
 "metadata": {
  "kernelspec": {
   "display_name": "Python 3 (ipykernel)",
   "language": "python",
   "name": "python3"
  },
  "language_info": {
   "codemirror_mode": {
    "name": "ipython",
    "version": 3
   },
   "file_extension": ".py",
   "mimetype": "text/x-python",
   "name": "python",
   "nbconvert_exporter": "python",
   "pygments_lexer": "ipython3",
   "version": "3.8.1"
  }
 },
 "nbformat": 4,
 "nbformat_minor": 4
}
