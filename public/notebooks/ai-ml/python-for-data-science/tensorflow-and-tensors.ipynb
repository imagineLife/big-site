{
 "cells": [
  {
   "cell_type": "markdown",
   "metadata": {
    "id": "ielzxn52r2CB"
   },
   "source": [
    "[TensorFlow](https://www.tensorflow.org/): an open-source end-to-end machine learning library useful for things like data \"wrangling\", modelling, building machine-learning models, and more.\n",
    "\n",
    "Rather than building machine learning and deep learning models from \"scratch\",  tensorflow contains many of the most common machine learning functions you'll want to use.\n",
    "\n",
    "## Goals\n",
    "- creating tensors\n",
    "- Getting information from tensors\n",
    "- Manipulating tensors\n",
    "- Comparing & Combining Tensorflow, Tensors, and NumPy\n",
    "- Using `@tf.function` as a way to speed up Python functions\n",
    "- Using GPUs with TensorFlow\n",
    "\n",
    "## Imports"
   ]
  },
  {
   "cell_type": "code",
   "execution_count": 1,
   "metadata": {},
   "outputs": [
    {
     "name": "stderr",
     "output_type": "stream",
     "text": [
      "2025-02-05 12:41:16.756317: I tensorflow/core/platform/cpu_feature_guard.cc:182] This TensorFlow binary is optimized to use available CPU instructions in performance-critical operations.\n",
      "To enable the following instructions: SSE4.1 SSE4.2, in other operations, rebuild TensorFlow with the appropriate compiler flags.\n"
     ]
    },
    {
     "name": "stdout",
     "output_type": "stream",
     "text": [
      "tensorlfow version: 2.12.0\n"
     ]
    }
   ],
   "source": [
    "import datetime\n",
    "import numpy as np\n",
    "import tensorflow as tf\n",
    "print(f'tensorlfow version: {tf.__version__}') # find the version number (should be 2.x+)"
   ]
  },
  {
   "cell_type": "markdown",
   "metadata": {
    "id": "VArmDlu06sH0"
   },
   "source": [
    "## Tensors\n",
    "\n",
    "### Like Numpy Arrays\n",
    "NumPy arrays are similar to [tensors](https://www.tensorflow.org/guide/tensor). One major difference between tensors and NumPy arrays (also an n-dimensional array of numbers) is that tensorflow (_and tensors_) can be used & processed on [GPUs (graphical processing units)](https://blogs.nvidia.com/blog/2009/12/16/whats-the-difference-between-a-cpu-and-a-gpu/) and [TPUs (tensor processing units)](https://en.wikipedia.org/wiki/Tensor_processing_unit). One benefit of being able to run on GPUs and TPUs is faster computation. GPUs and TPUs will process data faster than CPUs.  \n",
    "\n",
    "Tensors are like multi-dimensional numerical representations (also referred to as n-dimensional, where n can be any number) of _things_:\n",
    "- numbers themselves, using tensors to represent the price of houses)\n",
    "- images, using tensors to represent the pixels of an image)\n",
    "- text, using tensors to represent words"
   ]
  },
  {
   "cell_type": "markdown",
   "metadata": {
    "id": "JNtV5t1qz0VP"
   },
   "source": [
    "## Working With Tensors\n",
    "\n",
    "### Creating Tensors with `tf.constant()`\n",
    "Creating tensors, \"from scratch\", may not be common. TensorFlow has modules built-in (such as [`tf.io`](https://www.tensorflow.org/api_docs/python/tf/io) and [`tf.data`](https://www.tensorflow.org/guide/data)) which are able to read input data sources and _automatically convert them to tensors_. Here, though, a look at creating tensors with [`tf.constant()`](https://www.tensorflow.org/api_docs/python/tf/constant).  \n",
    "\n",
    "A scalar is known as a \"rank 0\" tensor. Scalars have no dimensions - just a single number.\n",
    "\n",
    "By default, TensorFlow creates tensors with either an `int32` or `float32` datatype.\n",
    "\n",
    "This is known as [32-bit precision](https://en.wikipedia.org/wiki/Precision_(computer_science) (the higher the number, the more precise the number, the more space it takes up on your computer).\n",
    "\n",
    "There are different types of numbers and number datatypes:\n",
    "* **scalar**: a single number.\n",
    "* **vector**: a number with direction (e.g. wind speed with direction).\n",
    "* **matrix**: a 2-dimensional array of numbers.\n",
    "* **tensor**: an n-dimensional arrary of numbers (where n can be any number, a 0-dimension tensor is a scalar, a 1-dimension tensor is a vector). \n",
    "\n",
    "\"Matrix\" and \"Tensor\" may be used interchangably.\n",
    "\n",
    "For more on the mathematical difference between scalars, vectors and matrices see the [visual algebra post by Math is Fun](https://www.mathsisfun.com/algebra/scalar-vector-matrix.html).\n",
    "\n",
    "#### Scalar"
   ]
  },
  {
   "cell_type": "code",
   "execution_count": 2,
   "metadata": {
    "colab": {
     "base_uri": "https://localhost:8080/"
    },
    "id": "nC7aQgqi0M_Z",
    "outputId": "6756e867-e2b3-4d64-e7b9-b612394a8ecc"
   },
   "outputs": [
    {
     "name": "stdout",
     "output_type": "stream",
     "text": [
      "scalar tensor: 7\n"
     ]
    },
    {
     "name": "stderr",
     "output_type": "stream",
     "text": [
      "2025-02-05 12:41:32.290387: I tensorflow/core/common_runtime/pluggable_device/pluggable_device_factory.cc:306] Could not identify NUMA node of platform GPU ID 0, defaulting to 0. Your kernel may not have been built with NUMA support.\n",
      "2025-02-05 12:41:32.290439: I tensorflow/core/common_runtime/pluggable_device/pluggable_device_factory.cc:272] Created TensorFlow device (/job:localhost/replica:0/task:0/device:GPU:0 with 0 MB memory) -> physical PluggableDevice (device: 0, name: METAL, pci bus id: <undefined>)\n"
     ]
    },
    {
     "data": {
      "text/plain": [
       "<tf.Tensor: shape=(), dtype=int32, numpy=7>"
      ]
     },
     "execution_count": 2,
     "metadata": {},
     "output_type": "execute_result"
    }
   ],
   "source": [
    "# Create a scalar (rank 0 tensor)\n",
    "scalar = tf.constant(7)\n",
    "print(f'scalar tensor: {scalar}')\n",
    "scalar"
   ]
  },
  {
   "cell_type": "code",
   "execution_count": 3,
   "metadata": {
    "colab": {
     "base_uri": "https://localhost:8080/"
    },
    "id": "1sgUNKoFkJ21",
    "outputId": "b7538913-97b7-4c39-f732-e0dae545ab8d"
   },
   "outputs": [
    {
     "data": {
      "text/plain": [
       "0"
      ]
     },
     "execution_count": 3,
     "metadata": {},
     "output_type": "execute_result"
    }
   ],
   "source": [
    "# Check the number of dimensions of a tensor (ndim stands for number of dimensions)\n",
    "scalar.ndim"
   ]
  },
  {
   "cell_type": "markdown",
   "metadata": {},
   "source": [
    "#### Vector"
   ]
  },
  {
   "cell_type": "code",
   "execution_count": 4,
   "metadata": {
    "colab": {
     "base_uri": "https://localhost:8080/"
    },
    "id": "irtCo2fs0V_o",
    "outputId": "ac00aae7-c80f-4450-d824-f6aa9910362b"
   },
   "outputs": [
    {
     "data": {
      "text/plain": [
       "<tf.Tensor: shape=(2,), dtype=int32, numpy=array([10, 10], dtype=int32)>"
      ]
     },
     "execution_count": 4,
     "metadata": {},
     "output_type": "execute_result"
    }
   ],
   "source": [
    "# Create a vector (more than 0 dimensions)\n",
    "vector = tf.constant([10, 10])\n",
    "vector"
   ]
  },
  {
   "cell_type": "code",
   "execution_count": 5,
   "metadata": {
    "colab": {
     "base_uri": "https://localhost:8080/"
    },
    "id": "7DDc36pvmOse",
    "outputId": "aec326c7-d359-4df9-f64b-62af8fdc2958"
   },
   "outputs": [
    {
     "data": {
      "text/plain": [
       "1"
      ]
     },
     "execution_count": 5,
     "metadata": {},
     "output_type": "execute_result"
    }
   ],
   "source": [
    "# Check the number of dimensions of our vector tensor\n",
    "vector.ndim"
   ]
  },
  {
   "cell_type": "markdown",
   "metadata": {},
   "source": [
    "#### Matrix"
   ]
  },
  {
   "cell_type": "code",
   "execution_count": 6,
   "metadata": {
    "colab": {
     "base_uri": "https://localhost:8080/"
    },
    "id": "HXf5A5360V7A",
    "outputId": "4ad29d49-9ed6-4b7a-aed5-bb6cab663556"
   },
   "outputs": [
    {
     "data": {
      "text/plain": [
       "<tf.Tensor: shape=(2, 2), dtype=int32, numpy=\n",
       "array([[10,  7],\n",
       "       [ 7, 10]], dtype=int32)>"
      ]
     },
     "execution_count": 6,
     "metadata": {},
     "output_type": "execute_result"
    }
   ],
   "source": [
    "# Create a matrix (more than 1 dimension)\n",
    "matrix = tf.constant([[10, 7],\n",
    "                      [7, 10]])\n",
    "matrix"
   ]
  },
  {
   "cell_type": "code",
   "execution_count": 7,
   "metadata": {
    "colab": {
     "base_uri": "https://localhost:8080/"
    },
    "id": "Asmn6YghlT6u",
    "outputId": "a720f883-9bed-4f83-833a-1e11c4cac29c"
   },
   "outputs": [
    {
     "data": {
      "text/plain": [
       "2"
      ]
     },
     "execution_count": 7,
     "metadata": {},
     "output_type": "execute_result"
    }
   ],
   "source": [
    "matrix.ndim"
   ]
  },
  {
   "cell_type": "code",
   "execution_count": 8,
   "metadata": {
    "colab": {
     "base_uri": "https://localhost:8080/"
    },
    "id": "aEgthLq80V2u",
    "outputId": "77397970-7687-439d-c0dc-81548d2a238e"
   },
   "outputs": [
    {
     "data": {
      "text/plain": [
       "<tf.Tensor: shape=(3, 2), dtype=float16, numpy=\n",
       "array([[10.,  7.],\n",
       "       [ 3.,  2.],\n",
       "       [ 8.,  9.]], dtype=float16)>"
      ]
     },
     "execution_count": 8,
     "metadata": {},
     "output_type": "execute_result"
    }
   ],
   "source": [
    "# Create another matrix and define the datatype\n",
    "another_matrix = tf.constant([[10., 7.],\n",
    "                              [3., 2.],\n",
    "                              [8., 9.]], dtype=tf.float16) # specify the datatype with 'dtype'\n",
    "another_matrix"
   ]
  },
  {
   "cell_type": "code",
   "execution_count": 9,
   "metadata": {
    "colab": {
     "base_uri": "https://localhost:8080/"
    },
    "id": "v-Y-lXdOlXRg",
    "outputId": "e687b22d-f4fb-44b1-8d7f-06276a39d6ff"
   },
   "outputs": [
    {
     "data": {
      "text/plain": [
       "2"
      ]
     },
     "execution_count": 9,
     "metadata": {},
     "output_type": "execute_result"
    }
   ],
   "source": [
    "# Even though another_matrix contains more numbers than matrix, its 'ndim' (dimension count) is the same:\n",
    "another_matrix.ndim"
   ]
  },
  {
   "cell_type": "code",
   "execution_count": 10,
   "metadata": {
    "colab": {
     "base_uri": "https://localhost:8080/"
    },
    "id": "fAy7J6fT0Vwz",
    "outputId": "976ce412-58bb-4604-a8a6-881b8b6e1a67"
   },
   "outputs": [
    {
     "data": {
      "text/plain": [
       "<tf.Tensor: shape=(3, 2, 3), dtype=int32, numpy=\n",
       "array([[[ 1,  2,  3],\n",
       "        [ 4,  5,  6]],\n",
       "\n",
       "       [[ 7,  8,  9],\n",
       "        [10, 11, 12]],\n",
       "\n",
       "       [[13, 14, 15],\n",
       "        [16, 17, 18]]], dtype=int32)>"
      ]
     },
     "execution_count": 10,
     "metadata": {},
     "output_type": "execute_result"
    }
   ],
   "source": [
    "# How about a tensor with more than 2 dimensions\n",
    "tensor = tf.constant([[[1, 2, 3],\n",
    "                       [4, 5, 6]],\n",
    "                      [[7, 8, 9],\n",
    "                       [10, 11, 12]],\n",
    "                      [[13, 14, 15],\n",
    "                       [16, 17, 18]]])\n",
    "tensor"
   ]
  },
  {
   "cell_type": "code",
   "execution_count": 11,
   "metadata": {
    "colab": {
     "base_uri": "https://localhost:8080/"
    },
    "id": "FhIsj108mFOS",
    "outputId": "cf336e60-876d-423d-d8bf-024f794f5b22"
   },
   "outputs": [
    {
     "data": {
      "text/plain": [
       "3"
      ]
     },
     "execution_count": 11,
     "metadata": {},
     "output_type": "execute_result"
    }
   ],
   "source": [
    "tensor.ndim"
   ]
  },
  {
   "cell_type": "markdown",
   "metadata": {
    "id": "w5MGwSpA100u"
   },
   "source": [
    "### On Tensor Dimensions\n",
    "This tensor is known as a rank 3 tensor (3-dimensions):\n",
    "```python\n",
    "tensor = tf.constant([[[1, 2, 3],\n",
    "                       [4, 5, 6]],\n",
    "                      [[7, 8, 9],\n",
    "                       [10, 11, 12]],\n",
    "                      [[13, 14, 15],\n",
    "                       [16, 17, 18]]])\n",
    "```\n",
    "\n",
    "#### Dimension Count from Source Data\n",
    "<!-- with shape (224, 224, 3, 32), where: -->\n",
    "Tensors may be created based on a series of images:\n",
    "* image-width of 224\n",
    "* image-height of 224\n",
    "* 3 color channels: (red, green blue)\n",
    "* instruct tensorflow to process 32 images at-a-time, in a \"batch\" of 32\n",
    "That tensor might have a shape (224, 224, 3, 32)"
   ]
  },
  {
   "cell_type": "markdown",
   "metadata": {},
   "source": [
    "#### Squeezing A Tensor\n",
    "* [`tf.squeeze()`](https://www.tensorflow.org/api_docs/python/tf/squeeze) - remove all dimensions of 1 from a tensor."
   ]
  },
  {
   "cell_type": "code",
   "execution_count": 12,
   "metadata": {},
   "outputs": [
    {
     "name": "stdout",
     "output_type": "stream",
     "text": [
      "G Shape: (1, 1, 1, 1, 50)\n",
      "G Dimension count: 5\n",
      "SQUEEZED G Shape: (50,)\n",
      "SQUEEZED G Dimension count: 1\n"
     ]
    }
   ],
   "source": [
    "# Create a rank 5 (5 dimensions) tensor of 50 numbers between 0 and 100\n",
    "G = tf.constant(np.random.randint(0, 100, 50), shape=(1, 1, 1, 1, 50))\n",
    "print(f'G Shape: {G.shape}')\n",
    "print(f'G Dimension count: {G.ndim}')\n",
    "\n",
    "# Squeeze tensor G (remove all 1 dimensions)\n",
    "G_squeezed = tf.squeeze(G)\n",
    "print(f'SQUEEZED G Shape: {G_squeezed.shape}')\n",
    "print(f'SQUEEZED G Dimension count: {G_squeezed.ndim}')"
   ]
  },
  {
   "cell_type": "markdown",
   "metadata": {
    "id": "TZMfDFKC0Cl7"
   },
   "source": [
    "### Creating Tensors with `tf.Variable()`\n",
    "\n",
    "Often, when working with data, tensors are created automatically. Here, creating tensors using [`tf.Variable()`](https://www.tensorflow.org/api_docs/python/tf/Variable).\n",
    "\n",
    "### Constants are Immutable, Variables are mutable\n",
    "The difference between `tf.Variable()` and `tf.constant()` is tensors created with `tf.constant()` are immutable (can't be changed, can only be used to create a new tensor), where as, tensors created with `tf.Variable()` are mutable (can be changed).  \n",
    "\n",
    "To change an element of a `tf.Variable()` tensor requires the `assign()` method."
   ]
  },
  {
   "cell_type": "code",
   "execution_count": 13,
   "metadata": {
    "colab": {
     "base_uri": "https://localhost:8080/"
    },
    "id": "bv1SBbDe4TxN",
    "outputId": "0aeb31ea-808d-4dc3-bcd3-8ef01be56012"
   },
   "outputs": [
    {
     "name": "stdout",
     "output_type": "stream",
     "text": [
      "<tf.Variable 'Variable:0' shape=(2,) dtype=int32, numpy=array([10,  7], dtype=int32)>\n",
      "tf.Tensor([10  7], shape=(2,), dtype=int32)\n"
     ]
    }
   ],
   "source": [
    "# Create the same tensor with tf.Variable() and tf.constant()\n",
    "changeable_tensor = tf.Variable([10, 7])\n",
    "unchangeable_tensor = tf.constant([10, 7])\n",
    "print(changeable_tensor)\n",
    "print(unchangeable_tensor)"
   ]
  },
  {
   "cell_type": "code",
   "execution_count": 14,
   "metadata": {
    "colab": {
     "base_uri": "https://localhost:8080/",
     "height": 204
    },
    "id": "dfDwbF6i5Sy3",
    "outputId": "9b25dd77-24c4-4f59-82bb-8f8ae826c384"
   },
   "outputs": [],
   "source": [
    "# \n",
    "# FAILING at changing a Variable  without \".assign()\"\n",
    "# \n",
    "# Will error (requires the .assign() method)\n",
    "# changeable_tensor[0] = 7\n",
    "# changeable_tensor\n",
    "\n",
    "# will return\n",
    "# TypeError: 'ResourceVariable' object does not support item assignment"
   ]
  },
  {
   "cell_type": "code",
   "execution_count": 15,
   "metadata": {
    "colab": {
     "base_uri": "https://localhost:8080/"
    },
    "id": "FJV3iwvG4jg4",
    "outputId": "48fac542-e9c3-4d20-9a9a-807accfec61e"
   },
   "outputs": [
    {
     "data": {
      "text/plain": [
       "<tf.Variable 'Variable:0' shape=(2,) dtype=int32, numpy=array([7, 7], dtype=int32)>"
      ]
     },
     "execution_count": 15,
     "metadata": {},
     "output_type": "execute_result"
    }
   ],
   "source": [
    "# \n",
    "# Success changing a tensor\n",
    "# \n",
    "changeable_tensor[0].assign(7)\n",
    "changeable_tensor"
   ]
  },
  {
   "cell_type": "code",
   "execution_count": 16,
   "metadata": {
    "colab": {
     "base_uri": "https://localhost:8080/",
     "height": 329
    },
    "id": "5j_rOo8X5N9f",
    "outputId": "5ccb2e96-6f3e-4bc1-d972-57654a52d6e6"
   },
   "outputs": [],
   "source": [
    "# \n",
    "# FAILURE attemtpting to change a constant tensor\n",
    "# \n",
    "# unchangeable_tensor[0].assign(7)\n",
    "# unchangleable_tensor\n",
    "\n",
    "# will return\n",
    "# AttributeError: 'tensorflow.python.framework.ops.EagerTensor' object has no attribute 'assign'"
   ]
  },
  {
   "cell_type": "markdown",
   "metadata": {
    "id": "pAAT59Ay0J0l"
   },
   "source": [
    "### Creating random tensors\n",
    "\n",
    "Random tensors are tensors of some abitrary size which contain random numbers.\n",
    "\n",
    "Why would you want to create random tensors? \n",
    "\n",
    "Random tensors are what neural networks use to **intialize their weights** when recognizing (patterns) in data. The process of a neural network learning might often involve taking a random n-dimensional array of numbers and refining them until they represent some kind of pattern (a compressed way to represent the original data).\n",
    "\n",
    "<!-- **How a network learns** -->\n",
    "<!-- ![how a network learns](https://raw.githubusercontent.com/mrdbourke/tensorflow-deep-learning/main/images/00-how-a-network-learns.png) -->\n",
    "<!-- *A network learns by starting with random patterns (1) then going through demonstrative examples of data (2) whilst trying to update its random patterns to represent the examples (3).*\n",
    " -->\n",
    "Here, creating random tensors by using the [`tf.random.Generator`](https://www.tensorflow.org/guide/random_numbers#the_tfrandomgenerator_class) class."
   ]
  },
  {
   "cell_type": "code",
   "execution_count": 17,
   "metadata": {
    "colab": {
     "base_uri": "https://localhost:8080/"
    },
    "id": "yZ7Zu5Z178JL",
    "outputId": "141a772a-635f-4f40-e039-e5c9c4b6c446"
   },
   "outputs": [
    {
     "name": "stdout",
     "output_type": "stream",
     "text": [
      "tf.Tensor(\n",
      "[[-0.75658023 -0.06854693]\n",
      " [ 0.07595028 -1.2573844 ]\n",
      " [-0.23193759 -1.8107857 ]], shape=(3, 2), dtype=float32)\n",
      "tf.Tensor(\n",
      "[[-0.75658023 -0.06854693]\n",
      " [ 0.07595028 -1.2573844 ]\n",
      " [-0.23193759 -1.8107857 ]], shape=(3, 2), dtype=float32)\n",
      "random_1 == random_2: [[ True  True]\n",
      " [ True  True]\n",
      " [ True  True]]\n"
     ]
    }
   ],
   "source": [
    "# Create two random (but the same) tensors\n",
    "random_1 = tf.random.Generator.from_seed(42) # set the seed for reproducibility\n",
    "random_1 = random_1.normal(shape=(3, 2)) # create tensor from a normal distribution \n",
    "random_2 = tf.random.Generator.from_seed(42)\n",
    "random_2 = random_2.normal(shape=(3, 2))\n",
    "\n",
    "# Are they equal?\n",
    "print(random_1)\n",
    "print(random_2)\n",
    "print(f'random_1 == random_2: {random_1 == random_2}')"
   ]
  },
  {
   "cell_type": "markdown",
   "metadata": {
    "id": "k6Od5fpZ-S--"
   },
   "source": [
    "The random tensors here are [pseudorandom numbers](https://www.computerhope.com/jargon/p/pseudo-random.htm) (they appear as random, but really aren't). Once a seed is set,tensorflow will generate the same random numbers. "
   ]
  },
  {
   "cell_type": "code",
   "execution_count": 18,
   "metadata": {
    "colab": {
     "base_uri": "https://localhost:8080/"
    },
    "id": "9eStLqr1F4ZP",
    "outputId": "9b944c3b-37cf-4196-a3be-314d25d16bc0"
   },
   "outputs": [
    {
     "name": "stdout",
     "output_type": "stream",
     "text": [
      "tf.Tensor(\n",
      "[[-0.75658023 -0.06854693]\n",
      " [ 0.07595028 -1.2573844 ]\n",
      " [-0.23193759 -1.8107857 ]], shape=(3, 2), dtype=float32)\n",
      "tf.Tensor(\n",
      "[[ 0.27305746 -0.29925638]\n",
      " [-0.36523244  0.61883324]\n",
      " [-1.0130817   0.28291693]], shape=(3, 2), dtype=float32)\n",
      "random_3 == random_4: [[False False]\n",
      " [False False]\n",
      " [False False]]\n"
     ]
    }
   ],
   "source": [
    "# Create two random (and different) tensors\n",
    "random_3 = tf.random.Generator.from_seed(42)\n",
    "random_3 = random_3.normal(shape=(3, 2))\n",
    "random_4 = tf.random.Generator.from_seed(11)\n",
    "random_4 = random_4.normal(shape=(3, 2))\n",
    "\n",
    "# Check the tensors and see if they are equal\n",
    "# Are they equal?\n",
    "print(random_3)\n",
    "print(random_4)\n",
    "print(f'random_3 == random_4: {random_3 == random_4}')"
   ]
  },
  {
   "cell_type": "markdown",
   "metadata": {
    "id": "Nji9AdFRIhBi"
   },
   "source": [
    "## Shuffling Tensors"
   ]
  },
  {
   "cell_type": "code",
   "execution_count": 19,
   "metadata": {
    "colab": {
     "base_uri": "https://localhost:8080/"
    },
    "id": "sl4HYEWMBI6x",
    "outputId": "d1c90142-3821-4bd8-da50-f0e3e50ff669"
   },
   "outputs": [
    {
     "data": {
      "text/plain": [
       "<tf.Tensor: shape=(3, 2), dtype=int32, numpy=\n",
       "array([[ 3,  4],\n",
       "       [10,  7],\n",
       "       [ 2,  5]], dtype=int32)>"
      ]
     },
     "execution_count": 19,
     "metadata": {},
     "output_type": "execute_result"
    }
   ],
   "source": [
    "# Shuffle a tensor (valuable for when you want to shuffle your data)\n",
    "not_shuffled = tf.constant([[10, 7],\n",
    "                            [3, 4],\n",
    "                            [2, 5]])\n",
    "# Gets different results each time\n",
    "tf.random.shuffle(not_shuffled)"
   ]
  },
  {
   "cell_type": "code",
   "execution_count": 20,
   "metadata": {
    "colab": {
     "base_uri": "https://localhost:8080/"
    },
    "id": "-HYn0ME_H1SY",
    "outputId": "3e8e6b9b-a28e-45bb-9c21-17e77a1e8375"
   },
   "outputs": [
    {
     "data": {
      "text/plain": [
       "<tf.Tensor: shape=(3, 2), dtype=int32, numpy=\n",
       "array([[ 2,  5],\n",
       "       [ 3,  4],\n",
       "       [10,  7]], dtype=int32)>"
      ]
     },
     "execution_count": 20,
     "metadata": {},
     "output_type": "execute_result"
    }
   ],
   "source": [
    "# Shuffle in the same order every time using the seed parameter (won't acutally be the same)\n",
    "tf.random.shuffle(not_shuffled, seed=42)"
   ]
  },
  {
   "cell_type": "markdown",
   "metadata": {
    "id": "GmC3qGIHjAx6"
   },
   "source": [
    "Rule #4 of the [`tf.random.set_seed()`](https://www.tensorflow.org/api_docs/python/tf/random/set_seed) documentation says that\n",
    "\n",
    "> \"4. If both the global and the operation seed are set: Both seeds are used in conjunction to determine the random sequence.\"\n",
    "\n",
    "`tf.random.set_seed(42)` sets the global seed, and the `seed` parameter in `tf.random.shuffle(seed=42)` sets the operation seed.\n",
    "\n",
    "Because, \"Operations that rely on a random seed actually derive it from two seeds: the global and operation-level seeds. This sets the global seed.\"\n"
   ]
  },
  {
   "cell_type": "code",
   "execution_count": 21,
   "metadata": {
    "colab": {
     "base_uri": "https://localhost:8080/"
    },
    "id": "cM6S8set-ixV",
    "outputId": "7a317a6f-eb6f-4586-bfc1-75a3361e7001"
   },
   "outputs": [
    {
     "data": {
      "text/plain": [
       "<tf.Tensor: shape=(3, 2), dtype=int32, numpy=\n",
       "array([[10,  7],\n",
       "       [ 3,  4],\n",
       "       [ 2,  5]], dtype=int32)>"
      ]
     },
     "execution_count": 21,
     "metadata": {},
     "output_type": "execute_result"
    }
   ],
   "source": [
    "# Shuffle in the same order every time\n",
    "\n",
    "# Set the global random seed\n",
    "tf.random.set_seed(42)\n",
    "\n",
    "# Set the operation random seed\n",
    "tf.random.shuffle(not_shuffled, seed=42)"
   ]
  },
  {
   "cell_type": "code",
   "execution_count": 22,
   "metadata": {
    "colab": {
     "base_uri": "https://localhost:8080/"
    },
    "id": "xKJOsdE8yCn4",
    "outputId": "7ad377d3-b812-4d32-d7dc-8caa5503cc3c"
   },
   "outputs": [
    {
     "data": {
      "text/plain": [
       "<tf.Tensor: shape=(3, 2), dtype=int32, numpy=\n",
       "array([[ 3,  4],\n",
       "       [ 2,  5],\n",
       "       [10,  7]], dtype=int32)>"
      ]
     },
     "execution_count": 22,
     "metadata": {},
     "output_type": "execute_result"
    }
   ],
   "source": [
    "# Set the global random seed\n",
    "tf.random.set_seed(42) # if you comment this out you'll get different results\n",
    "\n",
    "# Set the operation random seed\n",
    "tf.random.shuffle(not_shuffled)"
   ]
  },
  {
   "cell_type": "markdown",
   "metadata": {
    "id": "ouZ1fpJk0R3h"
   },
   "source": [
    "## Creating Tensors: Ones and Zeros\n",
    "\n",
    "- [`tf.ones()`](https://www.tensorflow.org/api_docs/python/tf/ones) will create a tensor of all ones \n",
    "- [`tf.zeros()`](https://www.tensorflow.org/api_docs/python/tf/zeros) will create a tensor of all zeros"
   ]
  },
  {
   "cell_type": "code",
   "execution_count": 23,
   "metadata": {
    "colab": {
     "base_uri": "https://localhost:8080/"
    },
    "id": "aG8QNZP7kEe1",
    "outputId": "5701ac23-b90d-4529-bef1-03c2f214dc97"
   },
   "outputs": [
    {
     "name": "stdout",
     "output_type": "stream",
     "text": [
      "tf.Tensor(\n",
      "[[1. 1.]\n",
      " [1. 1.]\n",
      " [1. 1.]], shape=(3, 2), dtype=float32)\n",
      "tf.Tensor(\n",
      "[[0. 0.]\n",
      " [0. 0.]\n",
      " [0. 0.]], shape=(3, 2), dtype=float32)\n"
     ]
    }
   ],
   "source": [
    "# Make a tensor of all ones\n",
    "print(tf.ones(shape=(3, 2)))\n",
    "\n",
    "# Make a tensor of all zeros\n",
    "print(tf.zeros(shape=(3, 2)))"
   ]
  },
  {
   "cell_type": "code",
   "execution_count": 24,
   "metadata": {},
   "outputs": [
    {
     "data": {
      "text/plain": [
       "(array([ 1,  2,  3,  4,  5,  6,  7,  8,  9, 10, 11, 12, 13, 14, 15, 16, 17,\n",
       "        18, 19, 20, 21, 22, 23, 24], dtype=int32),\n",
       " <tf.Tensor: shape=(2, 4, 3), dtype=int32, numpy=\n",
       " array([[[ 1,  2,  3],\n",
       "         [ 4,  5,  6],\n",
       "         [ 7,  8,  9],\n",
       "         [10, 11, 12]],\n",
       " \n",
       "        [[13, 14, 15],\n",
       "         [16, 17, 18],\n",
       "         [19, 20, 21],\n",
       "         [22, 23, 24]]], dtype=int32)>)"
      ]
     },
     "execution_count": 24,
     "metadata": {},
     "output_type": "execute_result"
    }
   ],
   "source": [
    "numpy_A = np.arange(1, 25, dtype=np.int32) # create a NumPy array between 1 and 25\n",
    "A = tf.constant(numpy_A,  \n",
    "                shape=[2, 4, 3]) # note: the shape total (2*4*3) has to match the number of elements in the array\n",
    "numpy_A, A"
   ]
  },
  {
   "cell_type": "markdown",
   "metadata": {},
   "source": [
    "## Changing Tensor Datatypes"
   ]
  },
  {
   "cell_type": "code",
   "execution_count": 25,
   "metadata": {},
   "outputs": [
    {
     "name": "stdout",
     "output_type": "stream",
     "text": [
      "B.dtype: <dtype: 'float32'>\n",
      "C.dtype: <dtype: 'int32'>\n"
     ]
    }
   ],
   "source": [
    "# Create a new tensor with default datatype (float32)\n",
    "B = tf.constant([1.7, 7.4])\n",
    "\n",
    "# Create a new tensor with default datatype (int32)\n",
    "C = tf.constant([1, 7])\n",
    "print(f'B.dtype: {B.dtype}')\n",
    "print(f'C.dtype: {C.dtype}')"
   ]
  },
  {
   "cell_type": "code",
   "execution_count": 26,
   "metadata": {},
   "outputs": [
    {
     "name": "stdout",
     "output_type": "stream",
     "text": [
      "B.dtype: <dtype: 'float16'>\n"
     ]
    }
   ],
   "source": [
    "# Change from float32 to float16 (reduced precision)\n",
    "B = tf.cast(B, dtype=tf.float16)\n",
    "print(f'B.dtype: {B.dtype}')"
   ]
  },
  {
   "cell_type": "code",
   "execution_count": 27,
   "metadata": {},
   "outputs": [
    {
     "name": "stdout",
     "output_type": "stream",
     "text": [
      "C.dtype: <dtype: 'float32'>\n"
     ]
    }
   ],
   "source": [
    "# Change from int32 to float32\n",
    "C = tf.cast(C, dtype=tf.float32)\n",
    "print(f'C.dtype: {C.dtype}')"
   ]
  },
  {
   "cell_type": "markdown",
   "metadata": {
    "id": "J1JLXa2P0wpx"
   },
   "source": [
    "## Getting information from tensors\n",
    "### Attributes\n",
    "Common bits to get about a tensor:\n",
    "* **Shape:** The length (number of elements) of each of the dimensions of a tensor\n",
    "* **Rank:** The number of tensor dimensions:\n",
    "  * A scalar has rank 0\n",
    "  * a vector has rank 1\n",
    "  * a matrix is rank 2\n",
    "  * a tensor has rank `n`\n",
    "* **Axis** or **Dimension:** A particular dimension of a tensor\n",
    "* **Size:** The total number of items in the tensor\n",
    "\n",
    "These might be especially useful when trying to organize the shapes of input data to inform/match the shapes of a model. I.E, , making sure the shape of image tensors are the same shape as a models input layer."
   ]
  },
  {
   "cell_type": "code",
   "execution_count": 28,
   "metadata": {
    "colab": {
     "base_uri": "https://localhost:8080/"
    },
    "id": "qhckrmovCaAA",
    "outputId": "96ce1206-537e-46fd-80cb-53ac64a9bd01"
   },
   "outputs": [
    {
     "data": {
      "text/plain": [
       "<tf.Tensor: shape=(2, 3, 4, 5), dtype=float32, numpy=\n",
       "array([[[[0., 0., 0., 0., 0.],\n",
       "         [0., 0., 0., 0., 0.],\n",
       "         [0., 0., 0., 0., 0.],\n",
       "         [0., 0., 0., 0., 0.]],\n",
       "\n",
       "        [[0., 0., 0., 0., 0.],\n",
       "         [0., 0., 0., 0., 0.],\n",
       "         [0., 0., 0., 0., 0.],\n",
       "         [0., 0., 0., 0., 0.]],\n",
       "\n",
       "        [[0., 0., 0., 0., 0.],\n",
       "         [0., 0., 0., 0., 0.],\n",
       "         [0., 0., 0., 0., 0.],\n",
       "         [0., 0., 0., 0., 0.]]],\n",
       "\n",
       "\n",
       "       [[[0., 0., 0., 0., 0.],\n",
       "         [0., 0., 0., 0., 0.],\n",
       "         [0., 0., 0., 0., 0.],\n",
       "         [0., 0., 0., 0., 0.]],\n",
       "\n",
       "        [[0., 0., 0., 0., 0.],\n",
       "         [0., 0., 0., 0., 0.],\n",
       "         [0., 0., 0., 0., 0.],\n",
       "         [0., 0., 0., 0., 0.]],\n",
       "\n",
       "        [[0., 0., 0., 0., 0.],\n",
       "         [0., 0., 0., 0., 0.],\n",
       "         [0., 0., 0., 0., 0.],\n",
       "         [0., 0., 0., 0., 0.]]]], dtype=float32)>"
      ]
     },
     "execution_count": 28,
     "metadata": {},
     "output_type": "execute_result"
    }
   ],
   "source": [
    "# Create a rank 4 tensor (4 dimensions)\n",
    "rootDim = 2\n",
    "nestedOneDim = 3\n",
    "nestedTwoDim = 4\n",
    "nestedThreeDim = 5\n",
    "rank_4_tensor = tf.zeros([rootDim, nestedOneDim, nestedTwoDim, nestedThreeDim])\n",
    "rank_4_tensor"
   ]
  },
  {
   "cell_type": "code",
   "execution_count": 29,
   "metadata": {
    "colab": {
     "base_uri": "https://localhost:8080/"
    },
    "id": "ImJdhWnLtZ_2",
    "outputId": "6527a79f-7b77-43cb-b44a-79c8cc5cd75b"
   },
   "outputs": [
    {
     "data": {
      "text/plain": [
       "(TensorShape([2, 3, 4, 5]), 4, <tf.Tensor: shape=(), dtype=int32, numpy=120>)"
      ]
     },
     "execution_count": 29,
     "metadata": {},
     "output_type": "execute_result"
    }
   ],
   "source": [
    "rank_4_tensor.shape, rank_4_tensor.ndim, tf.size(rank_4_tensor)"
   ]
  },
  {
   "cell_type": "code",
   "execution_count": 30,
   "metadata": {
    "colab": {
     "base_uri": "https://localhost:8080/"
    },
    "id": "Vvb-4ZYdpI9f",
    "outputId": "09edd4f3-49ec-4a3a-9464-f1f9e4da4b81"
   },
   "outputs": [
    {
     "name": "stdout",
     "output_type": "stream",
     "text": [
      "Datatype of every element: <dtype: 'float32'>\n",
      "Number of dimensions (rank): 4\n",
      "Shape of tensor: (2, 3, 4, 5)\n",
      "Elements along axis 0 of tensor: 2\n",
      "Elements along last axis of tensor: 5\n",
      "Total number of elements (2*3*4*5): 120\n"
     ]
    }
   ],
   "source": [
    "# Get various attributes of tensor\n",
    "print(\"Datatype of every element:\", rank_4_tensor.dtype)\n",
    "print(\"Number of dimensions (rank):\", rank_4_tensor.ndim)\n",
    "print(\"Shape of tensor:\", rank_4_tensor.shape)\n",
    "print(\"Elements along axis 0 of tensor:\", rank_4_tensor.shape[0])\n",
    "print(\"Elements along last axis of tensor:\", rank_4_tensor.shape[-1])\n",
    "print(\"Total number of elements (2*3*4*5):\", tf.size(rank_4_tensor).numpy()) # .numpy() converts to NumPy array"
   ]
  },
  {
   "cell_type": "markdown",
   "metadata": {
    "id": "S0SMO2ZOqL0G"
   },
   "source": [
    "### Items by index"
   ]
  },
  {
   "cell_type": "code",
   "execution_count": 31,
   "metadata": {
    "colab": {
     "base_uri": "https://localhost:8080/"
    },
    "id": "CFzOo-7QqLJf",
    "outputId": "144077a7-5855-4df9-f7c1-219a80fe5274"
   },
   "outputs": [
    {
     "data": {
      "text/plain": [
       "<tf.Tensor: shape=(2, 2, 2, 2), dtype=float32, numpy=\n",
       "array([[[[0., 0.],\n",
       "         [0., 0.]],\n",
       "\n",
       "        [[0., 0.],\n",
       "         [0., 0.]]],\n",
       "\n",
       "\n",
       "       [[[0., 0.],\n",
       "         [0., 0.]],\n",
       "\n",
       "        [[0., 0.],\n",
       "         [0., 0.]]]], dtype=float32)>"
      ]
     },
     "execution_count": 31,
     "metadata": {},
     "output_type": "execute_result"
    }
   ],
   "source": [
    "# Get the first 2 items of each dimension\n",
    "rank_4_tensor[:2, :2, :2, :2]"
   ]
  },
  {
   "cell_type": "code",
   "execution_count": 32,
   "metadata": {
    "colab": {
     "base_uri": "https://localhost:8080/"
    },
    "id": "weQe2bBUqknd",
    "outputId": "0d035e40-a245-4655-f334-8875ad0309a4"
   },
   "outputs": [
    {
     "data": {
      "text/plain": [
       "<tf.Tensor: shape=(1, 1, 1, 5), dtype=float32, numpy=array([[[[0., 0., 0., 0., 0.]]]], dtype=float32)>"
      ]
     },
     "execution_count": 32,
     "metadata": {},
     "output_type": "execute_result"
    }
   ],
   "source": [
    "# Get the dimension from each index except for the final one\n",
    "rank_4_tensor[:1, :1, :1, :]"
   ]
  },
  {
   "cell_type": "code",
   "execution_count": 33,
   "metadata": {
    "colab": {
     "base_uri": "https://localhost:8080/"
    },
    "id": "YQKcZWz5rFXG",
    "outputId": "1993c0f6-e742-4cfc-bfc9-d9c344250e34"
   },
   "outputs": [
    {
     "data": {
      "text/plain": [
       "<tf.Tensor: shape=(2,), dtype=int32, numpy=array([7, 4], dtype=int32)>"
      ]
     },
     "execution_count": 33,
     "metadata": {},
     "output_type": "execute_result"
    }
   ],
   "source": [
    "# Create a rank 2 tensor (2 dimensions)\n",
    "rank_2_tensor = tf.constant([[10, 7],\n",
    "                             [3, 4]])\n",
    "\n",
    "# Get the last item of each row\n",
    "rank_2_tensor[:, -1]"
   ]
  },
  {
   "cell_type": "markdown",
   "metadata": {},
   "source": [
    "### TODO: Stats"
   ]
  },
  {
   "cell_type": "markdown",
   "metadata": {
    "id": "4EHae9iA04Ok"
   },
   "source": [
    "## Manipulating tensors (tensor operations)\n",
    "\n",
    "Finding patterns in tensors (numberical representation of data) requires manipulating them.\n",
    "\n",
    "Again, when building models in TensorFlow, much of this pattern discovery is done for you.\n",
    "\n",
    "###  Add A Dimension with newaxis and expanddims\n",
    "Add dimensions to a tensor whilst keeping the same information present using `tf.newaxis`\n",
    "- [newaxis](https://www.tensorflow.org/api_docs/python/tf/Tensor#some_useful_examples)\n",
    "- [expand_dims](https://www.tensorflow.org/api_docs/python/tf/expand_dims)"
   ]
  },
  {
   "cell_type": "code",
   "execution_count": 34,
   "metadata": {
    "colab": {
     "base_uri": "https://localhost:8080/"
    },
    "id": "KuEEEQa4w1id",
    "outputId": "c5ab97d4-7a4d-4db9-8d6d-9a99970b6b1e"
   },
   "outputs": [
    {
     "name": "stdout",
     "output_type": "stream",
     "text": [
      "---- rank_2_tensor ----\n",
      "tf.Tensor(\n",
      "[[10  7]\n",
      " [ 3  4]], shape=(2, 2), dtype=int32)\n",
      "---- rank_3_tensor ----\n",
      "tf.Tensor(\n",
      "[[[10]\n",
      "  [ 7]]\n",
      "\n",
      " [[ 3]\n",
      "  [ 4]]], shape=(2, 2, 1), dtype=int32)\n"
     ]
    }
   ],
   "source": [
    "# Add an extra dimension (to the end)\n",
    "rank_3_tensor = rank_2_tensor[..., tf.newaxis] # in Python \"...\" means \"all dimensions prior to\"\n",
    "print('---- rank_2_tensor ----')\n",
    "print(rank_2_tensor)\n",
    "print('---- rank_3_tensor ----')\n",
    "print(rank_3_tensor)"
   ]
  },
  {
   "cell_type": "code",
   "execution_count": 35,
   "metadata": {
    "colab": {
     "base_uri": "https://localhost:8080/"
    },
    "id": "HpPTBqt4rvr9",
    "outputId": "925068e5-f544-45c3-be1a-7be9fbca22a6"
   },
   "outputs": [
    {
     "data": {
      "text/plain": [
       "<tf.Tensor: shape=(2, 2, 1), dtype=int32, numpy=\n",
       "array([[[10],\n",
       "        [ 7]],\n",
       "\n",
       "       [[ 3],\n",
       "        [ 4]]], dtype=int32)>"
      ]
     },
     "execution_count": 35,
     "metadata": {},
     "output_type": "execute_result"
    }
   ],
   "source": [
    "# \n",
    "# expand_dims\n",
    "# \n",
    "tf.expand_dims(rank_2_tensor, axis=-1) # \"-1\" means last axis"
   ]
  },
  {
   "cell_type": "markdown",
   "metadata": {
    "id": "-NzdbYDqs1Ex"
   },
   "source": [
    "### Add\n",
    "Here, creating a tensor with `tf.constant()`, adding 10, and seeing that the original tensor is unchanged (the addition gets done on a copy)."
   ]
  },
  {
   "cell_type": "code",
   "execution_count": 36,
   "metadata": {
    "colab": {
     "base_uri": "https://localhost:8080/"
    },
    "id": "tu3zJirLsMVw",
    "outputId": "900fe49b-d098-4082-b9df-fa274e6d0739"
   },
   "outputs": [
    {
     "name": "stdout",
     "output_type": "stream",
     "text": [
      "tf.Tensor(\n",
      "[[20 17]\n",
      " [13 14]], shape=(2, 2), dtype=int32)\n",
      "tf.Tensor(\n",
      "[[10  7]\n",
      " [ 3  4]], shape=(2, 2), dtype=int32)\n"
     ]
    }
   ],
   "source": [
    "# You can add values to a tensor using the addition operator\n",
    "tensor = tf.constant([[10, 7], [3, 4]])\n",
    "print(tensor + 10)\n",
    "print(tensor)"
   ]
  },
  {
   "cell_type": "markdown",
   "metadata": {},
   "source": [
    "### Multiply"
   ]
  },
  {
   "cell_type": "code",
   "execution_count": 37,
   "metadata": {
    "colab": {
     "base_uri": "https://localhost:8080/"
    },
    "id": "6TW0_ZC_xoEC",
    "outputId": "7042cd55-6025-430e-95bb-a9cce80eafd1"
   },
   "outputs": [
    {
     "name": "stdout",
     "output_type": "stream",
     "text": [
      "tf.Tensor(\n",
      "[[100  70]\n",
      " [ 30  40]], shape=(2, 2), dtype=int32)\n",
      "tf.Tensor(\n",
      "[[100  70]\n",
      " [ 30  40]], shape=(2, 2), dtype=int32)\n"
     ]
    }
   ],
   "source": [
    "print(tensor * 10)\n",
    "\n",
    "# Use the tensorflow function equivalent of the '*' (multiply) operator\n",
    "print(tf.multiply(tensor, 10))"
   ]
  },
  {
   "cell_type": "markdown",
   "metadata": {},
   "source": [
    "### Subtract"
   ]
  },
  {
   "cell_type": "code",
   "execution_count": 38,
   "metadata": {
    "colab": {
     "base_uri": "https://localhost:8080/"
    },
    "id": "MN6XjwWfxu66",
    "outputId": "ab56a5c4-52f1-41e9-c162-8d3edb5ff73f"
   },
   "outputs": [
    {
     "data": {
      "text/plain": [
       "<tf.Tensor: shape=(2, 2), dtype=int32, numpy=\n",
       "array([[ 0, -3],\n",
       "       [-7, -6]], dtype=int32)>"
      ]
     },
     "execution_count": 38,
     "metadata": {},
     "output_type": "execute_result"
    }
   ],
   "source": [
    "tensor - 10"
   ]
  }
 ],
 "metadata": {
  "accelerator": "GPU",
  "colab": {
   "authorship_tag": "ABX9TyPtjTIh2BnxrHodM1T0I1I2",
   "collapsed_sections": [
    "fzjcZ4FHCOb5"
   ],
   "include_colab_link": true,
   "provenance": []
  },
  "gpuClass": "premium",
  "kernelspec": {
   "display_name": "Python 3 (ipykernel)",
   "language": "python",
   "name": "python3"
  },
  "language_info": {
   "codemirror_mode": {
    "name": "ipython",
    "version": 3
   },
   "file_extension": ".py",
   "mimetype": "text/x-python",
   "name": "python",
   "nbconvert_exporter": "python",
   "pygments_lexer": "ipython3",
   "version": "3.8.1"
  }
 },
 "nbformat": 4,
 "nbformat_minor": 4
}
