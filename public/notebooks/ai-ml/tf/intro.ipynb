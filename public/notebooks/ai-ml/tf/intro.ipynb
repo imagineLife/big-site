{
 "cells": [
  {
   "cell_type": "markdown",
   "metadata": {
    "colab_type": "text",
    "id": "view-in-github"
   },
   "source": [
    "<a href=\"https://colab.research.google.com/github/mrdbourke/tensorflow-deep-learning/blob/main/00_tensorflow_fundamentals.ipynb\" target=\"_parent\"><img src=\"https://colab.research.google.com/assets/colab-badge.svg\" alt=\"Open In Colab\"/></a>"
   ]
  },
  {
   "cell_type": "markdown",
   "metadata": {
    "id": "ielzxn52r2CB"
   },
   "source": [
    "# Tensorflow: An Intro\n",
    "[TensorFlow](https://www.tensorflow.org/): an open-source end-to-end machine learning library useful for things like data \"wrangling\", modelling, building machine-learning models, and more.\n",
    "\n",
    "Rather than building machine learning and deep learning models from \"scratch\",  tensorflow contains many of the most common machine learning functions you'll want to use.\n",
    "\n",
    "## Goals\n",
    "- creating tensors\n",
    "- Getting information from tensors\n",
    "- Manipulating tensors\n",
    "- Comparing & Combining Tensorflow, Tensors, and NumPy\n",
    "- Using `@tf.function` as a way to speed up Python functions\n",
    "- Using GPUs with TensorFlow\n",
    "\n",
    "## Imports"
   ]
  },
  {
   "cell_type": "code",
   "execution_count": 46,
   "metadata": {},
   "outputs": [
    {
     "name": "stdout",
     "output_type": "stream",
     "text": [
      "tensorlfow version: 2.12.0\n"
     ]
    }
   ],
   "source": [
    "import datetime\n",
    "import numpy as np\n",
    "import tensorflow as tf\n",
    "print(f'tensorlfow version: {tf.__version__}') # find the version number (should be 2.x+)"
   ]
  },
  {
   "cell_type": "markdown",
   "metadata": {
    "id": "VArmDlu06sH0"
   },
   "source": [
    "## Tensors\n",
    "\n",
    "### Like Numpy Arrays\n",
    "NumPy arrays are similar to [tensors](https://www.tensorflow.org/guide/tensor). One major difference between tensors and NumPy arrays (also an n-dimensional array of numbers) is that tensorflow (_and tensors_) can be used & processed on [GPUs (graphical processing units)](https://blogs.nvidia.com/blog/2009/12/16/whats-the-difference-between-a-cpu-and-a-gpu/) and [TPUs (tensor processing units)](https://en.wikipedia.org/wiki/Tensor_processing_unit). One benefit of being able to run on GPUs and TPUs is faster computation. GPUs and TPUs will process data faster than CPUs.  \n",
    "\n",
    "Tensors are like multi-dimensional numerical representations (also referred to as n-dimensional, where n can be any number) of _things_:\n",
    "- numbers themselves, using tensors to represent the price of houses)\n",
    "- images, using tensors to represent the pixels of an image)\n",
    "- text, using tensors to represent words"
   ]
  },
  {
   "cell_type": "markdown",
   "metadata": {
    "id": "JNtV5t1qz0VP"
   },
   "source": [
    "## Working With Tensors\n",
    "\n",
    "### Creating Tensors with `tf.constant()`\n",
    "Creating tensors, \"from scratch\", may not be common. TensorFlow has modules built-in (such as [`tf.io`](https://www.tensorflow.org/api_docs/python/tf/io) and [`tf.data`](https://www.tensorflow.org/guide/data)) which are able to read input data sources and _automatically convert them to tensors_. Here, though, a look at creating tensors with [`tf.constant()`](https://www.tensorflow.org/api_docs/python/tf/constant).  \n",
    "\n",
    "A scalar is known as a \"rank 0\" tensor. Scalars have no dimensions - just a single number.\n",
    "\n",
    "By default, TensorFlow creates tensors with either an `int32` or `float32` datatype.\n",
    "\n",
    "This is known as [32-bit precision](https://en.wikipedia.org/wiki/Precision_(computer_science) (the higher the number, the more precise the number, the more space it takes up on your computer).\n",
    "\n",
    "There are different types of numbers and number datatypes:\n",
    "* **scalar**: a single number.\n",
    "* **vector**: a number with direction (e.g. wind speed with direction).\n",
    "* **matrix**: a 2-dimensional array of numbers.\n",
    "* **tensor**: an n-dimensional arrary of numbers (where n can be any number, a 0-dimension tensor is a scalar, a 1-dimension tensor is a vector). \n",
    "\n",
    "\"Matrix\" and \"Tensor\" may be used interchangably.\n",
    "\n",
    "For more on the mathematical difference between scalars, vectors and matrices see the [visual algebra post by Math is Fun](https://www.mathsisfun.com/algebra/scalar-vector-matrix.html).\n",
    "\n",
    "#### Scalar"
   ]
  },
  {
   "cell_type": "code",
   "execution_count": 8,
   "metadata": {
    "colab": {
     "base_uri": "https://localhost:8080/"
    },
    "id": "nC7aQgqi0M_Z",
    "outputId": "6756e867-e2b3-4d64-e7b9-b612394a8ecc"
   },
   "outputs": [
    {
     "name": "stdout",
     "output_type": "stream",
     "text": [
      "scalar tensor: 7\n"
     ]
    },
    {
     "data": {
      "text/plain": [
       "<tf.Tensor: shape=(), dtype=int32, numpy=7>"
      ]
     },
     "execution_count": 8,
     "metadata": {},
     "output_type": "execute_result"
    }
   ],
   "source": [
    "# Create a scalar (rank 0 tensor)\n",
    "scalar = tf.constant(7)\n",
    "print(f'scalar tensor: {scalar}')\n",
    "scalar"
   ]
  },
  {
   "cell_type": "code",
   "execution_count": 9,
   "metadata": {
    "colab": {
     "base_uri": "https://localhost:8080/"
    },
    "id": "1sgUNKoFkJ21",
    "outputId": "b7538913-97b7-4c39-f732-e0dae545ab8d"
   },
   "outputs": [
    {
     "data": {
      "text/plain": [
       "0"
      ]
     },
     "execution_count": 9,
     "metadata": {},
     "output_type": "execute_result"
    }
   ],
   "source": [
    "# Check the number of dimensions of a tensor (ndim stands for number of dimensions)\n",
    "scalar.ndim"
   ]
  },
  {
   "cell_type": "markdown",
   "metadata": {},
   "source": [
    "#### Vector"
   ]
  },
  {
   "cell_type": "code",
   "execution_count": 10,
   "metadata": {
    "colab": {
     "base_uri": "https://localhost:8080/"
    },
    "id": "irtCo2fs0V_o",
    "outputId": "ac00aae7-c80f-4450-d824-f6aa9910362b"
   },
   "outputs": [
    {
     "data": {
      "text/plain": [
       "<tf.Tensor: shape=(2,), dtype=int32, numpy=array([10, 10], dtype=int32)>"
      ]
     },
     "execution_count": 10,
     "metadata": {},
     "output_type": "execute_result"
    }
   ],
   "source": [
    "# Create a vector (more than 0 dimensions)\n",
    "vector = tf.constant([10, 10])\n",
    "vector"
   ]
  },
  {
   "cell_type": "code",
   "execution_count": 15,
   "metadata": {
    "colab": {
     "base_uri": "https://localhost:8080/"
    },
    "id": "7DDc36pvmOse",
    "outputId": "aec326c7-d359-4df9-f64b-62af8fdc2958"
   },
   "outputs": [
    {
     "data": {
      "text/plain": [
       "1"
      ]
     },
     "execution_count": 15,
     "metadata": {},
     "output_type": "execute_result"
    }
   ],
   "source": [
    "# Check the number of dimensions of our vector tensor\n",
    "vector.ndim"
   ]
  },
  {
   "cell_type": "markdown",
   "metadata": {},
   "source": [
    "#### Matrix"
   ]
  },
  {
   "cell_type": "code",
   "execution_count": 14,
   "metadata": {
    "colab": {
     "base_uri": "https://localhost:8080/"
    },
    "id": "HXf5A5360V7A",
    "outputId": "4ad29d49-9ed6-4b7a-aed5-bb6cab663556"
   },
   "outputs": [
    {
     "data": {
      "text/plain": [
       "<tf.Tensor: shape=(2, 2), dtype=int32, numpy=\n",
       "array([[10,  7],\n",
       "       [ 7, 10]], dtype=int32)>"
      ]
     },
     "execution_count": 14,
     "metadata": {},
     "output_type": "execute_result"
    }
   ],
   "source": [
    "# Create a matrix (more than 1 dimension)\n",
    "matrix = tf.constant([[10, 7],\n",
    "                      [7, 10]])\n",
    "matrix"
   ]
  },
  {
   "cell_type": "code",
   "execution_count": 17,
   "metadata": {
    "colab": {
     "base_uri": "https://localhost:8080/"
    },
    "id": "Asmn6YghlT6u",
    "outputId": "a720f883-9bed-4f83-833a-1e11c4cac29c"
   },
   "outputs": [
    {
     "data": {
      "text/plain": [
       "2"
      ]
     },
     "execution_count": 17,
     "metadata": {},
     "output_type": "execute_result"
    }
   ],
   "source": [
    "matrix.ndim"
   ]
  },
  {
   "cell_type": "code",
   "execution_count": 18,
   "metadata": {
    "colab": {
     "base_uri": "https://localhost:8080/"
    },
    "id": "aEgthLq80V2u",
    "outputId": "77397970-7687-439d-c0dc-81548d2a238e"
   },
   "outputs": [
    {
     "data": {
      "text/plain": [
       "<tf.Tensor: shape=(3, 2), dtype=float16, numpy=\n",
       "array([[10.,  7.],\n",
       "       [ 3.,  2.],\n",
       "       [ 8.,  9.]], dtype=float16)>"
      ]
     },
     "execution_count": 18,
     "metadata": {},
     "output_type": "execute_result"
    }
   ],
   "source": [
    "# Create another matrix and define the datatype\n",
    "another_matrix = tf.constant([[10., 7.],\n",
    "                              [3., 2.],\n",
    "                              [8., 9.]], dtype=tf.float16) # specify the datatype with 'dtype'\n",
    "another_matrix"
   ]
  },
  {
   "cell_type": "code",
   "execution_count": 21,
   "metadata": {
    "colab": {
     "base_uri": "https://localhost:8080/"
    },
    "id": "v-Y-lXdOlXRg",
    "outputId": "e687b22d-f4fb-44b1-8d7f-06276a39d6ff"
   },
   "outputs": [
    {
     "data": {
      "text/plain": [
       "2"
      ]
     },
     "execution_count": 21,
     "metadata": {},
     "output_type": "execute_result"
    }
   ],
   "source": [
    "# Even though another_matrix contains more numbers than matrix, its 'ndim' (dimension count) is the same:\n",
    "another_matrix.ndim"
   ]
  },
  {
   "cell_type": "code",
   "execution_count": 23,
   "metadata": {
    "colab": {
     "base_uri": "https://localhost:8080/"
    },
    "id": "fAy7J6fT0Vwz",
    "outputId": "976ce412-58bb-4604-a8a6-881b8b6e1a67"
   },
   "outputs": [
    {
     "data": {
      "text/plain": [
       "<tf.Tensor: shape=(3, 2, 3), dtype=int32, numpy=\n",
       "array([[[ 1,  2,  3],\n",
       "        [ 4,  5,  6]],\n",
       "\n",
       "       [[ 7,  8,  9],\n",
       "        [10, 11, 12]],\n",
       "\n",
       "       [[13, 14, 15],\n",
       "        [16, 17, 18]]], dtype=int32)>"
      ]
     },
     "execution_count": 23,
     "metadata": {},
     "output_type": "execute_result"
    }
   ],
   "source": [
    "# How about a tensor with more than 2 dimensions\n",
    "tensor = tf.constant([[[1, 2, 3],\n",
    "                       [4, 5, 6]],\n",
    "                      [[7, 8, 9],\n",
    "                       [10, 11, 12]],\n",
    "                      [[13, 14, 15],\n",
    "                       [16, 17, 18]]])\n",
    "tensor"
   ]
  },
  {
   "cell_type": "code",
   "execution_count": 12,
   "metadata": {
    "colab": {
     "base_uri": "https://localhost:8080/"
    },
    "id": "FhIsj108mFOS",
    "outputId": "cf336e60-876d-423d-d8bf-024f794f5b22"
   },
   "outputs": [
    {
     "data": {
      "text/plain": [
       "3"
      ]
     },
     "execution_count": 12,
     "metadata": {},
     "output_type": "execute_result"
    }
   ],
   "source": [
    "tensor.ndim"
   ]
  },
  {
   "cell_type": "markdown",
   "metadata": {
    "id": "w5MGwSpA100u"
   },
   "source": [
    "### On Tensor Dimensions\n",
    "This tensor is known as a rank 3 tensor (3-dimensions):\n",
    "```python\n",
    "tensor = tf.constant([[[1, 2, 3],\n",
    "                       [4, 5, 6]],\n",
    "                      [[7, 8, 9],\n",
    "                       [10, 11, 12]],\n",
    "                      [[13, 14, 15],\n",
    "                       [16, 17, 18]]])\n",
    "```\n",
    "\n",
    "### Dimension Count from Source Data\n",
    "<!-- with shape (224, 224, 3, 32), where: -->\n",
    "Tensors may be created based on a series of images:\n",
    "* image-width of 224\n",
    "* image-height of 224\n",
    "* 3 color channels: (red, green blue)\n",
    "* instruct tensorflow to process 32 images at-a-time, in a \"batch\" of 32\n",
    "That tensor might have a shape (224, 224, 3, 32)"
   ]
  },
  {
   "cell_type": "markdown",
   "metadata": {
    "id": "TZMfDFKC0Cl7"
   },
   "source": [
    "## Creating Tensors with `tf.Variable()`\n",
    "\n",
    "Often, when working with data, tensors are created automatically. Here, creating tensors using [`tf.Variable()`](https://www.tensorflow.org/api_docs/python/tf/Variable).\n",
    "\n",
    "### Constants are Immutable, Variables are mutable\n",
    "The difference between `tf.Variable()` and `tf.constant()` is tensors created with `tf.constant()` are immutable (can't be changed, can only be used to create a new tensor), where as, tensors created with `tf.Variable()` are mutable (can be changed).  \n",
    "\n",
    "To change an element of a `tf.Variable()` tensor requires the `assign()` method."
   ]
  },
  {
   "cell_type": "code",
   "execution_count": 27,
   "metadata": {
    "colab": {
     "base_uri": "https://localhost:8080/"
    },
    "id": "bv1SBbDe4TxN",
    "outputId": "0aeb31ea-808d-4dc3-bcd3-8ef01be56012"
   },
   "outputs": [
    {
     "name": "stdout",
     "output_type": "stream",
     "text": [
      "<tf.Variable 'Variable:0' shape=(2,) dtype=int32, numpy=array([10,  7], dtype=int32)>\n",
      "tf.Tensor([10  7], shape=(2,), dtype=int32)\n"
     ]
    }
   ],
   "source": [
    "# Create the same tensor with tf.Variable() and tf.constant()\n",
    "changeable_tensor = tf.Variable([10, 7])\n",
    "unchangeable_tensor = tf.constant([10, 7])\n",
    "print(changeable_tensor)\n",
    "print(unchangeable_tensor)"
   ]
  },
  {
   "cell_type": "code",
   "execution_count": 32,
   "metadata": {
    "colab": {
     "base_uri": "https://localhost:8080/",
     "height": 204
    },
    "id": "dfDwbF6i5Sy3",
    "outputId": "9b25dd77-24c4-4f59-82bb-8f8ae826c384"
   },
   "outputs": [
    {
     "ename": "TypeError",
     "evalue": "'ResourceVariable' object does not support item assignment",
     "output_type": "error",
     "traceback": [
      "\u001b[0;31m---------------------------------------------------------------------------\u001b[0m",
      "\u001b[0;31mTypeError\u001b[0m                                 Traceback (most recent call last)",
      "Cell \u001b[0;32mIn[32], line 5\u001b[0m\n\u001b[1;32m      1\u001b[0m \u001b[38;5;66;03m# \u001b[39;00m\n\u001b[1;32m      2\u001b[0m \u001b[38;5;66;03m# FAILING at changing a Variable  without \".assign()\"\u001b[39;00m\n\u001b[1;32m      3\u001b[0m \u001b[38;5;66;03m# \u001b[39;00m\n\u001b[1;32m      4\u001b[0m \u001b[38;5;66;03m# Will error (requires the .assign() method)\u001b[39;00m\n\u001b[0;32m----> 5\u001b[0m \u001b[43mchangeable_tensor\u001b[49m\u001b[43m[\u001b[49m\u001b[38;5;241;43m0\u001b[39;49m\u001b[43m]\u001b[49m \u001b[38;5;241m=\u001b[39m \u001b[38;5;241m7\u001b[39m\n\u001b[1;32m      6\u001b[0m changeable_tensor\n",
      "\u001b[0;31mTypeError\u001b[0m: 'ResourceVariable' object does not support item assignment"
     ]
    }
   ],
   "source": [
    "# \n",
    "# FAILING at changing a Variable  without \".assign()\"\n",
    "# \n",
    "# Will error (requires the .assign() method)\n",
    "changeable_tensor[0] = 7\n",
    "changeable_tensor"
   ]
  },
  {
   "cell_type": "code",
   "execution_count": 33,
   "metadata": {
    "colab": {
     "base_uri": "https://localhost:8080/"
    },
    "id": "FJV3iwvG4jg4",
    "outputId": "48fac542-e9c3-4d20-9a9a-807accfec61e"
   },
   "outputs": [
    {
     "data": {
      "text/plain": [
       "<tf.Variable 'Variable:0' shape=(2,) dtype=int32, numpy=array([7, 7], dtype=int32)>"
      ]
     },
     "execution_count": 33,
     "metadata": {},
     "output_type": "execute_result"
    }
   ],
   "source": [
    "# \n",
    "# Success changing a tensor\n",
    "# \n",
    "changeable_tensor[0].assign(7)\n",
    "changeable_tensor"
   ]
  },
  {
   "cell_type": "code",
   "execution_count": 34,
   "metadata": {
    "colab": {
     "base_uri": "https://localhost:8080/",
     "height": 329
    },
    "id": "5j_rOo8X5N9f",
    "outputId": "5ccb2e96-6f3e-4bc1-d972-57654a52d6e6"
   },
   "outputs": [
    {
     "ename": "AttributeError",
     "evalue": "'tensorflow.python.framework.ops.EagerTensor' object has no attribute 'assign'",
     "output_type": "error",
     "traceback": [
      "\u001b[0;31m---------------------------------------------------------------------------\u001b[0m",
      "\u001b[0;31mAttributeError\u001b[0m                            Traceback (most recent call last)",
      "Cell \u001b[0;32mIn[34], line 4\u001b[0m\n\u001b[1;32m      1\u001b[0m \u001b[38;5;66;03m# \u001b[39;00m\n\u001b[1;32m      2\u001b[0m \u001b[38;5;66;03m# FAILURE attemtpting to change a constant tensor\u001b[39;00m\n\u001b[1;32m      3\u001b[0m \u001b[38;5;66;03m# \u001b[39;00m\n\u001b[0;32m----> 4\u001b[0m \u001b[43munchangeable_tensor\u001b[49m\u001b[43m[\u001b[49m\u001b[38;5;241;43m0\u001b[39;49m\u001b[43m]\u001b[49m\u001b[38;5;241;43m.\u001b[39;49m\u001b[43massign\u001b[49m(\u001b[38;5;241m7\u001b[39m)\n\u001b[1;32m      5\u001b[0m unchangleable_tensor\n",
      "File \u001b[0;32m/Library/Frameworks/Python.framework/Versions/3.8/lib/python3.8/site-packages/tensorflow/python/framework/ops.py:443\u001b[0m, in \u001b[0;36mTensor.__getattr__\u001b[0;34m(self, name)\u001b[0m\n\u001b[1;32m    434\u001b[0m \u001b[38;5;28;01mif\u001b[39;00m name \u001b[38;5;129;01min\u001b[39;00m {\u001b[38;5;124m\"\u001b[39m\u001b[38;5;124mT\u001b[39m\u001b[38;5;124m\"\u001b[39m, \u001b[38;5;124m\"\u001b[39m\u001b[38;5;124mastype\u001b[39m\u001b[38;5;124m\"\u001b[39m, \u001b[38;5;124m\"\u001b[39m\u001b[38;5;124mravel\u001b[39m\u001b[38;5;124m\"\u001b[39m, \u001b[38;5;124m\"\u001b[39m\u001b[38;5;124mtranspose\u001b[39m\u001b[38;5;124m\"\u001b[39m, \u001b[38;5;124m\"\u001b[39m\u001b[38;5;124mreshape\u001b[39m\u001b[38;5;124m\"\u001b[39m, \u001b[38;5;124m\"\u001b[39m\u001b[38;5;124mclip\u001b[39m\u001b[38;5;124m\"\u001b[39m, \u001b[38;5;124m\"\u001b[39m\u001b[38;5;124msize\u001b[39m\u001b[38;5;124m\"\u001b[39m,\n\u001b[1;32m    435\u001b[0m             \u001b[38;5;124m\"\u001b[39m\u001b[38;5;124mtolist\u001b[39m\u001b[38;5;124m\"\u001b[39m, \u001b[38;5;124m\"\u001b[39m\u001b[38;5;124mdata\u001b[39m\u001b[38;5;124m\"\u001b[39m}:\n\u001b[1;32m    436\u001b[0m   \u001b[38;5;66;03m# TODO(wangpeng): Export the enable_numpy_behavior knob\u001b[39;00m\n\u001b[1;32m    437\u001b[0m   \u001b[38;5;28;01mraise\u001b[39;00m \u001b[38;5;167;01mAttributeError\u001b[39;00m(\n\u001b[1;32m    438\u001b[0m       \u001b[38;5;124mf\u001b[39m\u001b[38;5;124m\"\u001b[39m\u001b[38;5;132;01m{\u001b[39;00m\u001b[38;5;28mtype\u001b[39m(\u001b[38;5;28mself\u001b[39m)\u001b[38;5;241m.\u001b[39m\u001b[38;5;18m__name__\u001b[39m\u001b[38;5;132;01m}\u001b[39;00m\u001b[38;5;124m object has no attribute \u001b[39m\u001b[38;5;124m'\u001b[39m\u001b[38;5;132;01m{\u001b[39;00mname\u001b[38;5;132;01m}\u001b[39;00m\u001b[38;5;124m'\u001b[39m\u001b[38;5;124m. \u001b[39m\u001b[38;5;124m\"\u001b[39m \u001b[38;5;241m+\u001b[39m \u001b[38;5;124m\"\"\"\u001b[39m\n\u001b[1;32m    439\u001b[0m \u001b[38;5;124m    If you are looking for numpy-related methods, please run the following:\u001b[39m\n\u001b[1;32m    440\u001b[0m \u001b[38;5;124m    from tensorflow.python.ops.numpy_ops import np_config\u001b[39m\n\u001b[1;32m    441\u001b[0m \u001b[38;5;124m    np_config.enable_numpy_behavior()\u001b[39m\n\u001b[1;32m    442\u001b[0m \u001b[38;5;124m  \u001b[39m\u001b[38;5;124m\"\"\"\u001b[39m)\n\u001b[0;32m--> 443\u001b[0m \u001b[38;5;28;43mself\u001b[39;49m\u001b[38;5;241;43m.\u001b[39;49m\u001b[38;5;21;43m__getattribute__\u001b[39;49m\u001b[43m(\u001b[49m\u001b[43mname\u001b[49m\u001b[43m)\u001b[49m\n",
      "\u001b[0;31mAttributeError\u001b[0m: 'tensorflow.python.framework.ops.EagerTensor' object has no attribute 'assign'"
     ]
    }
   ],
   "source": [
    "# \n",
    "# FAILURE attemtpting to change a constant tensor\n",
    "# \n",
    "unchangeable_tensor[0].assign(7)\n",
    "unchangleable_tensor"
   ]
  },
  {
   "cell_type": "markdown",
   "metadata": {
    "id": "pAAT59Ay0J0l"
   },
   "source": [
    "### Creating random tensors\n",
    "\n",
    "Random tensors are tensors of some abitrary size which contain random numbers.\n",
    "\n",
    "Why would you want to create random tensors? \n",
    "\n",
    "Random tensors are what neural networks use to **intialize their weights** when recognizing (patterns) in data. The process of a neural network learning might often involve taking a random n-dimensional array of numbers and refining them until they represent some kind of pattern (a compressed way to represent the original data).\n",
    "\n",
    "<!-- **How a network learns** -->\n",
    "<!-- ![how a network learns](https://raw.githubusercontent.com/mrdbourke/tensorflow-deep-learning/main/images/00-how-a-network-learns.png) -->\n",
    "<!-- *A network learns by starting with random patterns (1) then going through demonstrative examples of data (2) whilst trying to update its random patterns to represent the examples (3).*\n",
    " -->\n",
    "Here, creating random tensors by using the [`tf.random.Generator`](https://www.tensorflow.org/guide/random_numbers#the_tfrandomgenerator_class) class."
   ]
  },
  {
   "cell_type": "code",
   "execution_count": 36,
   "metadata": {
    "colab": {
     "base_uri": "https://localhost:8080/"
    },
    "id": "yZ7Zu5Z178JL",
    "outputId": "141a772a-635f-4f40-e039-e5c9c4b6c446"
   },
   "outputs": [
    {
     "name": "stdout",
     "output_type": "stream",
     "text": [
      "tf.Tensor(\n",
      "[[-0.75658023 -0.06854693]\n",
      " [ 0.07595028 -1.2573844 ]\n",
      " [-0.23193759 -1.8107857 ]], shape=(3, 2), dtype=float32)\n",
      "tf.Tensor(\n",
      "[[-0.75658023 -0.06854693]\n",
      " [ 0.07595028 -1.2573844 ]\n",
      " [-0.23193759 -1.8107857 ]], shape=(3, 2), dtype=float32)\n",
      "random_1 == random_2: [[ True  True]\n",
      " [ True  True]\n",
      " [ True  True]]\n"
     ]
    }
   ],
   "source": [
    "# Create two random (but the same) tensors\n",
    "random_1 = tf.random.Generator.from_seed(42) # set the seed for reproducibility\n",
    "random_1 = random_1.normal(shape=(3, 2)) # create tensor from a normal distribution \n",
    "random_2 = tf.random.Generator.from_seed(42)\n",
    "random_2 = random_2.normal(shape=(3, 2))\n",
    "\n",
    "# Are they equal?\n",
    "print(random_1)\n",
    "print(random_2)\n",
    "print(f'random_1 == random_2: {random_1 == random_2}')"
   ]
  },
  {
   "cell_type": "markdown",
   "metadata": {
    "id": "k6Od5fpZ-S--"
   },
   "source": [
    "The random tensors here are [pseudorandom numbers](https://www.computerhope.com/jargon/p/pseudo-random.htm) (they appear as random, but really aren't). Once a seed is set,tensorflow will generate the same random numbers. "
   ]
  },
  {
   "cell_type": "code",
   "execution_count": 38,
   "metadata": {
    "colab": {
     "base_uri": "https://localhost:8080/"
    },
    "id": "9eStLqr1F4ZP",
    "outputId": "9b944c3b-37cf-4196-a3be-314d25d16bc0"
   },
   "outputs": [
    {
     "name": "stdout",
     "output_type": "stream",
     "text": [
      "tf.Tensor(\n",
      "[[-0.75658023 -0.06854693]\n",
      " [ 0.07595028 -1.2573844 ]\n",
      " [-0.23193759 -1.8107857 ]], shape=(3, 2), dtype=float32)\n",
      "tf.Tensor(\n",
      "[[ 0.27305746 -0.29925638]\n",
      " [-0.36523244  0.61883324]\n",
      " [-1.0130817   0.28291693]], shape=(3, 2), dtype=float32)\n",
      "random_3 == random_4: [[False False]\n",
      " [False False]\n",
      " [False False]]\n"
     ]
    }
   ],
   "source": [
    "# Create two random (and different) tensors\n",
    "random_3 = tf.random.Generator.from_seed(42)\n",
    "random_3 = random_3.normal(shape=(3, 2))\n",
    "random_4 = tf.random.Generator.from_seed(11)\n",
    "random_4 = random_4.normal(shape=(3, 2))\n",
    "\n",
    "# Check the tensors and see if they are equal\n",
    "# Are they equal?\n",
    "print(random_3)\n",
    "print(random_4)\n",
    "print(f'random_3 == random_4: {random_3 == random_4}')"
   ]
  },
  {
   "cell_type": "markdown",
   "metadata": {
    "id": "Nji9AdFRIhBi"
   },
   "source": [
    "## Shuffling Tensors"
   ]
  },
  {
   "cell_type": "code",
   "execution_count": 39,
   "metadata": {
    "colab": {
     "base_uri": "https://localhost:8080/"
    },
    "id": "sl4HYEWMBI6x",
    "outputId": "d1c90142-3821-4bd8-da50-f0e3e50ff669"
   },
   "outputs": [
    {
     "data": {
      "text/plain": [
       "<tf.Tensor: shape=(3, 2), dtype=int32, numpy=\n",
       "array([[ 2,  5],\n",
       "       [ 3,  4],\n",
       "       [10,  7]], dtype=int32)>"
      ]
     },
     "execution_count": 39,
     "metadata": {},
     "output_type": "execute_result"
    }
   ],
   "source": [
    "# Shuffle a tensor (valuable for when you want to shuffle your data)\n",
    "not_shuffled = tf.constant([[10, 7],\n",
    "                            [3, 4],\n",
    "                            [2, 5]])\n",
    "# Gets different results each time\n",
    "tf.random.shuffle(not_shuffled)"
   ]
  },
  {
   "cell_type": "code",
   "execution_count": 40,
   "metadata": {
    "colab": {
     "base_uri": "https://localhost:8080/"
    },
    "id": "-HYn0ME_H1SY",
    "outputId": "3e8e6b9b-a28e-45bb-9c21-17e77a1e8375"
   },
   "outputs": [
    {
     "data": {
      "text/plain": [
       "<tf.Tensor: shape=(3, 2), dtype=int32, numpy=\n",
       "array([[ 2,  5],\n",
       "       [ 3,  4],\n",
       "       [10,  7]], dtype=int32)>"
      ]
     },
     "execution_count": 40,
     "metadata": {},
     "output_type": "execute_result"
    }
   ],
   "source": [
    "# Shuffle in the same order every time using the seed parameter (won't acutally be the same)\n",
    "tf.random.shuffle(not_shuffled, seed=42)"
   ]
  },
  {
   "cell_type": "markdown",
   "metadata": {
    "id": "GmC3qGIHjAx6"
   },
   "source": [
    "Rule #4 of the [`tf.random.set_seed()`](https://www.tensorflow.org/api_docs/python/tf/random/set_seed) documentation says that\n",
    "\n",
    "> \"4. If both the global and the operation seed are set: Both seeds are used in conjunction to determine the random sequence.\"\n",
    "\n",
    "`tf.random.set_seed(42)` sets the global seed, and the `seed` parameter in `tf.random.shuffle(seed=42)` sets the operation seed.\n",
    "\n",
    "Because, \"Operations that rely on a random seed actually derive it from two seeds: the global and operation-level seeds. This sets the global seed.\"\n"
   ]
  },
  {
   "cell_type": "code",
   "execution_count": 41,
   "metadata": {
    "colab": {
     "base_uri": "https://localhost:8080/"
    },
    "id": "cM6S8set-ixV",
    "outputId": "7a317a6f-eb6f-4586-bfc1-75a3361e7001"
   },
   "outputs": [
    {
     "data": {
      "text/plain": [
       "<tf.Tensor: shape=(3, 2), dtype=int32, numpy=\n",
       "array([[10,  7],\n",
       "       [ 3,  4],\n",
       "       [ 2,  5]], dtype=int32)>"
      ]
     },
     "execution_count": 41,
     "metadata": {},
     "output_type": "execute_result"
    }
   ],
   "source": [
    "# Shuffle in the same order every time\n",
    "\n",
    "# Set the global random seed\n",
    "tf.random.set_seed(42)\n",
    "\n",
    "# Set the operation random seed\n",
    "tf.random.shuffle(not_shuffled, seed=42)"
   ]
  },
  {
   "cell_type": "code",
   "execution_count": 42,
   "metadata": {
    "colab": {
     "base_uri": "https://localhost:8080/"
    },
    "id": "xKJOsdE8yCn4",
    "outputId": "7ad377d3-b812-4d32-d7dc-8caa5503cc3c"
   },
   "outputs": [
    {
     "data": {
      "text/plain": [
       "<tf.Tensor: shape=(3, 2), dtype=int32, numpy=\n",
       "array([[ 3,  4],\n",
       "       [ 2,  5],\n",
       "       [10,  7]], dtype=int32)>"
      ]
     },
     "execution_count": 42,
     "metadata": {},
     "output_type": "execute_result"
    }
   ],
   "source": [
    "# Set the global random seed\n",
    "tf.random.set_seed(42) # if you comment this out you'll get different results\n",
    "\n",
    "# Set the operation random seed\n",
    "tf.random.shuffle(not_shuffled)"
   ]
  },
  {
   "cell_type": "markdown",
   "metadata": {
    "id": "ouZ1fpJk0R3h"
   },
   "source": [
    "## Other ways to make tensors\n",
    "\n",
    "- [`tf.ones()`](https://www.tensorflow.org/api_docs/python/tf/ones) will create a tensor of all ones \n",
    "- [`tf.zeros()`](https://www.tensorflow.org/api_docs/python/tf/zeros) will create a tensor of all zeros"
   ]
  },
  {
   "cell_type": "code",
   "execution_count": 43,
   "metadata": {
    "colab": {
     "base_uri": "https://localhost:8080/"
    },
    "id": "aG8QNZP7kEe1",
    "outputId": "5701ac23-b90d-4529-bef1-03c2f214dc97"
   },
   "outputs": [
    {
     "data": {
      "text/plain": [
       "<tf.Tensor: shape=(3, 2), dtype=float32, numpy=\n",
       "array([[1., 1.],\n",
       "       [1., 1.],\n",
       "       [1., 1.]], dtype=float32)>"
      ]
     },
     "execution_count": 43,
     "metadata": {},
     "output_type": "execute_result"
    }
   ],
   "source": [
    "# Make a tensor of all ones\n",
    "tf.ones(shape=(3, 2))"
   ]
  },
  {
   "cell_type": "code",
   "execution_count": 44,
   "metadata": {
    "colab": {
     "base_uri": "https://localhost:8080/"
    },
    "id": "GQKiWrB9kprj",
    "outputId": "0edaf3af-e038-4a58-beeb-69d11f208a17"
   },
   "outputs": [
    {
     "data": {
      "text/plain": [
       "<tf.Tensor: shape=(3, 2), dtype=float32, numpy=\n",
       "array([[0., 0.],\n",
       "       [0., 0.],\n",
       "       [0., 0.]], dtype=float32)>"
      ]
     },
     "execution_count": 44,
     "metadata": {},
     "output_type": "execute_result"
    }
   ],
   "source": [
    "# Make a tensor of all zeros\n",
    "tf.zeros(shape=(3, 2))"
   ]
  },
  {
   "cell_type": "code",
   "execution_count": 25,
   "metadata": {
    "colab": {
     "base_uri": "https://localhost:8080/"
    },
    "id": "C0XP37xi7mn4",
    "outputId": "eeab31d5-7017-44a9-8543-c86a3f1be67e"
   },
   "outputs": [
    {
     "data": {
      "text/plain": [
       "(array([ 1,  2,  3,  4,  5,  6,  7,  8,  9, 10, 11, 12, 13, 14, 15, 16, 17,\n",
       "        18, 19, 20, 21, 22, 23, 24], dtype=int32),\n",
       " <tf.Tensor: shape=(2, 4, 3), dtype=int32, numpy=\n",
       " array([[[ 1,  2,  3],\n",
       "         [ 4,  5,  6],\n",
       "         [ 7,  8,  9],\n",
       "         [10, 11, 12]],\n",
       " \n",
       "        [[13, 14, 15],\n",
       "         [16, 17, 18],\n",
       "         [19, 20, 21],\n",
       "         [22, 23, 24]]], dtype=int32)>)"
      ]
     },
     "execution_count": 25,
     "metadata": {},
     "output_type": "execute_result"
    }
   ],
   "source": [
    "numpy_A = np.arange(1, 25, dtype=np.int32) # create a NumPy array between 1 and 25\n",
    "A = tf.constant(numpy_A,  \n",
    "                shape=[2, 4, 3]) # note: the shape total (2*4*3) has to match the number of elements in the array\n",
    "numpy_A, A"
   ]
  },
  {
   "cell_type": "markdown",
   "metadata": {
    "id": "J1JLXa2P0wpx"
   },
   "source": [
    "## Getting information from tensors\n",
    "### Attributes\n",
    "Common bits to get about a tensor:\n",
    "* **Shape:** The length (number of elements) of each of the dimensions of a tensor\n",
    "* **Rank:** The number of tensor dimensions:\n",
    "  * A scalar has rank 0\n",
    "  * a vector has rank 1\n",
    "  * a matrix is rank 2\n",
    "  * a tensor has rank `n`\n",
    "* **Axis** or **Dimension:** A particular dimension of a tensor\n",
    "* **Size:** The total number of items in the tensor\n",
    "\n",
    "These might be especially useful when trying to organize the shapes of input data to inform/match the shapes of a model. I.E, , making sure the shape of image tensors are the same shape as a models input layer."
   ]
  },
  {
   "cell_type": "code",
   "execution_count": 47,
   "metadata": {
    "colab": {
     "base_uri": "https://localhost:8080/"
    },
    "id": "qhckrmovCaAA",
    "outputId": "96ce1206-537e-46fd-80cb-53ac64a9bd01"
   },
   "outputs": [
    {
     "data": {
      "text/plain": [
       "<tf.Tensor: shape=(2, 3, 4, 5), dtype=float32, numpy=\n",
       "array([[[[0., 0., 0., 0., 0.],\n",
       "         [0., 0., 0., 0., 0.],\n",
       "         [0., 0., 0., 0., 0.],\n",
       "         [0., 0., 0., 0., 0.]],\n",
       "\n",
       "        [[0., 0., 0., 0., 0.],\n",
       "         [0., 0., 0., 0., 0.],\n",
       "         [0., 0., 0., 0., 0.],\n",
       "         [0., 0., 0., 0., 0.]],\n",
       "\n",
       "        [[0., 0., 0., 0., 0.],\n",
       "         [0., 0., 0., 0., 0.],\n",
       "         [0., 0., 0., 0., 0.],\n",
       "         [0., 0., 0., 0., 0.]]],\n",
       "\n",
       "\n",
       "       [[[0., 0., 0., 0., 0.],\n",
       "         [0., 0., 0., 0., 0.],\n",
       "         [0., 0., 0., 0., 0.],\n",
       "         [0., 0., 0., 0., 0.]],\n",
       "\n",
       "        [[0., 0., 0., 0., 0.],\n",
       "         [0., 0., 0., 0., 0.],\n",
       "         [0., 0., 0., 0., 0.],\n",
       "         [0., 0., 0., 0., 0.]],\n",
       "\n",
       "        [[0., 0., 0., 0., 0.],\n",
       "         [0., 0., 0., 0., 0.],\n",
       "         [0., 0., 0., 0., 0.],\n",
       "         [0., 0., 0., 0., 0.]]]], dtype=float32)>"
      ]
     },
     "execution_count": 47,
     "metadata": {},
     "output_type": "execute_result"
    }
   ],
   "source": [
    "# Create a rank 4 tensor (4 dimensions)\n",
    "rootDim = 2\n",
    "nestedOneDim = 3\n",
    "nestedTwoDim = 4\n",
    "nestedThreeDim = 5\n",
    "rank_4_tensor = tf.zeros([rootDim, nestedOneDim, nestedTwoDim, nestedThreeDim])\n",
    "rank_4_tensor"
   ]
  },
  {
   "cell_type": "code",
   "execution_count": 48,
   "metadata": {
    "colab": {
     "base_uri": "https://localhost:8080/"
    },
    "id": "ImJdhWnLtZ_2",
    "outputId": "6527a79f-7b77-43cb-b44a-79c8cc5cd75b"
   },
   "outputs": [
    {
     "data": {
      "text/plain": [
       "(TensorShape([2, 3, 4, 5]), 4, <tf.Tensor: shape=(), dtype=int32, numpy=120>)"
      ]
     },
     "execution_count": 48,
     "metadata": {},
     "output_type": "execute_result"
    }
   ],
   "source": [
    "rank_4_tensor.shape, rank_4_tensor.ndim, tf.size(rank_4_tensor)"
   ]
  },
  {
   "cell_type": "code",
   "execution_count": 54,
   "metadata": {
    "colab": {
     "base_uri": "https://localhost:8080/"
    },
    "id": "Vvb-4ZYdpI9f",
    "outputId": "09edd4f3-49ec-4a3a-9464-f1f9e4da4b81"
   },
   "outputs": [
    {
     "name": "stdout",
     "output_type": "stream",
     "text": [
      "Datatype of every element: <dtype: 'float32'>\n",
      "Number of dimensions (rank): 4\n",
      "Shape of tensor: (2, 3, 4, 5)\n",
      "Elements along axis 0 of tensor: 2\n",
      "Elements along last axis of tensor: 5\n",
      "Total number of elements (2*3*4*5): 120\n"
     ]
    }
   ],
   "source": [
    "# Get various attributes of tensor\n",
    "print(\"Datatype of every element:\", rank_4_tensor.dtype)\n",
    "print(\"Number of dimensions (rank):\", rank_4_tensor.ndim)\n",
    "print(\"Shape of tensor:\", rank_4_tensor.shape)\n",
    "print(\"Elements along axis 0 of tensor:\", rank_4_tensor.shape[0])\n",
    "print(\"Elements along last axis of tensor:\", rank_4_tensor.shape[-1])\n",
    "print(\"Total number of elements (2*3*4*5):\", tf.size(rank_4_tensor).numpy()) # .numpy() converts to NumPy array"
   ]
  },
  {
   "cell_type": "markdown",
   "metadata": {
    "id": "S0SMO2ZOqL0G"
   },
   "source": [
    "### Items by index"
   ]
  },
  {
   "cell_type": "code",
   "execution_count": 50,
   "metadata": {
    "colab": {
     "base_uri": "https://localhost:8080/"
    },
    "id": "CFzOo-7QqLJf",
    "outputId": "144077a7-5855-4df9-f7c1-219a80fe5274"
   },
   "outputs": [
    {
     "data": {
      "text/plain": [
       "<tf.Tensor: shape=(2, 2, 2, 2), dtype=float32, numpy=\n",
       "array([[[[0., 0.],\n",
       "         [0., 0.]],\n",
       "\n",
       "        [[0., 0.],\n",
       "         [0., 0.]]],\n",
       "\n",
       "\n",
       "       [[[0., 0.],\n",
       "         [0., 0.]],\n",
       "\n",
       "        [[0., 0.],\n",
       "         [0., 0.]]]], dtype=float32)>"
      ]
     },
     "execution_count": 50,
     "metadata": {},
     "output_type": "execute_result"
    }
   ],
   "source": [
    "# Get the first 2 items of each dimension\n",
    "rank_4_tensor[:2, :2, :2, :2]"
   ]
  },
  {
   "cell_type": "code",
   "execution_count": 57,
   "metadata": {
    "colab": {
     "base_uri": "https://localhost:8080/"
    },
    "id": "weQe2bBUqknd",
    "outputId": "0d035e40-a245-4655-f334-8875ad0309a4"
   },
   "outputs": [
    {
     "data": {
      "text/plain": [
       "<tf.Tensor: shape=(1, 1, 1, 5), dtype=float32, numpy=array([[[[0., 0., 0., 0., 0.]]]], dtype=float32)>"
      ]
     },
     "execution_count": 57,
     "metadata": {},
     "output_type": "execute_result"
    }
   ],
   "source": [
    "# Get the dimension from each index except for the final one\n",
    "rank_4_tensor[:1, :1, :1, :]"
   ]
  },
  {
   "cell_type": "code",
   "execution_count": 59,
   "metadata": {
    "colab": {
     "base_uri": "https://localhost:8080/"
    },
    "id": "YQKcZWz5rFXG",
    "outputId": "1993c0f6-e742-4cfc-bfc9-d9c344250e34"
   },
   "outputs": [
    {
     "data": {
      "text/plain": [
       "<tf.Tensor: shape=(2,), dtype=int32, numpy=array([7, 4], dtype=int32)>"
      ]
     },
     "execution_count": 59,
     "metadata": {},
     "output_type": "execute_result"
    }
   ],
   "source": [
    "# Create a rank 2 tensor (2 dimensions)\n",
    "rank_2_tensor = tf.constant([[10, 7],\n",
    "                             [3, 4]])\n",
    "\n",
    "# Get the last item of each row\n",
    "rank_2_tensor[:, -1]"
   ]
  },
  {
   "cell_type": "markdown",
   "metadata": {
    "id": "4EHae9iA04Ok"
   },
   "source": [
    "## Manipulating tensors (tensor operations)\n",
    "\n",
    "Finding patterns in tensors (numberical representation of data) requires manipulating them.\n",
    "\n",
    "Again, when building models in TensorFlow, much of this pattern discovery is done for you.\n",
    "\n",
    "###  Add A Dimension with newaxis and expanddims\n",
    "Add dimensions to a tensor whilst keeping the same information present using `tf.newaxis`\n",
    "- [newaxis](https://www.tensorflow.org/api_docs/python/tf/Tensor#some_useful_examples)\n",
    "- [expand_dims](https://www.tensorflow.org/api_docs/python/tf/expand_dims)"
   ]
  },
  {
   "cell_type": "code",
   "execution_count": 60,
   "metadata": {
    "colab": {
     "base_uri": "https://localhost:8080/"
    },
    "id": "KuEEEQa4w1id",
    "outputId": "c5ab97d4-7a4d-4db9-8d6d-9a99970b6b1e"
   },
   "outputs": [
    {
     "name": "stdout",
     "output_type": "stream",
     "text": [
      "---- rank_2_tensor ----\n",
      "tf.Tensor(\n",
      "[[10  7]\n",
      " [ 3  4]], shape=(2, 2), dtype=int32)\n",
      "---- rank_3_tensor ----\n",
      "tf.Tensor(\n",
      "[[[10]\n",
      "  [ 7]]\n",
      "\n",
      " [[ 3]\n",
      "  [ 4]]], shape=(2, 2, 1), dtype=int32)\n"
     ]
    }
   ],
   "source": [
    "# Add an extra dimension (to the end)\n",
    "rank_3_tensor = rank_2_tensor[..., tf.newaxis] # in Python \"...\" means \"all dimensions prior to\"\n",
    "print('---- rank_2_tensor ----')\n",
    "print(rank_2_tensor)\n",
    "print('---- rank_3_tensor ----')\n",
    "print(rank_3_tensor)"
   ]
  },
  {
   "cell_type": "code",
   "execution_count": 61,
   "metadata": {
    "colab": {
     "base_uri": "https://localhost:8080/"
    },
    "id": "HpPTBqt4rvr9",
    "outputId": "925068e5-f544-45c3-be1a-7be9fbca22a6"
   },
   "outputs": [
    {
     "data": {
      "text/plain": [
       "<tf.Tensor: shape=(2, 2, 1), dtype=int32, numpy=\n",
       "array([[[10],\n",
       "        [ 7]],\n",
       "\n",
       "       [[ 3],\n",
       "        [ 4]]], dtype=int32)>"
      ]
     },
     "execution_count": 61,
     "metadata": {},
     "output_type": "execute_result"
    }
   ],
   "source": [
    "# \n",
    "# expand_dims\n",
    "# \n",
    "tf.expand_dims(rank_2_tensor, axis=-1) # \"-1\" means last axis"
   ]
  },
  {
   "cell_type": "markdown",
   "metadata": {
    "id": "-NzdbYDqs1Ex"
   },
   "source": [
    "### Add\n",
    "Here, creating a tensor with `tf.constant()`, adding 10, and seeing that the original tensor is unchanged (the addition gets done on a copy)."
   ]
  },
  {
   "cell_type": "code",
   "execution_count": 63,
   "metadata": {
    "colab": {
     "base_uri": "https://localhost:8080/"
    },
    "id": "tu3zJirLsMVw",
    "outputId": "900fe49b-d098-4082-b9df-fa274e6d0739"
   },
   "outputs": [
    {
     "name": "stdout",
     "output_type": "stream",
     "text": [
      "tf.Tensor(\n",
      "[[20 17]\n",
      " [13 14]], shape=(2, 2), dtype=int32)\n",
      "tf.Tensor(\n",
      "[[10  7]\n",
      " [ 3  4]], shape=(2, 2), dtype=int32)\n"
     ]
    }
   ],
   "source": [
    "# You can add values to a tensor using the addition operator\n",
    "tensor = tf.constant([[10, 7], [3, 4]])\n",
    "print(tensor + 10)\n",
    "print(tensor)"
   ]
  },
  {
   "cell_type": "markdown",
   "metadata": {},
   "source": [
    "### Multiply"
   ]
  },
  {
   "cell_type": "code",
   "execution_count": 66,
   "metadata": {
    "colab": {
     "base_uri": "https://localhost:8080/"
    },
    "id": "6TW0_ZC_xoEC",
    "outputId": "7042cd55-6025-430e-95bb-a9cce80eafd1"
   },
   "outputs": [
    {
     "name": "stdout",
     "output_type": "stream",
     "text": [
      "tf.Tensor(\n",
      "[[100  70]\n",
      " [ 30  40]], shape=(2, 2), dtype=int32)\n",
      "tf.Tensor(\n",
      "[[100  70]\n",
      " [ 30  40]], shape=(2, 2), dtype=int32)\n"
     ]
    }
   ],
   "source": [
    "print(tensor * 10)\n",
    "\n",
    "# Use the tensorflow function equivalent of the '*' (multiply) operator\n",
    "print(tf.multiply(tensor, 10))"
   ]
  },
  {
   "cell_type": "markdown",
   "metadata": {},
   "source": [
    "### Subtract"
   ]
  },
  {
   "cell_type": "code",
   "execution_count": 65,
   "metadata": {
    "colab": {
     "base_uri": "https://localhost:8080/"
    },
    "id": "MN6XjwWfxu66",
    "outputId": "ab56a5c4-52f1-41e9-c162-8d3edb5ff73f"
   },
   "outputs": [
    {
     "data": {
      "text/plain": [
       "<tf.Tensor: shape=(2, 2), dtype=int32, numpy=\n",
       "array([[ 0, -3],\n",
       "       [-7, -6]], dtype=int32)>"
      ]
     },
     "execution_count": 65,
     "metadata": {},
     "output_type": "execute_result"
    }
   ],
   "source": [
    "tensor - 10"
   ]
  },
  {
   "cell_type": "markdown",
   "metadata": {
    "id": "8M-0dhjtzHoZ"
   },
   "source": [
    "## Matrix mutliplication\n",
    "> 🔑 **Note:** '`@`' in Python is the symbol for matrix multiplication.\n",
    "\n",
    "One of the most common operations in machine learning algorithms is [matrix multiplication](https://www.mathsisfun.com/algebra/matrix-multiplying.html).\n",
    "\n",
    "TensorFlow implements this matrix multiplication functionality in the [`tf.matmul()`](https://www.tensorflow.org/api_docs/python/tf/linalg/matmul) method.\n",
    "\n",
    "The main two rules for matrix multiplication to remember are:\n",
    "1. The inner dimensions of the two matrixes must match:\n",
    "  * `(3, 5) @ (3, 5)` won't work\n",
    "  * `(5, 3) @ (3, 5)` will work\n",
    "  * `(3, 5) @ (5, 3)` will work\n",
    "2. The resulting matrix has the shape of the outer dimensions:\n",
    " * `(5, 3) @ (3, 5)` -> `(5, 5)`\n",
    " * `(3, 5) @ (5, 3)` -> `(3, 3)`"
   ]
  },
  {
   "cell_type": "code",
   "execution_count": 69,
   "metadata": {
    "colab": {
     "base_uri": "https://localhost:8080/"
    },
    "id": "pbpwVJrAsPpA",
    "outputId": "58f18b51-6fd4-4af1-e74b-ee8f06611a7c"
   },
   "outputs": [
    {
     "name": "stdout",
     "output_type": "stream",
     "text": [
      "TENSOR--------\n",
      "tf.Tensor(\n",
      "[[10  7]\n",
      " [ 3  4]], shape=(2, 2), dtype=int32)\n",
      "----tensor MULTIPLIED----\n"
     ]
    },
    {
     "data": {
      "text/plain": [
       "<tf.Tensor: shape=(2, 2), dtype=int32, numpy=\n",
       "array([[121,  98],\n",
       "       [ 42,  37]], dtype=int32)>"
      ]
     },
     "execution_count": 69,
     "metadata": {},
     "output_type": "execute_result"
    }
   ],
   "source": [
    "# Matrix multiplication in TensorFlow\n",
    "print('TENSOR--------')\n",
    "print(tensor)\n",
    "print('----tensor MULTIPLIED----')\n",
    "tf.matmul(tensor, tensor)"
   ]
  },
  {
   "cell_type": "code",
   "execution_count": 41,
   "metadata": {
    "colab": {
     "base_uri": "https://localhost:8080/"
    },
    "id": "9vpDnpb10G7U",
    "outputId": "02039aad-06e1-4589-fe91-f65870716ba7"
   },
   "outputs": [
    {
     "data": {
      "text/plain": [
       "<tf.Tensor: shape=(2, 2), dtype=int32, numpy=\n",
       "array([[121,  98],\n",
       "       [ 42,  37]], dtype=int32)>"
      ]
     },
     "execution_count": 41,
     "metadata": {},
     "output_type": "execute_result"
    }
   ],
   "source": [
    "# Matrix multiplication with Python operator '@'\n",
    "tensor @ tensor"
   ]
  },
  {
   "cell_type": "markdown",
   "metadata": {
    "id": "TAV3S5YV0cDQ"
   },
   "source": [
    "### Multiplying with mismatched shapes"
   ]
  },
  {
   "cell_type": "code",
   "execution_count": 70,
   "metadata": {
    "colab": {
     "base_uri": "https://localhost:8080/"
    },
    "id": "UXSE6q1o0amm",
    "outputId": "2f106764-d526-44a6-e1e9-255aa3c4a83e"
   },
   "outputs": [
    {
     "data": {
      "text/plain": [
       "(<tf.Tensor: shape=(3, 2), dtype=int32, numpy=\n",
       " array([[1, 2],\n",
       "        [3, 4],\n",
       "        [5, 6]], dtype=int32)>,\n",
       " <tf.Tensor: shape=(3, 2), dtype=int32, numpy=\n",
       " array([[ 7,  8],\n",
       "        [ 9, 10],\n",
       "        [11, 12]], dtype=int32)>)"
      ]
     },
     "execution_count": 70,
     "metadata": {},
     "output_type": "execute_result"
    }
   ],
   "source": [
    "# Create (3, 2) tensor\n",
    "X = tf.constant([[1, 2],\n",
    "                 [3, 4],\n",
    "                 [5, 6]])\n",
    "\n",
    "# Create another (3, 2) tensor\n",
    "Y = tf.constant([[7, 8],\n",
    "                 [9, 10],\n",
    "                 [11, 12]])\n",
    "X, Y"
   ]
  },
  {
   "cell_type": "code",
   "execution_count": 72,
   "metadata": {
    "colab": {
     "base_uri": "https://localhost:8080/",
     "height": 336
    },
    "id": "3J4DGQa309Hc",
    "outputId": "a3ee6031-1c27-4089-8db2-db0867160008"
   },
   "outputs": [
    {
     "ename": "InvalidArgumentError",
     "evalue": "{{function_node __wrapped__MatMul_device_/job:localhost/replica:0/task:0/device:CPU:0}} Matrix size-incompatible: In[0]: [3,2], In[1]: [3,2] [Op:MatMul]",
     "output_type": "error",
     "traceback": [
      "\u001b[0;31m---------------------------------------------------------------------------\u001b[0m",
      "\u001b[0;31mInvalidArgumentError\u001b[0m                      Traceback (most recent call last)",
      "Cell \u001b[0;32mIn[72], line 4\u001b[0m\n\u001b[1;32m      1\u001b[0m \u001b[38;5;66;03m# \u001b[39;00m\n\u001b[1;32m      2\u001b[0m \u001b[38;5;66;03m# see the error\u001b[39;00m\n\u001b[1;32m      3\u001b[0m \u001b[38;5;66;03m# \u001b[39;00m\n\u001b[0;32m----> 4\u001b[0m \u001b[43mX\u001b[49m\u001b[43m \u001b[49m\u001b[38;5;241;43m@\u001b[39;49m\u001b[43m \u001b[49m\u001b[43mY\u001b[49m\n",
      "File \u001b[0;32m/Library/Frameworks/Python.framework/Versions/3.8/lib/python3.8/site-packages/tensorflow/python/util/traceback_utils.py:153\u001b[0m, in \u001b[0;36mfilter_traceback.<locals>.error_handler\u001b[0;34m(*args, **kwargs)\u001b[0m\n\u001b[1;32m    151\u001b[0m \u001b[38;5;28;01mexcept\u001b[39;00m \u001b[38;5;167;01mException\u001b[39;00m \u001b[38;5;28;01mas\u001b[39;00m e:\n\u001b[1;32m    152\u001b[0m   filtered_tb \u001b[38;5;241m=\u001b[39m _process_traceback_frames(e\u001b[38;5;241m.\u001b[39m__traceback__)\n\u001b[0;32m--> 153\u001b[0m   \u001b[38;5;28;01mraise\u001b[39;00m e\u001b[38;5;241m.\u001b[39mwith_traceback(filtered_tb) \u001b[38;5;28;01mfrom\u001b[39;00m \u001b[38;5;28;01mNone\u001b[39;00m\n\u001b[1;32m    154\u001b[0m \u001b[38;5;28;01mfinally\u001b[39;00m:\n\u001b[1;32m    155\u001b[0m   \u001b[38;5;28;01mdel\u001b[39;00m filtered_tb\n",
      "File \u001b[0;32m/Library/Frameworks/Python.framework/Versions/3.8/lib/python3.8/site-packages/tensorflow/python/framework/ops.py:7262\u001b[0m, in \u001b[0;36mraise_from_not_ok_status\u001b[0;34m(e, name)\u001b[0m\n\u001b[1;32m   7260\u001b[0m \u001b[38;5;28;01mdef\u001b[39;00m \u001b[38;5;21mraise_from_not_ok_status\u001b[39m(e, name):\n\u001b[1;32m   7261\u001b[0m   e\u001b[38;5;241m.\u001b[39mmessage \u001b[38;5;241m+\u001b[39m\u001b[38;5;241m=\u001b[39m (\u001b[38;5;124m\"\u001b[39m\u001b[38;5;124m name: \u001b[39m\u001b[38;5;124m\"\u001b[39m \u001b[38;5;241m+\u001b[39m name \u001b[38;5;28;01mif\u001b[39;00m name \u001b[38;5;129;01mis\u001b[39;00m \u001b[38;5;129;01mnot\u001b[39;00m \u001b[38;5;28;01mNone\u001b[39;00m \u001b[38;5;28;01melse\u001b[39;00m \u001b[38;5;124m\"\u001b[39m\u001b[38;5;124m\"\u001b[39m)\n\u001b[0;32m-> 7262\u001b[0m   \u001b[38;5;28;01mraise\u001b[39;00m core\u001b[38;5;241m.\u001b[39m_status_to_exception(e) \u001b[38;5;28;01mfrom\u001b[39;00m \u001b[38;5;28;01mNone\u001b[39;00m\n",
      "\u001b[0;31mInvalidArgumentError\u001b[0m: {{function_node __wrapped__MatMul_device_/job:localhost/replica:0/task:0/device:CPU:0}} Matrix size-incompatible: In[0]: [3,2], In[1]: [3,2] [Op:MatMul]"
     ]
    }
   ],
   "source": [
    "# \n",
    "# see the error\n",
    "# \n",
    "X @ Y"
   ]
  },
  {
   "cell_type": "markdown",
   "metadata": {
    "id": "v27FQ59v1N-H"
   },
   "source": [
    "Trying to matrix multiply two tensors with the shape `(3, 2)` errors because the inner dimensions don't match.\n",
    "\n",
    "We need to either:\n",
    "* Reshape X to `(2, 3)` so it's `(2, 3) @ (3, 2)`.\n",
    "* Reshape Y to `(3, 2)` so it's `(3, 2) @ (2, 3)`.\n",
    "\n",
    "\n",
    "## Reshaping Matrixes\n",
    "Reshaping can be done with either:\n",
    "* [`tf.reshape()`](https://www.tensorflow.org/api_docs/python/tf/reshape) - reshape a tensor into a defined shape\n",
    "* [`tf.transpose()`](https://www.tensorflow.org/api_docs/python/tf/transpose) - changes the dimensions of a given tensor\n",
    "\n",
    "### Reshape"
   ]
  },
  {
   "cell_type": "code",
   "execution_count": 74,
   "metadata": {
    "colab": {
     "base_uri": "https://localhost:8080/"
    },
    "id": "ZwvVl-k_2W9u",
    "outputId": "86025237-4258-4582-8a62-d36f29f281fc"
   },
   "outputs": [
    {
     "name": "stdout",
     "output_type": "stream",
     "text": [
      "-----Y----\n",
      "tf.Tensor(\n",
      "[[ 7  8]\n",
      " [ 9 10]\n",
      " [11 12]], shape=(3, 2), dtype=int32)\n",
      "-----Y reshaped----\n"
     ]
    },
    {
     "data": {
      "text/plain": [
       "<tf.Tensor: shape=(2, 3), dtype=int32, numpy=\n",
       "array([[ 7,  8,  9],\n",
       "       [10, 11, 12]], dtype=int32)>"
      ]
     },
     "execution_count": 74,
     "metadata": {},
     "output_type": "execute_result"
    }
   ],
   "source": [
    "# Example of reshape (3, 2) -> (2, 3)\n",
    "print('-----Y----')\n",
    "print(Y)\n",
    "print('-----Y reshaped----')\n",
    "tf.reshape(Y, shape=(2, 3))"
   ]
  },
  {
   "cell_type": "code",
   "execution_count": 76,
   "metadata": {
    "colab": {
     "base_uri": "https://localhost:8080/"
    },
    "id": "1jBKPQVn1Nep",
    "outputId": "83040cf0-d09f-4e61-f9d5-bc5556492fdb"
   },
   "outputs": [
    {
     "data": {
      "text/plain": [
       "<tf.Tensor: shape=(3, 3), dtype=int32, numpy=\n",
       "array([[ 27,  30,  33],\n",
       "       [ 61,  68,  75],\n",
       "       [ 95, 106, 117]], dtype=int32)>"
      ]
     },
     "execution_count": 76,
     "metadata": {},
     "output_type": "execute_result"
    }
   ],
   "source": [
    "# \n",
    "# NOW multiplying X & Y works\n",
    "# \n",
    "X @ tf.reshape(Y, shape=(2, 3))"
   ]
  },
  {
   "cell_type": "markdown",
   "metadata": {},
   "source": [
    "### Transpose"
   ]
  },
  {
   "cell_type": "code",
   "execution_count": 78,
   "metadata": {
    "colab": {
     "base_uri": "https://localhost:8080/"
    },
    "id": "qA2rCnik2OnQ",
    "outputId": "f26d252c-8fed-445b-e0a3-b51de62ec7b0"
   },
   "outputs": [
    {
     "data": {
      "text/plain": [
       "<tf.Tensor: shape=(2, 3), dtype=int32, numpy=\n",
       "array([[1, 3, 5],\n",
       "       [2, 4, 6]], dtype=int32)>"
      ]
     },
     "execution_count": 78,
     "metadata": {},
     "output_type": "execute_result"
    }
   ],
   "source": [
    "# Example of transpose (3, 2) -> (2, 3)\n",
    "tf.transpose(X)"
   ]
  },
  {
   "cell_type": "code",
   "execution_count": 79,
   "metadata": {
    "colab": {
     "base_uri": "https://localhost:8080/"
    },
    "id": "zR8YdMfh3G0S",
    "outputId": "468e80ff-8708-4ff9-93bd-9bc614004039"
   },
   "outputs": [
    {
     "data": {
      "text/plain": [
       "<tf.Tensor: shape=(2, 2), dtype=int32, numpy=\n",
       "array([[ 89,  98],\n",
       "       [116, 128]], dtype=int32)>"
      ]
     },
     "execution_count": 79,
     "metadata": {},
     "output_type": "execute_result"
    }
   ],
   "source": [
    "# \n",
    "# NOW multiplying X & Y will work\n",
    "# \n",
    "tf.matmul(tf.transpose(X), Y)"
   ]
  },
  {
   "cell_type": "markdown",
   "metadata": {},
   "source": [
    "### with matmul arguments"
   ]
  },
  {
   "cell_type": "code",
   "execution_count": 48,
   "metadata": {
    "colab": {
     "base_uri": "https://localhost:8080/"
    },
    "id": "SL45P1cC5tnJ",
    "outputId": "2ffe20dd-3a85-4dc9-98e3-01bd973df267"
   },
   "outputs": [
    {
     "data": {
      "text/plain": [
       "<tf.Tensor: shape=(2, 2), dtype=int32, numpy=\n",
       "array([[ 89,  98],\n",
       "       [116, 128]], dtype=int32)>"
      ]
     },
     "execution_count": 48,
     "metadata": {},
     "output_type": "execute_result"
    }
   ],
   "source": [
    "tf.matmul(a=X, b=Y, transpose_a=True, transpose_b=False)"
   ]
  },
  {
   "cell_type": "markdown",
   "metadata": {
    "id": "AqE518TJ3GXG"
   },
   "source": [
    "Notice the difference in the resulting shapes when tranposing `X` or reshaping `Y`.\n",
    "Machine-Learning Engineers & those working in neural-networks may spend a bunch of time reshaping data (in the form of tensors) to prepare it to be used with various operations (such as feeding it to a model).\n",
    "\n",
    "### The dot product\n",
    "\n",
    "Multiplying matrices by eachother is also referred to as the dot product.\n",
    "\n",
    "### tensordot\n",
    "You can perform the `tf.matmul()` operation using [`tf.tensordot()`](https://www.tensorflow.org/api_docs/python/tf/tensordot). "
   ]
  },
  {
   "cell_type": "code",
   "execution_count": 49,
   "metadata": {
    "colab": {
     "base_uri": "https://localhost:8080/"
    },
    "id": "qfSJHDpe2Oe9",
    "outputId": "b128a9eb-0e98-4379-b9d2-e0d29edd86f9"
   },
   "outputs": [
    {
     "data": {
      "text/plain": [
       "<tf.Tensor: shape=(2, 2), dtype=int32, numpy=\n",
       "array([[ 89,  98],\n",
       "       [116, 128]], dtype=int32)>"
      ]
     },
     "execution_count": 49,
     "metadata": {},
     "output_type": "execute_result"
    }
   ],
   "source": [
    "# Perform the dot product on X and Y (requires X to be transposed)\n",
    "tf.tensordot(tf.transpose(X), Y, axes=1)"
   ]
  },
  {
   "cell_type": "markdown",
   "metadata": {
    "id": "waJcSOGf_Fg7"
   },
   "source": [
    "### Comparing reshape & transpose\n",
    "These two get different results."
   ]
  },
  {
   "cell_type": "code",
   "execution_count": 80,
   "metadata": {
    "colab": {
     "base_uri": "https://localhost:8080/"
    },
    "id": "AAzB-F4l6Dc0",
    "outputId": "9f656c4e-cd07-4496-9036-3d399ede9006"
   },
   "outputs": [
    {
     "data": {
      "text/plain": [
       "<tf.Tensor: shape=(3, 3), dtype=int32, numpy=\n",
       "array([[ 23,  29,  35],\n",
       "       [ 53,  67,  81],\n",
       "       [ 83, 105, 127]], dtype=int32)>"
      ]
     },
     "execution_count": 80,
     "metadata": {},
     "output_type": "execute_result"
    }
   ],
   "source": [
    "# \n",
    "# transposing Y\n",
    "# \n",
    "# Perform matrix multiplication between X and Y (transposed)\n",
    "tf.matmul(X, tf.transpose(Y))"
   ]
  },
  {
   "cell_type": "code",
   "execution_count": 81,
   "metadata": {
    "colab": {
     "base_uri": "https://localhost:8080/"
    },
    "id": "s-kQH7qh69PV",
    "outputId": "02a9e262-7405-4454-87e0-c86bc9d352be"
   },
   "outputs": [
    {
     "data": {
      "text/plain": [
       "<tf.Tensor: shape=(3, 3), dtype=int32, numpy=\n",
       "array([[ 27,  30,  33],\n",
       "       [ 61,  68,  75],\n",
       "       [ 95, 106, 117]], dtype=int32)>"
      ]
     },
     "execution_count": 81,
     "metadata": {},
     "output_type": "execute_result"
    }
   ],
   "source": [
    "# \n",
    "# reshaping Y \n",
    "# \n",
    "tf.matmul(X, tf.reshape(Y, (2, 3)))"
   ]
  },
  {
   "cell_type": "code",
   "execution_count": 86,
   "metadata": {
    "colab": {
     "base_uri": "https://localhost:8080/"
    },
    "id": "P_RLV373ATAb",
    "outputId": "bf406bb5-12f6-4912-88d4-d594870925b8"
   },
   "outputs": [
    {
     "name": "stdout",
     "output_type": "stream",
     "text": [
      "Y.shape: (3, 2)\n",
      "Y.reshape: (2, 3)\n",
      "Y.transpose: (2, 3)\n"
     ]
    }
   ],
   "source": [
    "# Inspecting shapes of Y comparing reshaing methods\n",
    "\n",
    "print(f'Y.shape: {Y.shape}')\n",
    "print(f'Y.reshape: {tf.reshape(Y, (2, 3)).shape}')\n",
    "print(f'Y.transpose: {tf.transpose(Y).shape}')"
   ]
  },
  {
   "cell_type": "code",
   "execution_count": 88,
   "metadata": {
    "colab": {
     "base_uri": "https://localhost:8080/"
    },
    "id": "B5_aYjqeA_w_",
    "outputId": "3467c583-4afa-48ee-d2a6-9ef9bb2e5020"
   },
   "outputs": [
    {
     "name": "stdout",
     "output_type": "stream",
     "text": [
      "Y:\n",
      "tf.Tensor(\n",
      "[[ 7  8]\n",
      " [ 9 10]\n",
      " [11 12]], shape=(3, 2), dtype=int32) \n",
      "\n",
      "Y reshaped to (2, 3):\n",
      "tf.Tensor(\n",
      "[[ 7  8  9]\n",
      " [10 11 12]], shape=(2, 3), dtype=int32) \n",
      "\n",
      "Y transposed:\n",
      "tf.Tensor(\n",
      "[[ 7  9 11]\n",
      " [ 8 10 12]], shape=(2, 3), dtype=int32)\n"
     ]
    }
   ],
   "source": [
    "# Check values of Y, reshape Y and tranposed Y\n",
    "print(\"Y:\")\n",
    "print(Y, \"\\n\") # \"\\n\" for newline\n",
    "\n",
    "print(\"Y reshaped to (2, 3):\")\n",
    "print(tf.reshape(Y, (2, 3)), \"\\n\")\n",
    "\n",
    "print(\"Y transposed:\")\n",
    "print(tf.transpose(Y))"
   ]
  },
  {
   "cell_type": "markdown",
   "metadata": {
    "id": "g9g3l45LFO7K"
   },
   "source": [
    "The different results could be explained:\n",
    "* [`tf.reshape()`](https://www.tensorflow.org/api_docs/python/tf/reshape) - change the shape of the given tensor (first) and then insert values in order they appear (in our case, 7, 8, 9, 10, 11, 12).\n",
    "* [`tf.transpose()`](https://www.tensorflow.org/api_docs/python/tf/transpose) - swap the order of the axes, by default the last axis becomes the first, however the order can be changed using the [`perm` parameter](https://www.tensorflow.org/api_docs/python/tf/transpose)."
   ]
  },
  {
   "cell_type": "markdown",
   "metadata": {
    "id": "fzjcZ4FHCOb5"
   },
   "source": [
    "So which should you use?\n",
    "\n",
    "Not Sure...\n",
    "\n",
    "#### references, and examples\n",
    "* If we transposed `Y`, it would be represented as $\\mathbf{Y}^\\mathsf{T}$ (note the capital T for tranpose).\n",
    "* Get an illustrative view of matrix multiplication [by Math is Fun](https://www.mathsisfun.com/algebra/matrix-multiplying.html).\n",
    "* Try a hands-on demo of matrix multiplcation: http://matrixmultiplication.xyz/ (shown below).\n",
    "\n",
    "![visual demo of matrix multiplication](https://raw.githubusercontent.com/mrdbourke/tensorflow-deep-learning/main/images/00-matrix-multiply-crop.gif)"
   ]
  },
  {
   "cell_type": "markdown",
   "metadata": {
    "id": "bK8Kc94SL-JL"
   },
   "source": [
    "## Changing the datatype of a tensor\n",
    "\n",
    "This is common when a goal is to using less precision to reduce computation energy (e.g. 16-bit floating point numbers vs. 32-bit floating point numbers), because with less bits comes less space that the computations requires.\n",
    "\n",
    "Here, changing the datatype of tensors using [`tf.cast()`](https://www.tensorflow.org/api_docs/python/tf/cast)."
   ]
  },
  {
   "cell_type": "code",
   "execution_count": 91,
   "metadata": {
    "colab": {
     "base_uri": "https://localhost:8080/"
    },
    "id": "jRkZhW35Lge_",
    "outputId": "117f9814-e7f2-42ee-ab76-498bbde856f3"
   },
   "outputs": [
    {
     "name": "stdout",
     "output_type": "stream",
     "text": [
      "B.dtype: <dtype: 'float32'>\n",
      "C.dtype: <dtype: 'int32'>\n"
     ]
    }
   ],
   "source": [
    "# Create a new tensor with default datatype (float32)\n",
    "B = tf.constant([1.7, 7.4])\n",
    "\n",
    "# Create a new tensor with default datatype (int32)\n",
    "C = tf.constant([1, 7])\n",
    "print(f'B.dtype: {B.dtype}')\n",
    "print(f'C.dtype: {C.dtype}')"
   ]
  },
  {
   "cell_type": "code",
   "execution_count": 92,
   "metadata": {
    "colab": {
     "base_uri": "https://localhost:8080/"
    },
    "id": "kdhV1rgcNpUP",
    "outputId": "c2293dcd-cfe0-4618-e304-925f16a6db12"
   },
   "outputs": [
    {
     "name": "stdout",
     "output_type": "stream",
     "text": [
      "B.dtype: <dtype: 'float16'>\n"
     ]
    }
   ],
   "source": [
    "# Change from float32 to float16 (reduced precision)\n",
    "B = tf.cast(B, dtype=tf.float16)\n",
    "print(f'B.dtype: {B.dtype}')"
   ]
  },
  {
   "cell_type": "code",
   "execution_count": 93,
   "metadata": {
    "colab": {
     "base_uri": "https://localhost:8080/"
    },
    "id": "Px2E1ANeNxRv",
    "outputId": "a984cf0d-e14e-46db-a6d8-aa300cb121fe"
   },
   "outputs": [
    {
     "name": "stdout",
     "output_type": "stream",
     "text": [
      "C.dtype: <dtype: 'float32'>\n"
     ]
    }
   ],
   "source": [
    "# Change from int32 to float32\n",
    "C = tf.cast(C, dtype=tf.float32)\n",
    "print(f'C.dtype: {C.dtype}')"
   ]
  },
  {
   "cell_type": "markdown",
   "metadata": {
    "id": "1F3L1BDuQVJz"
   },
   "source": [
    "## Getting the absolute value\n",
    "Here, using [`tf.abs()`](https://www.tensorflow.org/api_docs/python/tf/math/abs)."
   ]
  },
  {
   "cell_type": "code",
   "execution_count": 96,
   "metadata": {
    "colab": {
     "base_uri": "https://localhost:8080/"
    },
    "id": "plNBFi51QOvW",
    "outputId": "b82f87c5-ada1-43b5-b998-5d6fa8e90931"
   },
   "outputs": [
    {
     "name": "stdout",
     "output_type": "stream",
     "text": [
      "tf.Tensor([ -7 -10], shape=(2,), dtype=int32)\n",
      "abs values: [ 7 10]\n"
     ]
    }
   ],
   "source": [
    "# Create tensor with negative values\n",
    "D = tf.constant([-7, -10])\n",
    "print(D)\n",
    "# Get the absolute values\n",
    "print(f'abs values: {tf.abs(D)}')"
   ]
  },
  {
   "cell_type": "markdown",
   "metadata": {
    "id": "G4cnALehQ2CE"
   },
   "source": [
    "## Stats: min, max, mean, sum (aggregation)\n",
    "To do so, aggregation methods typically have the syntax `reduce()_[action]`, such as:\n",
    "* [`tf.reduce_min()`](https://www.tensorflow.org/api_docs/python/tf/math/reduce_min) - find the minimum value in a tensor.\n",
    "* [`tf.reduce_max()`](https://www.tensorflow.org/api_docs/python/tf/math/reduce_max) - find the maximum value in a tensor (helpful for when you want to find the highest prediction probability).\n",
    "* [`tf.reduce_mean()`](https://www.tensorflow.org/api_docs/python/tf/math/reduce_mean) - find the mean of all elements in a tensor.\n",
    "* [`tf.reduce_sum()`](https://www.tensorflow.org/api_docs/python/tf/math/reduce_sum) - find the sum of all elements in a tensor.\n",
    "\n",
    "**Note:** typically, each of these is under the `math` module, e.g. `tf.math.reduce_min()` but you can use the alias `tf.reduce_min()`."
   ]
  },
  {
   "cell_type": "code",
   "execution_count": 97,
   "metadata": {
    "colab": {
     "base_uri": "https://localhost:8080/"
    },
    "id": "kjW5_6i6Q7oo",
    "outputId": "684c3ac0-753c-4743-ac93-3297e624d0e0"
   },
   "outputs": [
    {
     "data": {
      "text/plain": [
       "<tf.Tensor: shape=(50,), dtype=int64, numpy=\n",
       "array([ 9, 59, 17, 71, 80, 21, 65, 22, 70, 87, 33, 31, 22, 32,  8, 62, 62,\n",
       "       79, 30, 27,  4, 31, 22, 59, 45, 64,  7, 26, 54, 30, 67, 85, 33, 55,\n",
       "       41, 79, 98, 65, 59, 61, 57, 13, 14, 53, 81, 78, 55, 80, 43, 84])>"
      ]
     },
     "execution_count": 97,
     "metadata": {},
     "output_type": "execute_result"
    }
   ],
   "source": [
    "# Create a tensor with 50 random values between 0 and 100\n",
    "E = tf.constant(np.random.randint(low=0, high=100, size=50))\n",
    "E"
   ]
  },
  {
   "cell_type": "code",
   "execution_count": 98,
   "metadata": {
    "colab": {
     "base_uri": "https://localhost:8080/"
    },
    "id": "slwMVgT-Rac0",
    "outputId": "482cd514-c1af-4101-84d7-ddd4c07c4ba7"
   },
   "outputs": [
    {
     "data": {
      "text/plain": [
       "<tf.Tensor: shape=(), dtype=int64, numpy=4>"
      ]
     },
     "execution_count": 98,
     "metadata": {},
     "output_type": "execute_result"
    }
   ],
   "source": [
    "# Find the minimum\n",
    "tf.reduce_min(E)"
   ]
  },
  {
   "cell_type": "code",
   "execution_count": 99,
   "metadata": {
    "colab": {
     "base_uri": "https://localhost:8080/"
    },
    "id": "voLqafGCRYqO",
    "outputId": "de7dd3b5-050e-4dc7-a5b1-e485f7c10d9b"
   },
   "outputs": [
    {
     "data": {
      "text/plain": [
       "<tf.Tensor: shape=(), dtype=int64, numpy=98>"
      ]
     },
     "execution_count": 99,
     "metadata": {},
     "output_type": "execute_result"
    }
   ],
   "source": [
    "# Find the maximum\n",
    "tf.reduce_max(E)"
   ]
  },
  {
   "cell_type": "code",
   "execution_count": 100,
   "metadata": {
    "colab": {
     "base_uri": "https://localhost:8080/"
    },
    "id": "MPqwvy6TRYN3",
    "outputId": "4801507a-d568-42d1-aa10-1b3df4d9854b"
   },
   "outputs": [
    {
     "data": {
      "text/plain": [
       "<tf.Tensor: shape=(), dtype=int64, numpy=48>"
      ]
     },
     "execution_count": 100,
     "metadata": {},
     "output_type": "execute_result"
    }
   ],
   "source": [
    "# Find the mean\n",
    "tf.reduce_mean(E)"
   ]
  },
  {
   "cell_type": "code",
   "execution_count": 101,
   "metadata": {
    "colab": {
     "base_uri": "https://localhost:8080/"
    },
    "id": "lqwCXeD6RhyE",
    "outputId": "0f2a23e2-1381-463e-fb84-d9aad6c3efc1"
   },
   "outputs": [
    {
     "data": {
      "text/plain": [
       "<tf.Tensor: shape=(), dtype=int64, numpy=2430>"
      ]
     },
     "execution_count": 101,
     "metadata": {},
     "output_type": "execute_result"
    }
   ],
   "source": [
    "# Find the sum\n",
    "tf.reduce_sum(E)"
   ]
  },
  {
   "cell_type": "markdown",
   "metadata": {
    "id": "zXGyiVPiRqgO"
   },
   "source": [
    "Also available are the standard deviation ([`tf.reduce_std()`](https://www.tensorflow.org/api_docs/python/tf/math/reduce_std)) and variance ([`tf.reduce_variance()`](https://www.tensorflow.org/api_docs/python/tf/math/reduce_variance)).\n",
    "\n",
    "### Finding the positional maximum and minimum\n",
    "* [`tf.argmax()`](https://www.tensorflow.org/api_docs/python/tf/math/argmax) - find the position of the maximum element in a given tensor.\n",
    "* [`tf.argmin()`](https://www.tensorflow.org/api_docs/python/tf/math/argmin) - find the position of the minimum element in a given tensor."
   ]
  },
  {
   "cell_type": "code",
   "execution_count": 102,
   "metadata": {
    "colab": {
     "base_uri": "https://localhost:8080/"
    },
    "id": "PspO0Vjp3Nm6",
    "outputId": "e64798b1-ac90-40fc-c820-7b2fcd158b41"
   },
   "outputs": [
    {
     "data": {
      "text/plain": [
       "<tf.Tensor: shape=(50,), dtype=float64, numpy=\n",
       "array([0.7647888 , 0.56895957, 0.05056721, 0.19468096, 0.97438256,\n",
       "       0.09067676, 0.55055159, 0.77230744, 0.47620834, 0.7719471 ,\n",
       "       0.25394192, 0.41012713, 0.35539614, 0.7684867 , 0.63143059,\n",
       "       0.4101147 , 0.43091275, 0.57055221, 0.00929904, 0.74952705,\n",
       "       0.29288867, 0.58413887, 0.11442201, 0.22658184, 0.89060412,\n",
       "       0.11438289, 0.68534446, 0.4922785 , 0.26824488, 0.62954618,\n",
       "       0.20132858, 0.20327259, 0.91980501, 0.83596987, 0.15349621,\n",
       "       0.00924867, 0.59771575, 0.74226613, 0.23884987, 0.17713875,\n",
       "       0.81237591, 0.48005606, 0.91516802, 0.8283424 , 0.06389213,\n",
       "       0.50454878, 0.5046474 , 0.05294236, 0.14747612, 0.05856524])>"
      ]
     },
     "execution_count": 102,
     "metadata": {},
     "output_type": "execute_result"
    }
   ],
   "source": [
    "# Create a tensor with 50 values between 0 and 1\n",
    "F = tf.constant(np.random.random(50))\n",
    "F"
   ]
  },
  {
   "cell_type": "code",
   "execution_count": 109,
   "metadata": {
    "colab": {
     "base_uri": "https://localhost:8080/"
    },
    "id": "ADbAMm9N3Zlb",
    "outputId": "0b16b507-e863-453e-c7e2-75bb44684bd5"
   },
   "outputs": [
    {
     "data": {
      "text/plain": [
       "<tf.Tensor: shape=(), dtype=int64, numpy=4>"
      ]
     },
     "execution_count": 109,
     "metadata": {},
     "output_type": "execute_result"
    }
   ],
   "source": [
    "# Find the maximum element position of F\n",
    "tf.argmax(F)"
   ]
  },
  {
   "cell_type": "code",
   "execution_count": 110,
   "metadata": {
    "colab": {
     "base_uri": "https://localhost:8080/"
    },
    "id": "aQrv1nVE3ckx",
    "outputId": "6e52173e-8f33-4a8a-aff7-ad968f163e92"
   },
   "outputs": [
    {
     "data": {
      "text/plain": [
       "<tf.Tensor: shape=(), dtype=int64, numpy=35>"
      ]
     },
     "execution_count": 110,
     "metadata": {},
     "output_type": "execute_result"
    }
   ],
   "source": [
    "# Find the minimum element position of F\n",
    "tf.argmin(F)"
   ]
  },
  {
   "cell_type": "code",
   "execution_count": 114,
   "metadata": {
    "colab": {
     "base_uri": "https://localhost:8080/"
    },
    "id": "yFHzARFwLmIf",
    "outputId": "e67cf2cc-93f9-44f6-810c-647814d5ba4f"
   },
   "outputs": [
    {
     "name": "stdout",
     "output_type": "stream",
     "text": [
      "The maximum value of F is 0.9743825645238031 at position: 4\n",
      "Using tf.argmax() to index F, the maximum value of F is: 0.9743825645238031\n",
      "Are the two max values the same? True\n"
     ]
    }
   ],
   "source": [
    "# Find the maximum element position of F\n",
    "print(f\"The maximum value of F is {tf.reduce_max(F).numpy()} at position: {tf.argmax(F).numpy()}\") \n",
    "print(f\"Using tf.argmax() to index F, the maximum value of F is: {F[tf.argmax(F)].numpy()}\")\n",
    "print(f\"Are the two max values the same? {F[tf.argmax(F)].numpy() == tf.reduce_max(F).numpy()}\")"
   ]
  },
  {
   "cell_type": "markdown",
   "metadata": {
    "id": "vSGIuNwm5QHM"
   },
   "source": [
    "## Squeezing a tensor (removing all single dimensions)\n",
    "* [`tf.squeeze()`](https://www.tensorflow.org/api_docs/python/tf/squeeze) - remove all dimensions of 1 from a tensor.\n"
   ]
  },
  {
   "cell_type": "code",
   "execution_count": 116,
   "metadata": {
    "colab": {
     "base_uri": "https://localhost:8080/"
    },
    "id": "6xDZLtNu5wUZ",
    "outputId": "a641e1bc-7624-428c-942a-3d51170add8d"
   },
   "outputs": [
    {
     "name": "stdout",
     "output_type": "stream",
     "text": [
      "(1, 1, 1, 1, 50)\n",
      "5\n"
     ]
    }
   ],
   "source": [
    "# Create a rank 5 (5 dimensions) tensor of 50 numbers between 0 and 100\n",
    "G = tf.constant(np.random.randint(0, 100, 50), shape=(1, 1, 1, 1, 50))\n",
    "print(G.shape)\n",
    "print(G.ndim)"
   ]
  },
  {
   "cell_type": "code",
   "execution_count": 118,
   "metadata": {
    "colab": {
     "base_uri": "https://localhost:8080/"
    },
    "id": "oS91XOgO6lai",
    "outputId": "a9635c26-310e-46b0-9d80-604bddf7c8e5"
   },
   "outputs": [
    {
     "name": "stdout",
     "output_type": "stream",
     "text": [
      "(50,)\n",
      "1\n"
     ]
    }
   ],
   "source": [
    "# Squeeze tensor G (remove all 1 dimensions)\n",
    "G_squeezed = tf.squeeze(G)\n",
    "print(G_squeezed.shape)\n",
    "print(G_squeezed.ndim)"
   ]
  },
  {
   "cell_type": "markdown",
   "metadata": {
    "id": "46cKe32W65Ox"
   },
   "source": [
    "## One-hot encoding\n",
    "[`tf.one_hot()`](https://www.tensorflow.org/api_docs/python/tf/one_hot)"
   ]
  },
  {
   "cell_type": "code",
   "execution_count": 123,
   "metadata": {
    "colab": {
     "base_uri": "https://localhost:8080/"
    },
    "id": "FlRkMjL-646U",
    "outputId": "57e586aa-c3b6-45af-a068-464b84ad4ca2"
   },
   "outputs": [
    {
     "name": "stdout",
     "output_type": "stream",
     "text": [
      "tf.Tensor(\n",
      "[[1. 0. 0. 0.]\n",
      " [0. 1. 0. 0.]\n",
      " [0. 0. 1. 0.]\n",
      " [0. 0. 0. 1.]], shape=(4, 4), dtype=float32)\n",
      "tf.Tensor(\n",
      "[[1. 0.]\n",
      " [0. 1.]\n",
      " [0. 0.]\n",
      " [0. 0.]], shape=(4, 2), dtype=float32)\n"
     ]
    }
   ],
   "source": [
    "# Create a list of indices\n",
    "some_list = [0, 1, 2, 3]\n",
    "\n",
    "# One hot encode them\n",
    "print(tf.one_hot(some_list, depth=len(some_list)))\n",
    "print(tf.one_hot(some_list, depth=len(some_list) - 2))"
   ]
  },
  {
   "cell_type": "code",
   "execution_count": 127,
   "metadata": {
    "colab": {
     "base_uri": "https://localhost:8080/"
    },
    "id": "FZluadm88EcN",
    "outputId": "5f98ee43-cf54-4c96-b466-b85e39d715ff"
   },
   "outputs": [
    {
     "data": {
      "text/plain": [
       "<tf.Tensor: shape=(4, 4), dtype=string, numpy=\n",
       "array([[b'ON', b'-', b'-', b'-'],\n",
       "       [b'-', b'ON', b'-', b'-'],\n",
       "       [b'-', b'-', b'ON', b'-'],\n",
       "       [b'-', b'-', b'-', b'ON']], dtype=object)>"
      ]
     },
     "execution_count": 127,
     "metadata": {},
     "output_type": "execute_result"
    }
   ],
   "source": [
    "# Specify a custom one-hot values for on and off encoding\n",
    "on=\"ON\"\n",
    "off=\"-\"\n",
    "tf.one_hot(some_list, depth=4, on_value=on, off_value=off)"
   ]
  },
  {
   "cell_type": "markdown",
   "metadata": {
    "id": "-E-I1jFC84Qi"
   },
   "source": [
    "## Squaring, log, square root\n",
    "* [`tf.square()`](https://www.tensorflow.org/api_docs/python/tf/math/square) - get the square of every value in a tensor. \n",
    "* [`tf.sqrt()`](https://www.tensorflow.org/api_docs/python/tf/math/sqrt) - get the squareroot of every value in a tensor (**note:** the elements need to be floats or this will error).\n",
    "* [`tf.math.log()`](https://www.tensorflow.org/api_docs/python/tf/math/log) - get the natural log of every value in a tensor (elements need to floats)."
   ]
  },
  {
   "cell_type": "code",
   "execution_count": 130,
   "metadata": {
    "colab": {
     "base_uri": "https://localhost:8080/"
    },
    "id": "KTOvziCBLqhZ",
    "outputId": "10fa84ab-98d0-4bbe-f751-4f94a103e4f0"
   },
   "outputs": [
    {
     "name": "stdout",
     "output_type": "stream",
     "text": [
      "tf.Tensor([1 2 3 4 5 6 7 8 9], shape=(9,), dtype=int64)\n"
     ]
    },
    {
     "data": {
      "text/plain": [
       "<tf.Tensor: shape=(9,), dtype=int64, numpy=array([1, 2, 3, 4, 5, 6, 7, 8, 9])>"
      ]
     },
     "execution_count": 130,
     "metadata": {},
     "output_type": "execute_result"
    }
   ],
   "source": [
    "# Create a new tensor\n",
    "H = tf.constant(np.arange(1, 10))\n",
    "print(H)\n",
    "H"
   ]
  },
  {
   "cell_type": "code",
   "execution_count": 136,
   "metadata": {
    "colab": {
     "base_uri": "https://localhost:8080/"
    },
    "id": "qvPS3xbk9JBK",
    "outputId": "7432fd66-28a6-4ed6-b7dc-fdc198171cec"
   },
   "outputs": [
    {
     "ename": "InvalidArgumentError",
     "evalue": "Value for attr 'T' of int64 is not in the list of allowed values: bfloat16, half, float, double, complex64, complex128\n\t; NodeDef: {{node Sqrt}}; Op<name=Sqrt; signature=x:T -> y:T; attr=T:type,allowed=[DT_BFLOAT16, DT_HALF, DT_FLOAT, DT_DOUBLE, DT_COMPLEX64, DT_COMPLEX128]> [Op:Sqrt]",
     "output_type": "error",
     "traceback": [
      "\u001b[0;31m---------------------------------------------------------------------------\u001b[0m",
      "\u001b[0;31mInvalidArgumentError\u001b[0m                      Traceback (most recent call last)",
      "Cell \u001b[0;32mIn[136], line 10\u001b[0m\n\u001b[1;32m      4\u001b[0m tf\u001b[38;5;241m.\u001b[39msquare(H)\n\u001b[1;32m      6\u001b[0m \u001b[38;5;66;03m# \u001b[39;00m\n\u001b[1;32m      7\u001b[0m \u001b[38;5;66;03m# sqrt \u001b[39;00m\n\u001b[1;32m      8\u001b[0m \u001b[38;5;66;03m# \u001b[39;00m\n\u001b[1;32m      9\u001b[0m \u001b[38;5;66;03m# shows error\u001b[39;00m\n\u001b[0;32m---> 10\u001b[0m \u001b[43mtf\u001b[49m\u001b[38;5;241;43m.\u001b[39;49m\u001b[43msqrt\u001b[49m\u001b[43m(\u001b[49m\u001b[43mH\u001b[49m\u001b[43m)\u001b[49m\n",
      "File \u001b[0;32m/Library/Frameworks/Python.framework/Versions/3.8/lib/python3.8/site-packages/tensorflow/python/util/traceback_utils.py:153\u001b[0m, in \u001b[0;36mfilter_traceback.<locals>.error_handler\u001b[0;34m(*args, **kwargs)\u001b[0m\n\u001b[1;32m    151\u001b[0m \u001b[38;5;28;01mexcept\u001b[39;00m \u001b[38;5;167;01mException\u001b[39;00m \u001b[38;5;28;01mas\u001b[39;00m e:\n\u001b[1;32m    152\u001b[0m   filtered_tb \u001b[38;5;241m=\u001b[39m _process_traceback_frames(e\u001b[38;5;241m.\u001b[39m__traceback__)\n\u001b[0;32m--> 153\u001b[0m   \u001b[38;5;28;01mraise\u001b[39;00m e\u001b[38;5;241m.\u001b[39mwith_traceback(filtered_tb) \u001b[38;5;28;01mfrom\u001b[39;00m \u001b[38;5;28;01mNone\u001b[39;00m\n\u001b[1;32m    154\u001b[0m \u001b[38;5;28;01mfinally\u001b[39;00m:\n\u001b[1;32m    155\u001b[0m   \u001b[38;5;28;01mdel\u001b[39;00m filtered_tb\n",
      "File \u001b[0;32m/Library/Frameworks/Python.framework/Versions/3.8/lib/python3.8/site-packages/tensorflow/python/framework/ops.py:7262\u001b[0m, in \u001b[0;36mraise_from_not_ok_status\u001b[0;34m(e, name)\u001b[0m\n\u001b[1;32m   7260\u001b[0m \u001b[38;5;28;01mdef\u001b[39;00m \u001b[38;5;21mraise_from_not_ok_status\u001b[39m(e, name):\n\u001b[1;32m   7261\u001b[0m   e\u001b[38;5;241m.\u001b[39mmessage \u001b[38;5;241m+\u001b[39m\u001b[38;5;241m=\u001b[39m (\u001b[38;5;124m\"\u001b[39m\u001b[38;5;124m name: \u001b[39m\u001b[38;5;124m\"\u001b[39m \u001b[38;5;241m+\u001b[39m name \u001b[38;5;28;01mif\u001b[39;00m name \u001b[38;5;129;01mis\u001b[39;00m \u001b[38;5;129;01mnot\u001b[39;00m \u001b[38;5;28;01mNone\u001b[39;00m \u001b[38;5;28;01melse\u001b[39;00m \u001b[38;5;124m\"\u001b[39m\u001b[38;5;124m\"\u001b[39m)\n\u001b[0;32m-> 7262\u001b[0m   \u001b[38;5;28;01mraise\u001b[39;00m core\u001b[38;5;241m.\u001b[39m_status_to_exception(e) \u001b[38;5;28;01mfrom\u001b[39;00m \u001b[38;5;28;01mNone\u001b[39;00m\n",
      "\u001b[0;31mInvalidArgumentError\u001b[0m: Value for attr 'T' of int64 is not in the list of allowed values: bfloat16, half, float, double, complex64, complex128\n\t; NodeDef: {{node Sqrt}}; Op<name=Sqrt; signature=x:T -> y:T; attr=T:type,allowed=[DT_BFLOAT16, DT_HALF, DT_FLOAT, DT_DOUBLE, DT_COMPLEX64, DT_COMPLEX128]> [Op:Sqrt]"
     ]
    }
   ],
   "source": [
    "# \n",
    "# Square\n",
    "# \n",
    "tf.square(H)\n",
    "\n",
    "# \n",
    "# sqrt \n",
    "# \n",
    "# shows error\n",
    "tf.sqrt(H)"
   ]
  },
  {
   "cell_type": "code",
   "execution_count": 137,
   "metadata": {
    "colab": {
     "base_uri": "https://localhost:8080/"
    },
    "id": "zlxRWy6Q-NHK",
    "outputId": "f2bc38ee-7af8-4c25-d556-0b464bd871d1"
   },
   "outputs": [
    {
     "data": {
      "text/plain": [
       "<tf.Tensor: shape=(9,), dtype=float32, numpy=array([1., 2., 3., 4., 5., 6., 7., 8., 9.], dtype=float32)>"
      ]
     },
     "execution_count": 137,
     "metadata": {},
     "output_type": "execute_result"
    }
   ],
   "source": [
    "# Change H to float32\n",
    "H = tf.cast(H, dtype=tf.float32)\n",
    "H"
   ]
  },
  {
   "cell_type": "code",
   "execution_count": 138,
   "metadata": {
    "colab": {
     "base_uri": "https://localhost:8080/"
    },
    "id": "S73eO0p--TtN",
    "outputId": "e9204262-c9a3-45bc-ba8e-3436dee76464"
   },
   "outputs": [
    {
     "data": {
      "text/plain": [
       "<tf.Tensor: shape=(9,), dtype=float32, numpy=\n",
       "array([1.       , 1.4142135, 1.7320508, 2.       , 2.236068 , 2.4494898,\n",
       "       2.6457512, 2.828427 , 3.       ], dtype=float32)>"
      ]
     },
     "execution_count": 138,
     "metadata": {},
     "output_type": "execute_result"
    }
   ],
   "source": [
    "# Find the square root\n",
    "tf.sqrt(H)"
   ]
  },
  {
   "cell_type": "code",
   "execution_count": 140,
   "metadata": {
    "colab": {
     "base_uri": "https://localhost:8080/"
    },
    "id": "RyCo55vz9u4f",
    "outputId": "a37f7d0a-9f71-43b7-84c3-20a60664bd22"
   },
   "outputs": [
    {
     "data": {
      "text/plain": [
       "<tf.Tensor: shape=(9,), dtype=float32, numpy=\n",
       "array([0.       , 0.6931472, 1.0986123, 1.3862944, 1.609438 , 1.7917595,\n",
       "       1.9459102, 2.0794415, 2.1972246], dtype=float32)>"
      ]
     },
     "execution_count": 140,
     "metadata": {},
     "output_type": "execute_result"
    }
   ],
   "source": [
    "# \n",
    "# log (input also needs to be float)\n",
    "# \n",
    "tf.math.log(H)"
   ]
  },
  {
   "cell_type": "markdown",
   "metadata": {
    "id": "urq3bx3l_Y4K"
   },
   "source": [
    "## Manipulating `tf.Variable` tensors\n",
    "Change tensors in-place with\n",
    "* [`.assign()`](https://www.tensorflow.org/api_docs/python/tf/Variable#assign) - assign a different value to a particular index of a variable tensor\n",
    "* [`.add_assign()`](https://www.tensorflow.org/api_docs/python/tf/Variable#assign_add) - add to an existing value and reassign it at a particular index of a variable tensor\n"
   ]
  },
  {
   "cell_type": "code",
   "execution_count": 148,
   "metadata": {
    "colab": {
     "base_uri": "https://localhost:8080/"
    },
    "id": "tV7_uzdR_F4c",
    "outputId": "86c9ccb5-d32f-48a6-d55a-b34053aabc9f"
   },
   "outputs": [
    {
     "name": "stdout",
     "output_type": "stream",
     "text": [
      "I:\n",
      "<tf.Variable 'Variable:0' shape=(5,) dtype=int64, numpy=array([0, 1, 2, 3, 4])>\n",
      "I.assing...\n",
      "<tf.Variable 'UnreadVariable' shape=(5,) dtype=int64, numpy=array([ 0,  1,  2,  3, 50])>\n",
      "I again\n",
      "<tf.Variable 'Variable:0' shape=(5,) dtype=int64, numpy=array([ 0,  1,  2,  3, 50])>\n",
      "I.assign_add\n"
     ]
    },
    {
     "data": {
      "text/plain": [
       "<tf.Variable 'UnreadVariable' shape=(5,) dtype=int64, numpy=array([10, 11, 12, 13, 60])>"
      ]
     },
     "execution_count": 148,
     "metadata": {},
     "output_type": "execute_result"
    }
   ],
   "source": [
    "# Create a variable tensor\n",
    "I = tf.Variable(np.arange(0, 5))\n",
    "print('I:')\n",
    "print(I)\n",
    "\n",
    "# \n",
    "# Assign the final value a new value of 50\n",
    "# \n",
    "print('I.assing...')\n",
    "print(I.assign([0, 1, 2, 3, 50]))\n",
    "\n",
    "# NOTE: no copy made, the \"original\" gets the update\n",
    "print('I again')\n",
    "print(I)\n",
    "\n",
    "# \n",
    "# \n",
    "#\n",
    "# Add 10 to every element in I\n",
    "print('I.assign_add')\n",
    "I.assign_add([10, 10, 10, 10, 10])"
   ]
  },
  {
   "cell_type": "markdown",
   "metadata": {
    "id": "2L2IyQhl-Z73"
   },
   "source": [
    "## Tensors and NumPy\n",
    "Tensors can also be converted to NumPy arrays using:\n",
    "\n",
    "* `np.array()` - pass a tensor to convert to an ndarray (NumPy's main datatype)\n",
    "* `tensor.numpy()` - call on a tensor to convert to an ndarray\n",
    "\n",
    "Doing this can be helpful: it makes tensors iterable & makes NumPy's methods available"
   ]
  },
  {
   "cell_type": "code",
   "execution_count": 154,
   "metadata": {
    "colab": {
     "base_uri": "https://localhost:8080/"
    },
    "id": "HLHrij0vBywD",
    "outputId": "3fc123c9-c32c-4aac-e61e-900c75fc2a04"
   },
   "outputs": [
    {
     "name": "stdout",
     "output_type": "stream",
     "text": [
      "J: [ 3.  7. 10.]\n",
      "type of J: <class 'tensorflow.python.framework.ops.EagerTensor'>\n",
      "J.numpy: [ 3.  7. 10.]\n",
      "new type of J: <class 'numpy.ndarray'>\n"
     ]
    }
   ],
   "source": [
    "# Create a tensor from a NumPy array\n",
    "J = tf.constant(np.array([3., 7., 10.]))\n",
    "print(f'J: {J}')\n",
    "print(f'type of J: {type(J)}')\n",
    "print(f'J.numpy: {J.numpy()}')\n",
    "print(f'new type of J: {type(J.numpy())}')"
   ]
  },
  {
   "cell_type": "code",
   "execution_count": 155,
   "metadata": {
    "colab": {
     "base_uri": "https://localhost:8080/"
    },
    "id": "HrQoUeyPCXU9",
    "outputId": "3b7ae5e1-5fe5-4332-f6c1-09be8f3435f2"
   },
   "outputs": [
    {
     "data": {
      "text/plain": [
       "(tf.float64, tf.float32)"
      ]
     },
     "execution_count": 155,
     "metadata": {},
     "output_type": "execute_result"
    }
   ],
   "source": [
    "# Create a tensor from NumPy and from an array\n",
    "numpy_J = tf.constant(np.array([3., 7., 10.])) # will be float64 (due to NumPy)\n",
    "tensor_J = tf.constant([3., 7., 10.]) # will be float32 (due to being TensorFlow default)\n",
    "numpy_J.dtype, tensor_J.dtype"
   ]
  },
  {
   "cell_type": "markdown",
   "metadata": {
    "id": "_ytLPBWF1wxt"
   },
   "source": [
    "## Using `@tf.function`\n",
    "\n",
    "Python functions might have the decorator [`@tf.function`](https://www.tensorflow.org/api_docs/python/tf/function). For reference, [RealPython's guide on decorators](https://realpython.com/primer-on-python-decorators/). Decorators modify a function in one way or another.\n",
    "\n",
    "In the `@tf.function` decorator case, it turns a Python function into a callable TensorFlow graph. Which is a fancy way of saying, if you've written your own Python function, and you decorate it with `@tf.function`, when you export your code (to potentially run on another device), TensorFlow will attempt to convert it into a fast(er) version of itself (by making it part of a computation graph).\n",
    "\n",
    "For more on this, read the [Better performnace with tf.function](https://www.tensorflow.org/guide/function) guide."
   ]
  },
  {
   "cell_type": "code",
   "execution_count": 165,
   "metadata": {
    "colab": {
     "base_uri": "https://localhost:8080/"
    },
    "id": "URzFiwPoFDI7",
    "outputId": "65125afb-ff03-47fa-cd8e-033c0aba5eff"
   },
   "outputs": [
    {
     "name": "stdout",
     "output_type": "stream",
     "text": [
      "x: [0 1 2 3 4 5 6 7 8 9]\n",
      "y: [10 11 12 13 14 15 16 17 18 19]\n",
      "tf.Tensor([ 10  12  16  22  30  40  52  66  82 100], shape=(10,), dtype=int64)\n"
     ]
    }
   ],
   "source": [
    "# Create a simple function\n",
    "def timesTwoPlusY(x, y):\n",
    "    return x ** 2 + y\n",
    "\n",
    "x = tf.constant(np.arange(0, 10))\n",
    "print(f'x: {x}')\n",
    "print(f'y: {y}')\n",
    "y = tf.constant(np.arange(10, 20))\n",
    "print(timesTwoPlusY(x, y))"
   ]
  },
  {
   "cell_type": "code",
   "execution_count": 166,
   "metadata": {
    "colab": {
     "base_uri": "https://localhost:8080/"
    },
    "id": "EHGbvlkXF7Gs",
    "outputId": "1428bb59-5ec5-4bc5-8c72-fb97a7d8a85e"
   },
   "outputs": [
    {
     "name": "stderr",
     "output_type": "stream",
     "text": [
      "2025-01-26 18:03:35.167675: I tensorflow/core/grappler/optimizers/custom_graph_optimizer_registry.cc:114] Plugin optimizer for device_type GPU is enabled.\n"
     ]
    },
    {
     "data": {
      "text/plain": [
       "<tf.Tensor: shape=(10,), dtype=int64, numpy=array([ 10,  12,  16,  22,  30,  40,  52,  66,  82, 100])>"
      ]
     },
     "execution_count": 166,
     "metadata": {},
     "output_type": "execute_result"
    }
   ],
   "source": [
    "# Create the same function and decorate it with tf.function\n",
    "@tf.function\n",
    "def tf_function(x, y):\n",
    "  return x ** 2 + y\n",
    "\n",
    "tf_function(x, y)"
   ]
  },
  {
   "cell_type": "markdown",
   "metadata": {
    "id": "y8AQmchkxKDn"
   },
   "source": [
    "## Checking access to GPUs\n",
    " [`tf.config.list_physical_devices()`](https://www.tensorflow.org/guide/gpu)."
   ]
  },
  {
   "cell_type": "code",
   "execution_count": 167,
   "metadata": {
    "colab": {
     "base_uri": "https://localhost:8080/"
    },
    "id": "3rFNSeODxi3L",
    "outputId": "87f0a071-24c9-492c-e8f9-0be30cc488b9"
   },
   "outputs": [
    {
     "name": "stdout",
     "output_type": "stream",
     "text": [
      "[PhysicalDevice(name='/physical_device:GPU:0', device_type='GPU')]\n"
     ]
    }
   ],
   "source": [
    "print(tf.config.list_physical_devices('GPU'))"
   ]
  },
  {
   "cell_type": "markdown",
   "metadata": {
    "id": "8165PtH8xyq5"
   },
   "source": [
    "If the above outputs an empty array (or nothing), it means you don't have access to a GPU (or at least TensorFlow can't find it).\n",
    "\n",
    "If you're running in Google Colab, you can access a GPU by going to *Runtime -> Change Runtime Type -> Select GPU*."
   ]
  },
  {
   "cell_type": "markdown",
   "metadata": {},
   "source": [
    "## ToDo\n",
    "Try following directions without code examples\n",
    "1. Create a vector, scalar, matrix and tensor with values of your choosing using tf.constant()\n",
    "2. Find the shape, rank and size of the tensors you created in 1\n",
    "3. Create two tensors containing random values between 0 and 1 with shape [5, 300]\n",
    "4. Multiply the two tensors you created in 3 using matrix multiplication\n",
    "5. Multiply the two tensors you created in 3 using dot product\n",
    "6. Create a tensor with random values between 0 and 1 with shape [224, 224, 3]\n",
    "7. Find the min and max values of the tensor you created in 6\n",
    "8. Created a tensor with random values of shape [1, 224, 224, 3] then squeeze it to change the shape to [224, 224, 3]\n",
    "9. Create a tensor with shape [10] using your own choice of values, then find the index which has the maximum value\n",
    "10. One-hot encode the tensor you created in 9"
   ]
  },
  {
   "cell_type": "code",
   "execution_count": 206,
   "metadata": {},
   "outputs": [],
   "source": [
    "# 1\n",
    "vectorTest = tf.constant([2, 3])\n",
    "matrixTest = matrix = tf.constant([[2, 3],[4, 5]])\n",
    "scalarTest = tf.constant(2)"
   ]
  },
  {
   "cell_type": "code",
   "execution_count": 207,
   "metadata": {},
   "outputs": [
    {
     "name": "stdout",
     "output_type": "stream",
     "text": [
      "#2\n",
      "vector props:\n",
      "shape: (2,)\n",
      "rank: 1\n",
      "size: 2\n",
      "\n",
      "matrix props:\n",
      "shape: (2, 2)\n",
      "rank: 2\n",
      "size: 4\n",
      "\n",
      "scalar props:\n",
      "shape: ()\n",
      "rank: 0\n",
      "size: 1\n"
     ]
    }
   ],
   "source": [
    "# 2\n",
    "print('#2')\n",
    "print('vector props:')\n",
    "print(f'shape: {vectorTest.shape}')\n",
    "print(f'rank: {tf.rank(vectorTest)}')\n",
    "print(f'size: {tf.size(vectorTest)}')\n",
    "\n",
    "print('')\n",
    "print('matrix props:')\n",
    "print(f'shape: {matrix.shape}')\n",
    "print(f'rank: {tf.rank(matrix)}')\n",
    "print(f'size: {tf.size(matrix)}')\n",
    "\n",
    "print('')\n",
    "print('scalar props:')\n",
    "print(f'shape: {scalar.shape}')\n",
    "print(f'rank: {tf.rank(scalar)}')\n",
    "print(f'size: {tf.size(scalar)}')"
   ]
  },
  {
   "cell_type": "code",
   "execution_count": 208,
   "metadata": {},
   "outputs": [
    {
     "name": "stdout",
     "output_type": "stream",
     "text": [
      "\n",
      "#3: 2 random tensors\n",
      "tf.Tensor(\n",
      "[[0.803156   0.49777734 0.37054038 ... 0.42893624 0.49179256 0.39297235]\n",
      " [0.14517438 0.72666824 0.80103934 ... 0.832801   0.649397   0.29312778]\n",
      " [0.4216962  0.6768439  0.5627917  ... 0.56929183 0.90308595 0.31530714]\n",
      " [0.6198498  0.70206463 0.994668   ... 0.03745186 0.23192072 0.23984468]\n",
      " [0.01790595 0.40531397 0.5369972  ... 0.62693167 0.47887897 0.25383985]], shape=(5, 300), dtype=float32)\n",
      "tf.Tensor(\n",
      "[[0.95831835 0.01680839 0.3156035  ... 0.67105925 0.76730955 0.20125735]\n",
      " [0.09921694 0.02475083 0.47242153 ... 0.9631474  0.34333456 0.8129494 ]\n",
      " [0.08817983 0.9311962  0.2293179  ... 0.41450226 0.008304   0.02438807]\n",
      " [0.54814565 0.37019622 0.5272658  ... 0.8656951  0.19644582 0.5959221 ]\n",
      " [0.8964087  0.15288067 0.3360591  ... 0.5725572  0.4094149  0.40059018]], shape=(5, 300), dtype=float32)\n"
     ]
    }
   ],
   "source": [
    "\n",
    "#3\n",
    "print('')\n",
    "print('#3: 2 random tensors')\n",
    "random_1 = tf.random.Generator.from_seed(42) # set the seed for reproducibility\n",
    "randomTestOne = tf.random.uniform(shape=[5,300], minval=0, maxval=1)\n",
    "randomTestTwo = tf.random.uniform(shape=[5,300], minval=0, maxval=1)\n",
    "print(randomTestOne)\n",
    "print(randomTestTwo)"
   ]
  },
  {
   "cell_type": "code",
   "execution_count": 209,
   "metadata": {
    "scrolled": true
   },
   "outputs": [
    {
     "name": "stdout",
     "output_type": "stream",
     "text": [
      "\n",
      "#4: matmul the 2 random tensors with matmul\n",
      "tf.Tensor(\n",
      "[[70.66355  71.56842  77.197525 74.061646 73.22589 ]\n",
      " [72.29191  75.99317  82.135056 77.226845 77.29365 ]\n",
      " [67.8458   68.86569  76.16406  73.376366 73.11703 ]\n",
      " [68.15459  67.6496   76.78157  73.194916 71.7847  ]\n",
      " [70.889404 71.440285 77.61733  74.39659  72.28302 ]], shape=(5, 5), dtype=float32)\n"
     ]
    }
   ],
   "source": [
    "\n",
    "print('')\n",
    "print('#4: matmul the 2 random tensors with matmul')\n",
    "print(tf.matmul(randomTestOne, tf.transpose(randomTestTwo)))"
   ]
  },
  {
   "cell_type": "code",
   "execution_count": 210,
   "metadata": {},
   "outputs": [
    {
     "name": "stdout",
     "output_type": "stream",
     "text": [
      "\n",
      "#5: multiply using dotproduct\n",
      "tf.Tensor(\n",
      "[[1.177087   0.6419784  0.7516079  ... 1.4004368  0.7987123  0.6665    ]\n",
      " [1.3569716  0.97849333 1.1619905  ... 2.1543193  0.9409194  1.2881734 ]\n",
      " [1.5107911  1.0004429  1.3293475  ... 2.4219928  0.9792701  1.5473644 ]\n",
      " ...\n",
      " [1.1264015  0.66765493 0.88978887 ... 1.7173007  0.88381606 1.0506966 ]\n",
      " [1.1717565  1.0243571  0.9523099  ... 1.8047764  0.8494368  0.97896916]\n",
      " [0.79249364 0.43507    0.54657596 ... 1.0296987  0.5558329  0.5696909 ]], shape=(300, 300), dtype=float32)\n"
     ]
    }
   ],
   "source": [
    "\n",
    "print('')\n",
    "print('#5: multiply using dotproduct')\n",
    "print(tf.tensordot(tf.transpose(randomTestOne), randomTestTwo, axes=1))"
   ]
  },
  {
   "cell_type": "code",
   "execution_count": 216,
   "metadata": {},
   "outputs": [
    {
     "name": "stdout",
     "output_type": "stream",
     "text": [
      "\n",
      "#6: random tensor with shape\n",
      "tf.Tensor(\n",
      "[[[0.14241445 0.40161622 0.33360183]\n",
      "  [0.6816542  0.69087017 0.22069418]\n",
      "  [0.61336195 0.9588975  0.3314948 ]\n",
      "  ...\n",
      "  [0.21534526 0.8758553  0.90849984]\n",
      "  [0.913136   0.3300879  0.21957576]\n",
      "  [0.294909   0.51060224 0.41247094]]\n",
      "\n",
      " [[0.24516141 0.0526433  0.8009639 ]\n",
      "  [0.39559937 0.91123044 0.66148484]\n",
      "  [0.62018025 0.13185847 0.2584139 ]\n",
      "  ...\n",
      "  [0.69155025 0.35061288 0.7918345 ]\n",
      "  [0.71887565 0.13187587 0.6776898 ]\n",
      "  [0.91522217 0.72013485 0.5736792 ]]\n",
      "\n",
      " [[0.32997262 0.01919758 0.7673421 ]\n",
      "  [0.37867343 0.09564745 0.07906318]\n",
      "  [0.7100911  0.934427   0.5622425 ]\n",
      "  ...\n",
      "  [0.8063401  0.53997624 0.9590297 ]\n",
      "  [0.7728716  0.5758432  0.53311133]\n",
      "  [0.00398016 0.15231979 0.6468185 ]]\n",
      "\n",
      " ...\n",
      "\n",
      " [[0.3400538  0.40921474 0.04457414]\n",
      "  [0.8624321  0.9367907  0.839291  ]\n",
      "  [0.21796441 0.61002827 0.20527577]\n",
      "  ...\n",
      "  [0.48761916 0.46545267 0.9492396 ]\n",
      "  [0.60848117 0.4233297  0.92878056]\n",
      "  [0.5943769  0.86359346 0.43811893]]\n",
      "\n",
      " [[0.6843432  0.13533545 0.83167446]\n",
      "  [0.21111202 0.33052886 0.7118019 ]\n",
      "  [0.66532993 0.40470684 0.20319033]\n",
      "  ...\n",
      "  [0.07761109 0.96958005 0.61649036]\n",
      "  [0.8853055  0.2956084  0.08331525]\n",
      "  [0.5259522  0.40515542 0.6414683 ]]\n",
      "\n",
      " [[0.34870815 0.7481811  0.77736974]\n",
      "  [0.62542915 0.9978602  0.00938201]\n",
      "  [0.4835496  0.96025705 0.02535343]\n",
      "  ...\n",
      "  [0.8244965  0.39622104 0.8123003 ]\n",
      "  [0.44511092 0.6529583  0.57683337]\n",
      "  [0.15109932 0.23112547 0.38747323]]], shape=(224, 224, 3), dtype=float32)\n"
     ]
    }
   ],
   "source": [
    "print('')\n",
    "print('#6: random tensor with shape')\n",
    "testSix = tf.random.uniform(shape=[224, 224, 3], minval=0, maxval=1)\n",
    "print(testSix)"
   ]
  },
  {
   "cell_type": "code",
   "execution_count": 218,
   "metadata": {},
   "outputs": [
    {
     "name": "stdout",
     "output_type": "stream",
     "text": [
      "\n",
      "#7: min & max of that tensor\n",
      "min: 4.172325134277344e-06\n",
      "max: 0.9999963045120239\n"
     ]
    }
   ],
   "source": [
    "print('')\n",
    "print('#7: min & max of that tensor')\n",
    "print(f'min: {tf.reduce_min(testSix)}')\n",
    "print(f'max: {tf.reduce_max(testSix)}')"
   ]
  },
  {
   "cell_type": "code",
   "execution_count": 221,
   "metadata": {},
   "outputs": [
    {
     "name": "stdout",
     "output_type": "stream",
     "text": [
      "\n",
      "#8: random tensor & squeeze\n",
      "testEight shape:(1, 224, 224, 3)\n",
      "testEight SQUEEZED:(224, 224, 3)\n"
     ]
    }
   ],
   "source": [
    "print('')\n",
    "print('#8: random tensor & squeeze')\n",
    "testEight = tf.random.uniform(shape=[1, 224, 224, 3])\n",
    "print(f'testEight shape:{testEight.shape}')\n",
    "print(f'testEight SQUEEZED:{tf.squeeze(testEight).shape}')"
   ]
  },
  {
   "cell_type": "code",
   "execution_count": 226,
   "metadata": {},
   "outputs": [
    {
     "name": "stdout",
     "output_type": "stream",
     "text": [
      "\n",
      "#9: create with shape and custom vals\n",
      "tf.Tensor([ 1  2  3  4  5  6  7  8  9 10], shape=(10,), dtype=int32)\n"
     ]
    }
   ],
   "source": [
    "print('')\n",
    "print('#9: create with shape and custom vals')\n",
    "my_values = [1, 2, 3, 4, 5, 6, 7, 8, 9, 10]  # Replace these values with your own\n",
    "testNine = tf.constant(my_values, shape=[10])\n",
    "print(testNine)"
   ]
  },
  {
   "cell_type": "code",
   "execution_count": 227,
   "metadata": {},
   "outputs": [
    {
     "name": "stdout",
     "output_type": "stream",
     "text": [
      "\n",
      "#10: one-hot-encode #9\n",
      "tf.Tensor(\n",
      "[[0. 1. 0. 0. 0. 0. 0. 0. 0. 0.]\n",
      " [0. 0. 1. 0. 0. 0. 0. 0. 0. 0.]\n",
      " [0. 0. 0. 1. 0. 0. 0. 0. 0. 0.]\n",
      " [0. 0. 0. 0. 1. 0. 0. 0. 0. 0.]\n",
      " [0. 0. 0. 0. 0. 1. 0. 0. 0. 0.]\n",
      " [0. 0. 0. 0. 0. 0. 1. 0. 0. 0.]\n",
      " [0. 0. 0. 0. 0. 0. 0. 1. 0. 0.]\n",
      " [0. 0. 0. 0. 0. 0. 0. 0. 1. 0.]\n",
      " [0. 0. 0. 0. 0. 0. 0. 0. 0. 1.]\n",
      " [0. 0. 0. 0. 0. 0. 0. 0. 0. 0.]], shape=(10, 10), dtype=float32)\n"
     ]
    }
   ],
   "source": [
    "print('')\n",
    "print('#10: one-hot-encode #9')\n",
    "print(tf.one_hot(testNine, depth=len(testNine)))"
   ]
  },
  {
   "cell_type": "code",
   "execution_count": null,
   "metadata": {},
   "outputs": [],
   "source": []
  }
 ],
 "metadata": {
  "accelerator": "GPU",
  "colab": {
   "authorship_tag": "ABX9TyPtjTIh2BnxrHodM1T0I1I2",
   "collapsed_sections": [
    "fzjcZ4FHCOb5"
   ],
   "include_colab_link": true,
   "provenance": []
  },
  "gpuClass": "premium",
  "kernelspec": {
   "display_name": "Python 3 (ipykernel)",
   "language": "python",
   "name": "python3"
  },
  "language_info": {
   "codemirror_mode": {
    "name": "ipython",
    "version": 3
   },
   "file_extension": ".py",
   "mimetype": "text/x-python",
   "name": "python",
   "nbconvert_exporter": "python",
   "pygments_lexer": "ipython3",
   "version": "3.8.1"
  }
 },
 "nbformat": 4,
 "nbformat_minor": 4
}
