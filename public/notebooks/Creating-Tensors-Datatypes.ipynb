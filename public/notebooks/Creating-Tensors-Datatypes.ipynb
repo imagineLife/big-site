{
 "cells": [
  {
   "cell_type": "markdown",
   "id": "64f2657b-bef9-458a-9bc2-7af2da5a34a0",
   "metadata": {},
   "source": [
    "# Creating Tensors: Setting DataTypes"
   ]
  },
  {
   "cell_type": "code",
   "execution_count": 1,
   "id": "136f2639-7c69-4879-a90e-1be6b7c132ae",
   "metadata": {},
   "outputs": [],
   "source": [
    "import tensorflow as tf"
   ]
  },
  {
   "cell_type": "code",
   "execution_count": 2,
   "id": "b551a3c1-d139-4226-81c4-072d15766753",
   "metadata": {},
   "outputs": [
    {
     "data": {
      "text/plain": [
       "tf.float32"
      ]
     },
     "execution_count": 2,
     "metadata": {},
     "output_type": "execute_result"
    }
   ],
   "source": [
    "floatArr = [1.7, 7.4]\n",
    "tensorFloat = tf.constant(floatArr)\n",
    "tensorFloat.dtype"
   ]
  },
  {
   "cell_type": "code",
   "execution_count": 4,
   "id": "20177f0e-4499-4643-ad8b-717556353a91",
   "metadata": {},
   "outputs": [
    {
     "data": {
      "text/plain": [
       "tf.float16"
      ]
     },
     "execution_count": 4,
     "metadata": {},
     "output_type": "execute_result"
    }
   ],
   "source": [
    "# \n",
    "# using tf.cast\n",
    "# \n",
    "castedAs16 = tf.cast(tensorFloat, dtype=tf.float16)\n",
    "castedAs16.dtype"
   ]
  },
  {
   "cell_type": "code",
   "execution_count": null,
   "id": "d43922c4-1ddc-4052-a88e-75615f34829f",
   "metadata": {},
   "outputs": [],
   "source": []
  }
 ],
 "metadata": {
  "kernelspec": {
   "display_name": "Python 3 (ipykernel)",
   "language": "python",
   "name": "python3"
  },
  "language_info": {
   "codemirror_mode": {
    "name": "ipython",
    "version": 3
   },
   "file_extension": ".py",
   "mimetype": "text/x-python",
   "name": "python",
   "nbconvert_exporter": "python",
   "pygments_lexer": "ipython3",
   "version": "3.11.6"
  }
 },
 "nbformat": 4,
 "nbformat_minor": 5
}
