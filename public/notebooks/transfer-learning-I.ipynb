{
 "cells": [
  {
   "cell_type": "markdown",
   "id": "b576787b-f9ea-48eb-9069-0588ebb74776",
   "metadata": {
    "editable": true,
    "slideshow": {
     "slide_type": ""
    },
    "tags": []
   },
   "source": [
    "# Transfer Learning with Tensorflow\n",
    "## Notebook Goals\n",
    "- Describe Transfer Learning & Feature-Extraction transfer learning a bit\n",
    "- Build & analyze the loss & accuracy of a Transfer-Learning Feature-Extraction Model\n",
    "- Use the TensorBoard callback to log & visualize model performance\n",
    "- Have a few resources to leverage while transfer learning: transfer-learning links & tensorboard reference"
   ]
  },
  {
   "cell_type": "markdown",
   "id": "5c6b00a2-6ed5-410b-96aa-ca50489c7921",
   "metadata": {},
   "source": [
    "## Transfer Learning\n",
    "Transfer learning is taking pre-trained models and using them.  \n",
    "Transfer learning allows for using \"battle-tested\" models, without re-invinting the wheel.  \n",
    "\n",
    "### Feature Extraction\n",
    "When a pretrained model is used, and _custom data gets used & applied to the model_.  \n",
    "The \"underlying patterns\" (_weights_) of the pretrained model get adjusted based on the new data that _you/me use from our dataset(s)_.  \n",
    "The final/last/top layers are the layers that get over-written in feature extraction transfer learning: if the original model is trained on 100 classes but you & i only need 12 based on our use-case, feature extraction allows us to use the majority of the model (layers & weights) and update the output layer to match our needs.  \n",
    "\n",
    "### Fine-Tuning\n",
    "Fine-tuning transfer learning takes the \"underlying patterns\" (_weights_) and adjust those. Fine-tuning is a more intense over-writing of the original model than feature extraction.  \n",
    "\n",
    "\n",
    "### Transfer learning \"steps\"\n",
    "- check out [pre-trained models on kaggle](https://www.kaggle.com/models?tfhub-redirect=true)\n",
    "- filter the models by the problem domain in-scope: images, etc.\n",
    "- _consider / select a tensorflow model_ for this case\n",
    "\n",
    "### Transfer Learning Resources\n",
    "[There are a bunch of pre-biult models](https://www.kaggle.com/models?tfhub-redirect=true) available online, built just for tesnorflow. 2 examples:\n",
    "- [ResNetV2](https://arxiv.org/abs/1603.05027)\n",
    "- [EfficientNet](https://arxiv.org/abs/1905.11946) (also a google blog post about it [here](https://research.google/blog/efficientnet-improving-accuracy-and-efficiency-through-automl-and-model-scaling/))\n",
    "- [tensorflow docs on transfer learning](https://www.tensorflow.org/tutorials/images/transfer_learning)\n",
    "\n",
    "\n",
    "[More models](https://paperswithcode.com/)  \n",
    "\n",
    "\n",
    "\n",
    "## Imports"
   ]
  },
  {
   "cell_type": "code",
   "execution_count": 25,
   "id": "914eb35b-3f5c-4968-8c49-463e2bc8e6d9",
   "metadata": {},
   "outputs": [
    {
     "name": "stdout",
     "output_type": "stream",
     "text": [
      "Notebook last run (end-to-end): 2024-06-24 01:19:29.311954\n",
      "NOT importing tf_keras\n"
     ]
    }
   ],
   "source": [
    "# \n",
    "# NOTE: tensorflow version 2.15 required:\n",
    "# \n",
    "# dockerfile\n",
    "# \n",
    "# FROM quay.io/jupyter/tensorflow-notebook\n",
    "# RUN pip uninstall -y tensorflow tf-keras\n",
    "# RUN pip install tensorflow==2.15 tensorflow_hub\n",
    "# \n",
    "\n",
    "import datetime\n",
    "import zipfile\n",
    "import os\n",
    "from tensorflow.keras.preprocessing.image import ImageDataGenerator\n",
    "import tensorflow as tf\n",
    "import tensorflow_hub as hub\n",
    "from tensorflow.keras import layers\n",
    "import matplotlib.pyplot as plt\n",
    "print(f\"Notebook last run (end-to-end): {datetime.datetime.now()}\")\n",
    "\n",
    "# Use Keras 2.\n",
    "version_fn = getattr(tf.keras, \"version\", None)\n",
    "if version_fn and version_fn().startswith(\"3.\"):\n",
    "  print('importing tf_keras')\n",
    "  import tf_keras as keras\n",
    "else:\n",
    "  print('NOT importing tf_keras')\n",
    "  keras = tf.keras"
   ]
  },
  {
   "cell_type": "code",
   "execution_count": 6,
   "id": "b913641c-535c-480b-8f78-76665c678627",
   "metadata": {},
   "outputs": [
    {
     "data": {
      "text/plain": [
       "[PhysicalDevice(name='/physical_device:CPU:0', device_type='CPU')]"
      ]
     },
     "execution_count": 6,
     "metadata": {},
     "output_type": "execute_result"
    }
   ],
   "source": [
    "tf.config.list_physical_devices()"
   ]
  },
  {
   "cell_type": "code",
   "execution_count": 7,
   "id": "75e4e042-943b-418e-b5aa-cf88aae2cc23",
   "metadata": {},
   "outputs": [
    {
     "data": {
      "text/plain": [
       "'0.16.1'"
      ]
     },
     "execution_count": 7,
     "metadata": {},
     "output_type": "execute_result"
    }
   ],
   "source": [
    "hub.__version__"
   ]
  },
  {
   "cell_type": "markdown",
   "id": "5ab342ea-8066-479f-b97b-778838c31943",
   "metadata": {},
   "source": [
    "## Get Data\n",
    "Based on the food101 dataset, here grapping 10% of the data"
   ]
  },
  {
   "cell_type": "code",
   "execution_count": 8,
   "id": "f04b5c64-4504-4c73-b662-a84076977134",
   "metadata": {},
   "outputs": [
    {
     "name": "stdout",
     "output_type": "stream",
     "text": [
      "--2024-06-23 22:47:06--  https://storage.googleapis.com/ztm_tf_course/food_vision/10_food_classes_10_percent.zip\n",
      "Resolving storage.googleapis.com (storage.googleapis.com)... 142.250.65.219, 142.251.32.123, 142.251.35.187, ...\n",
      "Connecting to storage.googleapis.com (storage.googleapis.com)|142.250.65.219|:443... connected.\n",
      "HTTP request sent, awaiting response... 200 OK\n",
      "Length: 168546183 (161M) [application/zip]\n",
      "Saving to: ‘10_food_classes_10_percent.zip.2’\n",
      "\n",
      "10_food_classes_10_ 100%[===================>] 160.74M  18.0MB/s    in 9.3s    \n",
      "\n",
      "2024-06-23 22:47:16 (17.2 MB/s) - ‘10_food_classes_10_percent.zip.2’ saved [168546183/168546183]\n",
      "\n"
     ]
    }
   ],
   "source": [
    "# Get data (10% of labels)\n",
    "import zipfile\n",
    "\n",
    "# Download data\n",
    "!wget https://storage.googleapis.com/ztm_tf_course/food_vision/10_food_classes_10_percent.zip\n",
    "\n",
    "# Unzip the downloaded file\n",
    "zip_ref = zipfile.ZipFile(\"10_food_classes_10_percent.zip\", \"r\")\n",
    "zip_ref.extractall()\n",
    "zip_ref.close()"
   ]
  },
  {
   "cell_type": "markdown",
   "id": "6e9feabd-2ce8-4720-af34-cafede12fe3b",
   "metadata": {},
   "source": [
    "### Inspect Downloaded data"
   ]
  },
  {
   "cell_type": "code",
   "execution_count": 9,
   "id": "b85b8b18-9742-484f-b4b0-59394e4b390a",
   "metadata": {},
   "outputs": [
    {
     "name": "stdout",
     "output_type": "stream",
     "text": [
      "There are 2 directories and 0 images in '10_food_classes_10_percent'.\n",
      "There are 10 directories and 0 images in '10_food_classes_10_percent/test'.\n",
      "There are 0 directories and 250 images in '10_food_classes_10_percent/test/ice_cream'.\n",
      "There are 0 directories and 250 images in '10_food_classes_10_percent/test/chicken_curry'.\n",
      "There are 0 directories and 250 images in '10_food_classes_10_percent/test/steak'.\n",
      "There are 0 directories and 250 images in '10_food_classes_10_percent/test/sushi'.\n",
      "There are 0 directories and 250 images in '10_food_classes_10_percent/test/chicken_wings'.\n",
      "There are 0 directories and 250 images in '10_food_classes_10_percent/test/grilled_salmon'.\n",
      "There are 0 directories and 250 images in '10_food_classes_10_percent/test/hamburger'.\n",
      "There are 0 directories and 250 images in '10_food_classes_10_percent/test/pizza'.\n",
      "There are 0 directories and 250 images in '10_food_classes_10_percent/test/ramen'.\n",
      "There are 0 directories and 250 images in '10_food_classes_10_percent/test/fried_rice'.\n",
      "There are 10 directories and 0 images in '10_food_classes_10_percent/train'.\n",
      "There are 0 directories and 75 images in '10_food_classes_10_percent/train/ice_cream'.\n",
      "There are 0 directories and 75 images in '10_food_classes_10_percent/train/chicken_curry'.\n",
      "There are 0 directories and 75 images in '10_food_classes_10_percent/train/steak'.\n",
      "There are 0 directories and 75 images in '10_food_classes_10_percent/train/sushi'.\n",
      "There are 0 directories and 75 images in '10_food_classes_10_percent/train/chicken_wings'.\n",
      "There are 0 directories and 75 images in '10_food_classes_10_percent/train/grilled_salmon'.\n",
      "There are 0 directories and 75 images in '10_food_classes_10_percent/train/hamburger'.\n",
      "There are 0 directories and 75 images in '10_food_classes_10_percent/train/pizza'.\n",
      "There are 0 directories and 75 images in '10_food_classes_10_percent/train/ramen'.\n",
      "There are 0 directories and 75 images in '10_food_classes_10_percent/train/fried_rice'.\n"
     ]
    }
   ],
   "source": [
    "for dirpath, dirnames, filenames in os.walk(\"10_food_classes_10_percent\"):\n",
    "  print(f\"There are {len(dirnames)} directories and {len(filenames)} images in '{dirpath}'.\")"
   ]
  },
  {
   "cell_type": "markdown",
   "id": "4f4c6924-c292-4048-b69a-012654e10a2f",
   "metadata": {},
   "source": [
    "### Create Image-Loaders"
   ]
  },
  {
   "cell_type": "code",
   "execution_count": 10,
   "id": "517c6441-ea52-4b69-8df3-b6f4400c33ec",
   "metadata": {},
   "outputs": [
    {
     "name": "stdout",
     "output_type": "stream",
     "text": [
      "Training images:\n",
      "Found 750 images belonging to 10 classes.\n",
      "Testing images:\n",
      "Found 2500 images belonging to 10 classes.\n"
     ]
    }
   ],
   "source": [
    "# \n",
    "# Variables\n",
    "# \n",
    "IMG_OUTPUT_SHAPE = (224, 224)\n",
    "BATCH_SIZE = 32\n",
    "MODEL_CLASS_MODE = 'categorical'\n",
    "data_dir_path = \"10_food_classes_10_percent/\"\n",
    "train_dir_path = data_dir_path + \"train/\"\n",
    "test_dir_path = data_dir_path + \"test/\"\n",
    "\n",
    "train_datagenerator = ImageDataGenerator(rescale=1/255.)\n",
    "test_datagenerator = ImageDataGenerator(rescale=1/255.)\n",
    "\n",
    "print(\"Training images:\")\n",
    "train_data_10_percent = train_datagenerator.flow_from_directory(train_dir_path,\n",
    "                                               target_size=IMG_OUTPUT_SHAPE,\n",
    "                                               batch_size=BATCH_SIZE,\n",
    "                                               class_mode=MODEL_CLASS_MODE)\n",
    "\n",
    "print(\"Testing images:\")\n",
    "test_data = test_datagenerator.flow_from_directory(test_dir_path,\n",
    "                                              target_size=IMG_OUTPUT_SHAPE,\n",
    "                                              batch_size=BATCH_SIZE,\n",
    "                                              class_mode=MODEL_CLASS_MODE)"
   ]
  },
  {
   "cell_type": "code",
   "execution_count": 11,
   "id": "80b179cf-ee17-4daa-a426-b22bb04b8782",
   "metadata": {},
   "outputs": [
    {
     "name": "stdout",
     "output_type": "stream",
     "text": [
      "How many classes in training data: 10\n"
     ]
    }
   ],
   "source": [
    "print(f'How many classes in training data: {train_data_10_percent.num_classes}')"
   ]
  },
  {
   "cell_type": "markdown",
   "id": "9d37fa40-a7f2-425d-84fd-b8ab774b1529",
   "metadata": {},
   "source": [
    "## Setup Model Callbacks\n",
    "Tensorflow models use callbacks to interact with the training, during and/or after.  \n",
    "[Callbacks can be passed to keras methods such as fit(), evaluate(), and predict() in order to hook into the various stages of the model training, evaluation, and inference lifecycle.](https://www.tensorflow.org/api_docs/python/tf/keras/callbacks/Callback)\n",
    "\n",
    "Callback examples:\n",
    "- [ModelCheckpoint](https://www.tensorflow.org/api_docs/python/tf/keras/callbacks/ModelCheckpoint): \"_Callback to save the Keras model or model weights at some frequency._\"\n",
    "- [LearningRateScheduler](https://www.tensorflow.org/api_docs/python/tf/keras/callbacks/LearningRateScheduler): \"_...Learning rate scheduler._\"\n",
    "- [CSVLogger](https://www.tensorflow.org/api_docs/python/tf/keras/callbacks/CSVLogger): stream epoch results to a csv file (very interesting!)\n",
    "- [TensorBoard](https://www.tensorflow.org/api_docs/python/tf/keras/callbacks/TensorBoard): enable visualisation for [TensorBoard](https://www.tensorflow.org/tensorboard)\n",
    "\n",
    "Here, a callback set up for tensorboard logging"
   ]
  },
  {
   "cell_type": "code",
   "execution_count": 12,
   "id": "d7e38f84-6d3e-4ea5-b92e-6ee36b22dca8",
   "metadata": {},
   "outputs": [],
   "source": [
    "def create_tensorboard_callback(dir_name, experiment_name):\n",
    "  log_dir = dir_name + \"/\" + experiment_name + \"/\" + datetime.datetime.now().strftime(\"%Y%m%d-%H%M%S\")\n",
    "  tensorboard_callback = tf.keras.callbacks.TensorBoard(\n",
    "      log_dir=log_dir\n",
    "  )\n",
    "  print(f\"Saving TensorBoard log files to: {log_dir}\")\n",
    "  return tensorboard_callback"
   ]
  },
  {
   "cell_type": "markdown",
   "id": "b21135ed-8a60-4cf8-b46d-f0c6ea86991c",
   "metadata": {},
   "source": [
    "## Use A Pre-built Model\n",
    "Here, we'll play around with two models: resNet and efficientNet."
   ]
  },
  {
   "cell_type": "code",
   "execution_count": 13,
   "id": "522fc220-2672-461b-a294-5857373483eb",
   "metadata": {},
   "outputs": [],
   "source": [
    "# Resnet 50 V2 feature vector\n",
    "resnet_url = \"https://tfhub.dev/google/imagenet/resnet_v2_50/feature_vector/4\"\n",
    "\n",
    "# Original: EfficientNetB0 feature vector (version 1)\n",
    "efficientnet_url = \"https://tfhub.dev/tensorflow/efficientnet/b0/feature-vector/1\"\n",
    "\n",
    "# # UPDATED EfficientNetB0 feature vector (version 2)\n",
    "# efficientnet_url = \"https://tfhub.dev/google/imagenet/efficientnet_v2_imagenet1k_b0/feature_vector/2\""
   ]
  },
  {
   "cell_type": "markdown",
   "id": "bb632df4-e7c6-44c0-9bc2-7e929e3d0d7a",
   "metadata": {},
   "source": [
    "### A model-creator function\n",
    "Take a url & the number of classes/labels, and return a model that is built on the model-from-url."
   ]
  },
  {
   "cell_type": "code",
   "execution_count": 14,
   "id": "95720b96-b3c4-48bf-b57e-62c8e897e0e7",
   "metadata": {},
   "outputs": [],
   "source": [
    "def makeModel(model_url, num_classes=10):\n",
    "  \"\"\"Takes a TensorFlow Hub URL and creates a Keras Sequential model with it.\n",
    "  \n",
    "  Args:\n",
    "    model_url (str): A TensorFlow Hub feature extraction URL.\n",
    "    num_classes (int): Number of output neurons in output layer,\n",
    "      should be equal to number of target classes, default 10.\n",
    "\n",
    "  Returns:\n",
    "    An uncompiled Keras Sequential model with model_url as feature\n",
    "    extractor layer and Dense output layer with num_classes outputs.\n",
    "  \"\"\"\n",
    "  # Download the pretrained model and save it as a Keras layer\n",
    "  feature_extractor_layer = hub.KerasLayer(model_url,\n",
    "                                           trainable=False, # freeze the underlying patterns\n",
    "                                           name='feature_extraction_layer',\n",
    "                                           input_shape=IMG_OUTPUT_SHAPE+(3,)) # define the input image shape\n",
    "  \n",
    "  # Create our own model\n",
    "  model = tf.keras.Sequential([\n",
    "    feature_extractor_layer, # use the feature extraction layer as the base\n",
    "    layers.Dense(num_classes, activation='softmax', name='output_layer') # create our own output layer      \n",
    "  ])\n",
    "\n",
    "  return model"
   ]
  },
  {
   "cell_type": "markdown",
   "id": "3a63a78f-3537-40f2-945d-614fcc873d3a",
   "metadata": {},
   "source": [
    "### Create The ResNet Transfer-Learning Ready Model"
   ]
  },
  {
   "cell_type": "code",
   "execution_count": 15,
   "id": "440ea4a6-8e80-40f6-b4d8-6073ba1f52f0",
   "metadata": {},
   "outputs": [],
   "source": [
    "# \n",
    "# Create model\n",
    "# \n",
    "resnet_model = makeModel(resnet_url, num_classes=train_data_10_percent.num_classes)\n",
    "\n",
    "# \n",
    "# Compile\n",
    "# \n",
    "resnet_model.compile(loss='categorical_crossentropy',\n",
    "                     optimizer=tf.keras.optimizers.Adam(),\n",
    "                     metrics=['accuracy'])\n"
   ]
  },
  {
   "cell_type": "code",
   "execution_count": 16,
   "id": "8eb4bf34-8fd0-4b93-ad36-11afe8c71907",
   "metadata": {},
   "outputs": [
    {
     "name": "stdout",
     "output_type": "stream",
     "text": [
      "Saving TensorBoard log files to: tensorflow_hub/resnet50V2/20240624-003501\n",
      "Epoch 1/5\n",
      "24/24 [==============================] - 272s 11s/step - loss: 1.9294 - accuracy: 0.3507 - val_loss: 1.2410 - val_accuracy: 0.6024\n",
      "Epoch 2/5\n",
      "24/24 [==============================] - 252s 11s/step - loss: 0.9165 - accuracy: 0.7160 - val_loss: 0.8899 - val_accuracy: 0.7080\n",
      "Epoch 3/5\n",
      "24/24 [==============================] - 245s 10s/step - loss: 0.6290 - accuracy: 0.8253 - val_loss: 0.7699 - val_accuracy: 0.7452\n",
      "Epoch 4/5\n",
      "24/24 [==============================] - 243s 10s/step - loss: 0.4788 - accuracy: 0.8853 - val_loss: 0.7059 - val_accuracy: 0.7684\n",
      "Epoch 5/5\n",
      "24/24 [==============================] - 261s 11s/step - loss: 0.3851 - accuracy: 0.9133 - val_loss: 0.6781 - val_accuracy: 0.7784\n"
     ]
    }
   ],
   "source": [
    "# \n",
    "# Fit\n",
    "# \n",
    "resnet_history = resnet_model.fit(train_data_10_percent,\n",
    "                                  epochs=5,\n",
    "                                  steps_per_epoch=len(train_data_10_percent),\n",
    "                                  validation_data=test_data,\n",
    "                                  validation_steps=len(test_data),\n",
    "                                  # Add TensorBoard callback to model (callbacks parameter takes a list)\n",
    "                                  callbacks=[create_tensorboard_callback(dir_name=\"tensorflow_hub\", # save experiment logs here\n",
    "                                                                         experiment_name=\"resnet50V2\")]) # name of log files"
   ]
  },
  {
   "cell_type": "markdown",
   "id": "d54ba2ec-5c0e-4e3a-9e46-32ebbcb7e71f",
   "metadata": {},
   "source": [
    "### Inspect Model\n",
    "#### Summary"
   ]
  },
  {
   "cell_type": "code",
   "execution_count": 20,
   "id": "0f4a68b0-9a8e-4968-9b6a-ff4df9201fb9",
   "metadata": {},
   "outputs": [
    {
     "name": "stdout",
     "output_type": "stream",
     "text": [
      "Model: \"sequential\"\n",
      "_________________________________________________________________\n",
      " Layer (type)                Output Shape              Param #   \n",
      "=================================================================\n",
      " feature_extraction_layer (  (None, 2048)              23564800  \n",
      " KerasLayer)                                                     \n",
      "                                                                 \n",
      " output_layer (Dense)        (None, 10)                20490     \n",
      "                                                                 \n",
      "=================================================================\n",
      "Total params: 23585290 (89.97 MB)\n",
      "Trainable params: 20490 (80.04 KB)\n",
      "Non-trainable params: 23564800 (89.89 MB)\n",
      "_________________________________________________________________\n"
     ]
    }
   ],
   "source": [
    "resnet_model.summary()"
   ]
  },
  {
   "cell_type": "markdown",
   "id": "d1990f55-7b10-4887-acb8-f378c6c2bab0",
   "metadata": {},
   "source": [
    "#### Viz Loss & Accuracy Curves"
   ]
  },
  {
   "cell_type": "code",
   "execution_count": 23,
   "id": "61e4233e-1a35-4aba-a289-2484c70b369c",
   "metadata": {},
   "outputs": [],
   "source": [
    "def plot_loss_curves(history):\n",
    "  chartW = 12\n",
    "  chartH = 3\n",
    "  \"\"\"\n",
    "  Returns separate loss curves for training and validation metrics.\n",
    "  \"\"\" \n",
    "  loss = history.history['loss']\n",
    "  val_loss = history.history['val_loss']\n",
    "\n",
    "  accuracy = history.history['accuracy']\n",
    "  val_accuracy = history.history['val_accuracy']\n",
    "\n",
    "  epochs = range(len(history.history['loss']))\n",
    "\n",
    "  plt.figure(figsize=(chartW, chartH))\n",
    "    \n",
    "  plt.subplot(1, 2, 1)\n",
    "  # Plot loss\n",
    "  plt.plot(epochs, loss, label='training_loss')\n",
    "  plt.plot(epochs, val_loss, label='val_loss')\n",
    "  plt.title('Loss')\n",
    "  plt.xlabel('Epochs')\n",
    "  plt.legend()\n",
    "\n",
    "  # Plot accuracy\n",
    "  plt.subplot(1, 2, 2)\n",
    "  plt.plot(epochs, accuracy, label='training_accuracy')\n",
    "  plt.plot(epochs, val_accuracy, label='val_accuracy')\n",
    "  plt.title('Accuracy')\n",
    "  plt.xlabel('Epochs')\n",
    "  plt.legend();"
   ]
  },
  {
   "cell_type": "code",
   "execution_count": 24,
   "id": "407269d6-a095-479a-b93e-228c8166b119",
   "metadata": {},
   "outputs": [
    {
     "data": {
      "image/png": "[encoded data removed]",
      "text/plain": [
       "<Figure size 1200x300 with 2 Axes>"
      ]
     },
     "metadata": {},
     "output_type": "display_data"
    }
   ],
   "source": [
    "plot_loss_curves(resnet_history)"
   ]
  },
  {
   "cell_type": "markdown",
   "id": "ec16b61d-a129-46ad-8564-4fb213308658",
   "metadata": {},
   "source": [
    "- the Loss curves MIGHT be indicating that the model is learning the training data better than the testing data: could be overfitting"
   ]
  },
  {
   "cell_type": "markdown",
   "id": "bda09635-ae25-4002-92e0-09e993388737",
   "metadata": {},
   "source": [
    "## Use Pre-Built Model II: EfficientNet"
   ]
  },
  {
   "cell_type": "code",
   "execution_count": 27,
   "id": "45da341d-cea1-4d15-b5ba-fd426b921f4c",
   "metadata": {},
   "outputs": [
    {
     "name": "stdout",
     "output_type": "stream",
     "text": [
      "Saving TensorBoard log files to: tensorflow_hub/efficientnetB0/20240624-012054\n",
      "Epoch 1/5\n",
      "24/24 [==============================] - 118s 5s/step - loss: 1.8676 - accuracy: 0.4093 - val_loss: 1.3087 - val_accuracy: 0.7360\n",
      "Epoch 2/5\n",
      "24/24 [==============================] - 113s 5s/step - loss: 1.0618 - accuracy: 0.7760 - val_loss: 0.8681 - val_accuracy: 0.8220\n",
      "Epoch 3/5\n",
      "24/24 [==============================] - 87s 4s/step - loss: 0.7542 - accuracy: 0.8533 - val_loss: 0.6967 - val_accuracy: 0.8460\n",
      "Epoch 4/5\n",
      "24/24 [==============================] - 95s 4s/step - loss: 0.6004 - accuracy: 0.8760 - val_loss: 0.6084 - val_accuracy: 0.8604\n",
      "Epoch 5/5\n",
      "24/24 [==============================] - 89s 4s/step - loss: 0.5079 - accuracy: 0.8960 - val_loss: 0.5533 - val_accuracy: 0.8656\n"
     ]
    }
   ],
   "source": [
    "# Create model\n",
    "efficientnet_model = makeModel(model_url=efficientnet_url, # use EfficientNetB0 TensorFlow Hub URL\n",
    "                                  num_classes=train_data_10_percent.num_classes)\n",
    "\n",
    "# Compile EfficientNet model\n",
    "efficientnet_model.compile(loss='categorical_crossentropy',\n",
    "                           optimizer=tf.keras.optimizers.Adam(),\n",
    "                           metrics=['accuracy'])\n",
    "\n",
    "# Fit EfficientNet model \n",
    "efficientnet_history = efficientnet_model.fit(train_data_10_percent, # only use 10% of training data\n",
    "                                              epochs=5, # train for 5 epochs\n",
    "                                              steps_per_epoch=len(train_data_10_percent),\n",
    "                                              validation_data=test_data,\n",
    "                                              validation_steps=len(test_data),\n",
    "                                              callbacks=[create_tensorboard_callback(dir_name=\"tensorflow_hub\", \n",
    "                                                                                     # Track logs under different experiment name\n",
    "                                                                                     experiment_name=\"efficientnetB0\")])"
   ]
  },
  {
   "cell_type": "markdown",
   "id": "ccb5f17f-7e29-4991-b421-3bb6fa030bc9",
   "metadata": {},
   "source": [
    "### Inspect the Model\n",
    "#### Summary"
   ]
  },
  {
   "cell_type": "code",
   "execution_count": 28,
   "id": "8fe589ce-33fc-4322-9fd7-8f189af2ac99",
   "metadata": {},
   "outputs": [
    {
     "name": "stdout",
     "output_type": "stream",
     "text": [
      "Model: \"sequential_1\"\n",
      "_________________________________________________________________\n",
      " Layer (type)                Output Shape              Param #   \n",
      "=================================================================\n",
      " feature_extraction_layer (  (None, 1280)              4049564   \n",
      " KerasLayer)                                                     \n",
      "                                                                 \n",
      " output_layer (Dense)        (None, 10)                12810     \n",
      "                                                                 \n",
      "=================================================================\n",
      "Total params: 4062374 (15.50 MB)\n",
      "Trainable params: 12810 (50.04 KB)\n",
      "Non-trainable params: 4049564 (15.45 MB)\n",
      "_________________________________________________________________\n"
     ]
    }
   ],
   "source": [
    "efficientnet_model.summary()"
   ]
  },
  {
   "cell_type": "markdown",
   "id": "43b873ef-e041-4305-bff3-d59e9c8478e7",
   "metadata": {},
   "source": [
    "#### Viz Loss & Accuracy Curves"
   ]
  },
  {
   "cell_type": "code",
   "execution_count": 29,
   "id": "002c60be-73f8-4b16-a1f7-90331cf1eb30",
   "metadata": {},
   "outputs": [
    {
     "data": {
      "image/png": "[encoded data removed]",
      "text/plain": [
       "<Figure size 1200x300 with 2 Axes>"
      ]
     },
     "metadata": {},
     "output_type": "display_data"
    }
   ],
   "source": [
    "plot_loss_curves(efficientnet_history)"
   ]
  },
  {
   "cell_type": "markdown",
   "id": "42b88de1-9046-4806-9522-b3960498c660",
   "metadata": {},
   "source": [
    "## View analysis in tensorboard\n",
    "Check out this notebook for ideas on getting tensorboard connected: [here](https://colab.research.google.com/github/tensorflow/tensorboard/blob/master/docs/tensorboard_in_notebooks.ipynb#scrollTo=ko9qeSQHLrEh)"
   ]
  }
 ],
 "metadata": {
  "kernelspec": {
   "display_name": "Python 3 (ipykernel)",
   "language": "python",
   "name": "python3"
  },
  "language_info": {
   "codemirror_mode": {
    "name": "ipython",
    "version": 3
   },
   "file_extension": ".py",
   "mimetype": "text/x-python",
   "name": "python",
   "nbconvert_exporter": "python",
   "pygments_lexer": "ipython3",
   "version": "3.11.7"
  }
 },
 "nbformat": 4,
 "nbformat_minor": 5
}
