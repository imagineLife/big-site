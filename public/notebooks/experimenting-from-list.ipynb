{
 "cells": [
  {
   "cell_type": "markdown",
   "id": "b9b61dcc-6d30-412f-8fb1-cad1529c12e1",
   "metadata": {},
   "source": [
    "# Model Experimentation from List of Dictionaries"
   ]
  },
  {
   "cell_type": "code",
   "execution_count": null,
   "id": "adf3c659-ee05-4dd8-98bd-337bf058ff8d",
   "metadata": {},
   "outputs": [],
   "source": [
    "# \n",
    "# WORKING ON looping through lsit of dicts to build models via params like this...\n",
    "# \n",
    "\n",
    "# modelArr = [\n",
    "#     {\n",
    "#         \"name\": 'm0',\n",
    "#         \"model\": None,\n",
    "#         \"history\": None,\n",
    "#         \"csvName\": \"10p_feature_extract\"\n",
    "#     }\n",
    "# ]\n",
    "\n",
    "# for i in modelArr:\n",
    "#     print(f'NAME {i[\"name\"]}')"
   ]
  }
 ],
 "metadata": {
  "kernelspec": {
   "display_name": "Python 3 (ipykernel)",
   "language": "python",
   "name": "python3"
  },
  "language_info": {
   "codemirror_mode": {
    "name": "ipython",
    "version": 3
   },
   "file_extension": ".py",
   "mimetype": "text/x-python",
   "name": "python",
   "nbconvert_exporter": "python",
   "pygments_lexer": "ipython3",
   "version": "3.11.7"
  }
 },
 "nbformat": 4,
 "nbformat_minor": 5
}
