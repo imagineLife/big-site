{
 "cells": [
  {
   "cell_type": "markdown",
   "id": "b98fa949-8d04-4b66-beee-417e5902e2cb",
   "metadata": {},
   "source": [
    "# Creating Tensors"
   ]
  },
  {
   "cell_type": "code",
   "execution_count": 27,
   "id": "93650c9b-6552-46e5-9a33-0684df1d1c6f",
   "metadata": {},
   "outputs": [
    {
     "name": "stdout",
     "output_type": "stream",
     "text": [
      "tensorflow version: 2.14.0\n"
     ]
    }
   ],
   "source": [
    "import tensorflow as tf\n",
    "print(f'tensorflow version: {tf.__version__}')"
   ]
  },
  {
   "cell_type": "markdown",
   "id": "93918cd8-e17a-4293-b181-e8b098f3a846",
   "metadata": {},
   "source": [
    "## A Constant: from scalar"
   ]
  },
  {
   "cell_type": "code",
   "execution_count": 28,
   "id": "398fe39e-28a5-4ea3-864c-59e9503af721",
   "metadata": {},
   "outputs": [
    {
     "name": "stdout",
     "output_type": "stream",
     "text": [
      "tf.Tensor(7, shape=(), dtype=int32)\n"
     ]
    },
    {
     "data": {
      "text/plain": [
       "0"
      ]
     },
     "execution_count": 28,
     "metadata": {},
     "output_type": "execute_result"
    }
   ],
   "source": [
    "# DOCS\n",
    "# https://www.tensorflow.org/api_docs/python/tf/constant\n",
    "\n",
    "myVal = 7\n",
    "firstTensor = tf.constant(myVal)\n",
    "print(firstTensor)\n",
    "\n",
    "# shows...\n",
    "# tf.Tensor(7, shape=(), dtype=int32)\n",
    "\n",
    "# show number of dimensions\n",
    "# returns 0\n",
    "firstTensor.ndim"
   ]
  },
  {
   "cell_type": "markdown",
   "id": "e6291303-58dc-4cbb-8d1e-f174b44104b0",
   "metadata": {},
   "source": [
    "## A Constant: from array"
   ]
  },
  {
   "cell_type": "code",
   "execution_count": 29,
   "id": "e89017fd-ccbf-4757-ac3a-5e23d9c59957",
   "metadata": {},
   "outputs": [
    {
     "data": {
      "text/plain": [
       "<tf.Tensor: shape=(2,), dtype=int32, numpy=array([10, 10], dtype=int32)>"
      ]
     },
     "execution_count": 29,
     "metadata": {},
     "output_type": "execute_result"
    }
   ],
   "source": [
    "firstArr = [10,10]\n",
    "arrTensor = tf.constant(firstArr)\n",
    "arrTensor\n",
    "# <tf.Tensor: shape=(2,), dtype=int32, numpy=array([10, 10], dtype=int32)>"
   ]
  },
  {
   "cell_type": "code",
   "execution_count": 30,
   "id": "0653c229-3bd3-4cf2-adde-8428a1e011b9",
   "metadata": {},
   "outputs": [
    {
     "data": {
      "text/plain": [
       "1"
      ]
     },
     "execution_count": 30,
     "metadata": {},
     "output_type": "execute_result"
    }
   ],
   "source": [
    "arrTensor.ndim"
   ]
  },
  {
   "cell_type": "markdown",
   "id": "e36c1d82-4c9d-4a49-937b-c0c9c991bd3c",
   "metadata": {},
   "source": [
    "## A Constant: from matrix"
   ]
  },
  {
   "cell_type": "code",
   "execution_count": 31,
   "id": "43b5c6a9-71ff-432a-abd2-1eac85379671",
   "metadata": {},
   "outputs": [
    {
     "data": {
      "text/plain": [
       "<tf.Tensor: shape=(2, 2), dtype=int32, numpy=\n",
       "array([[10,  7],\n",
       "       [ 7, 10]], dtype=int32)>"
      ]
     },
     "execution_count": 31,
     "metadata": {},
     "output_type": "execute_result"
    }
   ],
   "source": [
    "firstMatrix = [\n",
    "    [10,7],\n",
    "    [7,10]\n",
    "]\n",
    "matrixTensor = tf.constant(firstMatrix)\n",
    "matrixTensor\n",
    "# <tf.Tensor: shape=(2, 2), dtype=int32, numpy=\n",
    "# array([[10,  7],\n",
    "#        [ 7, 10]], dtype=int32)>"
   ]
  },
  {
   "cell_type": "code",
   "execution_count": 32,
   "id": "ffe70349-57b0-43df-8229-3afb26bc2729",
   "metadata": {},
   "outputs": [
    {
     "data": {
      "text/plain": [
       "2"
      ]
     },
     "execution_count": 32,
     "metadata": {},
     "output_type": "execute_result"
    }
   ],
   "source": [
    "matrixTensor.ndim"
   ]
  },
  {
   "cell_type": "markdown",
   "id": "c857328e-5046-4fd5-b264-509201394da9",
   "metadata": {},
   "source": [
    "## A Constant: from matrix of type-defined floats\n",
    "As seen above, the tensors created get a \"default\" datatype (dtype) of `int32`.  \n",
    "The datatype can be defined during tensor creation by setting a `dtype` parameter:"
   ]
  },
  {
   "cell_type": "code",
   "execution_count": 34,
   "id": "6b57827a-7fdb-4d9f-ae9f-92364ad1dbdf",
   "metadata": {},
   "outputs": [
    {
     "data": {
      "text/plain": [
       "<tf.Tensor: shape=(3, 2), dtype=float16, numpy=\n",
       "array([[10.,  7.],\n",
       "       [ 3.,  2.],\n",
       "       [ 8.,  9.]], dtype=float16)>"
      ]
     },
     "execution_count": 34,
     "metadata": {},
     "output_type": "execute_result"
    }
   ],
   "source": [
    "arrWithDots = [\n",
    "    [10., 7.],\n",
    "    [3., 2.],\n",
    "    [8., 9.]\n",
    "]\n",
    "\n",
    "arrDotTensor = tf.constant(arrWithDots,dtype=tf.float16)\n",
    "arrDotTensor"
   ]
  },
  {
   "cell_type": "code",
   "execution_count": 35,
   "id": "2321ba9e-39db-404c-89ef-4c2f68fc1f60",
   "metadata": {},
   "outputs": [
    {
     "data": {
      "text/plain": [
       "2"
      ]
     },
     "execution_count": 35,
     "metadata": {},
     "output_type": "execute_result"
    }
   ],
   "source": [
    "arrDotTensor.ndim"
   ]
  },
  {
   "cell_type": "markdown",
   "id": "313fcbef-64b1-4a88-9e1a-196e31106ced",
   "metadata": {},
   "source": [
    "## A Constant: from a more complex array"
   ]
  },
  {
   "cell_type": "code",
   "execution_count": 36,
   "id": "8c55ba06-1b2c-478d-b065-355ad125af11",
   "metadata": {},
   "outputs": [
    {
     "data": {
      "text/plain": [
       "<tf.Tensor: shape=(3, 2, 3), dtype=int32, numpy=\n",
       "array([[[ 1,  2,  3],\n",
       "        [ 4,  5,  6]],\n",
       "\n",
       "       [[ 7,  8,  9],\n",
       "        [10, 11, 12]],\n",
       "\n",
       "       [[13, 14, 15],\n",
       "        [16, 17, 18]]], dtype=int32)>"
      ]
     },
     "execution_count": 36,
     "metadata": {},
     "output_type": "execute_result"
    }
   ],
   "source": [
    "bigArr = [\n",
    "    [\n",
    "        [1,2,3],\n",
    "        [4,5,6]\n",
    "    ],\n",
    "    [\n",
    "        [7,8,9],\n",
    "        [10,11,12]\n",
    "    ],\n",
    "    [\n",
    "        [13,14,15],\n",
    "        [16,17,18]\n",
    "    ],\n",
    "    \n",
    "]\n",
    "biggerTensor = tf.constant(bigArr)\n",
    "biggerTensor"
   ]
  },
  {
   "cell_type": "code",
   "execution_count": 37,
   "id": "10442fc2-2a99-4df5-ab9f-dd9f67044b3c",
   "metadata": {},
   "outputs": [
    {
     "data": {
      "text/plain": [
       "3"
      ]
     },
     "execution_count": 37,
     "metadata": {},
     "output_type": "execute_result"
    }
   ],
   "source": [
    "biggerTensor.ndim"
   ]
  }
 ],
 "metadata": {
  "kernelspec": {
   "display_name": "Python 3 (ipykernel)",
   "language": "python",
   "name": "python3"
  },
  "language_info": {
   "codemirror_mode": {
    "name": "ipython",
    "version": 3
   },
   "file_extension": ".py",
   "mimetype": "text/x-python",
   "name": "python",
   "nbconvert_exporter": "python",
   "pygments_lexer": "ipython3",
   "version": "3.11.6"
  }
 },
 "nbformat": 4,
 "nbformat_minor": 5
}
