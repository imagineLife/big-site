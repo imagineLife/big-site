{
 "cells": [
  {
   "cell_type": "markdown",
   "id": "67d6761c-52ec-4bbc-923f-8d76491db93d",
   "metadata": {},
   "source": [
    "# Aggregating Tensors"
   ]
  },
  {
   "cell_type": "code",
   "execution_count": 31,
   "id": "5faead80-ee13-478c-9a53-63024c05ac93",
   "metadata": {},
   "outputs": [],
   "source": [
    "import tensorflow as tf\n",
    "import numpy as np"
   ]
  },
  {
   "cell_type": "code",
   "execution_count": 32,
   "id": "3a784383-b4de-4fbf-9b75-f8f334e336e7",
   "metadata": {},
   "outputs": [
    {
     "data": {
      "text/plain": [
       "<tf.Tensor: shape=(2,), dtype=int32, numpy=array([ -7, -10], dtype=int32)>"
      ]
     },
     "execution_count": 32,
     "metadata": {},
     "output_type": "execute_result"
    }
   ],
   "source": [
    "arr = [-7,-10]\n",
    "tA = tf.constant(arr)\n",
    "tA"
   ]
  },
  {
   "cell_type": "code",
   "execution_count": 33,
   "id": "abdebbe1-2a66-450b-a435-8268bc978c23",
   "metadata": {},
   "outputs": [
    {
     "data": {
      "text/plain": [
       "<tf.Tensor: shape=(2,), dtype=int32, numpy=array([ 7, 10], dtype=int32)>"
      ]
     },
     "execution_count": 33,
     "metadata": {},
     "output_type": "execute_result"
    }
   ],
   "source": [
    "# \n",
    "# get absolute value of tensor values\n",
    "# \n",
    "tf.abs(tA)"
   ]
  },
  {
   "cell_type": "markdown",
   "id": "2dcfbd6a-549f-4f1f-be15-580dee774496",
   "metadata": {},
   "source": [
    "## Aggregation Forms\n",
    "- minimum\n",
    "- maximum\n",
    "- mean\n",
    "- sum\n",
    "- std deviation\n",
    "- variance\n",
    "- index of minimum value\n",
    "- index of maximum value\n",
    "- squeezing: removing all single-dimensions"
   ]
  },
  {
   "cell_type": "code",
   "execution_count": 34,
   "id": "e4ef9d7e-2614-492d-8d73-e967e7e33eb5",
   "metadata": {},
   "outputs": [
    {
     "data": {
      "text/plain": [
       "(array([72, 77, 73, 82, 29, 85, 25, 21, 25, 87, 70, 51, 19, 48, 55,  7, 66,\n",
       "        46, 79, 55, 28, 10, 31, 34, 52,  4,  3, 57, 66,  2, 39, 20, 81, 99,\n",
       "        88, 17, 21, 98, 35,  3, 19, 28, 19, 34, 53, 77, 43,  7, 89, 44]),\n",
       " <tf.Tensor: shape=(50,), dtype=int64, numpy=\n",
       " array([72, 77, 73, 82, 29, 85, 25, 21, 25, 87, 70, 51, 19, 48, 55,  7, 66,\n",
       "        46, 79, 55, 28, 10, 31, 34, 52,  4,  3, 57, 66,  2, 39, 20, 81, 99,\n",
       "        88, 17, 21, 98, 35,  3, 19, 28, 19, 34, 53, 77, 43,  7, 89, 44])>)"
      ]
     },
     "execution_count": 34,
     "metadata": {},
     "output_type": "execute_result"
    }
   ],
   "source": [
    "# Create a tensor filled with random vals\n",
    "howManyVals = 50\n",
    "minTensorVal = 0\n",
    "maxTensorVal = 100\n",
    "\n",
    "randomNums = np.random.randint(minTensorVal, maxTensorVal, size=howManyVals)\n",
    "tensorRandom = tf.constant(randomNums)\n",
    "tensorFloat32 = tf.cast(tensorRandom, dtype=tf.float32)\n",
    "\n",
    "randomNums, tensorRandom"
   ]
  },
  {
   "cell_type": "code",
   "execution_count": 38,
   "id": "c136dbac-a066-4841-bedb-893b7e9538ec",
   "metadata": {},
   "outputs": [
    {
     "name": "stdout",
     "output_type": "stream",
     "text": [
      "min: 2\n",
      "max: 99\n",
      "mean: 45\n",
      "sum: 2273\n",
      "stdDev: 28.36491584777832\n",
      "variance: 804.5684204101562\n",
      "min: val:2 -- idx:29\n",
      "max: val:99 -- idx:33\n"
     ]
    }
   ],
   "source": [
    "# \n",
    "# minimum\n",
    "# \n",
    "tensorMin = tf.reduce_min(tensorRandom)\n",
    "\n",
    "\n",
    "# \n",
    "# maximum\n",
    "# \n",
    "tensorMax = tf.reduce_max(tensorRandom)\n",
    "\n",
    "# \n",
    "# mean\n",
    "# \n",
    "tensorMean = tf.reduce_mean(tensorRandom)\n",
    "\n",
    "# \n",
    "# sum\n",
    "# \n",
    "tensorSum = tf.reduce_sum(tensorRandom)\n",
    "\n",
    "# \n",
    "# std deviation\n",
    "# \n",
    "tensorStdDev = tf.math.reduce_std(tensorFloat32)\n",
    "\n",
    "# \n",
    "# variance\n",
    "# \n",
    "tensorVariance = tf.math.reduce_variance(tensorFloat32)\n",
    "\n",
    "# \n",
    "# positional min\n",
    "# \n",
    "tensorMinIdx = tf.argmin(tensorRandom)\n",
    "\n",
    "# \n",
    "# positional max\n",
    "# \n",
    "tensorMaxIdx = tf.argmax(tensorRandom)\n",
    "\n",
    "print(f'min: {tensorMin}')\n",
    "print(f'max: {tensorMax}')\n",
    "print(f'mean: {tensorMean}')\n",
    "print(f'sum: {tensorSum}')\n",
    "print(f'stdDev: {tensorStdDev}')\n",
    "print(f'variance: {tensorVariance}')\n",
    "print(f'min: val:{tensorRandom[tensorMinIdx]} -- idx:{tensorMinIdx}')\n",
    "print(f'max: val:{tensorRandom[tensorMaxIdx]} -- idx:{tensorMaxIdx}')"
   ]
  },
  {
   "cell_type": "markdown",
   "id": "add1bf42-72c9-494f-a607-2760192f270d",
   "metadata": {},
   "source": [
    "## Squeezing"
   ]
  },
  {
   "cell_type": "code",
   "execution_count": 43,
   "id": "62c9d6fd-e79f-4ccc-aeea-d18c201eec1a",
   "metadata": {},
   "outputs": [
    {
     "data": {
      "text/plain": [
       "(<tf.Tensor: shape=(1, 1, 1, 1, 50), dtype=float32, numpy=\n",
       " array([[[[[0.56682   , 0.37258947, 0.7972771 , 0.9847748 , 0.9916148 ,\n",
       "            0.615888  , 0.06207573, 0.08464444, 0.85881865, 0.2072823 ,\n",
       "            0.72986317, 0.9594631 , 0.43813002, 0.10439372, 0.41262794,\n",
       "            0.01618481, 0.21412611, 0.77550805, 0.72469807, 0.8756399 ,\n",
       "            0.325611  , 0.16181779, 0.7206706 , 0.6479279 , 0.37825286,\n",
       "            0.7155738 , 0.5807624 , 0.24140692, 0.4662763 , 0.20300198,\n",
       "            0.5138204 , 0.38832712, 0.37142348, 0.71995485, 0.513836  ,\n",
       "            0.90567577, 0.558097  , 0.92771995, 0.3303169 , 0.71971726,\n",
       "            0.59325373, 0.8897488 , 0.8143811 , 0.6244596 , 0.24846935,\n",
       "            0.11550713, 0.26780748, 0.8932054 , 0.11101353, 0.30304086]]]]],\n",
       "       dtype=float32)>,\n",
       " <tf.Tensor: shape=(50,), dtype=float32, numpy=\n",
       " array([0.56682   , 0.37258947, 0.7972771 , 0.9847748 , 0.9916148 ,\n",
       "        0.615888  , 0.06207573, 0.08464444, 0.85881865, 0.2072823 ,\n",
       "        0.72986317, 0.9594631 , 0.43813002, 0.10439372, 0.41262794,\n",
       "        0.01618481, 0.21412611, 0.77550805, 0.72469807, 0.8756399 ,\n",
       "        0.325611  , 0.16181779, 0.7206706 , 0.6479279 , 0.37825286,\n",
       "        0.7155738 , 0.5807624 , 0.24140692, 0.4662763 , 0.20300198,\n",
       "        0.5138204 , 0.38832712, 0.37142348, 0.71995485, 0.513836  ,\n",
       "        0.90567577, 0.558097  , 0.92771995, 0.3303169 , 0.71971726,\n",
       "        0.59325373, 0.8897488 , 0.8143811 , 0.6244596 , 0.24846935,\n",
       "        0.11550713, 0.26780748, 0.8932054 , 0.11101353, 0.30304086],\n",
       "       dtype=float32)>)"
      ]
     },
     "execution_count": 43,
     "metadata": {},
     "output_type": "execute_result"
    }
   ],
   "source": [
    "# \n",
    "# create a tensor filled with random numbers\n",
    "# \n",
    "newRandomNums = tf.random.uniform(shape=[50])\n",
    "randomTensor = tf.constant(newRandomNums, shape=(1,1,1,1,50))\n",
    "\n",
    "# \n",
    "# \n",
    "# \n",
    "randomTensor,tf.squeeze(randomTensor)"
   ]
  },
  {
   "cell_type": "code",
   "execution_count": null,
   "id": "0da06b3b-d666-4c74-9917-d2631e7f55cc",
   "metadata": {},
   "outputs": [],
   "source": []
  }
 ],
 "metadata": {
  "kernelspec": {
   "display_name": "Python 3 (ipykernel)",
   "language": "python",
   "name": "python3"
  },
  "language_info": {
   "codemirror_mode": {
    "name": "ipython",
    "version": 3
   },
   "file_extension": ".py",
   "mimetype": "text/x-python",
   "name": "python",
   "nbconvert_exporter": "python",
   "pygments_lexer": "ipython3",
   "version": "3.11.6"
  }
 },
 "nbformat": 4,
 "nbformat_minor": 5
}
