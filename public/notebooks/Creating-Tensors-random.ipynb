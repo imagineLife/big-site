{
 "cells": [
  {
   "cell_type": "markdown",
   "id": "436b2537-67b2-4ee5-ba61-000bb288f22a",
   "metadata": {},
   "source": [
    "# Creating Tensors: Random"
   ]
  },
  {
   "cell_type": "code",
   "execution_count": 2,
   "id": "a3fac3b4-285b-4c10-b886-8bfcbfff4805",
   "metadata": {},
   "outputs": [],
   "source": [
    "import tensorflow as tf"
   ]
  },
  {
   "cell_type": "code",
   "execution_count": 10,
   "id": "38f4ddb4-fd26-4a92-a961-d3d0afc29a9a",
   "metadata": {},
   "outputs": [
    {
     "data": {
      "text/plain": [
       "<tensorflow.python.ops.stateful_random_ops.Generator at 0x7f4c1269d0>"
      ]
     },
     "execution_count": 10,
     "metadata": {},
     "output_type": "execute_result"
    }
   ],
   "source": [
    "seedVal = 42\n",
    "firstGenerator = tf.random.Generator.from_seed(seedVal)\n",
    "firstGenerator"
   ]
  },
  {
   "cell_type": "code",
   "execution_count": 11,
   "id": "fab83ec0-cac7-47cb-a9a1-c8866caff551",
   "metadata": {},
   "outputs": [
    {
     "data": {
      "text/plain": [
       "<tf.Tensor: shape=(3, 2), dtype=float32, numpy=\n",
       "array([[-0.7565803 , -0.06854702],\n",
       "       [ 0.07595026, -1.2573844 ],\n",
       "       [-0.23193763, -1.8107855 ]], dtype=float32)>"
      ]
     },
     "execution_count": 11,
     "metadata": {},
     "output_type": "execute_result"
    }
   ],
   "source": [
    "randomTensorOne = firstGenerator.normal(shape=(3,2))\n",
    "randomTensorOne"
   ]
  },
  {
   "cell_type": "code",
   "execution_count": 15,
   "id": "d0d55405-4080-469c-992c-867b236f084a",
   "metadata": {},
   "outputs": [
    {
     "data": {
      "text/plain": [
       "<tf.Tensor: shape=(3, 2), dtype=bool, numpy=\n",
       "array([[ True,  True],\n",
       "       [ True,  True],\n",
       "       [ True,  True]])>"
      ]
     },
     "execution_count": 15,
     "metadata": {},
     "output_type": "execute_result"
    }
   ],
   "source": [
    "randomTensorTwo = firstGenerator.normal(shape=(3,2))\n",
    "randomTensorTwo\n",
    "\n",
    "# NOT EQUAL\n",
    "randomTensorTwo == randomTensorOne\n",
    "\n",
    "\n",
    "\n",
    "# equal...hmm!\n",
    "secondVar = tf.random.Generator.from_seed(42)\n",
    "secondVar = secondVar.normal(shape=(3,2))\n",
    "secondVar == randomTensorOne"
   ]
  },
  {
   "cell_type": "markdown",
   "id": "45851dcd-cf2f-4b3a-bbb0-fee4f4c255a8",
   "metadata": {},
   "source": [
    "## Docs\n",
    "- [random](https://www.tensorflow.org/api_docs/python/tf/random): make random things\n",
    "- [random.Generator](https://www.tensorflow.org/api_docs/python/tf/random/Generator): a random number generator\n",
    "- [generator.normal](https://www.tensorflow.org/api_docs/python/tf/random/Generator#normal): create random values from a **normal distribution**"
   ]
  },
  {
   "cell_type": "code",
   "execution_count": null,
   "id": "cec40062-952e-46f0-8501-9227c5b856f0",
   "metadata": {},
   "outputs": [],
   "source": []
  }
 ],
 "metadata": {
  "kernelspec": {
   "display_name": "Python 3 (ipykernel)",
   "language": "python",
   "name": "python3"
  },
  "language_info": {
   "codemirror_mode": {
    "name": "ipython",
    "version": 3
   },
   "file_extension": ".py",
   "mimetype": "text/x-python",
   "name": "python",
   "nbconvert_exporter": "python",
   "pygments_lexer": "ipython3",
   "version": "3.11.6"
  }
 },
 "nbformat": 4,
 "nbformat_minor": 5
}
